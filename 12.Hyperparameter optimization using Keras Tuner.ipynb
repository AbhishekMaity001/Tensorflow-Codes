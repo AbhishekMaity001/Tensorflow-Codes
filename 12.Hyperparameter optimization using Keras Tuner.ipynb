{
 "cells": [
  {
   "cell_type": "markdown",
   "metadata": {},
   "source": [
    "# Keras Tuner"
   ]
  },
  {
   "cell_type": "code",
   "execution_count": 1,
   "metadata": {},
   "outputs": [],
   "source": [
    "# This code Limits the gpu usage percentage \n",
    "from tensorflow.compat.v1 import ConfigProto\n",
    "from tensorflow.compat.v1 import InteractiveSession\n",
    "config = ConfigProto()\n",
    "config.gpu_options.per_process_gpu_memory_fraction = 0.6\n",
    "config.gpu_options.allow_growth = True\n",
    "session = InteractiveSession(config=config)"
   ]
  },
  {
   "cell_type": "code",
   "execution_count": 2,
   "metadata": {},
   "outputs": [],
   "source": [
    "import numpy as np\n",
    "import pandas as pd\n",
    "import tensorflow as tf\n",
    "import seaborn as sns\n",
    "import matplotlib.pyplot as plt\n",
    "%matplotlib inline\n",
    "import os\n",
    "import kerastuner as kt"
   ]
  },
  {
   "cell_type": "code",
   "execution_count": 3,
   "metadata": {},
   "outputs": [
    {
     "name": "stdout",
     "output_type": "stream",
     "text": [
      "2.1.0\n"
     ]
    }
   ],
   "source": [
    "print(tf.__version__)"
   ]
  },
  {
   "cell_type": "code",
   "execution_count": 4,
   "metadata": {},
   "outputs": [
    {
     "data": {
      "text/html": [
       "<div>\n",
       "<style scoped>\n",
       "    .dataframe tbody tr th:only-of-type {\n",
       "        vertical-align: middle;\n",
       "    }\n",
       "\n",
       "    .dataframe tbody tr th {\n",
       "        vertical-align: top;\n",
       "    }\n",
       "\n",
       "    .dataframe thead th {\n",
       "        text-align: right;\n",
       "    }\n",
       "</style>\n",
       "<table border=\"1\" class=\"dataframe\">\n",
       "  <thead>\n",
       "    <tr style=\"text-align: right;\">\n",
       "      <th></th>\n",
       "      <th>T</th>\n",
       "      <th>TM</th>\n",
       "      <th>Tm</th>\n",
       "      <th>SLP</th>\n",
       "      <th>H</th>\n",
       "      <th>VV</th>\n",
       "      <th>V</th>\n",
       "      <th>VM</th>\n",
       "      <th>PM 2.5</th>\n",
       "    </tr>\n",
       "  </thead>\n",
       "  <tbody>\n",
       "    <tr>\n",
       "      <th>0</th>\n",
       "      <td>7.4</td>\n",
       "      <td>9.8</td>\n",
       "      <td>4.8</td>\n",
       "      <td>1017.6</td>\n",
       "      <td>93.0</td>\n",
       "      <td>0.5</td>\n",
       "      <td>4.3</td>\n",
       "      <td>9.4</td>\n",
       "      <td>219.720833</td>\n",
       "    </tr>\n",
       "    <tr>\n",
       "      <th>1</th>\n",
       "      <td>7.8</td>\n",
       "      <td>12.7</td>\n",
       "      <td>4.4</td>\n",
       "      <td>1018.5</td>\n",
       "      <td>87.0</td>\n",
       "      <td>0.6</td>\n",
       "      <td>4.4</td>\n",
       "      <td>11.1</td>\n",
       "      <td>182.187500</td>\n",
       "    </tr>\n",
       "    <tr>\n",
       "      <th>2</th>\n",
       "      <td>6.7</td>\n",
       "      <td>13.4</td>\n",
       "      <td>2.4</td>\n",
       "      <td>1019.4</td>\n",
       "      <td>82.0</td>\n",
       "      <td>0.6</td>\n",
       "      <td>4.8</td>\n",
       "      <td>11.1</td>\n",
       "      <td>154.037500</td>\n",
       "    </tr>\n",
       "    <tr>\n",
       "      <th>3</th>\n",
       "      <td>8.6</td>\n",
       "      <td>15.5</td>\n",
       "      <td>3.3</td>\n",
       "      <td>1018.7</td>\n",
       "      <td>72.0</td>\n",
       "      <td>0.8</td>\n",
       "      <td>8.1</td>\n",
       "      <td>20.6</td>\n",
       "      <td>223.208333</td>\n",
       "    </tr>\n",
       "    <tr>\n",
       "      <th>4</th>\n",
       "      <td>12.4</td>\n",
       "      <td>20.9</td>\n",
       "      <td>4.4</td>\n",
       "      <td>1017.3</td>\n",
       "      <td>61.0</td>\n",
       "      <td>1.3</td>\n",
       "      <td>8.7</td>\n",
       "      <td>22.2</td>\n",
       "      <td>200.645833</td>\n",
       "    </tr>\n",
       "  </tbody>\n",
       "</table>\n",
       "</div>"
      ],
      "text/plain": [
       "      T    TM   Tm     SLP     H   VV    V    VM      PM 2.5\n",
       "0   7.4   9.8  4.8  1017.6  93.0  0.5  4.3   9.4  219.720833\n",
       "1   7.8  12.7  4.4  1018.5  87.0  0.6  4.4  11.1  182.187500\n",
       "2   6.7  13.4  2.4  1019.4  82.0  0.6  4.8  11.1  154.037500\n",
       "3   8.6  15.5  3.3  1018.7  72.0  0.8  8.1  20.6  223.208333\n",
       "4  12.4  20.9  4.4  1017.3  61.0  1.3  8.7  22.2  200.645833"
      ]
     },
     "execution_count": 4,
     "metadata": {},
     "output_type": "execute_result"
    }
   ],
   "source": [
    "df = pd.read_csv('../AirQualityIndex-Keras-Tuner/Real_Combine.csv')\n",
    "df.head()"
   ]
  },
  {
   "cell_type": "code",
   "execution_count": 5,
   "metadata": {},
   "outputs": [],
   "source": [
    "X = df.iloc[:,:-1] # Independent features \n",
    "y = df.iloc[:,-1] # Dependent features"
   ]
  },
  {
   "cell_type": "code",
   "execution_count": 6,
   "metadata": {},
   "outputs": [
    {
     "data": {
      "text/plain": [
       "(1093, 8)"
      ]
     },
     "execution_count": 6,
     "metadata": {},
     "output_type": "execute_result"
    }
   ],
   "source": [
    "X.shape"
   ]
  },
  {
   "cell_type": "code",
   "execution_count": 7,
   "metadata": {},
   "outputs": [
    {
     "data": {
      "text/html": [
       "<div>\n",
       "<style scoped>\n",
       "    .dataframe tbody tr th:only-of-type {\n",
       "        vertical-align: middle;\n",
       "    }\n",
       "\n",
       "    .dataframe tbody tr th {\n",
       "        vertical-align: top;\n",
       "    }\n",
       "\n",
       "    .dataframe thead th {\n",
       "        text-align: right;\n",
       "    }\n",
       "</style>\n",
       "<table border=\"1\" class=\"dataframe\">\n",
       "  <thead>\n",
       "    <tr style=\"text-align: right;\">\n",
       "      <th></th>\n",
       "      <th>T</th>\n",
       "      <th>TM</th>\n",
       "      <th>Tm</th>\n",
       "      <th>SLP</th>\n",
       "      <th>H</th>\n",
       "      <th>VV</th>\n",
       "      <th>V</th>\n",
       "      <th>VM</th>\n",
       "    </tr>\n",
       "  </thead>\n",
       "  <tbody>\n",
       "    <tr>\n",
       "      <th>0</th>\n",
       "      <td>7.4</td>\n",
       "      <td>9.8</td>\n",
       "      <td>4.8</td>\n",
       "      <td>1017.6</td>\n",
       "      <td>93.0</td>\n",
       "      <td>0.5</td>\n",
       "      <td>4.3</td>\n",
       "      <td>9.4</td>\n",
       "    </tr>\n",
       "    <tr>\n",
       "      <th>1</th>\n",
       "      <td>7.8</td>\n",
       "      <td>12.7</td>\n",
       "      <td>4.4</td>\n",
       "      <td>1018.5</td>\n",
       "      <td>87.0</td>\n",
       "      <td>0.6</td>\n",
       "      <td>4.4</td>\n",
       "      <td>11.1</td>\n",
       "    </tr>\n",
       "    <tr>\n",
       "      <th>2</th>\n",
       "      <td>6.7</td>\n",
       "      <td>13.4</td>\n",
       "      <td>2.4</td>\n",
       "      <td>1019.4</td>\n",
       "      <td>82.0</td>\n",
       "      <td>0.6</td>\n",
       "      <td>4.8</td>\n",
       "      <td>11.1</td>\n",
       "    </tr>\n",
       "    <tr>\n",
       "      <th>3</th>\n",
       "      <td>8.6</td>\n",
       "      <td>15.5</td>\n",
       "      <td>3.3</td>\n",
       "      <td>1018.7</td>\n",
       "      <td>72.0</td>\n",
       "      <td>0.8</td>\n",
       "      <td>8.1</td>\n",
       "      <td>20.6</td>\n",
       "    </tr>\n",
       "    <tr>\n",
       "      <th>4</th>\n",
       "      <td>12.4</td>\n",
       "      <td>20.9</td>\n",
       "      <td>4.4</td>\n",
       "      <td>1017.3</td>\n",
       "      <td>61.0</td>\n",
       "      <td>1.3</td>\n",
       "      <td>8.7</td>\n",
       "      <td>22.2</td>\n",
       "    </tr>\n",
       "  </tbody>\n",
       "</table>\n",
       "</div>"
      ],
      "text/plain": [
       "      T    TM   Tm     SLP     H   VV    V    VM\n",
       "0   7.4   9.8  4.8  1017.6  93.0  0.5  4.3   9.4\n",
       "1   7.8  12.7  4.4  1018.5  87.0  0.6  4.4  11.1\n",
       "2   6.7  13.4  2.4  1019.4  82.0  0.6  4.8  11.1\n",
       "3   8.6  15.5  3.3  1018.7  72.0  0.8  8.1  20.6\n",
       "4  12.4  20.9  4.4  1017.3  61.0  1.3  8.7  22.2"
      ]
     },
     "execution_count": 7,
     "metadata": {},
     "output_type": "execute_result"
    }
   ],
   "source": [
    "X.head()"
   ]
  },
  {
   "cell_type": "code",
   "execution_count": 8,
   "metadata": {},
   "outputs": [
    {
     "data": {
      "text/plain": [
       "0    219.720833\n",
       "1    182.187500\n",
       "2    154.037500\n",
       "3    223.208333\n",
       "4    200.645833\n",
       "Name: PM 2.5, dtype: float64"
      ]
     },
     "execution_count": 8,
     "metadata": {},
     "output_type": "execute_result"
    }
   ],
   "source": [
    "y.head()"
   ]
  },
  {
   "cell_type": "code",
   "execution_count": 9,
   "metadata": {},
   "outputs": [],
   "source": [
    "from tensorflow import keras\n",
    "from tensorflow.keras import layers\n",
    "from tensorflow.keras.layers import Dense"
   ]
  },
  {
   "cell_type": "markdown",
   "metadata": {},
   "source": [
    "def model_builder(hp):\n",
    "    \n",
    "    model = keras.Sequential()\n",
    "    \n",
    "    hp_units = hp.Int('units',min_value=32,max_value=512,step=32)\n",
    "    model.add(keras.layers.Dense(units=hp_units,activation='relu'))\n",
    "    model.add(keras.layers.Dense(10))\n",
    "    \n",
    "    hp_learning_rate = hp.Choice('learning_rate',values = [1e-2,1e-3,1e-4])\n",
    "    model.compile(optmizer=keras.optimizers.Adam(learning_rate = hp_learning_rate),\n",
    "                                                loss='mean_absolute_error',\n",
    "                                                metrics=['val_mean_absolute_error'])\n",
    "    return model\n",
    "    "
   ]
  },
  {
   "cell_type": "code",
   "execution_count": 10,
   "metadata": {},
   "outputs": [],
   "source": [
    "def build_model(hp):\n",
    "    model = keras.Sequential()\n",
    "    for i in range(hp.Int('num_layers', 2, 20)):\n",
    "        model.add(layers.Dense(units=hp.Int('units_' + str(i),\n",
    "                                            min_value=32,\n",
    "                                            max_value=512,\n",
    "                                            step=32),\n",
    "                               activation='relu'))\n",
    "    model.add(layers.Dense(1, activation='linear'))\n",
    "    model.compile(\n",
    "        optimizer=keras.optimizers.Adam(\n",
    "            hp.Choice('learning_rate', [1e-2, 1e-3, 1e-4])),\n",
    "        loss='mean_absolute_error',\n",
    "        metrics=['mean_absolute_error'])\n",
    "    return model"
   ]
  },
  {
   "cell_type": "markdown",
   "metadata": {},
   "source": [
    "### Instantiate the tuner to perform the hypertuning. The Keras Tuner has four tuners available \n",
    "- RandomSearch\n",
    "- Hyperband\n",
    "- BayesianOptimization\n",
    "- Sklearn\n"
   ]
  },
  {
   "cell_type": "markdown",
   "metadata": {},
   "source": [
    "hypermodel,\n",
    "    objective,\n",
    "    max_epochs,\n",
    "    factor=3,\n",
    "    hyperband_iterations=1,\n",
    "    seed=None,\n",
    "    hyperparameters=None,\n",
    "    tune_new_entries=True,\n",
    "    allow_new_entries=True"
   ]
  },
  {
   "cell_type": "markdown",
   "metadata": {},
   "source": [
    "tuner = kt.Hyperband(model_builder,\n",
    "                     objective='val_mean_absolute_error',\n",
    "                    max_epochs=10,\n",
    "                    factor=3,\n",
    "                    directory='my_dir')"
   ]
  },
  {
   "cell_type": "code",
   "execution_count": 11,
   "metadata": {},
   "outputs": [],
   "source": [
    "tuner = kt.RandomSearch(\n",
    "    build_model,\n",
    "    objective='mean_absolute_error',\n",
    "    max_trials=5,\n",
    "    executions_per_trial=3,\n",
    "    directory='project',\n",
    "    project_name='Air Quality Index')"
   ]
  },
  {
   "cell_type": "code",
   "execution_count": 12,
   "metadata": {},
   "outputs": [
    {
     "data": {
      "text/html": [
       "<span style=\"color:#4527A0\"><h1 style=\"font-size:18px\">Search space summary</h1></span>"
      ],
      "text/plain": [
       "<IPython.core.display.HTML object>"
      ]
     },
     "metadata": {},
     "output_type": "display_data"
    },
    {
     "data": {
      "text/html": [
       "<span style=\"color:cyan\"> |-Default search space size: 4</span>"
      ],
      "text/plain": [
       "<IPython.core.display.HTML object>"
      ]
     },
     "metadata": {},
     "output_type": "display_data"
    },
    {
     "data": {
      "text/html": [
       "<span style=\"color:#7E57C2\"><h2 style=\"font-size:16px\">num_layers (Int)</h2></span>"
      ],
      "text/plain": [
       "<IPython.core.display.HTML object>"
      ]
     },
     "metadata": {},
     "output_type": "display_data"
    },
    {
     "data": {
      "text/html": [
       "<span style=\"color:cyan\"> |-default: None</span>"
      ],
      "text/plain": [
       "<IPython.core.display.HTML object>"
      ]
     },
     "metadata": {},
     "output_type": "display_data"
    },
    {
     "data": {
      "text/html": [
       "<span style=\"color:blue\"> |-max_value: 20</span>"
      ],
      "text/plain": [
       "<IPython.core.display.HTML object>"
      ]
     },
     "metadata": {},
     "output_type": "display_data"
    },
    {
     "data": {
      "text/html": [
       "<span style=\"color:cyan\"> |-min_value: 2</span>"
      ],
      "text/plain": [
       "<IPython.core.display.HTML object>"
      ]
     },
     "metadata": {},
     "output_type": "display_data"
    },
    {
     "data": {
      "text/html": [
       "<span style=\"color:blue\"> |-sampling: None</span>"
      ],
      "text/plain": [
       "<IPython.core.display.HTML object>"
      ]
     },
     "metadata": {},
     "output_type": "display_data"
    },
    {
     "data": {
      "text/html": [
       "<span style=\"color:cyan\"> |-step: 1</span>"
      ],
      "text/plain": [
       "<IPython.core.display.HTML object>"
      ]
     },
     "metadata": {},
     "output_type": "display_data"
    },
    {
     "data": {
      "text/html": [
       "<span style=\"color:#7E57C2\"><h2 style=\"font-size:16px\">units_0 (Int)</h2></span>"
      ],
      "text/plain": [
       "<IPython.core.display.HTML object>"
      ]
     },
     "metadata": {},
     "output_type": "display_data"
    },
    {
     "data": {
      "text/html": [
       "<span style=\"color:cyan\"> |-default: None</span>"
      ],
      "text/plain": [
       "<IPython.core.display.HTML object>"
      ]
     },
     "metadata": {},
     "output_type": "display_data"
    },
    {
     "data": {
      "text/html": [
       "<span style=\"color:blue\"> |-max_value: 512</span>"
      ],
      "text/plain": [
       "<IPython.core.display.HTML object>"
      ]
     },
     "metadata": {},
     "output_type": "display_data"
    },
    {
     "data": {
      "text/html": [
       "<span style=\"color:cyan\"> |-min_value: 32</span>"
      ],
      "text/plain": [
       "<IPython.core.display.HTML object>"
      ]
     },
     "metadata": {},
     "output_type": "display_data"
    },
    {
     "data": {
      "text/html": [
       "<span style=\"color:blue\"> |-sampling: None</span>"
      ],
      "text/plain": [
       "<IPython.core.display.HTML object>"
      ]
     },
     "metadata": {},
     "output_type": "display_data"
    },
    {
     "data": {
      "text/html": [
       "<span style=\"color:cyan\"> |-step: 32</span>"
      ],
      "text/plain": [
       "<IPython.core.display.HTML object>"
      ]
     },
     "metadata": {},
     "output_type": "display_data"
    },
    {
     "data": {
      "text/html": [
       "<span style=\"color:#7E57C2\"><h2 style=\"font-size:16px\">units_1 (Int)</h2></span>"
      ],
      "text/plain": [
       "<IPython.core.display.HTML object>"
      ]
     },
     "metadata": {},
     "output_type": "display_data"
    },
    {
     "data": {
      "text/html": [
       "<span style=\"color:cyan\"> |-default: None</span>"
      ],
      "text/plain": [
       "<IPython.core.display.HTML object>"
      ]
     },
     "metadata": {},
     "output_type": "display_data"
    },
    {
     "data": {
      "text/html": [
       "<span style=\"color:blue\"> |-max_value: 512</span>"
      ],
      "text/plain": [
       "<IPython.core.display.HTML object>"
      ]
     },
     "metadata": {},
     "output_type": "display_data"
    },
    {
     "data": {
      "text/html": [
       "<span style=\"color:cyan\"> |-min_value: 32</span>"
      ],
      "text/plain": [
       "<IPython.core.display.HTML object>"
      ]
     },
     "metadata": {},
     "output_type": "display_data"
    },
    {
     "data": {
      "text/html": [
       "<span style=\"color:blue\"> |-sampling: None</span>"
      ],
      "text/plain": [
       "<IPython.core.display.HTML object>"
      ]
     },
     "metadata": {},
     "output_type": "display_data"
    },
    {
     "data": {
      "text/html": [
       "<span style=\"color:cyan\"> |-step: 32</span>"
      ],
      "text/plain": [
       "<IPython.core.display.HTML object>"
      ]
     },
     "metadata": {},
     "output_type": "display_data"
    },
    {
     "data": {
      "text/html": [
       "<span style=\"color:#7E57C2\"><h2 style=\"font-size:16px\">learning_rate (Choice)</h2></span>"
      ],
      "text/plain": [
       "<IPython.core.display.HTML object>"
      ]
     },
     "metadata": {},
     "output_type": "display_data"
    },
    {
     "data": {
      "text/html": [
       "<span style=\"color:cyan\"> |-default: 0.01</span>"
      ],
      "text/plain": [
       "<IPython.core.display.HTML object>"
      ]
     },
     "metadata": {},
     "output_type": "display_data"
    },
    {
     "data": {
      "text/html": [
       "<span style=\"color:blue\"> |-ordered: True</span>"
      ],
      "text/plain": [
       "<IPython.core.display.HTML object>"
      ]
     },
     "metadata": {},
     "output_type": "display_data"
    },
    {
     "data": {
      "text/html": [
       "<span style=\"color:cyan\"> |-values: [0.01, 0.001, 0.0001]</span>"
      ],
      "text/plain": [
       "<IPython.core.display.HTML object>"
      ]
     },
     "metadata": {},
     "output_type": "display_data"
    }
   ],
   "source": [
    "tuner.search_space_summary()"
   ]
  },
  {
   "cell_type": "code",
   "execution_count": 13,
   "metadata": {},
   "outputs": [],
   "source": [
    "from sklearn.model_selection import train_test_split\n",
    "X_train, X_test, y_train, y_test = train_test_split(X, y, test_size=0.3, random_state=0)"
   ]
  },
  {
   "cell_type": "code",
   "execution_count": 14,
   "metadata": {},
   "outputs": [
    {
     "name": "stdout",
     "output_type": "stream",
     "text": [
      "Train on 765 samples, validate on 328 samples\n",
      "Epoch 1/5\n",
      "765/765 [==============================] - ETA: 18s - loss: 149.2592 - mean_absolute_error: 149.25 - ETA: 0s - loss: nan - mean_absolute_error: nan           - 1s 1ms/sample - loss: nan - mean_absolute_error: nan - val_loss: 66.3208 - val_mean_absolute_error: 66.3208\n",
      "Epoch 2/5\n",
      "765/765 [==============================] - ETA: 0s - loss: 60.5695 - mean_absolute_error: 60.569 - ETA: 0s - loss: 67.6063 - mean_absolute_error: 67.606 - 0s 156us/sample - loss: nan - mean_absolute_error: nan - val_loss: 66.6536 - val_mean_absolute_error: 66.6536\n",
      "Epoch 3/5\n",
      "765/765 [==============================] - ETA: 0s - loss: 73.3082 - mean_absolute_error: 73.308 - ETA: 0s - loss: nan - mean_absolute_error: nan        - 0s 153us/sample - loss: nan - mean_absolute_error: nan - val_loss: 65.2831 - val_mean_absolute_error: 65.2831\n",
      "Epoch 4/5\n",
      "765/765 [==============================] - ETA: 0s - loss: 55.8352 - mean_absolute_error: 55.835 - ETA: 0s - loss: nan - mean_absolute_error: nan        - 0s 155us/sample - loss: nan - mean_absolute_error: nan - val_loss: 63.1072 - val_mean_absolute_error: 63.1072\n",
      "Epoch 5/5\n",
      "765/765 [==============================] - ETA: 0s - loss: 73.5849 - mean_absolute_error: 73.584 - ETA: 0s - loss: nan - mean_absolute_error: nan        - 0s 157us/sample - loss: nan - mean_absolute_error: nan - val_loss: 63.2271 - val_mean_absolute_error: 63.2271\n",
      "Train on 765 samples, validate on 328 samples\n",
      "Epoch 1/5\n",
      "765/765 [==============================] - ETA: 14s - loss: 109.9465 - mean_absolute_error: 109.94 - ETA: 0s - loss: 105.4157 - mean_absolute_error: 105.4157 - 1s 1ms/sample - loss: nan - mean_absolute_error: nan - val_loss: 63.9383 - val_mean_absolute_error: 63.9383\n",
      "Epoch 2/5\n",
      "765/765 [==============================] - ETA: 0s - loss: 75.8086 - mean_absolute_error: 75.808 - ETA: 0s - loss: nan - mean_absolute_error: nan        - 0s 185us/sample - loss: nan - mean_absolute_error: nan - val_loss: 66.2529 - val_mean_absolute_error: 66.2529\n",
      "Epoch 3/5\n",
      "765/765 [==============================] - ETA: 0s - loss: 51.5750 - mean_absolute_error: 51.575 - ETA: 0s - loss: nan - mean_absolute_error: nan        - 0s 177us/sample - loss: nan - mean_absolute_error: nan - val_loss: 66.6433 - val_mean_absolute_error: 66.6433\n",
      "Epoch 4/5\n",
      "765/765 [==============================] - ETA: 0s - loss: 88.8539 - mean_absolute_error: 88.853 - ETA: 0s - loss: nan - mean_absolute_error: nan        - 0s 169us/sample - loss: nan - mean_absolute_error: nan - val_loss: 63.2916 - val_mean_absolute_error: 63.2916\n",
      "Epoch 5/5\n",
      "765/765 [==============================] - ETA: 0s - loss: 53.7172 - mean_absolute_error: 53.717 - ETA: 0s - loss: nan - mean_absolute_error: nan        - 0s 171us/sample - loss: nan - mean_absolute_error: nan - val_loss: 63.6396 - val_mean_absolute_error: 63.6396\n",
      "Train on 765 samples, validate on 328 samples\n",
      "Epoch 1/5\n",
      "765/765 [==============================] - ETA: 13s - loss: 105.2094 - mean_absolute_error: 105.20 - ETA: 0s - loss: nan - mean_absolute_error: nan           - 1s 1ms/sample - loss: nan - mean_absolute_error: nan - val_loss: 65.7578 - val_mean_absolute_error: 65.7578\n",
      "Epoch 2/5\n",
      "765/765 [==============================] - ETA: 0s - loss: 84.9624 - mean_absolute_error: 84.962 - ETA: 0s - loss: nan - mean_absolute_error: nan        - 0s 168us/sample - loss: nan - mean_absolute_error: nan - val_loss: 63.3953 - val_mean_absolute_error: 63.3953\n",
      "Epoch 3/5\n",
      "765/765 [==============================] - ETA: 0s - loss: 59.8613 - mean_absolute_error: 59.861 - ETA: 0s - loss: nan - mean_absolute_error: nan        - 0s 190us/sample - loss: nan - mean_absolute_error: nan - val_loss: 63.5192 - val_mean_absolute_error: 63.5193\n",
      "Epoch 4/5\n",
      "765/765 [==============================] - ETA: 0s - loss: 54.6213 - mean_absolute_error: 54.621 - ETA: 0s - loss: nan - mean_absolute_error: nan        - ETA: 0s - loss: nan - mean_absolute_error: na - 0s 208us/sample - loss: nan - mean_absolute_error: nan - val_loss: 63.2643 - val_mean_absolute_error: 63.2643\n",
      "Epoch 5/5\n",
      "765/765 [==============================] - ETA: 0s - loss: 71.1263 - mean_absolute_error: 71.126 - ETA: 0s - loss: nan - mean_absolute_error: nan        - 0s 194us/sample - loss: nan - mean_absolute_error: nan - val_loss: 63.8109 - val_mean_absolute_error: 63.8109\n"
     ]
    },
    {
     "name": "stderr",
     "output_type": "stream",
     "text": [
      "d:\\anacondafiles\\envs\\deeplearning\\lib\\site-packages\\kerastuner\\engine\\metrics_tracking.py:92: RuntimeWarning: All-NaN axis encountered\n",
      "  return np.nanmin(values)\n"
     ]
    },
    {
     "data": {
      "text/html": [
       "<span style=\"color:#4527A0\"><h1 style=\"font-size:18px\">Trial complete</h1></span>"
      ],
      "text/plain": [
       "<IPython.core.display.HTML object>"
      ]
     },
     "metadata": {},
     "output_type": "display_data"
    },
    {
     "data": {
      "text/html": [
       "<span style=\"color:#4527A0\"><h1 style=\"font-size:18px\">Trial summary</h1></span>"
      ],
      "text/plain": [
       "<IPython.core.display.HTML object>"
      ]
     },
     "metadata": {},
     "output_type": "display_data"
    },
    {
     "data": {
      "text/html": [
       "<span style=\"color:cyan\"> |-Trial ID: 0ad863e7df680bec84463d2f1452e1f8</span>"
      ],
      "text/plain": [
       "<IPython.core.display.HTML object>"
      ]
     },
     "metadata": {},
     "output_type": "display_data"
    },
    {
     "data": {
      "text/html": [
       "<span style=\"color:cyan\"> |-Score: nan</span>"
      ],
      "text/plain": [
       "<IPython.core.display.HTML object>"
      ]
     },
     "metadata": {},
     "output_type": "display_data"
    },
    {
     "data": {
      "text/html": [
       "<span style=\"color:cyan\"> |-Best step: None</span>"
      ],
      "text/plain": [
       "<IPython.core.display.HTML object>"
      ]
     },
     "metadata": {},
     "output_type": "display_data"
    },
    {
     "data": {
      "text/html": [
       "<span style=\"color:#7E57C2\"><h2 style=\"font-size:16px\">Hyperparameters:</h2></span>"
      ],
      "text/plain": [
       "<IPython.core.display.HTML object>"
      ]
     },
     "metadata": {},
     "output_type": "display_data"
    },
    {
     "data": {
      "text/html": [
       "<span style=\"color:cyan\"> |-learning_rate: 0.001</span>"
      ],
      "text/plain": [
       "<IPython.core.display.HTML object>"
      ]
     },
     "metadata": {},
     "output_type": "display_data"
    },
    {
     "data": {
      "text/html": [
       "<span style=\"color:blue\"> |-num_layers: 14</span>"
      ],
      "text/plain": [
       "<IPython.core.display.HTML object>"
      ]
     },
     "metadata": {},
     "output_type": "display_data"
    },
    {
     "data": {
      "text/html": [
       "<span style=\"color:cyan\"> |-units_0: 288</span>"
      ],
      "text/plain": [
       "<IPython.core.display.HTML object>"
      ]
     },
     "metadata": {},
     "output_type": "display_data"
    },
    {
     "data": {
      "text/html": [
       "<span style=\"color:blue\"> |-units_1: 32</span>"
      ],
      "text/plain": [
       "<IPython.core.display.HTML object>"
      ]
     },
     "metadata": {},
     "output_type": "display_data"
    },
    {
     "data": {
      "text/html": [
       "<span style=\"color:cyan\"> |-units_10: 32</span>"
      ],
      "text/plain": [
       "<IPython.core.display.HTML object>"
      ]
     },
     "metadata": {},
     "output_type": "display_data"
    },
    {
     "data": {
      "text/html": [
       "<span style=\"color:blue\"> |-units_11: 32</span>"
      ],
      "text/plain": [
       "<IPython.core.display.HTML object>"
      ]
     },
     "metadata": {},
     "output_type": "display_data"
    },
    {
     "data": {
      "text/html": [
       "<span style=\"color:cyan\"> |-units_12: 32</span>"
      ],
      "text/plain": [
       "<IPython.core.display.HTML object>"
      ]
     },
     "metadata": {},
     "output_type": "display_data"
    },
    {
     "data": {
      "text/html": [
       "<span style=\"color:blue\"> |-units_13: 32</span>"
      ],
      "text/plain": [
       "<IPython.core.display.HTML object>"
      ]
     },
     "metadata": {},
     "output_type": "display_data"
    },
    {
     "data": {
      "text/html": [
       "<span style=\"color:cyan\"> |-units_2: 32</span>"
      ],
      "text/plain": [
       "<IPython.core.display.HTML object>"
      ]
     },
     "metadata": {},
     "output_type": "display_data"
    },
    {
     "data": {
      "text/html": [
       "<span style=\"color:blue\"> |-units_3: 32</span>"
      ],
      "text/plain": [
       "<IPython.core.display.HTML object>"
      ]
     },
     "metadata": {},
     "output_type": "display_data"
    },
    {
     "data": {
      "text/html": [
       "<span style=\"color:cyan\"> |-units_4: 32</span>"
      ],
      "text/plain": [
       "<IPython.core.display.HTML object>"
      ]
     },
     "metadata": {},
     "output_type": "display_data"
    },
    {
     "data": {
      "text/html": [
       "<span style=\"color:blue\"> |-units_5: 32</span>"
      ],
      "text/plain": [
       "<IPython.core.display.HTML object>"
      ]
     },
     "metadata": {},
     "output_type": "display_data"
    },
    {
     "data": {
      "text/html": [
       "<span style=\"color:cyan\"> |-units_6: 32</span>"
      ],
      "text/plain": [
       "<IPython.core.display.HTML object>"
      ]
     },
     "metadata": {},
     "output_type": "display_data"
    },
    {
     "data": {
      "text/html": [
       "<span style=\"color:blue\"> |-units_7: 32</span>"
      ],
      "text/plain": [
       "<IPython.core.display.HTML object>"
      ]
     },
     "metadata": {},
     "output_type": "display_data"
    },
    {
     "data": {
      "text/html": [
       "<span style=\"color:cyan\"> |-units_8: 32</span>"
      ],
      "text/plain": [
       "<IPython.core.display.HTML object>"
      ]
     },
     "metadata": {},
     "output_type": "display_data"
    },
    {
     "data": {
      "text/html": [
       "<span style=\"color:blue\"> |-units_9: 32</span>"
      ],
      "text/plain": [
       "<IPython.core.display.HTML object>"
      ]
     },
     "metadata": {},
     "output_type": "display_data"
    },
    {
     "name": "stdout",
     "output_type": "stream",
     "text": [
      "Train on 765 samples, validate on 328 samples\n",
      "Epoch 1/5\n",
      "765/765 [==============================] - ETA: 8s - loss: 121.0531 - mean_absolute_error: 121.053 - ETA: 0s - loss: nan - mean_absolute_error: nan          - 1s 684us/sample - loss: nan - mean_absolute_error: nan - val_loss: 65.6695 - val_mean_absolute_error: 65.6695\n",
      "Epoch 2/5\n",
      "765/765 [==============================] - ETA: 0s - loss: 62.7108 - mean_absolute_error: 62.710 - ETA: 0s - loss: 68.2081 - mean_absolute_error: 68.208 - 0s 159us/sample - loss: nan - mean_absolute_error: nan - val_loss: 61.2076 - val_mean_absolute_error: 61.2076\n",
      "Epoch 3/5\n",
      "765/765 [==============================] - ETA: 0s - loss: 59.6114 - mean_absolute_error: 59.611 - ETA: 0s - loss: nan - mean_absolute_error: nan        - ETA: 0s - loss: nan - mean_absolute_error: na - 0s 203us/sample - loss: nan - mean_absolute_error: nan - val_loss: 66.5109 - val_mean_absolute_error: 66.5109\n",
      "Epoch 4/5\n",
      "765/765 [==============================] - ETA: 0s - loss: 65.2096 - mean_absolute_error: 65.209 - ETA: 0s - loss: nan - mean_absolute_error: nan        - 0s 166us/sample - loss: nan - mean_absolute_error: nan - val_loss: 59.2729 - val_mean_absolute_error: 59.2729\n",
      "Epoch 5/5\n",
      "765/765 [==============================] - ETA: 0s - loss: 54.9559 - mean_absolute_error: 54.955 - ETA: 0s - loss: nan - mean_absolute_error: nan        - 0s 142us/sample - loss: nan - mean_absolute_error: nan - val_loss: 48.0571 - val_mean_absolute_error: 48.0571\n",
      "Train on 765 samples, validate on 328 samples\n",
      "Epoch 1/5\n",
      "765/765 [==============================] - ETA: 8s - loss: 150.3374 - mean_absolute_error: 150.337 - ETA: 0s - loss: nan - mean_absolute_error: nan          - 1s 713us/sample - loss: nan - mean_absolute_error: nan - val_loss: 69.4367 - val_mean_absolute_error: 69.4367\n",
      "Epoch 2/5\n",
      "765/765 [==============================] - ETA: 0s - loss: nan - mean_absolute_error: na - ETA: 0s - loss: nan - mean_absolute_error: na - 0s 129us/sample - loss: nan - mean_absolute_error: nan - val_loss: 60.4377 - val_mean_absolute_error: 60.4377\n",
      "Epoch 3/5\n",
      "765/765 [==============================] - ETA: 0s - loss: 76.3048 - mean_absolute_error: 76.304 - ETA: 0s - loss: nan - mean_absolute_error: nan        - 0s 128us/sample - loss: nan - mean_absolute_error: nan - val_loss: 48.0848 - val_mean_absolute_error: 48.0848\n",
      "Epoch 4/5\n",
      "765/765 [==============================] - ETA: 0s - loss: 40.8135 - mean_absolute_error: 40.813 - ETA: 0s - loss: nan - mean_absolute_error: nan        - 0s 131us/sample - loss: nan - mean_absolute_error: nan - val_loss: 61.9303 - val_mean_absolute_error: 61.9303\n",
      "Epoch 5/5\n",
      "765/765 [==============================] - ETA: 0s - loss: 65.2226 - mean_absolute_error: 65.222 - ETA: 0s - loss: nan - mean_absolute_error: nan        - 0s 129us/sample - loss: nan - mean_absolute_error: nan - val_loss: 47.2141 - val_mean_absolute_error: 47.2141\n",
      "Train on 765 samples, validate on 328 samples\n",
      "Epoch 1/5\n",
      "765/765 [==============================] - ETA: 8s - loss: 90.1948 - mean_absolute_error: 90.194 - ETA: 0s - loss: nan - mean_absolute_error: nan        - 1s 705us/sample - loss: nan - mean_absolute_error: nan - val_loss: 63.4459 - val_mean_absolute_error: 63.4459\n",
      "Epoch 2/5\n",
      "765/765 [==============================] - ETA: 0s - loss: 77.0533 - mean_absolute_error: 77.053 - ETA: 0s - loss: nan - mean_absolute_error: nan        - 0s 140us/sample - loss: nan - mean_absolute_error: nan - val_loss: 64.1625 - val_mean_absolute_error: 64.1625\n",
      "Epoch 3/5\n",
      "765/765 [==============================] - ETA: 0s - loss: 52.0495 - mean_absolute_error: 52.049 - ETA: 0s - loss: 63.5411 - mean_absolute_error: 63.541 - 0s 134us/sample - loss: nan - mean_absolute_error: nan - val_loss: 52.7600 - val_mean_absolute_error: 52.7600\n",
      "Epoch 4/5\n",
      "765/765 [==============================] - ETA: 0s - loss: 53.6471 - mean_absolute_error: 53.647 - ETA: 0s - loss: nan - mean_absolute_error: nan        - 0s 142us/sample - loss: nan - mean_absolute_error: nan - val_loss: 50.1645 - val_mean_absolute_error: 50.1645\n",
      "Epoch 5/5\n",
      "765/765 [==============================] - ETA: 0s - loss: 36.6385 - mean_absolute_error: 36.638 - ETA: 0s - loss: nan - mean_absolute_error: nan        - 0s 140us/sample - loss: nan - mean_absolute_error: nan - val_loss: 47.9988 - val_mean_absolute_error: 47.9988\n"
     ]
    },
    {
     "data": {
      "text/html": [
       "<span style=\"color:#4527A0\"><h1 style=\"font-size:18px\">Trial complete</h1></span>"
      ],
      "text/plain": [
       "<IPython.core.display.HTML object>"
      ]
     },
     "metadata": {},
     "output_type": "display_data"
    },
    {
     "data": {
      "text/html": [
       "<span style=\"color:#4527A0\"><h1 style=\"font-size:18px\">Trial summary</h1></span>"
      ],
      "text/plain": [
       "<IPython.core.display.HTML object>"
      ]
     },
     "metadata": {},
     "output_type": "display_data"
    },
    {
     "data": {
      "text/html": [
       "<span style=\"color:cyan\"> |-Trial ID: 76a0e2f8e2221c89a35fae7ccca2d5d3</span>"
      ],
      "text/plain": [
       "<IPython.core.display.HTML object>"
      ]
     },
     "metadata": {},
     "output_type": "display_data"
    },
    {
     "data": {
      "text/html": [
       "<span style=\"color:cyan\"> |-Score: nan</span>"
      ],
      "text/plain": [
       "<IPython.core.display.HTML object>"
      ]
     },
     "metadata": {},
     "output_type": "display_data"
    },
    {
     "data": {
      "text/html": [
       "<span style=\"color:cyan\"> |-Best step: None</span>"
      ],
      "text/plain": [
       "<IPython.core.display.HTML object>"
      ]
     },
     "metadata": {},
     "output_type": "display_data"
    },
    {
     "data": {
      "text/html": [
       "<span style=\"color:#7E57C2\"><h2 style=\"font-size:16px\">Hyperparameters:</h2></span>"
      ],
      "text/plain": [
       "<IPython.core.display.HTML object>"
      ]
     },
     "metadata": {},
     "output_type": "display_data"
    },
    {
     "data": {
      "text/html": [
       "<span style=\"color:cyan\"> |-learning_rate: 0.01</span>"
      ],
      "text/plain": [
       "<IPython.core.display.HTML object>"
      ]
     },
     "metadata": {},
     "output_type": "display_data"
    },
    {
     "data": {
      "text/html": [
       "<span style=\"color:blue\"> |-num_layers: 5</span>"
      ],
      "text/plain": [
       "<IPython.core.display.HTML object>"
      ]
     },
     "metadata": {},
     "output_type": "display_data"
    },
    {
     "data": {
      "text/html": [
       "<span style=\"color:cyan\"> |-units_0: 320</span>"
      ],
      "text/plain": [
       "<IPython.core.display.HTML object>"
      ]
     },
     "metadata": {},
     "output_type": "display_data"
    },
    {
     "data": {
      "text/html": [
       "<span style=\"color:blue\"> |-units_1: 256</span>"
      ],
      "text/plain": [
       "<IPython.core.display.HTML object>"
      ]
     },
     "metadata": {},
     "output_type": "display_data"
    },
    {
     "data": {
      "text/html": [
       "<span style=\"color:cyan\"> |-units_10: 96</span>"
      ],
      "text/plain": [
       "<IPython.core.display.HTML object>"
      ]
     },
     "metadata": {},
     "output_type": "display_data"
    },
    {
     "data": {
      "text/html": [
       "<span style=\"color:blue\"> |-units_11: 224</span>"
      ],
      "text/plain": [
       "<IPython.core.display.HTML object>"
      ]
     },
     "metadata": {},
     "output_type": "display_data"
    },
    {
     "data": {
      "text/html": [
       "<span style=\"color:cyan\"> |-units_12: 256</span>"
      ],
      "text/plain": [
       "<IPython.core.display.HTML object>"
      ]
     },
     "metadata": {},
     "output_type": "display_data"
    },
    {
     "data": {
      "text/html": [
       "<span style=\"color:blue\"> |-units_13: 480</span>"
      ],
      "text/plain": [
       "<IPython.core.display.HTML object>"
      ]
     },
     "metadata": {},
     "output_type": "display_data"
    },
    {
     "data": {
      "text/html": [
       "<span style=\"color:cyan\"> |-units_2: 352</span>"
      ],
      "text/plain": [
       "<IPython.core.display.HTML object>"
      ]
     },
     "metadata": {},
     "output_type": "display_data"
    },
    {
     "data": {
      "text/html": [
       "<span style=\"color:blue\"> |-units_3: 480</span>"
      ],
      "text/plain": [
       "<IPython.core.display.HTML object>"
      ]
     },
     "metadata": {},
     "output_type": "display_data"
    },
    {
     "data": {
      "text/html": [
       "<span style=\"color:cyan\"> |-units_4: 384</span>"
      ],
      "text/plain": [
       "<IPython.core.display.HTML object>"
      ]
     },
     "metadata": {},
     "output_type": "display_data"
    },
    {
     "data": {
      "text/html": [
       "<span style=\"color:blue\"> |-units_5: 96</span>"
      ],
      "text/plain": [
       "<IPython.core.display.HTML object>"
      ]
     },
     "metadata": {},
     "output_type": "display_data"
    },
    {
     "data": {
      "text/html": [
       "<span style=\"color:cyan\"> |-units_6: 128</span>"
      ],
      "text/plain": [
       "<IPython.core.display.HTML object>"
      ]
     },
     "metadata": {},
     "output_type": "display_data"
    },
    {
     "data": {
      "text/html": [
       "<span style=\"color:blue\"> |-units_7: 96</span>"
      ],
      "text/plain": [
       "<IPython.core.display.HTML object>"
      ]
     },
     "metadata": {},
     "output_type": "display_data"
    },
    {
     "data": {
      "text/html": [
       "<span style=\"color:cyan\"> |-units_8: 192</span>"
      ],
      "text/plain": [
       "<IPython.core.display.HTML object>"
      ]
     },
     "metadata": {},
     "output_type": "display_data"
    },
    {
     "data": {
      "text/html": [
       "<span style=\"color:blue\"> |-units_9: 192</span>"
      ],
      "text/plain": [
       "<IPython.core.display.HTML object>"
      ]
     },
     "metadata": {},
     "output_type": "display_data"
    },
    {
     "name": "stdout",
     "output_type": "stream",
     "text": [
      "Train on 765 samples, validate on 328 samples\n",
      "Epoch 1/5\n",
      "765/765 [==============================] - ETA: 13s - loss: 130.0913 - mean_absolute_error: 130.09 - ETA: 0s - loss: 90.8225 - mean_absolute_error: 90.8225   - 1s 1ms/sample - loss: nan - mean_absolute_error: nan - val_loss: 74.2944 - val_mean_absolute_error: 74.2944\n",
      "Epoch 2/5\n",
      "765/765 [==============================] - ETA: 0s - loss: 79.3463 - mean_absolute_error: 79.346 - ETA: 0s - loss: nan - mean_absolute_error: nan        - 0s 155us/sample - loss: nan - mean_absolute_error: nan - val_loss: 63.4380 - val_mean_absolute_error: 63.4379\n",
      "Epoch 3/5\n",
      "765/765 [==============================] - ETA: 0s - loss: 67.9843 - mean_absolute_error: 67.984 - ETA: 0s - loss: 67.9941 - mean_absolute_error: 67.994 - 0s 148us/sample - loss: nan - mean_absolute_error: nan - val_loss: 64.2715 - val_mean_absolute_error: 64.2715\n",
      "Epoch 4/5\n",
      "765/765 [==============================] - ETA: 0s - loss: 57.5773 - mean_absolute_error: 57.577 - ETA: 0s - loss: nan - mean_absolute_error: nan        - 0s 152us/sample - loss: nan - mean_absolute_error: nan - val_loss: 65.3820 - val_mean_absolute_error: 65.3820\n",
      "Epoch 5/5\n",
      "765/765 [==============================] - ETA: 0s - loss: 72.9172 - mean_absolute_error: 72.917 - ETA: 0s - loss: 71.8308 - mean_absolute_error: 71.830 - 0s 155us/sample - loss: nan - mean_absolute_error: nan - val_loss: 62.6958 - val_mean_absolute_error: 62.6958\n",
      "Train on 765 samples, validate on 328 samples\n",
      "Epoch 1/5\n",
      "765/765 [==============================] - ETA: 13s - loss: 117.8148 - mean_absolute_error: 117.81 - ETA: 0s - loss: nan - mean_absolute_error: nan           - 1s 1ms/sample - loss: nan - mean_absolute_error: nan - val_loss: 63.6178 - val_mean_absolute_error: 63.6178\n",
      "Epoch 2/5\n",
      "765/765 [==============================] - ETA: 0s - loss: 53.7244 - mean_absolute_error: 53.724 - ETA: 0s - loss: 68.8374 - mean_absolute_error: 68.837 - 0s 160us/sample - loss: nan - mean_absolute_error: nan - val_loss: 64.6797 - val_mean_absolute_error: 64.6797\n",
      "Epoch 3/5\n",
      "765/765 [==============================] - ETA: 0s - loss: 51.9460 - mean_absolute_error: 51.946 - ETA: 0s - loss: nan - mean_absolute_error: nan        - 0s 167us/sample - loss: nan - mean_absolute_error: nan - val_loss: 63.3709 - val_mean_absolute_error: 63.3709\n",
      "Epoch 4/5\n",
      "765/765 [==============================] - ETA: 0s - loss: 62.1775 - mean_absolute_error: 62.177 - ETA: 0s - loss: nan - mean_absolute_error: nan        - 0s 153us/sample - loss: nan - mean_absolute_error: nan - val_loss: 69.6620 - val_mean_absolute_error: 69.6620\n",
      "Epoch 5/5\n",
      "765/765 [==============================] - ETA: 0s - loss: 66.4819 - mean_absolute_error: 66.481 - ETA: 0s - loss: nan - mean_absolute_error: nan        - 0s 153us/sample - loss: nan - mean_absolute_error: nan - val_loss: 70.7796 - val_mean_absolute_error: 70.7796\n",
      "Train on 765 samples, validate on 328 samples\n",
      "Epoch 1/5\n",
      "765/765 [==============================] - ETA: 13s - loss: 70.4069 - mean_absolute_error: 70.40 - ETA: 0s - loss: nan - mean_absolute_error: nan         - 1s 1ms/sample - loss: nan - mean_absolute_error: nan - val_loss: 72.1287 - val_mean_absolute_error: 72.1287\n",
      "Epoch 2/5\n",
      "765/765 [==============================] - ETA: 0s - loss: 69.0820 - mean_absolute_error: 69.082 - ETA: 0s - loss: nan - mean_absolute_error: nan        - 0s 160us/sample - loss: nan - mean_absolute_error: nan - val_loss: 71.4557 - val_mean_absolute_error: 71.4557\n",
      "Epoch 3/5\n",
      "765/765 [==============================] - ETA: 0s - loss: 73.9402 - mean_absolute_error: 73.940 - ETA: 0s - loss: 70.0901 - mean_absolute_error: 70.090 - 0s 154us/sample - loss: nan - mean_absolute_error: nan - val_loss: 62.9893 - val_mean_absolute_error: 62.9893\n",
      "Epoch 4/5\n",
      "765/765 [==============================] - ETA: 0s - loss: 66.8707 - mean_absolute_error: 66.870 - ETA: 0s - loss: 62.3051 - mean_absolute_error: 62.305 - 0s 150us/sample - loss: nan - mean_absolute_error: nan - val_loss: 63.6630 - val_mean_absolute_error: 63.6630\n",
      "Epoch 5/5\n",
      "765/765 [==============================] - ETA: 0s - loss: 52.0823 - mean_absolute_error: 52.082 - ETA: 0s - loss: nan - mean_absolute_error: nan        - 0s 152us/sample - loss: nan - mean_absolute_error: nan - val_loss: 63.0816 - val_mean_absolute_error: 63.0816\n"
     ]
    },
    {
     "data": {
      "text/html": [
       "<span style=\"color:#4527A0\"><h1 style=\"font-size:18px\">Trial complete</h1></span>"
      ],
      "text/plain": [
       "<IPython.core.display.HTML object>"
      ]
     },
     "metadata": {},
     "output_type": "display_data"
    },
    {
     "data": {
      "text/html": [
       "<span style=\"color:#4527A0\"><h1 style=\"font-size:18px\">Trial summary</h1></span>"
      ],
      "text/plain": [
       "<IPython.core.display.HTML object>"
      ]
     },
     "metadata": {},
     "output_type": "display_data"
    },
    {
     "data": {
      "text/html": [
       "<span style=\"color:cyan\"> |-Trial ID: 7d344b788b58937f2b1f76f603208e5c</span>"
      ],
      "text/plain": [
       "<IPython.core.display.HTML object>"
      ]
     },
     "metadata": {},
     "output_type": "display_data"
    },
    {
     "data": {
      "text/html": [
       "<span style=\"color:cyan\"> |-Score: nan</span>"
      ],
      "text/plain": [
       "<IPython.core.display.HTML object>"
      ]
     },
     "metadata": {},
     "output_type": "display_data"
    },
    {
     "data": {
      "text/html": [
       "<span style=\"color:cyan\"> |-Best step: None</span>"
      ],
      "text/plain": [
       "<IPython.core.display.HTML object>"
      ]
     },
     "metadata": {},
     "output_type": "display_data"
    },
    {
     "data": {
      "text/html": [
       "<span style=\"color:#7E57C2\"><h2 style=\"font-size:16px\">Hyperparameters:</h2></span>"
      ],
      "text/plain": [
       "<IPython.core.display.HTML object>"
      ]
     },
     "metadata": {},
     "output_type": "display_data"
    },
    {
     "data": {
      "text/html": [
       "<span style=\"color:cyan\"> |-learning_rate: 0.001</span>"
      ],
      "text/plain": [
       "<IPython.core.display.HTML object>"
      ]
     },
     "metadata": {},
     "output_type": "display_data"
    },
    {
     "data": {
      "text/html": [
       "<span style=\"color:blue\"> |-num_layers: 14</span>"
      ],
      "text/plain": [
       "<IPython.core.display.HTML object>"
      ]
     },
     "metadata": {},
     "output_type": "display_data"
    },
    {
     "data": {
      "text/html": [
       "<span style=\"color:cyan\"> |-units_0: 288</span>"
      ],
      "text/plain": [
       "<IPython.core.display.HTML object>"
      ]
     },
     "metadata": {},
     "output_type": "display_data"
    },
    {
     "data": {
      "text/html": [
       "<span style=\"color:blue\"> |-units_1: 160</span>"
      ],
      "text/plain": [
       "<IPython.core.display.HTML object>"
      ]
     },
     "metadata": {},
     "output_type": "display_data"
    },
    {
     "data": {
      "text/html": [
       "<span style=\"color:cyan\"> |-units_10: 96</span>"
      ],
      "text/plain": [
       "<IPython.core.display.HTML object>"
      ]
     },
     "metadata": {},
     "output_type": "display_data"
    },
    {
     "data": {
      "text/html": [
       "<span style=\"color:blue\"> |-units_11: 128</span>"
      ],
      "text/plain": [
       "<IPython.core.display.HTML object>"
      ]
     },
     "metadata": {},
     "output_type": "display_data"
    },
    {
     "data": {
      "text/html": [
       "<span style=\"color:cyan\"> |-units_12: 288</span>"
      ],
      "text/plain": [
       "<IPython.core.display.HTML object>"
      ]
     },
     "metadata": {},
     "output_type": "display_data"
    },
    {
     "data": {
      "text/html": [
       "<span style=\"color:blue\"> |-units_13: 448</span>"
      ],
      "text/plain": [
       "<IPython.core.display.HTML object>"
      ]
     },
     "metadata": {},
     "output_type": "display_data"
    },
    {
     "data": {
      "text/html": [
       "<span style=\"color:cyan\"> |-units_2: 416</span>"
      ],
      "text/plain": [
       "<IPython.core.display.HTML object>"
      ]
     },
     "metadata": {},
     "output_type": "display_data"
    },
    {
     "data": {
      "text/html": [
       "<span style=\"color:blue\"> |-units_3: 64</span>"
      ],
      "text/plain": [
       "<IPython.core.display.HTML object>"
      ]
     },
     "metadata": {},
     "output_type": "display_data"
    },
    {
     "data": {
      "text/html": [
       "<span style=\"color:cyan\"> |-units_4: 128</span>"
      ],
      "text/plain": [
       "<IPython.core.display.HTML object>"
      ]
     },
     "metadata": {},
     "output_type": "display_data"
    },
    {
     "data": {
      "text/html": [
       "<span style=\"color:blue\"> |-units_5: 160</span>"
      ],
      "text/plain": [
       "<IPython.core.display.HTML object>"
      ]
     },
     "metadata": {},
     "output_type": "display_data"
    },
    {
     "data": {
      "text/html": [
       "<span style=\"color:cyan\"> |-units_6: 64</span>"
      ],
      "text/plain": [
       "<IPython.core.display.HTML object>"
      ]
     },
     "metadata": {},
     "output_type": "display_data"
    },
    {
     "data": {
      "text/html": [
       "<span style=\"color:blue\"> |-units_7: 192</span>"
      ],
      "text/plain": [
       "<IPython.core.display.HTML object>"
      ]
     },
     "metadata": {},
     "output_type": "display_data"
    },
    {
     "data": {
      "text/html": [
       "<span style=\"color:cyan\"> |-units_8: 352</span>"
      ],
      "text/plain": [
       "<IPython.core.display.HTML object>"
      ]
     },
     "metadata": {},
     "output_type": "display_data"
    },
    {
     "data": {
      "text/html": [
       "<span style=\"color:blue\"> |-units_9: 448</span>"
      ],
      "text/plain": [
       "<IPython.core.display.HTML object>"
      ]
     },
     "metadata": {},
     "output_type": "display_data"
    },
    {
     "name": "stdout",
     "output_type": "stream",
     "text": [
      "Train on 765 samples, validate on 328 samples\n",
      "Epoch 1/5\n",
      "765/765 [==============================] - ETA: 15s - loss: 104.5434 - mean_absolute_error: 104.54 - ETA: 0s - loss: 109.9882 - mean_absolute_error: 109.9882 - ETA: 0s - loss: 108.6768 - mean_absolute_error: 108.676 - 1s 1ms/sample - loss: nan - mean_absolute_error: nan - val_loss: 87.6563 - val_mean_absolute_error: 87.6563\n",
      "Epoch 2/5\n",
      "765/765 [==============================] - ETA: 0s - loss: 88.7476 - mean_absolute_error: 88.747 - ETA: 0s - loss: 70.6400 - mean_absolute_error: 70.640 - 0s 184us/sample - loss: nan - mean_absolute_error: nan - val_loss: 63.6789 - val_mean_absolute_error: 63.6789\n",
      "Epoch 3/5\n",
      "765/765 [==============================] - ETA: 0s - loss: nan - mean_absolute_error: na - ETA: 0s - loss: nan - mean_absolute_error: na - 0s 179us/sample - loss: nan - mean_absolute_error: nan - val_loss: 64.6172 - val_mean_absolute_error: 64.6172\n",
      "Epoch 4/5\n",
      "765/765 [==============================] - ETA: 0s - loss: 92.8865 - mean_absolute_error: 92.886 - ETA: 0s - loss: 66.6487 - mean_absolute_error: 66.648 - 0s 178us/sample - loss: nan - mean_absolute_error: nan - val_loss: 64.8240 - val_mean_absolute_error: 64.8240\n",
      "Epoch 5/5\n",
      "765/765 [==============================] - ETA: 0s - loss: 83.7844 - mean_absolute_error: 83.784 - ETA: 0s - loss: 65.5342 - mean_absolute_error: 65.534 - 0s 180us/sample - loss: nan - mean_absolute_error: nan - val_loss: 63.9262 - val_mean_absolute_error: 63.9262\n",
      "Train on 765 samples, validate on 328 samples\n",
      "Epoch 1/5\n",
      "765/765 [==============================] - ETA: 15s - loss: 127.6561 - mean_absolute_error: 127.65 - ETA: 0s - loss: nan - mean_absolute_error: nan           - 1s 1ms/sample - loss: nan - mean_absolute_error: nan - val_loss: 97.5892 - val_mean_absolute_error: 97.5892\n",
      "Epoch 2/5\n",
      "765/765 [==============================] - ETA: 0s - loss: 87.3692 - mean_absolute_error: 87.369 - ETA: 0s - loss: 85.5343 - mean_absolute_error: 85.534 - 0s 177us/sample - loss: nan - mean_absolute_error: nan - val_loss: 64.7016 - val_mean_absolute_error: 64.7016\n",
      "Epoch 3/5\n",
      "765/765 [==============================] - ETA: 0s - loss: 72.0633 - mean_absolute_error: 72.063 - ETA: 0s - loss: nan - mean_absolute_error: nan        - 0s 180us/sample - loss: nan - mean_absolute_error: nan - val_loss: 65.2430 - val_mean_absolute_error: 65.2430\n",
      "Epoch 4/5\n",
      "765/765 [==============================] - ETA: 0s - loss: 73.0236 - mean_absolute_error: 73.023 - ETA: 0s - loss: 64.2781 - mean_absolute_error: 64.278 - 0s 177us/sample - loss: nan - mean_absolute_error: nan - val_loss: 65.2166 - val_mean_absolute_error: 65.2166\n",
      "Epoch 5/5\n",
      "765/765 [==============================] - ETA: 0s - loss: 60.1263 - mean_absolute_error: 60.126 - ETA: 0s - loss: nan - mean_absolute_error: nan        - 0s 182us/sample - loss: nan - mean_absolute_error: nan - val_loss: 64.1142 - val_mean_absolute_error: 64.1142\n",
      "Train on 765 samples, validate on 328 samples\n",
      "Epoch 1/5\n",
      "765/765 [==============================] - ETA: 15s - loss: 128.1871 - mean_absolute_error: 128.18 - ETA: 0s - loss: 106.8311 - mean_absolute_error: 106.8311 - 1s 1ms/sample - loss: nan - mean_absolute_error: nan - val_loss: 100.1294 - val_mean_absolute_error: 100.1294\n",
      "Epoch 2/5\n",
      "765/765 [==============================] - ETA: 0s - loss: 118.2157 - mean_absolute_error: 118.215 - ETA: 0s - loss: 92.5658 - mean_absolute_error: 92.5658  - 0s 180us/sample - loss: nan - mean_absolute_error: nan - val_loss: 64.0096 - val_mean_absolute_error: 64.0096\n",
      "Epoch 3/5\n",
      "765/765 [==============================] - ETA: 0s - loss: 50.8863 - mean_absolute_error: 50.886 - ETA: 0s - loss: nan - mean_absolute_error: nan        - 0s 172us/sample - loss: nan - mean_absolute_error: nan - val_loss: 67.5307 - val_mean_absolute_error: 67.5307\n",
      "Epoch 4/5\n",
      "765/765 [==============================] - ETA: 0s - loss: 73.6767 - mean_absolute_error: 73.676 - ETA: 0s - loss: nan - mean_absolute_error: nan        - 0s 173us/sample - loss: nan - mean_absolute_error: nan - val_loss: 64.7522 - val_mean_absolute_error: 64.7522\n",
      "Epoch 5/5\n",
      "765/765 [==============================] - ETA: 0s - loss: 50.6143 - mean_absolute_error: 50.614 - ETA: 0s - loss: nan - mean_absolute_error: nan        - 0s 167us/sample - loss: nan - mean_absolute_error: nan - val_loss: 65.1810 - val_mean_absolute_error: 65.1810\n"
     ]
    },
    {
     "data": {
      "text/html": [
       "<span style=\"color:#4527A0\"><h1 style=\"font-size:18px\">Trial complete</h1></span>"
      ],
      "text/plain": [
       "<IPython.core.display.HTML object>"
      ]
     },
     "metadata": {},
     "output_type": "display_data"
    },
    {
     "data": {
      "text/html": [
       "<span style=\"color:#4527A0\"><h1 style=\"font-size:18px\">Trial summary</h1></span>"
      ],
      "text/plain": [
       "<IPython.core.display.HTML object>"
      ]
     },
     "metadata": {},
     "output_type": "display_data"
    },
    {
     "data": {
      "text/html": [
       "<span style=\"color:cyan\"> |-Trial ID: 2af2cafb364445c4270987d9a8634355</span>"
      ],
      "text/plain": [
       "<IPython.core.display.HTML object>"
      ]
     },
     "metadata": {},
     "output_type": "display_data"
    },
    {
     "data": {
      "text/html": [
       "<span style=\"color:cyan\"> |-Score: nan</span>"
      ],
      "text/plain": [
       "<IPython.core.display.HTML object>"
      ]
     },
     "metadata": {},
     "output_type": "display_data"
    },
    {
     "data": {
      "text/html": [
       "<span style=\"color:cyan\"> |-Best step: None</span>"
      ],
      "text/plain": [
       "<IPython.core.display.HTML object>"
      ]
     },
     "metadata": {},
     "output_type": "display_data"
    },
    {
     "data": {
      "text/html": [
       "<span style=\"color:#7E57C2\"><h2 style=\"font-size:16px\">Hyperparameters:</h2></span>"
      ],
      "text/plain": [
       "<IPython.core.display.HTML object>"
      ]
     },
     "metadata": {},
     "output_type": "display_data"
    },
    {
     "data": {
      "text/html": [
       "<span style=\"color:cyan\"> |-learning_rate: 0.0001</span>"
      ],
      "text/plain": [
       "<IPython.core.display.HTML object>"
      ]
     },
     "metadata": {},
     "output_type": "display_data"
    },
    {
     "data": {
      "text/html": [
       "<span style=\"color:blue\"> |-num_layers: 18</span>"
      ],
      "text/plain": [
       "<IPython.core.display.HTML object>"
      ]
     },
     "metadata": {},
     "output_type": "display_data"
    },
    {
     "data": {
      "text/html": [
       "<span style=\"color:cyan\"> |-units_0: 416</span>"
      ],
      "text/plain": [
       "<IPython.core.display.HTML object>"
      ]
     },
     "metadata": {},
     "output_type": "display_data"
    },
    {
     "data": {
      "text/html": [
       "<span style=\"color:blue\"> |-units_1: 448</span>"
      ],
      "text/plain": [
       "<IPython.core.display.HTML object>"
      ]
     },
     "metadata": {},
     "output_type": "display_data"
    },
    {
     "data": {
      "text/html": [
       "<span style=\"color:cyan\"> |-units_10: 384</span>"
      ],
      "text/plain": [
       "<IPython.core.display.HTML object>"
      ]
     },
     "metadata": {},
     "output_type": "display_data"
    },
    {
     "data": {
      "text/html": [
       "<span style=\"color:blue\"> |-units_11: 256</span>"
      ],
      "text/plain": [
       "<IPython.core.display.HTML object>"
      ]
     },
     "metadata": {},
     "output_type": "display_data"
    },
    {
     "data": {
      "text/html": [
       "<span style=\"color:cyan\"> |-units_12: 64</span>"
      ],
      "text/plain": [
       "<IPython.core.display.HTML object>"
      ]
     },
     "metadata": {},
     "output_type": "display_data"
    },
    {
     "data": {
      "text/html": [
       "<span style=\"color:blue\"> |-units_13: 320</span>"
      ],
      "text/plain": [
       "<IPython.core.display.HTML object>"
      ]
     },
     "metadata": {},
     "output_type": "display_data"
    },
    {
     "data": {
      "text/html": [
       "<span style=\"color:cyan\"> |-units_14: 32</span>"
      ],
      "text/plain": [
       "<IPython.core.display.HTML object>"
      ]
     },
     "metadata": {},
     "output_type": "display_data"
    },
    {
     "data": {
      "text/html": [
       "<span style=\"color:blue\"> |-units_15: 32</span>"
      ],
      "text/plain": [
       "<IPython.core.display.HTML object>"
      ]
     },
     "metadata": {},
     "output_type": "display_data"
    },
    {
     "data": {
      "text/html": [
       "<span style=\"color:cyan\"> |-units_16: 32</span>"
      ],
      "text/plain": [
       "<IPython.core.display.HTML object>"
      ]
     },
     "metadata": {},
     "output_type": "display_data"
    },
    {
     "data": {
      "text/html": [
       "<span style=\"color:blue\"> |-units_17: 32</span>"
      ],
      "text/plain": [
       "<IPython.core.display.HTML object>"
      ]
     },
     "metadata": {},
     "output_type": "display_data"
    },
    {
     "data": {
      "text/html": [
       "<span style=\"color:cyan\"> |-units_2: 480</span>"
      ],
      "text/plain": [
       "<IPython.core.display.HTML object>"
      ]
     },
     "metadata": {},
     "output_type": "display_data"
    },
    {
     "data": {
      "text/html": [
       "<span style=\"color:blue\"> |-units_3: 64</span>"
      ],
      "text/plain": [
       "<IPython.core.display.HTML object>"
      ]
     },
     "metadata": {},
     "output_type": "display_data"
    },
    {
     "data": {
      "text/html": [
       "<span style=\"color:cyan\"> |-units_4: 384</span>"
      ],
      "text/plain": [
       "<IPython.core.display.HTML object>"
      ]
     },
     "metadata": {},
     "output_type": "display_data"
    },
    {
     "data": {
      "text/html": [
       "<span style=\"color:blue\"> |-units_5: 256</span>"
      ],
      "text/plain": [
       "<IPython.core.display.HTML object>"
      ]
     },
     "metadata": {},
     "output_type": "display_data"
    },
    {
     "data": {
      "text/html": [
       "<span style=\"color:cyan\"> |-units_6: 32</span>"
      ],
      "text/plain": [
       "<IPython.core.display.HTML object>"
      ]
     },
     "metadata": {},
     "output_type": "display_data"
    },
    {
     "data": {
      "text/html": [
       "<span style=\"color:blue\"> |-units_7: 512</span>"
      ],
      "text/plain": [
       "<IPython.core.display.HTML object>"
      ]
     },
     "metadata": {},
     "output_type": "display_data"
    },
    {
     "data": {
      "text/html": [
       "<span style=\"color:cyan\"> |-units_8: 288</span>"
      ],
      "text/plain": [
       "<IPython.core.display.HTML object>"
      ]
     },
     "metadata": {},
     "output_type": "display_data"
    },
    {
     "data": {
      "text/html": [
       "<span style=\"color:blue\"> |-units_9: 64</span>"
      ],
      "text/plain": [
       "<IPython.core.display.HTML object>"
      ]
     },
     "metadata": {},
     "output_type": "display_data"
    },
    {
     "name": "stdout",
     "output_type": "stream",
     "text": [
      "Train on 765 samples, validate on 328 samples\n",
      "Epoch 1/5\n",
      "765/765 [==============================] - ETA: 13s - loss: 119.9084 - mean_absolute_error: 119.90 - ETA: 0s - loss: nan - mean_absolute_error: nan           - 1s 1ms/sample - loss: nan - mean_absolute_error: nan - val_loss: 66.0547 - val_mean_absolute_error: 66.0547\n",
      "Epoch 2/5\n",
      "765/765 [==============================] - ETA: 0s - loss: 69.5797 - mean_absolute_error: 69.579 - ETA: 0s - loss: nan - mean_absolute_error: nan        - 0s 175us/sample - loss: nan - mean_absolute_error: nan - val_loss: 63.6837 - val_mean_absolute_error: 63.6837\n",
      "Epoch 3/5\n",
      "765/765 [==============================] - ETA: 0s - loss: 61.0990 - mean_absolute_error: 61.099 - ETA: 0s - loss: nan - mean_absolute_error: nan        - 0s 157us/sample - loss: nan - mean_absolute_error: nan - val_loss: 63.5309 - val_mean_absolute_error: 63.5308\n",
      "Epoch 4/5\n",
      "765/765 [==============================] - ETA: 0s - loss: nan - mean_absolute_error: na - ETA: 0s - loss: nan - mean_absolute_error: na - 0s 167us/sample - loss: nan - mean_absolute_error: nan - val_loss: 64.2785 - val_mean_absolute_error: 64.2785\n",
      "Epoch 5/5\n",
      "765/765 [==============================] - ETA: 0s - loss: 75.5386 - mean_absolute_error: 75.538 - ETA: 0s - loss: nan - mean_absolute_error: nan        - 0s 164us/sample - loss: nan - mean_absolute_error: nan - val_loss: 64.1146 - val_mean_absolute_error: 64.1146\n",
      "Train on 765 samples, validate on 328 samples\n",
      "Epoch 1/5\n",
      "765/765 [==============================] - ETA: 12s - loss: 111.9406 - mean_absolute_error: 111.94 - ETA: 0s - loss: nan - mean_absolute_error: nan           - 1s 1ms/sample - loss: nan - mean_absolute_error: nan - val_loss: 64.6218 - val_mean_absolute_error: 64.6218\n",
      "Epoch 2/5\n",
      "765/765 [==============================] - ETA: 0s - loss: 73.4813 - mean_absolute_error: 73.481 - ETA: 0s - loss: 67.6806 - mean_absolute_error: 67.680 - 0s 160us/sample - loss: nan - mean_absolute_error: nan - val_loss: 63.6976 - val_mean_absolute_error: 63.6976\n",
      "Epoch 3/5\n",
      "765/765 [==============================] - ETA: 0s - loss: 49.0782 - mean_absolute_error: 49.078 - ETA: 0s - loss: 64.6847 - mean_absolute_error: 64.684 - 0s 151us/sample - loss: nan - mean_absolute_error: nan - val_loss: 64.1090 - val_mean_absolute_error: 64.1090\n",
      "Epoch 4/5\n",
      "765/765 [==============================] - ETA: 0s - loss: 67.6824 - mean_absolute_error: 67.682 - ETA: 0s - loss: nan - mean_absolute_error: nan        - 0s 155us/sample - loss: nan - mean_absolute_error: nan - val_loss: 63.3081 - val_mean_absolute_error: 63.3081\n",
      "Epoch 5/5\n",
      "765/765 [==============================] - ETA: 0s - loss: 62.7863 - mean_absolute_error: 62.786 - ETA: 0s - loss: 66.0135 - mean_absolute_error: 66.013 - 0s 149us/sample - loss: nan - mean_absolute_error: nan - val_loss: 63.1548 - val_mean_absolute_error: 63.1548\n",
      "Train on 765 samples, validate on 328 samples\n",
      "Epoch 1/5\n",
      "765/765 [==============================] - ETA: 12s - loss: 152.4000 - mean_absolute_error: 152.40 - ETA: 0s - loss: nan - mean_absolute_error: nan           - 1s 1ms/sample - loss: nan - mean_absolute_error: nan - val_loss: 69.5202 - val_mean_absolute_error: 69.5202\n",
      "Epoch 2/5\n",
      "765/765 [==============================] - ETA: 0s - loss: 68.1960 - mean_absolute_error: 68.196 - ETA: 0s - loss: nan - mean_absolute_error: nan        - 0s 160us/sample - loss: nan - mean_absolute_error: nan - val_loss: 63.6313 - val_mean_absolute_error: 63.6313\n",
      "Epoch 3/5\n",
      "765/765 [==============================] - ETA: 0s - loss: 70.1136 - mean_absolute_error: 70.113 - ETA: 0s - loss: 67.4635 - mean_absolute_error: 67.463 - 0s 153us/sample - loss: nan - mean_absolute_error: nan - val_loss: 63.7490 - val_mean_absolute_error: 63.7490\n",
      "Epoch 4/5\n",
      "765/765 [==============================] - ETA: 0s - loss: 60.2658 - mean_absolute_error: 60.265 - ETA: 0s - loss: nan - mean_absolute_error: nan        - 0s 149us/sample - loss: nan - mean_absolute_error: nan - val_loss: 64.4404 - val_mean_absolute_error: 64.4404\n",
      "Epoch 5/5\n",
      "765/765 [==============================] - ETA: 0s - loss: 64.7571 - mean_absolute_error: 64.757 - ETA: 0s - loss: nan - mean_absolute_error: nan        - 0s 151us/sample - loss: nan - mean_absolute_error: nan - val_loss: 63.4390 - val_mean_absolute_error: 63.4390\n"
     ]
    },
    {
     "data": {
      "text/html": [
       "<span style=\"color:#4527A0\"><h1 style=\"font-size:18px\">Trial complete</h1></span>"
      ],
      "text/plain": [
       "<IPython.core.display.HTML object>"
      ]
     },
     "metadata": {},
     "output_type": "display_data"
    },
    {
     "data": {
      "text/html": [
       "<span style=\"color:#4527A0\"><h1 style=\"font-size:18px\">Trial summary</h1></span>"
      ],
      "text/plain": [
       "<IPython.core.display.HTML object>"
      ]
     },
     "metadata": {},
     "output_type": "display_data"
    },
    {
     "data": {
      "text/html": [
       "<span style=\"color:cyan\"> |-Trial ID: 3bf760bea8ccb438eb2ed34fd273293e</span>"
      ],
      "text/plain": [
       "<IPython.core.display.HTML object>"
      ]
     },
     "metadata": {},
     "output_type": "display_data"
    },
    {
     "data": {
      "text/html": [
       "<span style=\"color:cyan\"> |-Score: nan</span>"
      ],
      "text/plain": [
       "<IPython.core.display.HTML object>"
      ]
     },
     "metadata": {},
     "output_type": "display_data"
    },
    {
     "data": {
      "text/html": [
       "<span style=\"color:cyan\"> |-Best step: None</span>"
      ],
      "text/plain": [
       "<IPython.core.display.HTML object>"
      ]
     },
     "metadata": {},
     "output_type": "display_data"
    },
    {
     "data": {
      "text/html": [
       "<span style=\"color:#7E57C2\"><h2 style=\"font-size:16px\">Hyperparameters:</h2></span>"
      ],
      "text/plain": [
       "<IPython.core.display.HTML object>"
      ]
     },
     "metadata": {},
     "output_type": "display_data"
    },
    {
     "data": {
      "text/html": [
       "<span style=\"color:cyan\"> |-learning_rate: 0.0001</span>"
      ],
      "text/plain": [
       "<IPython.core.display.HTML object>"
      ]
     },
     "metadata": {},
     "output_type": "display_data"
    },
    {
     "data": {
      "text/html": [
       "<span style=\"color:blue\"> |-num_layers: 13</span>"
      ],
      "text/plain": [
       "<IPython.core.display.HTML object>"
      ]
     },
     "metadata": {},
     "output_type": "display_data"
    },
    {
     "data": {
      "text/html": [
       "<span style=\"color:cyan\"> |-units_0: 448</span>"
      ],
      "text/plain": [
       "<IPython.core.display.HTML object>"
      ]
     },
     "metadata": {},
     "output_type": "display_data"
    },
    {
     "data": {
      "text/html": [
       "<span style=\"color:blue\"> |-units_1: 96</span>"
      ],
      "text/plain": [
       "<IPython.core.display.HTML object>"
      ]
     },
     "metadata": {},
     "output_type": "display_data"
    },
    {
     "data": {
      "text/html": [
       "<span style=\"color:cyan\"> |-units_10: 512</span>"
      ],
      "text/plain": [
       "<IPython.core.display.HTML object>"
      ]
     },
     "metadata": {},
     "output_type": "display_data"
    },
    {
     "data": {
      "text/html": [
       "<span style=\"color:blue\"> |-units_11: 224</span>"
      ],
      "text/plain": [
       "<IPython.core.display.HTML object>"
      ]
     },
     "metadata": {},
     "output_type": "display_data"
    },
    {
     "data": {
      "text/html": [
       "<span style=\"color:cyan\"> |-units_12: 96</span>"
      ],
      "text/plain": [
       "<IPython.core.display.HTML object>"
      ]
     },
     "metadata": {},
     "output_type": "display_data"
    },
    {
     "data": {
      "text/html": [
       "<span style=\"color:blue\"> |-units_13: 256</span>"
      ],
      "text/plain": [
       "<IPython.core.display.HTML object>"
      ]
     },
     "metadata": {},
     "output_type": "display_data"
    },
    {
     "data": {
      "text/html": [
       "<span style=\"color:cyan\"> |-units_14: 256</span>"
      ],
      "text/plain": [
       "<IPython.core.display.HTML object>"
      ]
     },
     "metadata": {},
     "output_type": "display_data"
    },
    {
     "data": {
      "text/html": [
       "<span style=\"color:blue\"> |-units_15: 480</span>"
      ],
      "text/plain": [
       "<IPython.core.display.HTML object>"
      ]
     },
     "metadata": {},
     "output_type": "display_data"
    },
    {
     "data": {
      "text/html": [
       "<span style=\"color:cyan\"> |-units_16: 64</span>"
      ],
      "text/plain": [
       "<IPython.core.display.HTML object>"
      ]
     },
     "metadata": {},
     "output_type": "display_data"
    },
    {
     "data": {
      "text/html": [
       "<span style=\"color:blue\"> |-units_17: 352</span>"
      ],
      "text/plain": [
       "<IPython.core.display.HTML object>"
      ]
     },
     "metadata": {},
     "output_type": "display_data"
    },
    {
     "data": {
      "text/html": [
       "<span style=\"color:cyan\"> |-units_2: 384</span>"
      ],
      "text/plain": [
       "<IPython.core.display.HTML object>"
      ]
     },
     "metadata": {},
     "output_type": "display_data"
    },
    {
     "data": {
      "text/html": [
       "<span style=\"color:blue\"> |-units_3: 96</span>"
      ],
      "text/plain": [
       "<IPython.core.display.HTML object>"
      ]
     },
     "metadata": {},
     "output_type": "display_data"
    },
    {
     "data": {
      "text/html": [
       "<span style=\"color:cyan\"> |-units_4: 288</span>"
      ],
      "text/plain": [
       "<IPython.core.display.HTML object>"
      ]
     },
     "metadata": {},
     "output_type": "display_data"
    },
    {
     "data": {
      "text/html": [
       "<span style=\"color:blue\"> |-units_5: 96</span>"
      ],
      "text/plain": [
       "<IPython.core.display.HTML object>"
      ]
     },
     "metadata": {},
     "output_type": "display_data"
    },
    {
     "data": {
      "text/html": [
       "<span style=\"color:cyan\"> |-units_6: 96</span>"
      ],
      "text/plain": [
       "<IPython.core.display.HTML object>"
      ]
     },
     "metadata": {},
     "output_type": "display_data"
    },
    {
     "data": {
      "text/html": [
       "<span style=\"color:blue\"> |-units_7: 288</span>"
      ],
      "text/plain": [
       "<IPython.core.display.HTML object>"
      ]
     },
     "metadata": {},
     "output_type": "display_data"
    },
    {
     "data": {
      "text/html": [
       "<span style=\"color:cyan\"> |-units_8: 480</span>"
      ],
      "text/plain": [
       "<IPython.core.display.HTML object>"
      ]
     },
     "metadata": {},
     "output_type": "display_data"
    },
    {
     "data": {
      "text/html": [
       "<span style=\"color:blue\"> |-units_9: 448</span>"
      ],
      "text/plain": [
       "<IPython.core.display.HTML object>"
      ]
     },
     "metadata": {},
     "output_type": "display_data"
    },
    {
     "name": "stdout",
     "output_type": "stream",
     "text": [
      "INFO:tensorflow:Oracle triggered exit\n"
     ]
    }
   ],
   "source": [
    "tuner.search(X_train.values, y_train.values,\n",
    "             epochs=5,\n",
    "             validation_data=(X_test.values, y_test.values))"
   ]
  },
  {
   "cell_type": "code",
   "execution_count": 23,
   "metadata": {},
   "outputs": [
    {
     "data": {
      "text/html": [
       "<span style=\"color:#4527A0\"><h1 style=\"font-size:18px\">Results summary</h1></span>"
      ],
      "text/plain": [
       "<IPython.core.display.HTML object>"
      ]
     },
     "metadata": {},
     "output_type": "display_data"
    },
    {
     "data": {
      "text/html": [
       "<span style=\"color:cyan\"> |-Results in project\\Air Quality Index</span>"
      ],
      "text/plain": [
       "<IPython.core.display.HTML object>"
      ]
     },
     "metadata": {},
     "output_type": "display_data"
    },
    {
     "data": {
      "text/html": [
       "<span style=\"color:cyan\"> |-Showing 10 best trials</span>"
      ],
      "text/plain": [
       "<IPython.core.display.HTML object>"
      ]
     },
     "metadata": {},
     "output_type": "display_data"
    },
    {
     "data": {
      "text/html": [
       "<span style=\"color:cyan\"> |-Objective(name='mean_absolute_error', direction='min')</span>"
      ],
      "text/plain": [
       "<IPython.core.display.HTML object>"
      ]
     },
     "metadata": {},
     "output_type": "display_data"
    },
    {
     "data": {
      "text/html": [
       "<span style=\"color:#4527A0\"><h1 style=\"font-size:18px\">Trial summary</h1></span>"
      ],
      "text/plain": [
       "<IPython.core.display.HTML object>"
      ]
     },
     "metadata": {},
     "output_type": "display_data"
    },
    {
     "data": {
      "text/html": [
       "<span style=\"color:cyan\"> |-Trial ID: 2409ef8424818f0e77f84877b663d6a7</span>"
      ],
      "text/plain": [
       "<IPython.core.display.HTML object>"
      ]
     },
     "metadata": {},
     "output_type": "display_data"
    },
    {
     "data": {
      "text/html": [
       "<span style=\"color:cyan\"> |-Score: nan</span>"
      ],
      "text/plain": [
       "<IPython.core.display.HTML object>"
      ]
     },
     "metadata": {},
     "output_type": "display_data"
    },
    {
     "data": {
      "text/html": [
       "<span style=\"color:cyan\"> |-Best step: None</span>"
      ],
      "text/plain": [
       "<IPython.core.display.HTML object>"
      ]
     },
     "metadata": {},
     "output_type": "display_data"
    },
    {
     "data": {
      "text/html": [
       "<span style=\"color:#7E57C2\"><h2 style=\"font-size:16px\">Hyperparameters:</h2></span>"
      ],
      "text/plain": [
       "<IPython.core.display.HTML object>"
      ]
     },
     "metadata": {},
     "output_type": "display_data"
    },
    {
     "data": {
      "text/html": [
       "<span style=\"color:cyan\"> |-learning_rate: 0.001</span>"
      ],
      "text/plain": [
       "<IPython.core.display.HTML object>"
      ]
     },
     "metadata": {},
     "output_type": "display_data"
    },
    {
     "data": {
      "text/html": [
       "<span style=\"color:blue\"> |-num_layers: 11</span>"
      ],
      "text/plain": [
       "<IPython.core.display.HTML object>"
      ]
     },
     "metadata": {},
     "output_type": "display_data"
    },
    {
     "data": {
      "text/html": [
       "<span style=\"color:cyan\"> |-units_0: 512</span>"
      ],
      "text/plain": [
       "<IPython.core.display.HTML object>"
      ]
     },
     "metadata": {},
     "output_type": "display_data"
    },
    {
     "data": {
      "text/html": [
       "<span style=\"color:blue\"> |-units_1: 128</span>"
      ],
      "text/plain": [
       "<IPython.core.display.HTML object>"
      ]
     },
     "metadata": {},
     "output_type": "display_data"
    },
    {
     "data": {
      "text/html": [
       "<span style=\"color:cyan\"> |-units_10: 32</span>"
      ],
      "text/plain": [
       "<IPython.core.display.HTML object>"
      ]
     },
     "metadata": {},
     "output_type": "display_data"
    },
    {
     "data": {
      "text/html": [
       "<span style=\"color:blue\"> |-units_2: 32</span>"
      ],
      "text/plain": [
       "<IPython.core.display.HTML object>"
      ]
     },
     "metadata": {},
     "output_type": "display_data"
    },
    {
     "data": {
      "text/html": [
       "<span style=\"color:cyan\"> |-units_3: 32</span>"
      ],
      "text/plain": [
       "<IPython.core.display.HTML object>"
      ]
     },
     "metadata": {},
     "output_type": "display_data"
    },
    {
     "data": {
      "text/html": [
       "<span style=\"color:blue\"> |-units_4: 32</span>"
      ],
      "text/plain": [
       "<IPython.core.display.HTML object>"
      ]
     },
     "metadata": {},
     "output_type": "display_data"
    },
    {
     "data": {
      "text/html": [
       "<span style=\"color:cyan\"> |-units_5: 32</span>"
      ],
      "text/plain": [
       "<IPython.core.display.HTML object>"
      ]
     },
     "metadata": {},
     "output_type": "display_data"
    },
    {
     "data": {
      "text/html": [
       "<span style=\"color:blue\"> |-units_6: 32</span>"
      ],
      "text/plain": [
       "<IPython.core.display.HTML object>"
      ]
     },
     "metadata": {},
     "output_type": "display_data"
    },
    {
     "data": {
      "text/html": [
       "<span style=\"color:cyan\"> |-units_7: 32</span>"
      ],
      "text/plain": [
       "<IPython.core.display.HTML object>"
      ]
     },
     "metadata": {},
     "output_type": "display_data"
    },
    {
     "data": {
      "text/html": [
       "<span style=\"color:blue\"> |-units_8: 32</span>"
      ],
      "text/plain": [
       "<IPython.core.display.HTML object>"
      ]
     },
     "metadata": {},
     "output_type": "display_data"
    },
    {
     "data": {
      "text/html": [
       "<span style=\"color:cyan\"> |-units_9: 32</span>"
      ],
      "text/plain": [
       "<IPython.core.display.HTML object>"
      ]
     },
     "metadata": {},
     "output_type": "display_data"
    },
    {
     "data": {
      "text/html": [
       "<span style=\"color:#4527A0\"><h1 style=\"font-size:18px\">Trial summary</h1></span>"
      ],
      "text/plain": [
       "<IPython.core.display.HTML object>"
      ]
     },
     "metadata": {},
     "output_type": "display_data"
    },
    {
     "data": {
      "text/html": [
       "<span style=\"color:cyan\"> |-Trial ID: be4b466332e04b1a89673a7208513a3a</span>"
      ],
      "text/plain": [
       "<IPython.core.display.HTML object>"
      ]
     },
     "metadata": {},
     "output_type": "display_data"
    },
    {
     "data": {
      "text/html": [
       "<span style=\"color:cyan\"> |-Score: nan</span>"
      ],
      "text/plain": [
       "<IPython.core.display.HTML object>"
      ]
     },
     "metadata": {},
     "output_type": "display_data"
    },
    {
     "data": {
      "text/html": [
       "<span style=\"color:cyan\"> |-Best step: None</span>"
      ],
      "text/plain": [
       "<IPython.core.display.HTML object>"
      ]
     },
     "metadata": {},
     "output_type": "display_data"
    },
    {
     "data": {
      "text/html": [
       "<span style=\"color:#7E57C2\"><h2 style=\"font-size:16px\">Hyperparameters:</h2></span>"
      ],
      "text/plain": [
       "<IPython.core.display.HTML object>"
      ]
     },
     "metadata": {},
     "output_type": "display_data"
    },
    {
     "data": {
      "text/html": [
       "<span style=\"color:cyan\"> |-learning_rate: 0.01</span>"
      ],
      "text/plain": [
       "<IPython.core.display.HTML object>"
      ]
     },
     "metadata": {},
     "output_type": "display_data"
    },
    {
     "data": {
      "text/html": [
       "<span style=\"color:blue\"> |-num_layers: 17</span>"
      ],
      "text/plain": [
       "<IPython.core.display.HTML object>"
      ]
     },
     "metadata": {},
     "output_type": "display_data"
    },
    {
     "data": {
      "text/html": [
       "<span style=\"color:cyan\"> |-units_0: 416</span>"
      ],
      "text/plain": [
       "<IPython.core.display.HTML object>"
      ]
     },
     "metadata": {},
     "output_type": "display_data"
    },
    {
     "data": {
      "text/html": [
       "<span style=\"color:blue\"> |-units_1: 288</span>"
      ],
      "text/plain": [
       "<IPython.core.display.HTML object>"
      ]
     },
     "metadata": {},
     "output_type": "display_data"
    },
    {
     "data": {
      "text/html": [
       "<span style=\"color:cyan\"> |-units_10: 320</span>"
      ],
      "text/plain": [
       "<IPython.core.display.HTML object>"
      ]
     },
     "metadata": {},
     "output_type": "display_data"
    },
    {
     "data": {
      "text/html": [
       "<span style=\"color:blue\"> |-units_11: 32</span>"
      ],
      "text/plain": [
       "<IPython.core.display.HTML object>"
      ]
     },
     "metadata": {},
     "output_type": "display_data"
    },
    {
     "data": {
      "text/html": [
       "<span style=\"color:cyan\"> |-units_12: 32</span>"
      ],
      "text/plain": [
       "<IPython.core.display.HTML object>"
      ]
     },
     "metadata": {},
     "output_type": "display_data"
    },
    {
     "data": {
      "text/html": [
       "<span style=\"color:blue\"> |-units_13: 32</span>"
      ],
      "text/plain": [
       "<IPython.core.display.HTML object>"
      ]
     },
     "metadata": {},
     "output_type": "display_data"
    },
    {
     "data": {
      "text/html": [
       "<span style=\"color:cyan\"> |-units_14: 32</span>"
      ],
      "text/plain": [
       "<IPython.core.display.HTML object>"
      ]
     },
     "metadata": {},
     "output_type": "display_data"
    },
    {
     "data": {
      "text/html": [
       "<span style=\"color:blue\"> |-units_15: 32</span>"
      ],
      "text/plain": [
       "<IPython.core.display.HTML object>"
      ]
     },
     "metadata": {},
     "output_type": "display_data"
    },
    {
     "data": {
      "text/html": [
       "<span style=\"color:cyan\"> |-units_16: 32</span>"
      ],
      "text/plain": [
       "<IPython.core.display.HTML object>"
      ]
     },
     "metadata": {},
     "output_type": "display_data"
    },
    {
     "data": {
      "text/html": [
       "<span style=\"color:blue\"> |-units_2: 64</span>"
      ],
      "text/plain": [
       "<IPython.core.display.HTML object>"
      ]
     },
     "metadata": {},
     "output_type": "display_data"
    },
    {
     "data": {
      "text/html": [
       "<span style=\"color:cyan\"> |-units_3: 160</span>"
      ],
      "text/plain": [
       "<IPython.core.display.HTML object>"
      ]
     },
     "metadata": {},
     "output_type": "display_data"
    },
    {
     "data": {
      "text/html": [
       "<span style=\"color:blue\"> |-units_4: 448</span>"
      ],
      "text/plain": [
       "<IPython.core.display.HTML object>"
      ]
     },
     "metadata": {},
     "output_type": "display_data"
    },
    {
     "data": {
      "text/html": [
       "<span style=\"color:cyan\"> |-units_5: 256</span>"
      ],
      "text/plain": [
       "<IPython.core.display.HTML object>"
      ]
     },
     "metadata": {},
     "output_type": "display_data"
    },
    {
     "data": {
      "text/html": [
       "<span style=\"color:blue\"> |-units_6: 256</span>"
      ],
      "text/plain": [
       "<IPython.core.display.HTML object>"
      ]
     },
     "metadata": {},
     "output_type": "display_data"
    },
    {
     "data": {
      "text/html": [
       "<span style=\"color:cyan\"> |-units_7: 512</span>"
      ],
      "text/plain": [
       "<IPython.core.display.HTML object>"
      ]
     },
     "metadata": {},
     "output_type": "display_data"
    },
    {
     "data": {
      "text/html": [
       "<span style=\"color:blue\"> |-units_8: 480</span>"
      ],
      "text/plain": [
       "<IPython.core.display.HTML object>"
      ]
     },
     "metadata": {},
     "output_type": "display_data"
    },
    {
     "data": {
      "text/html": [
       "<span style=\"color:cyan\"> |-units_9: 480</span>"
      ],
      "text/plain": [
       "<IPython.core.display.HTML object>"
      ]
     },
     "metadata": {},
     "output_type": "display_data"
    },
    {
     "data": {
      "text/html": [
       "<span style=\"color:#4527A0\"><h1 style=\"font-size:18px\">Trial summary</h1></span>"
      ],
      "text/plain": [
       "<IPython.core.display.HTML object>"
      ]
     },
     "metadata": {},
     "output_type": "display_data"
    },
    {
     "data": {
      "text/html": [
       "<span style=\"color:cyan\"> |-Trial ID: dfa8aff9f14f59c10de93c35a1061f43</span>"
      ],
      "text/plain": [
       "<IPython.core.display.HTML object>"
      ]
     },
     "metadata": {},
     "output_type": "display_data"
    },
    {
     "data": {
      "text/html": [
       "<span style=\"color:cyan\"> |-Score: nan</span>"
      ],
      "text/plain": [
       "<IPython.core.display.HTML object>"
      ]
     },
     "metadata": {},
     "output_type": "display_data"
    },
    {
     "data": {
      "text/html": [
       "<span style=\"color:cyan\"> |-Best step: None</span>"
      ],
      "text/plain": [
       "<IPython.core.display.HTML object>"
      ]
     },
     "metadata": {},
     "output_type": "display_data"
    },
    {
     "data": {
      "text/html": [
       "<span style=\"color:#7E57C2\"><h2 style=\"font-size:16px\">Hyperparameters:</h2></span>"
      ],
      "text/plain": [
       "<IPython.core.display.HTML object>"
      ]
     },
     "metadata": {},
     "output_type": "display_data"
    },
    {
     "data": {
      "text/html": [
       "<span style=\"color:cyan\"> |-learning_rate: 0.01</span>"
      ],
      "text/plain": [
       "<IPython.core.display.HTML object>"
      ]
     },
     "metadata": {},
     "output_type": "display_data"
    },
    {
     "data": {
      "text/html": [
       "<span style=\"color:blue\"> |-num_layers: 12</span>"
      ],
      "text/plain": [
       "<IPython.core.display.HTML object>"
      ]
     },
     "metadata": {},
     "output_type": "display_data"
    },
    {
     "data": {
      "text/html": [
       "<span style=\"color:cyan\"> |-units_0: 384</span>"
      ],
      "text/plain": [
       "<IPython.core.display.HTML object>"
      ]
     },
     "metadata": {},
     "output_type": "display_data"
    },
    {
     "data": {
      "text/html": [
       "<span style=\"color:blue\"> |-units_1: 128</span>"
      ],
      "text/plain": [
       "<IPython.core.display.HTML object>"
      ]
     },
     "metadata": {},
     "output_type": "display_data"
    },
    {
     "data": {
      "text/html": [
       "<span style=\"color:cyan\"> |-units_10: 416</span>"
      ],
      "text/plain": [
       "<IPython.core.display.HTML object>"
      ]
     },
     "metadata": {},
     "output_type": "display_data"
    },
    {
     "data": {
      "text/html": [
       "<span style=\"color:blue\"> |-units_11: 512</span>"
      ],
      "text/plain": [
       "<IPython.core.display.HTML object>"
      ]
     },
     "metadata": {},
     "output_type": "display_data"
    },
    {
     "data": {
      "text/html": [
       "<span style=\"color:cyan\"> |-units_12: 64</span>"
      ],
      "text/plain": [
       "<IPython.core.display.HTML object>"
      ]
     },
     "metadata": {},
     "output_type": "display_data"
    },
    {
     "data": {
      "text/html": [
       "<span style=\"color:blue\"> |-units_13: 384</span>"
      ],
      "text/plain": [
       "<IPython.core.display.HTML object>"
      ]
     },
     "metadata": {},
     "output_type": "display_data"
    },
    {
     "data": {
      "text/html": [
       "<span style=\"color:cyan\"> |-units_14: 416</span>"
      ],
      "text/plain": [
       "<IPython.core.display.HTML object>"
      ]
     },
     "metadata": {},
     "output_type": "display_data"
    },
    {
     "data": {
      "text/html": [
       "<span style=\"color:blue\"> |-units_15: 224</span>"
      ],
      "text/plain": [
       "<IPython.core.display.HTML object>"
      ]
     },
     "metadata": {},
     "output_type": "display_data"
    },
    {
     "data": {
      "text/html": [
       "<span style=\"color:cyan\"> |-units_16: 64</span>"
      ],
      "text/plain": [
       "<IPython.core.display.HTML object>"
      ]
     },
     "metadata": {},
     "output_type": "display_data"
    },
    {
     "data": {
      "text/html": [
       "<span style=\"color:blue\"> |-units_2: 64</span>"
      ],
      "text/plain": [
       "<IPython.core.display.HTML object>"
      ]
     },
     "metadata": {},
     "output_type": "display_data"
    },
    {
     "data": {
      "text/html": [
       "<span style=\"color:cyan\"> |-units_3: 512</span>"
      ],
      "text/plain": [
       "<IPython.core.display.HTML object>"
      ]
     },
     "metadata": {},
     "output_type": "display_data"
    },
    {
     "data": {
      "text/html": [
       "<span style=\"color:blue\"> |-units_4: 32</span>"
      ],
      "text/plain": [
       "<IPython.core.display.HTML object>"
      ]
     },
     "metadata": {},
     "output_type": "display_data"
    },
    {
     "data": {
      "text/html": [
       "<span style=\"color:cyan\"> |-units_5: 64</span>"
      ],
      "text/plain": [
       "<IPython.core.display.HTML object>"
      ]
     },
     "metadata": {},
     "output_type": "display_data"
    },
    {
     "data": {
      "text/html": [
       "<span style=\"color:blue\"> |-units_6: 448</span>"
      ],
      "text/plain": [
       "<IPython.core.display.HTML object>"
      ]
     },
     "metadata": {},
     "output_type": "display_data"
    },
    {
     "data": {
      "text/html": [
       "<span style=\"color:cyan\"> |-units_7: 320</span>"
      ],
      "text/plain": [
       "<IPython.core.display.HTML object>"
      ]
     },
     "metadata": {},
     "output_type": "display_data"
    },
    {
     "data": {
      "text/html": [
       "<span style=\"color:blue\"> |-units_8: 224</span>"
      ],
      "text/plain": [
       "<IPython.core.display.HTML object>"
      ]
     },
     "metadata": {},
     "output_type": "display_data"
    },
    {
     "data": {
      "text/html": [
       "<span style=\"color:cyan\"> |-units_9: 32</span>"
      ],
      "text/plain": [
       "<IPython.core.display.HTML object>"
      ]
     },
     "metadata": {},
     "output_type": "display_data"
    },
    {
     "data": {
      "text/html": [
       "<span style=\"color:#4527A0\"><h1 style=\"font-size:18px\">Trial summary</h1></span>"
      ],
      "text/plain": [
       "<IPython.core.display.HTML object>"
      ]
     },
     "metadata": {},
     "output_type": "display_data"
    },
    {
     "data": {
      "text/html": [
       "<span style=\"color:cyan\"> |-Trial ID: 3e22f4e2b5699a5d5faa04bb08106e27</span>"
      ],
      "text/plain": [
       "<IPython.core.display.HTML object>"
      ]
     },
     "metadata": {},
     "output_type": "display_data"
    },
    {
     "data": {
      "text/html": [
       "<span style=\"color:cyan\"> |-Score: nan</span>"
      ],
      "text/plain": [
       "<IPython.core.display.HTML object>"
      ]
     },
     "metadata": {},
     "output_type": "display_data"
    },
    {
     "data": {
      "text/html": [
       "<span style=\"color:cyan\"> |-Best step: None</span>"
      ],
      "text/plain": [
       "<IPython.core.display.HTML object>"
      ]
     },
     "metadata": {},
     "output_type": "display_data"
    },
    {
     "data": {
      "text/html": [
       "<span style=\"color:#7E57C2\"><h2 style=\"font-size:16px\">Hyperparameters:</h2></span>"
      ],
      "text/plain": [
       "<IPython.core.display.HTML object>"
      ]
     },
     "metadata": {},
     "output_type": "display_data"
    },
    {
     "data": {
      "text/html": [
       "<span style=\"color:cyan\"> |-learning_rate: 0.001</span>"
      ],
      "text/plain": [
       "<IPython.core.display.HTML object>"
      ]
     },
     "metadata": {},
     "output_type": "display_data"
    },
    {
     "data": {
      "text/html": [
       "<span style=\"color:blue\"> |-num_layers: 9</span>"
      ],
      "text/plain": [
       "<IPython.core.display.HTML object>"
      ]
     },
     "metadata": {},
     "output_type": "display_data"
    },
    {
     "data": {
      "text/html": [
       "<span style=\"color:cyan\"> |-units_0: 480</span>"
      ],
      "text/plain": [
       "<IPython.core.display.HTML object>"
      ]
     },
     "metadata": {},
     "output_type": "display_data"
    },
    {
     "data": {
      "text/html": [
       "<span style=\"color:blue\"> |-units_1: 128</span>"
      ],
      "text/plain": [
       "<IPython.core.display.HTML object>"
      ]
     },
     "metadata": {},
     "output_type": "display_data"
    },
    {
     "data": {
      "text/html": [
       "<span style=\"color:cyan\"> |-units_10: 64</span>"
      ],
      "text/plain": [
       "<IPython.core.display.HTML object>"
      ]
     },
     "metadata": {},
     "output_type": "display_data"
    },
    {
     "data": {
      "text/html": [
       "<span style=\"color:blue\"> |-units_11: 480</span>"
      ],
      "text/plain": [
       "<IPython.core.display.HTML object>"
      ]
     },
     "metadata": {},
     "output_type": "display_data"
    },
    {
     "data": {
      "text/html": [
       "<span style=\"color:cyan\"> |-units_12: 384</span>"
      ],
      "text/plain": [
       "<IPython.core.display.HTML object>"
      ]
     },
     "metadata": {},
     "output_type": "display_data"
    },
    {
     "data": {
      "text/html": [
       "<span style=\"color:blue\"> |-units_13: 384</span>"
      ],
      "text/plain": [
       "<IPython.core.display.HTML object>"
      ]
     },
     "metadata": {},
     "output_type": "display_data"
    },
    {
     "data": {
      "text/html": [
       "<span style=\"color:cyan\"> |-units_14: 320</span>"
      ],
      "text/plain": [
       "<IPython.core.display.HTML object>"
      ]
     },
     "metadata": {},
     "output_type": "display_data"
    },
    {
     "data": {
      "text/html": [
       "<span style=\"color:blue\"> |-units_15: 256</span>"
      ],
      "text/plain": [
       "<IPython.core.display.HTML object>"
      ]
     },
     "metadata": {},
     "output_type": "display_data"
    },
    {
     "data": {
      "text/html": [
       "<span style=\"color:cyan\"> |-units_16: 288</span>"
      ],
      "text/plain": [
       "<IPython.core.display.HTML object>"
      ]
     },
     "metadata": {},
     "output_type": "display_data"
    },
    {
     "data": {
      "text/html": [
       "<span style=\"color:blue\"> |-units_2: 128</span>"
      ],
      "text/plain": [
       "<IPython.core.display.HTML object>"
      ]
     },
     "metadata": {},
     "output_type": "display_data"
    },
    {
     "data": {
      "text/html": [
       "<span style=\"color:cyan\"> |-units_3: 64</span>"
      ],
      "text/plain": [
       "<IPython.core.display.HTML object>"
      ]
     },
     "metadata": {},
     "output_type": "display_data"
    },
    {
     "data": {
      "text/html": [
       "<span style=\"color:blue\"> |-units_4: 320</span>"
      ],
      "text/plain": [
       "<IPython.core.display.HTML object>"
      ]
     },
     "metadata": {},
     "output_type": "display_data"
    },
    {
     "data": {
      "text/html": [
       "<span style=\"color:cyan\"> |-units_5: 480</span>"
      ],
      "text/plain": [
       "<IPython.core.display.HTML object>"
      ]
     },
     "metadata": {},
     "output_type": "display_data"
    },
    {
     "data": {
      "text/html": [
       "<span style=\"color:blue\"> |-units_6: 192</span>"
      ],
      "text/plain": [
       "<IPython.core.display.HTML object>"
      ]
     },
     "metadata": {},
     "output_type": "display_data"
    },
    {
     "data": {
      "text/html": [
       "<span style=\"color:cyan\"> |-units_7: 352</span>"
      ],
      "text/plain": [
       "<IPython.core.display.HTML object>"
      ]
     },
     "metadata": {},
     "output_type": "display_data"
    },
    {
     "data": {
      "text/html": [
       "<span style=\"color:blue\"> |-units_8: 64</span>"
      ],
      "text/plain": [
       "<IPython.core.display.HTML object>"
      ]
     },
     "metadata": {},
     "output_type": "display_data"
    },
    {
     "data": {
      "text/html": [
       "<span style=\"color:cyan\"> |-units_9: 288</span>"
      ],
      "text/plain": [
       "<IPython.core.display.HTML object>"
      ]
     },
     "metadata": {},
     "output_type": "display_data"
    },
    {
     "data": {
      "text/html": [
       "<span style=\"color:#4527A0\"><h1 style=\"font-size:18px\">Trial summary</h1></span>"
      ],
      "text/plain": [
       "<IPython.core.display.HTML object>"
      ]
     },
     "metadata": {},
     "output_type": "display_data"
    },
    {
     "data": {
      "text/html": [
       "<span style=\"color:cyan\"> |-Trial ID: d872a3e1ab1abad472917568bae97f48</span>"
      ],
      "text/plain": [
       "<IPython.core.display.HTML object>"
      ]
     },
     "metadata": {},
     "output_type": "display_data"
    },
    {
     "data": {
      "text/html": [
       "<span style=\"color:cyan\"> |-Score: nan</span>"
      ],
      "text/plain": [
       "<IPython.core.display.HTML object>"
      ]
     },
     "metadata": {},
     "output_type": "display_data"
    },
    {
     "data": {
      "text/html": [
       "<span style=\"color:cyan\"> |-Best step: None</span>"
      ],
      "text/plain": [
       "<IPython.core.display.HTML object>"
      ]
     },
     "metadata": {},
     "output_type": "display_data"
    },
    {
     "data": {
      "text/html": [
       "<span style=\"color:#7E57C2\"><h2 style=\"font-size:16px\">Hyperparameters:</h2></span>"
      ],
      "text/plain": [
       "<IPython.core.display.HTML object>"
      ]
     },
     "metadata": {},
     "output_type": "display_data"
    },
    {
     "data": {
      "text/html": [
       "<span style=\"color:cyan\"> |-learning_rate: 0.001</span>"
      ],
      "text/plain": [
       "<IPython.core.display.HTML object>"
      ]
     },
     "metadata": {},
     "output_type": "display_data"
    },
    {
     "data": {
      "text/html": [
       "<span style=\"color:blue\"> |-num_layers: 17</span>"
      ],
      "text/plain": [
       "<IPython.core.display.HTML object>"
      ]
     },
     "metadata": {},
     "output_type": "display_data"
    },
    {
     "data": {
      "text/html": [
       "<span style=\"color:cyan\"> |-units_0: 352</span>"
      ],
      "text/plain": [
       "<IPython.core.display.HTML object>"
      ]
     },
     "metadata": {},
     "output_type": "display_data"
    },
    {
     "data": {
      "text/html": [
       "<span style=\"color:blue\"> |-units_1: 128</span>"
      ],
      "text/plain": [
       "<IPython.core.display.HTML object>"
      ]
     },
     "metadata": {},
     "output_type": "display_data"
    },
    {
     "data": {
      "text/html": [
       "<span style=\"color:cyan\"> |-units_10: 384</span>"
      ],
      "text/plain": [
       "<IPython.core.display.HTML object>"
      ]
     },
     "metadata": {},
     "output_type": "display_data"
    },
    {
     "data": {
      "text/html": [
       "<span style=\"color:blue\"> |-units_11: 384</span>"
      ],
      "text/plain": [
       "<IPython.core.display.HTML object>"
      ]
     },
     "metadata": {},
     "output_type": "display_data"
    },
    {
     "data": {
      "text/html": [
       "<span style=\"color:cyan\"> |-units_12: 64</span>"
      ],
      "text/plain": [
       "<IPython.core.display.HTML object>"
      ]
     },
     "metadata": {},
     "output_type": "display_data"
    },
    {
     "data": {
      "text/html": [
       "<span style=\"color:blue\"> |-units_13: 416</span>"
      ],
      "text/plain": [
       "<IPython.core.display.HTML object>"
      ]
     },
     "metadata": {},
     "output_type": "display_data"
    },
    {
     "data": {
      "text/html": [
       "<span style=\"color:cyan\"> |-units_14: 64</span>"
      ],
      "text/plain": [
       "<IPython.core.display.HTML object>"
      ]
     },
     "metadata": {},
     "output_type": "display_data"
    },
    {
     "data": {
      "text/html": [
       "<span style=\"color:blue\"> |-units_15: 64</span>"
      ],
      "text/plain": [
       "<IPython.core.display.HTML object>"
      ]
     },
     "metadata": {},
     "output_type": "display_data"
    },
    {
     "data": {
      "text/html": [
       "<span style=\"color:cyan\"> |-units_16: 224</span>"
      ],
      "text/plain": [
       "<IPython.core.display.HTML object>"
      ]
     },
     "metadata": {},
     "output_type": "display_data"
    },
    {
     "data": {
      "text/html": [
       "<span style=\"color:blue\"> |-units_2: 416</span>"
      ],
      "text/plain": [
       "<IPython.core.display.HTML object>"
      ]
     },
     "metadata": {},
     "output_type": "display_data"
    },
    {
     "data": {
      "text/html": [
       "<span style=\"color:cyan\"> |-units_3: 256</span>"
      ],
      "text/plain": [
       "<IPython.core.display.HTML object>"
      ]
     },
     "metadata": {},
     "output_type": "display_data"
    },
    {
     "data": {
      "text/html": [
       "<span style=\"color:blue\"> |-units_4: 352</span>"
      ],
      "text/plain": [
       "<IPython.core.display.HTML object>"
      ]
     },
     "metadata": {},
     "output_type": "display_data"
    },
    {
     "data": {
      "text/html": [
       "<span style=\"color:cyan\"> |-units_5: 64</span>"
      ],
      "text/plain": [
       "<IPython.core.display.HTML object>"
      ]
     },
     "metadata": {},
     "output_type": "display_data"
    },
    {
     "data": {
      "text/html": [
       "<span style=\"color:blue\"> |-units_6: 224</span>"
      ],
      "text/plain": [
       "<IPython.core.display.HTML object>"
      ]
     },
     "metadata": {},
     "output_type": "display_data"
    },
    {
     "data": {
      "text/html": [
       "<span style=\"color:cyan\"> |-units_7: 288</span>"
      ],
      "text/plain": [
       "<IPython.core.display.HTML object>"
      ]
     },
     "metadata": {},
     "output_type": "display_data"
    },
    {
     "data": {
      "text/html": [
       "<span style=\"color:blue\"> |-units_8: 224</span>"
      ],
      "text/plain": [
       "<IPython.core.display.HTML object>"
      ]
     },
     "metadata": {},
     "output_type": "display_data"
    },
    {
     "data": {
      "text/html": [
       "<span style=\"color:cyan\"> |-units_9: 224</span>"
      ],
      "text/plain": [
       "<IPython.core.display.HTML object>"
      ]
     },
     "metadata": {},
     "output_type": "display_data"
    }
   ],
   "source": [
    "tuner.results_summary()"
   ]
  },
  {
   "cell_type": "code",
   "execution_count": 71,
   "metadata": {
    "scrolled": true
   },
   "outputs": [
    {
     "name": "stdout",
     "output_type": "stream",
     "text": [
      "Train on 765 samples\n",
      "Epoch 1/7\n",
      "765/765 [==============================] - ETA: 21s - loss: 103.0716 - mean_absolute_error: 103.07 - ETA: 3s - loss: 99.9834 - mean_absolute_error: 99.9834   - ETA: 1s - loss: 86.9621 - mean_absolute_error: 86.962 - ETA: 0s - loss: 83.4764 - mean_absolute_error: 83.476 - ETA: 0s - loss: 79.4234 - mean_absolute_error: 79.423 - ETA: 0s - loss: nan - mean_absolute_error: nan        - 1s 2ms/sample - loss: nan - mean_absolute_error: nan\n",
      "Epoch 2/7\n",
      "765/765 [==============================] - ETA: 0s - loss: nan - mean_absolute_error: na - ETA: 0s - loss: nan - mean_absolute_error: na - ETA: 0s - loss: nan - mean_absolute_error: na - ETA: 0s - loss: nan - mean_absolute_error: na - 0s 267us/sample - loss: nan - mean_absolute_error: nan\n",
      "Epoch 3/7\n",
      "765/765 [==============================] - ETA: 0s - loss: 75.7126 - mean_absolute_error: 75.712 - ETA: 0s - loss: 62.3950 - mean_absolute_error: 62.395 - ETA: 0s - loss: nan - mean_absolute_error: nan        - ETA: 0s - loss: nan - mean_absolute_error: na - 0s 299us/sample - loss: nan - mean_absolute_error: nan\n",
      "Epoch 4/7\n",
      "765/765 [==============================] - ETA: 0s - loss: 44.3105 - mean_absolute_error: 44.310 - ETA: 0s - loss: 65.0689 - mean_absolute_error: 65.068 - ETA: 0s - loss: 67.8235 - mean_absolute_error: 67.823 - ETA: 0s - loss: 67.2737 - mean_absolute_error: 67.273 - 0s 304us/sample - loss: nan - mean_absolute_error: nan\n",
      "Epoch 5/7\n",
      "765/765 [==============================] - ETA: 0s - loss: 63.9347 - mean_absolute_error: 63.934 - ETA: 0s - loss: 61.6206 - mean_absolute_error: 61.620 - ETA: 0s - loss: 66.7333 - mean_absolute_error: 66.733 - ETA: 0s - loss: nan - mean_absolute_error: nan        - 0s 275us/sample - loss: nan - mean_absolute_error: nan\n",
      "Epoch 6/7\n",
      "765/765 [==============================] - ETA: 0s - loss: 70.4857 - mean_absolute_error: 70.485 - ETA: 0s - loss: nan - mean_absolute_error: nan        - ETA: 0s - loss: nan - mean_absolute_error: na - ETA: 0s - loss: nan - mean_absolute_error: na - 0s 237us/sample - loss: nan - mean_absolute_error: nan\n",
      "Epoch 7/7\n",
      "765/765 [==============================] - ETA: 0s - loss: 43.3895 - mean_absolute_error: 43.389 - ETA: 0s - loss: nan - mean_absolute_error: nan        - ETA: 0s - loss: nan - mean_absolute_error: na - 0s 198us/sample - loss: nan - mean_absolute_error: nan\n",
      "Train on 765 samples\n",
      "Epoch 1/7\n",
      "765/765 [==============================] - ETA: 20s - loss: 119.7279 - mean_absolute_error: 119.72 - ETA: 1s - loss: nan - mean_absolute_error: nan           - ETA: 0s - loss: nan - mean_absolute_error: na - ETA: 0s - loss: nan - mean_absolute_error: na - 1s 1ms/sample - loss: nan - mean_absolute_error: nan\n",
      "Epoch 2/7\n",
      "765/765 [==============================] - ETA: 0s - loss: 95.6802 - mean_absolute_error: 95.680 - ETA: 0s - loss: nan - mean_absolute_error: nan        - ETA: 0s - loss: nan - mean_absolute_error: na - ETA: 0s - loss: nan - mean_absolute_error: na - 0s 236us/sample - loss: nan - mean_absolute_error: nan\n",
      "Epoch 3/7\n",
      "765/765 [==============================] - ETA: 0s - loss: 75.7366 - mean_absolute_error: 75.736 - ETA: 0s - loss: nan - mean_absolute_error: nan        - ETA: 0s - loss: nan - mean_absolute_error: na - 0s 224us/sample - loss: nan - mean_absolute_error: nan\n",
      "Epoch 4/7\n",
      "765/765 [==============================] - ETA: 0s - loss: 76.8296 - mean_absolute_error: 76.829 - ETA: 0s - loss: 66.4486 - mean_absolute_error: 66.448 - ETA: 0s - loss: 63.8313 - mean_absolute_error: 63.831 - ETA: 0s - loss: nan - mean_absolute_error: nan        - 0s 233us/sample - loss: nan - mean_absolute_error: nan\n",
      "Epoch 5/7\n",
      "765/765 [==============================] - ETA: 0s - loss: 68.9249 - mean_absolute_error: 68.924 - ETA: 0s - loss: 67.1904 - mean_absolute_error: 67.190 - ETA: 0s - loss: nan - mean_absolute_error: nan        - 0s 226us/sample - loss: nan - mean_absolute_error: nan\n",
      "Epoch 6/7\n",
      "765/765 [==============================] - ETA: 0s - loss: 68.7686 - mean_absolute_error: 68.768 - ETA: 0s - loss: 62.7156 - mean_absolute_error: 62.715 - ETA: 0s - loss: 62.6712 - mean_absolute_error: 62.671 - ETA: 0s - loss: 64.9994 - mean_absolute_error: 64.999 - ETA: 0s - loss: 64.3099 - mean_absolute_error: 64.309 - 0s 308us/sample - loss: nan - mean_absolute_error: nan\n",
      "Epoch 7/7\n",
      "765/765 [==============================] - ETA: 0s - loss: 72.0297 - mean_absolute_error: 72.029 - ETA: 0s - loss: 68.2948 - mean_absolute_error: 68.294 - ETA: 0s - loss: nan - mean_absolute_error: nan        - ETA: 0s - loss: nan - mean_absolute_error: na - ETA: 0s - loss: nan - mean_absolute_error: na - 0s 335us/sample - loss: nan - mean_absolute_error: nan\n",
      "Train on 765 samples\n",
      "Epoch 1/7\n",
      "765/765 [==============================] - ETA: 21s - loss: 99.7471 - mean_absolute_error: 99.74 - ETA: 1s - loss: 110.8829 - mean_absolute_error: 110.882 - ETA: 0s - loss: nan - mean_absolute_error: nan          - 1s 1ms/sample - loss: nan - mean_absolute_error: nan\n",
      "Epoch 2/7\n",
      "765/765 [==============================] - ETA: 0s - loss: 64.6298 - mean_absolute_error: 64.629 - ETA: 0s - loss: 70.7894 - mean_absolute_error: 70.789 - ETA: 0s - loss: 68.5553 - mean_absolute_error: 68.555 - ETA: 0s - loss: nan - mean_absolute_error: nan        - 0s 227us/sample - loss: nan - mean_absolute_error: nan\n",
      "Epoch 3/7\n",
      "765/765 [==============================] - ETA: 0s - loss: 63.5074 - mean_absolute_error: 63.507 - ETA: 0s - loss: 66.8405 - mean_absolute_error: 66.840 - ETA: 0s - loss: nan - mean_absolute_error: nan        - 0s 198us/sample - loss: nan - mean_absolute_error: nan\n",
      "Epoch 4/7\n",
      "765/765 [==============================] - ETA: 0s - loss: 84.2788 - mean_absolute_error: 84.278 - ETA: 0s - loss: 65.7918 - mean_absolute_error: 65.791 - ETA: 0s - loss: 65.4862 - mean_absolute_error: 65.486 - ETA: 0s - loss: nan - mean_absolute_error: nan        - 0s 256us/sample - loss: nan - mean_absolute_error: nan\n",
      "Epoch 5/7\n",
      "765/765 [==============================] - ETA: 0s - loss: 55.5074 - mean_absolute_error: 55.507 - ETA: 0s - loss: 64.5264 - mean_absolute_error: 64.526 - ETA: 0s - loss: 66.1432 - mean_absolute_error: 66.143 - ETA: 0s - loss: nan - mean_absolute_error: nan        - 0s 272us/sample - loss: nan - mean_absolute_error: nan\n",
      "Epoch 6/7\n",
      "765/765 [==============================] - ETA: 0s - loss: 69.8026 - mean_absolute_error: 69.802 - ETA: 0s - loss: 64.7871 - mean_absolute_error: 64.787 - ETA: 0s - loss: nan - mean_absolute_error: nan        - ETA: 0s - loss: nan - mean_absolute_error: na - ETA: 0s - loss: nan - mean_absolute_error: na - ETA: 0s - loss: nan - mean_absolute_error: na - 0s 463us/sample - loss: nan - mean_absolute_error: nan\n",
      "Epoch 7/7\n",
      "765/765 [==============================] - ETA: 0s - loss: 70.1941 - mean_absolute_error: 70.194 - ETA: 0s - loss: 67.0122 - mean_absolute_error: 67.012 - ETA: 0s - loss: 65.7525 - mean_absolute_error: 65.752 - ETA: 0s - loss: 66.1751 - mean_absolute_error: 66.175 - ETA: 0s - loss: 67.8954 - mean_absolute_error: 67.895 - ETA: 0s - loss: 67.5871 - mean_absolute_error: 67.587 - ETA: 0s - loss: 65.3783 - mean_absolute_error: 65.378 - 0s 497us/sample - loss: nan - mean_absolute_error: nan\n"
     ]
    },
    {
     "name": "stderr",
     "output_type": "stream",
     "text": [
      "d:\\anacondafiles\\envs\\deeplearning\\lib\\site-packages\\kerastuner\\engine\\metrics_tracking.py:92: RuntimeWarning: All-NaN axis encountered\n",
      "  return np.nanmin(values)\n"
     ]
    },
    {
     "data": {
      "text/html": [
       "<span style=\"color:#4527A0\"><h1 style=\"font-size:18px\">Trial complete</h1></span>"
      ],
      "text/plain": [
       "<IPython.core.display.HTML object>"
      ]
     },
     "metadata": {},
     "output_type": "display_data"
    },
    {
     "data": {
      "text/html": [
       "<span style=\"color:#4527A0\"><h1 style=\"font-size:18px\">Trial summary</h1></span>"
      ],
      "text/plain": [
       "<IPython.core.display.HTML object>"
      ]
     },
     "metadata": {},
     "output_type": "display_data"
    },
    {
     "data": {
      "text/html": [
       "<span style=\"color:cyan\"> |-Trial ID: fade4408ae80ac3906b350135fccacac</span>"
      ],
      "text/plain": [
       "<IPython.core.display.HTML object>"
      ]
     },
     "metadata": {},
     "output_type": "display_data"
    },
    {
     "data": {
      "text/html": [
       "<span style=\"color:cyan\"> |-Score: nan</span>"
      ],
      "text/plain": [
       "<IPython.core.display.HTML object>"
      ]
     },
     "metadata": {},
     "output_type": "display_data"
    },
    {
     "data": {
      "text/html": [
       "<span style=\"color:cyan\"> |-Best step: None</span>"
      ],
      "text/plain": [
       "<IPython.core.display.HTML object>"
      ]
     },
     "metadata": {},
     "output_type": "display_data"
    },
    {
     "data": {
      "text/html": [
       "<span style=\"color:#7E57C2\"><h2 style=\"font-size:16px\">Hyperparameters:</h2></span>"
      ],
      "text/plain": [
       "<IPython.core.display.HTML object>"
      ]
     },
     "metadata": {},
     "output_type": "display_data"
    },
    {
     "data": {
      "text/html": [
       "<span style=\"color:cyan\"> |-learning_rate: 0.001</span>"
      ],
      "text/plain": [
       "<IPython.core.display.HTML object>"
      ]
     },
     "metadata": {},
     "output_type": "display_data"
    },
    {
     "data": {
      "text/html": [
       "<span style=\"color:blue\"> |-num_layers: 13</span>"
      ],
      "text/plain": [
       "<IPython.core.display.HTML object>"
      ]
     },
     "metadata": {},
     "output_type": "display_data"
    },
    {
     "data": {
      "text/html": [
       "<span style=\"color:cyan\"> |-units_0: 480</span>"
      ],
      "text/plain": [
       "<IPython.core.display.HTML object>"
      ]
     },
     "metadata": {},
     "output_type": "display_data"
    },
    {
     "data": {
      "text/html": [
       "<span style=\"color:blue\"> |-units_1: 224</span>"
      ],
      "text/plain": [
       "<IPython.core.display.HTML object>"
      ]
     },
     "metadata": {},
     "output_type": "display_data"
    },
    {
     "data": {
      "text/html": [
       "<span style=\"color:cyan\"> |-units_10: 32</span>"
      ],
      "text/plain": [
       "<IPython.core.display.HTML object>"
      ]
     },
     "metadata": {},
     "output_type": "display_data"
    },
    {
     "data": {
      "text/html": [
       "<span style=\"color:blue\"> |-units_11: 32</span>"
      ],
      "text/plain": [
       "<IPython.core.display.HTML object>"
      ]
     },
     "metadata": {},
     "output_type": "display_data"
    },
    {
     "data": {
      "text/html": [
       "<span style=\"color:cyan\"> |-units_12: 32</span>"
      ],
      "text/plain": [
       "<IPython.core.display.HTML object>"
      ]
     },
     "metadata": {},
     "output_type": "display_data"
    },
    {
     "data": {
      "text/html": [
       "<span style=\"color:blue\"> |-units_2: 32</span>"
      ],
      "text/plain": [
       "<IPython.core.display.HTML object>"
      ]
     },
     "metadata": {},
     "output_type": "display_data"
    },
    {
     "data": {
      "text/html": [
       "<span style=\"color:cyan\"> |-units_3: 32</span>"
      ],
      "text/plain": [
       "<IPython.core.display.HTML object>"
      ]
     },
     "metadata": {},
     "output_type": "display_data"
    },
    {
     "data": {
      "text/html": [
       "<span style=\"color:blue\"> |-units_4: 32</span>"
      ],
      "text/plain": [
       "<IPython.core.display.HTML object>"
      ]
     },
     "metadata": {},
     "output_type": "display_data"
    },
    {
     "data": {
      "text/html": [
       "<span style=\"color:cyan\"> |-units_5: 32</span>"
      ],
      "text/plain": [
       "<IPython.core.display.HTML object>"
      ]
     },
     "metadata": {},
     "output_type": "display_data"
    },
    {
     "data": {
      "text/html": [
       "<span style=\"color:blue\"> |-units_6: 32</span>"
      ],
      "text/plain": [
       "<IPython.core.display.HTML object>"
      ]
     },
     "metadata": {},
     "output_type": "display_data"
    },
    {
     "data": {
      "text/html": [
       "<span style=\"color:cyan\"> |-units_7: 32</span>"
      ],
      "text/plain": [
       "<IPython.core.display.HTML object>"
      ]
     },
     "metadata": {},
     "output_type": "display_data"
    },
    {
     "data": {
      "text/html": [
       "<span style=\"color:blue\"> |-units_8: 32</span>"
      ],
      "text/plain": [
       "<IPython.core.display.HTML object>"
      ]
     },
     "metadata": {},
     "output_type": "display_data"
    },
    {
     "data": {
      "text/html": [
       "<span style=\"color:cyan\"> |-units_9: 32</span>"
      ],
      "text/plain": [
       "<IPython.core.display.HTML object>"
      ]
     },
     "metadata": {},
     "output_type": "display_data"
    },
    {
     "name": "stdout",
     "output_type": "stream",
     "text": [
      "Train on 765 samples\n",
      "Epoch 1/7\n",
      "765/765 [==============================] - ETA: 15s - loss: 112.3372 - mean_absolute_error: 112.33 - ETA: 0s - loss: nan - mean_absolute_error: nan           - ETA: 0s - loss: nan - mean_absolute_error: na - ETA: 0s - loss: nan - mean_absolute_error: na - 1s 1ms/sample - loss: nan - mean_absolute_error: nan\n",
      "Epoch 2/7\n",
      "765/765 [==============================] - ETA: 0s - loss: 71.6040 - mean_absolute_error: 71.604 - ETA: 0s - loss: 67.3798 - mean_absolute_error: 67.379 - ETA: 0s - loss: nan - mean_absolute_error: nan        - 0s 173us/sample - loss: nan - mean_absolute_error: nan\n",
      "Epoch 3/7\n",
      "765/765 [==============================] - ETA: 0s - loss: 65.3010 - mean_absolute_error: 65.301 - ETA: 0s - loss: nan - mean_absolute_error: nan        - ETA: 0s - loss: nan - mean_absolute_error: na - 0s 176us/sample - loss: nan - mean_absolute_error: nan\n",
      "Epoch 4/7\n",
      "765/765 [==============================] - ETA: 0s - loss: 43.7711 - mean_absolute_error: 43.771 - ETA: 0s - loss: 55.6130 - mean_absolute_error: 55.613 - ETA: 0s - loss: nan - mean_absolute_error: nan        - ETA: 0s - loss: nan - mean_absolute_error: na - ETA: 0s - loss: nan - mean_absolute_error: na - 0s 343us/sample - loss: nan - mean_absolute_error: nan\n",
      "Epoch 5/7\n",
      "765/765 [==============================] - ETA: 0s - loss: 63.6157 - mean_absolute_error: 63.615 - ETA: 0s - loss: 54.8955 - mean_absolute_error: 54.895 - ETA: 0s - loss: 56.6519 - mean_absolute_error: 56.651 - ETA: 0s - loss: nan - mean_absolute_error: nan        - ETA: 0s - loss: nan - mean_absolute_error: na - 0s 335us/sample - loss: nan - mean_absolute_error: nan\n",
      "Epoch 6/7\n",
      "765/765 [==============================] - ETA: 0s - loss: 42.6683 - mean_absolute_error: 42.668 - ETA: 0s - loss: nan - mean_absolute_error: nan        - ETA: 0s - loss: nan - mean_absolute_error: na - ETA: 0s - loss: nan - mean_absolute_error: na - 0s 253us/sample - loss: nan - mean_absolute_error: nan\n",
      "Epoch 7/7\n",
      "765/765 [==============================] - ETA: 0s - loss: 54.9209 - mean_absolute_error: 54.920 - ETA: 0s - loss: nan - mean_absolute_error: nan        - ETA: 0s - loss: nan - mean_absolute_error: na - ETA: 0s - loss: nan - mean_absolute_error: na - ETA: 0s - loss: nan - mean_absolute_error: na - ETA: 0s - loss: nan - mean_absolute_error: na - 0s 433us/sample - loss: nan - mean_absolute_error: nan\n",
      "Train on 765 samples\n",
      "Epoch 1/7\n",
      "765/765 [==============================] - ETA: 13s - loss: nan - mean_absolute_error: n - ETA: 0s - loss: nan - mean_absolute_error: nan - ETA: 0s - loss: nan - mean_absolute_error: na - 1s 942us/sample - loss: nan - mean_absolute_error: nan\n",
      "Epoch 2/7\n",
      "765/765 [==============================] - ETA: 0s - loss: 77.3306 - mean_absolute_error: 77.330 - ETA: 0s - loss: 65.1931 - mean_absolute_error: 65.193 - ETA: 0s - loss: 71.9799 - mean_absolute_error: 71.979 - 0s 171us/sample - loss: nan - mean_absolute_error: nan\n",
      "Epoch 3/7\n",
      "765/765 [==============================] - ETA: 0s - loss: nan - mean_absolute_error: na - ETA: 0s - loss: nan - mean_absolute_error: na - ETA: 0s - loss: nan - mean_absolute_error: na - 0s 188us/sample - loss: nan - mean_absolute_error: nan\n",
      "Epoch 4/7\n",
      "765/765 [==============================] - ETA: 0s - loss: 61.8448 - mean_absolute_error: 61.844 - ETA: 0s - loss: 69.5877 - mean_absolute_error: 69.587 - ETA: 0s - loss: 68.2307 - mean_absolute_error: 68.230 - ETA: 0s - loss: nan - mean_absolute_error: nan        - ETA: 0s - loss: nan - mean_absolute_error: na - 0s 330us/sample - loss: nan - mean_absolute_error: nan\n",
      "Epoch 5/7\n",
      "765/765 [==============================] - ETA: 0s - loss: 49.4712 - mean_absolute_error: 49.471 - ETA: 0s - loss: 55.5354 - mean_absolute_error: 55.535 - ETA: 0s - loss: 58.1446 - mean_absolute_error: 58.144 - ETA: 0s - loss: 55.8666 - mean_absolute_error: 55.866 - ETA: 0s - loss: nan - mean_absolute_error: nan        - ETA: 0s - loss: nan - mean_absolute_error: na - 0s 437us/sample - loss: nan - mean_absolute_error: nan\n",
      "Epoch 6/7\n",
      "765/765 [==============================] - ETA: 0s - loss: 49.9753 - mean_absolute_error: 49.975 - ETA: 0s - loss: 55.5316 - mean_absolute_error: 55.531 - ETA: 0s - loss: 54.3238 - mean_absolute_error: 54.323 - 0s 209us/sample - loss: nan - mean_absolute_error: nan\n",
      "Epoch 7/7\n",
      "765/765 [==============================] - ETA: 0s - loss: 40.4739 - mean_absolute_error: 40.473 - ETA: 0s - loss: nan - mean_absolute_error: nan        - ETA: 0s - loss: nan - mean_absolute_error: na - ETA: 0s - loss: nan - mean_absolute_error: na - 0s 262us/sample - loss: nan - mean_absolute_error: nan\n",
      "Train on 765 samples\n",
      "Epoch 1/7\n",
      "765/765 [==============================] - ETA: 14s - loss: 170.2104 - mean_absolute_error: 170.21 - ETA: 0s - loss: nan - mean_absolute_error: nan           - ETA: 0s - loss: nan - mean_absolute_error: na - 1s 1ms/sample - loss: nan - mean_absolute_error: nan\n",
      "Epoch 2/7\n",
      "765/765 [==============================] - ETA: 0s - loss: 66.6798 - mean_absolute_error: 66.679 - ETA: 0s - loss: 63.3655 - mean_absolute_error: 63.365 - ETA: 0s - loss: nan - mean_absolute_error: nan        - 0s 166us/sample - loss: nan - mean_absolute_error: nan\n",
      "Epoch 3/7\n",
      "765/765 [==============================] - ETA: 0s - loss: 60.4242 - mean_absolute_error: 60.424 - ETA: 0s - loss: 62.7875 - mean_absolute_error: 62.787 - ETA: 0s - loss: nan - mean_absolute_error: nan        - 0s 164us/sample - loss: nan - mean_absolute_error: nan\n",
      "Epoch 4/7\n",
      "765/765 [==============================] - ETA: 0s - loss: 57.6187 - mean_absolute_error: 57.618 - ETA: 0s - loss: 59.2969 - mean_absolute_error: 59.296 - ETA: 0s - loss: nan - mean_absolute_error: nan        - 0s 172us/sample - loss: nan - mean_absolute_error: nan\n",
      "Epoch 5/7\n",
      "765/765 [==============================] - ETA: 0s - loss: 59.4388 - mean_absolute_error: 59.438 - ETA: 0s - loss: 50.2417 - mean_absolute_error: 50.241 - ETA: 0s - loss: nan - mean_absolute_error: nan        - 0s 189us/sample - loss: nan - mean_absolute_error: nan\n",
      "Epoch 6/7\n",
      "765/765 [==============================] - ETA: 0s - loss: 60.1316 - mean_absolute_error: 60.131 - ETA: 0s - loss: 49.1846 - mean_absolute_error: 49.184 - ETA: 0s - loss: nan - mean_absolute_error: nan        - 0s 183us/sample - loss: nan - mean_absolute_error: nan\n",
      "Epoch 7/7\n",
      "765/765 [==============================] - ETA: 0s - loss: 49.8113 - mean_absolute_error: 49.811 - ETA: 0s - loss: nan - mean_absolute_error: nan        - ETA: 0s - loss: nan - mean_absolute_error: na - 0s 174us/sample - loss: nan - mean_absolute_error: nan\n"
     ]
    },
    {
     "data": {
      "text/html": [
       "<span style=\"color:#4527A0\"><h1 style=\"font-size:18px\">Trial complete</h1></span>"
      ],
      "text/plain": [
       "<IPython.core.display.HTML object>"
      ]
     },
     "metadata": {},
     "output_type": "display_data"
    },
    {
     "data": {
      "text/html": [
       "<span style=\"color:#4527A0\"><h1 style=\"font-size:18px\">Trial summary</h1></span>"
      ],
      "text/plain": [
       "<IPython.core.display.HTML object>"
      ]
     },
     "metadata": {},
     "output_type": "display_data"
    },
    {
     "data": {
      "text/html": [
       "<span style=\"color:cyan\"> |-Trial ID: 2a52b7d1a222cb6057f48304c9f7476b</span>"
      ],
      "text/plain": [
       "<IPython.core.display.HTML object>"
      ]
     },
     "metadata": {},
     "output_type": "display_data"
    },
    {
     "data": {
      "text/html": [
       "<span style=\"color:cyan\"> |-Score: nan</span>"
      ],
      "text/plain": [
       "<IPython.core.display.HTML object>"
      ]
     },
     "metadata": {},
     "output_type": "display_data"
    },
    {
     "data": {
      "text/html": [
       "<span style=\"color:cyan\"> |-Best step: None</span>"
      ],
      "text/plain": [
       "<IPython.core.display.HTML object>"
      ]
     },
     "metadata": {},
     "output_type": "display_data"
    },
    {
     "data": {
      "text/html": [
       "<span style=\"color:#7E57C2\"><h2 style=\"font-size:16px\">Hyperparameters:</h2></span>"
      ],
      "text/plain": [
       "<IPython.core.display.HTML object>"
      ]
     },
     "metadata": {},
     "output_type": "display_data"
    },
    {
     "data": {
      "text/html": [
       "<span style=\"color:cyan\"> |-learning_rate: 0.01</span>"
      ],
      "text/plain": [
       "<IPython.core.display.HTML object>"
      ]
     },
     "metadata": {},
     "output_type": "display_data"
    },
    {
     "data": {
      "text/html": [
       "<span style=\"color:blue\"> |-num_layers: 6</span>"
      ],
      "text/plain": [
       "<IPython.core.display.HTML object>"
      ]
     },
     "metadata": {},
     "output_type": "display_data"
    },
    {
     "data": {
      "text/html": [
       "<span style=\"color:cyan\"> |-units_0: 128</span>"
      ],
      "text/plain": [
       "<IPython.core.display.HTML object>"
      ]
     },
     "metadata": {},
     "output_type": "display_data"
    },
    {
     "data": {
      "text/html": [
       "<span style=\"color:blue\"> |-units_1: 128</span>"
      ],
      "text/plain": [
       "<IPython.core.display.HTML object>"
      ]
     },
     "metadata": {},
     "output_type": "display_data"
    },
    {
     "data": {
      "text/html": [
       "<span style=\"color:cyan\"> |-units_10: 320</span>"
      ],
      "text/plain": [
       "<IPython.core.display.HTML object>"
      ]
     },
     "metadata": {},
     "output_type": "display_data"
    },
    {
     "data": {
      "text/html": [
       "<span style=\"color:blue\"> |-units_11: 192</span>"
      ],
      "text/plain": [
       "<IPython.core.display.HTML object>"
      ]
     },
     "metadata": {},
     "output_type": "display_data"
    },
    {
     "data": {
      "text/html": [
       "<span style=\"color:cyan\"> |-units_12: 384</span>"
      ],
      "text/plain": [
       "<IPython.core.display.HTML object>"
      ]
     },
     "metadata": {},
     "output_type": "display_data"
    },
    {
     "data": {
      "text/html": [
       "<span style=\"color:blue\"> |-units_2: 224</span>"
      ],
      "text/plain": [
       "<IPython.core.display.HTML object>"
      ]
     },
     "metadata": {},
     "output_type": "display_data"
    },
    {
     "data": {
      "text/html": [
       "<span style=\"color:cyan\"> |-units_3: 160</span>"
      ],
      "text/plain": [
       "<IPython.core.display.HTML object>"
      ]
     },
     "metadata": {},
     "output_type": "display_data"
    },
    {
     "data": {
      "text/html": [
       "<span style=\"color:blue\"> |-units_4: 352</span>"
      ],
      "text/plain": [
       "<IPython.core.display.HTML object>"
      ]
     },
     "metadata": {},
     "output_type": "display_data"
    },
    {
     "data": {
      "text/html": [
       "<span style=\"color:cyan\"> |-units_5: 256</span>"
      ],
      "text/plain": [
       "<IPython.core.display.HTML object>"
      ]
     },
     "metadata": {},
     "output_type": "display_data"
    },
    {
     "data": {
      "text/html": [
       "<span style=\"color:blue\"> |-units_6: 416</span>"
      ],
      "text/plain": [
       "<IPython.core.display.HTML object>"
      ]
     },
     "metadata": {},
     "output_type": "display_data"
    },
    {
     "data": {
      "text/html": [
       "<span style=\"color:cyan\"> |-units_7: 384</span>"
      ],
      "text/plain": [
       "<IPython.core.display.HTML object>"
      ]
     },
     "metadata": {},
     "output_type": "display_data"
    },
    {
     "data": {
      "text/html": [
       "<span style=\"color:blue\"> |-units_8: 256</span>"
      ],
      "text/plain": [
       "<IPython.core.display.HTML object>"
      ]
     },
     "metadata": {},
     "output_type": "display_data"
    },
    {
     "data": {
      "text/html": [
       "<span style=\"color:cyan\"> |-units_9: 128</span>"
      ],
      "text/plain": [
       "<IPython.core.display.HTML object>"
      ]
     },
     "metadata": {},
     "output_type": "display_data"
    },
    {
     "name": "stdout",
     "output_type": "stream",
     "text": [
      "Train on 765 samples\n",
      "Epoch 1/7\n",
      "765/765 [==============================] - ETA: 20s - loss: 88.6679 - mean_absolute_error: 88.66 - ETA: 1s - loss: 432.6472 - mean_absolute_error: 432.647 - ETA: 0s - loss: nan - mean_absolute_error: nan          - 1s 1ms/sample - loss: nan - mean_absolute_error: nan\n",
      "Epoch 2/7\n",
      "765/765 [==============================] - ETA: 0s - loss: 54.7780 - mean_absolute_error: 54.778 - ETA: 0s - loss: 72.1932 - mean_absolute_error: 72.193 - ETA: 0s - loss: nan - mean_absolute_error: nan        - 0s 193us/sample - loss: nan - mean_absolute_error: nan\n",
      "Epoch 3/7\n",
      "765/765 [==============================] - ETA: 0s - loss: 74.6917 - mean_absolute_error: 74.691 - ETA: 0s - loss: 60.7344 - mean_absolute_error: 60.734 - ETA: 0s - loss: nan - mean_absolute_error: nan        - 0s 190us/sample - loss: nan - mean_absolute_error: nan\n",
      "Epoch 4/7\n",
      "765/765 [==============================] - ETA: 0s - loss: 52.1751 - mean_absolute_error: 52.175 - ETA: 0s - loss: 55.4984 - mean_absolute_error: 55.498 - ETA: 0s - loss: nan - mean_absolute_error: nan        - 0s 202us/sample - loss: nan - mean_absolute_error: nan\n",
      "Epoch 5/7\n",
      "765/765 [==============================] - ETA: 0s - loss: 61.7508 - mean_absolute_error: 61.750 - ETA: 0s - loss: 56.9096 - mean_absolute_error: 56.909 - ETA: 0s - loss: 56.7169 - mean_absolute_error: 56.716 - ETA: 0s - loss: nan - mean_absolute_error: nan        - 0s 263us/sample - loss: nan - mean_absolute_error: nan\n",
      "Epoch 6/7\n",
      "765/765 [==============================] - ETA: 0s - loss: nan - mean_absolute_error: na - ETA: 0s - loss: nan - mean_absolute_error: na - ETA: 0s - loss: nan - mean_absolute_error: na - 0s 215us/sample - loss: nan - mean_absolute_error: nan\n",
      "Epoch 7/7\n",
      "765/765 [==============================] - ETA: 0s - loss: 60.4235 - mean_absolute_error: 60.423 - ETA: 0s - loss: nan - mean_absolute_error: nan        - ETA: 0s - loss: nan - mean_absolute_error: na - 0s 185us/sample - loss: nan - mean_absolute_error: nan\n",
      "Train on 765 samples\n",
      "Epoch 1/7\n",
      "765/765 [==============================] - ETA: 16s - loss: 102.7860 - mean_absolute_error: 102.78 - ETA: 1s - loss: nan - mean_absolute_error: nan           - ETA: 0s - loss: nan - mean_absolute_error: na - ETA: 0s - loss: nan - mean_absolute_error: na - 1s 1ms/sample - loss: nan - mean_absolute_error: nan\n",
      "Epoch 2/7\n",
      "765/765 [==============================] - ETA: 0s - loss: 54.1318 - mean_absolute_error: 54.131 - ETA: 0s - loss: 73.9239 - mean_absolute_error: 73.923 - ETA: 0s - loss: 72.1857 - mean_absolute_error: 72.185 - 0s 193us/sample - loss: nan - mean_absolute_error: nan\n",
      "Epoch 3/7\n",
      "765/765 [==============================] - ETA: 0s - loss: 80.8246 - mean_absolute_error: 80.824 - ETA: 0s - loss: nan - mean_absolute_error: nan        - ETA: 0s - loss: nan - mean_absolute_error: na - 0s 205us/sample - loss: nan - mean_absolute_error: nan\n",
      "Epoch 4/7\n",
      "765/765 [==============================] - ETA: 0s - loss: 68.1573 - mean_absolute_error: 68.157 - ETA: 0s - loss: nan - mean_absolute_error: nan        - ETA: 0s - loss: nan - mean_absolute_error: na - 0s 216us/sample - loss: nan - mean_absolute_error: nan\n",
      "Epoch 5/7\n",
      "765/765 [==============================] - ETA: 0s - loss: 53.9472 - mean_absolute_error: 53.947 - ETA: 0s - loss: 51.9451 - mean_absolute_error: 51.945 - ETA: 0s - loss: nan - mean_absolute_error: nan        - ETA: 0s - loss: nan - mean_absolute_error: na - 0s 242us/sample - loss: nan - mean_absolute_error: nan\n",
      "Epoch 6/7\n",
      "765/765 [==============================] - ETA: 0s - loss: nan - mean_absolute_error: na - ETA: 0s - loss: nan - mean_absolute_error: na - ETA: 0s - loss: nan - mean_absolute_error: na - ETA: 0s - loss: nan - mean_absolute_error: na - ETA: 0s - loss: nan - mean_absolute_error: na - 0s 331us/sample - loss: nan - mean_absolute_error: nan\n",
      "Epoch 7/7\n",
      "765/765 [==============================] - ETA: 0s - loss: 33.2448 - mean_absolute_error: 33.244 - ETA: 0s - loss: 38.4567 - mean_absolute_error: 38.456 - ETA: 0s - loss: nan - mean_absolute_error: nan        - ETA: 0s - loss: nan - mean_absolute_error: na - 0s 279us/sample - loss: nan - mean_absolute_error: nan\n",
      "Train on 765 samples\n",
      "Epoch 1/7\n",
      "765/765 [==============================] - ETA: 19s - loss: 130.7930 - mean_absolute_error: 130.79 - ETA: 1s - loss: nan - mean_absolute_error: nan           - ETA: 0s - loss: nan - mean_absolute_error: na - 1s 1ms/sample - loss: nan - mean_absolute_error: nan\n",
      "Epoch 2/7\n",
      "765/765 [==============================] - ETA: 0s - loss: 62.0309 - mean_absolute_error: 62.030 - ETA: 0s - loss: 65.7989 - mean_absolute_error: 65.798 - ETA: 0s - loss: 65.5740 - mean_absolute_error: 65.574 - ETA: 0s - loss: nan - mean_absolute_error: nan        - 0s 270us/sample - loss: nan - mean_absolute_error: nan\n",
      "Epoch 3/7\n",
      "765/765 [==============================] - ETA: 0s - loss: 58.0447 - mean_absolute_error: 58.044 - ETA: 0s - loss: 57.0334 - mean_absolute_error: 57.033 - ETA: 0s - loss: 56.5359 - mean_absolute_error: 56.535 - ETA: 0s - loss: 56.4002 - mean_absolute_error: 56.400 - 0s 273us/sample - loss: nan - mean_absolute_error: nan\n",
      "Epoch 4/7\n",
      "765/765 [==============================] - ETA: 0s - loss: 59.9429 - mean_absolute_error: 59.942 - ETA: 0s - loss: 55.6176 - mean_absolute_error: 55.617 - ETA: 0s - loss: nan - mean_absolute_error: nan        - ETA: 0s - loss: nan - mean_absolute_error: na - 0s 277us/sample - loss: nan - mean_absolute_error: nan\n",
      "Epoch 5/7\n",
      "765/765 [==============================] - ETA: 0s - loss: 39.6104 - mean_absolute_error: 39.610 - ETA: 0s - loss: nan - mean_absolute_error: nan        - ETA: 0s - loss: nan - mean_absolute_error: na - 0s 201us/sample - loss: nan - mean_absolute_error: nan\n",
      "Epoch 6/7\n",
      "765/765 [==============================] - ETA: 0s - loss: 46.7752 - mean_absolute_error: 46.775 - ETA: 0s - loss: nan - mean_absolute_error: nan        - ETA: 0s - loss: nan - mean_absolute_error: na - 0s 198us/sample - loss: nan - mean_absolute_error: nan\n",
      "Epoch 7/7\n",
      "765/765 [==============================] - ETA: 0s - loss: 74.5905 - mean_absolute_error: 74.590 - ETA: 0s - loss: 83.3836 - mean_absolute_error: 83.383 - ETA: 0s - loss: 71.5715 - mean_absolute_error: 71.571 - ETA: 0s - loss: nan - mean_absolute_error: nan        - 0s 258us/sample - loss: nan - mean_absolute_error: nan\n"
     ]
    },
    {
     "data": {
      "text/html": [
       "<span style=\"color:#4527A0\"><h1 style=\"font-size:18px\">Trial complete</h1></span>"
      ],
      "text/plain": [
       "<IPython.core.display.HTML object>"
      ]
     },
     "metadata": {},
     "output_type": "display_data"
    },
    {
     "data": {
      "text/html": [
       "<span style=\"color:#4527A0\"><h1 style=\"font-size:18px\">Trial summary</h1></span>"
      ],
      "text/plain": [
       "<IPython.core.display.HTML object>"
      ]
     },
     "metadata": {},
     "output_type": "display_data"
    },
    {
     "data": {
      "text/html": [
       "<span style=\"color:cyan\"> |-Trial ID: 40a5dedb7399835f8f3e54e6372c85cb</span>"
      ],
      "text/plain": [
       "<IPython.core.display.HTML object>"
      ]
     },
     "metadata": {},
     "output_type": "display_data"
    },
    {
     "data": {
      "text/html": [
       "<span style=\"color:cyan\"> |-Score: nan</span>"
      ],
      "text/plain": [
       "<IPython.core.display.HTML object>"
      ]
     },
     "metadata": {},
     "output_type": "display_data"
    },
    {
     "data": {
      "text/html": [
       "<span style=\"color:cyan\"> |-Best step: None</span>"
      ],
      "text/plain": [
       "<IPython.core.display.HTML object>"
      ]
     },
     "metadata": {},
     "output_type": "display_data"
    },
    {
     "data": {
      "text/html": [
       "<span style=\"color:#7E57C2\"><h2 style=\"font-size:16px\">Hyperparameters:</h2></span>"
      ],
      "text/plain": [
       "<IPython.core.display.HTML object>"
      ]
     },
     "metadata": {},
     "output_type": "display_data"
    },
    {
     "data": {
      "text/html": [
       "<span style=\"color:cyan\"> |-learning_rate: 0.01</span>"
      ],
      "text/plain": [
       "<IPython.core.display.HTML object>"
      ]
     },
     "metadata": {},
     "output_type": "display_data"
    },
    {
     "data": {
      "text/html": [
       "<span style=\"color:blue\"> |-num_layers: 10</span>"
      ],
      "text/plain": [
       "<IPython.core.display.HTML object>"
      ]
     },
     "metadata": {},
     "output_type": "display_data"
    },
    {
     "data": {
      "text/html": [
       "<span style=\"color:cyan\"> |-units_0: 384</span>"
      ],
      "text/plain": [
       "<IPython.core.display.HTML object>"
      ]
     },
     "metadata": {},
     "output_type": "display_data"
    },
    {
     "data": {
      "text/html": [
       "<span style=\"color:blue\"> |-units_1: 192</span>"
      ],
      "text/plain": [
       "<IPython.core.display.HTML object>"
      ]
     },
     "metadata": {},
     "output_type": "display_data"
    },
    {
     "data": {
      "text/html": [
       "<span style=\"color:cyan\"> |-units_10: 192</span>"
      ],
      "text/plain": [
       "<IPython.core.display.HTML object>"
      ]
     },
     "metadata": {},
     "output_type": "display_data"
    },
    {
     "data": {
      "text/html": [
       "<span style=\"color:blue\"> |-units_11: 64</span>"
      ],
      "text/plain": [
       "<IPython.core.display.HTML object>"
      ]
     },
     "metadata": {},
     "output_type": "display_data"
    },
    {
     "data": {
      "text/html": [
       "<span style=\"color:cyan\"> |-units_12: 96</span>"
      ],
      "text/plain": [
       "<IPython.core.display.HTML object>"
      ]
     },
     "metadata": {},
     "output_type": "display_data"
    },
    {
     "data": {
      "text/html": [
       "<span style=\"color:blue\"> |-units_2: 288</span>"
      ],
      "text/plain": [
       "<IPython.core.display.HTML object>"
      ]
     },
     "metadata": {},
     "output_type": "display_data"
    },
    {
     "data": {
      "text/html": [
       "<span style=\"color:cyan\"> |-units_3: 256</span>"
      ],
      "text/plain": [
       "<IPython.core.display.HTML object>"
      ]
     },
     "metadata": {},
     "output_type": "display_data"
    },
    {
     "data": {
      "text/html": [
       "<span style=\"color:blue\"> |-units_4: 128</span>"
      ],
      "text/plain": [
       "<IPython.core.display.HTML object>"
      ]
     },
     "metadata": {},
     "output_type": "display_data"
    },
    {
     "data": {
      "text/html": [
       "<span style=\"color:cyan\"> |-units_5: 224</span>"
      ],
      "text/plain": [
       "<IPython.core.display.HTML object>"
      ]
     },
     "metadata": {},
     "output_type": "display_data"
    },
    {
     "data": {
      "text/html": [
       "<span style=\"color:blue\"> |-units_6: 384</span>"
      ],
      "text/plain": [
       "<IPython.core.display.HTML object>"
      ]
     },
     "metadata": {},
     "output_type": "display_data"
    },
    {
     "data": {
      "text/html": [
       "<span style=\"color:cyan\"> |-units_7: 288</span>"
      ],
      "text/plain": [
       "<IPython.core.display.HTML object>"
      ]
     },
     "metadata": {},
     "output_type": "display_data"
    },
    {
     "data": {
      "text/html": [
       "<span style=\"color:blue\"> |-units_8: 256</span>"
      ],
      "text/plain": [
       "<IPython.core.display.HTML object>"
      ]
     },
     "metadata": {},
     "output_type": "display_data"
    },
    {
     "data": {
      "text/html": [
       "<span style=\"color:cyan\"> |-units_9: 32</span>"
      ],
      "text/plain": [
       "<IPython.core.display.HTML object>"
      ]
     },
     "metadata": {},
     "output_type": "display_data"
    },
    {
     "name": "stdout",
     "output_type": "stream",
     "text": [
      "Train on 765 samples\n",
      "Epoch 1/7\n",
      "765/765 [==============================] - ETA: 12s - loss: 107.0630 - mean_absolute_error: 107.06 - ETA: 0s - loss: 81.3953 - mean_absolute_error: 81.3953   - ETA: 0s - loss: nan - mean_absolute_error: nan        - 1s 885us/sample - loss: nan - mean_absolute_error: nan\n",
      "Epoch 2/7\n",
      "765/765 [==============================] - ETA: 0s - loss: 69.5325 - mean_absolute_error: 69.532 - ETA: 0s - loss: 66.4776 - mean_absolute_error: 66.477 - ETA: 0s - loss: nan - mean_absolute_error: nan        - 0s 199us/sample - loss: nan - mean_absolute_error: nan\n",
      "Epoch 3/7\n",
      "765/765 [==============================] - ETA: 0s - loss: 75.8975 - mean_absolute_error: 75.897 - ETA: 0s - loss: nan - mean_absolute_error: nan        - ETA: 0s - loss: nan - mean_absolute_error: na - ETA: 0s - loss: nan - mean_absolute_error: na - 0s 241us/sample - loss: nan - mean_absolute_error: nan\n",
      "Epoch 4/7\n",
      "765/765 [==============================] - ETA: 0s - loss: 82.2518 - mean_absolute_error: 82.251 - ETA: 0s - loss: nan - mean_absolute_error: nan        - ETA: 0s - loss: nan - mean_absolute_error: na - 0s 164us/sample - loss: nan - mean_absolute_error: nan\n",
      "Epoch 5/7\n",
      "765/765 [==============================] - ETA: 0s - loss: 68.0957 - mean_absolute_error: 68.095 - ETA: 0s - loss: 64.4765 - mean_absolute_error: 64.476 - ETA: 0s - loss: nan - mean_absolute_error: nan        - 0s 173us/sample - loss: nan - mean_absolute_error: nan\n",
      "Epoch 6/7\n",
      "765/765 [==============================] - ETA: 0s - loss: 61.7383 - mean_absolute_error: 61.738 - ETA: 0s - loss: 70.5810 - mean_absolute_error: 70.581 - ETA: 0s - loss: nan - mean_absolute_error: nan        - 0s 171us/sample - loss: nan - mean_absolute_error: nan\n",
      "Epoch 7/7\n",
      "765/765 [==============================] - ETA: 0s - loss: 57.2129 - mean_absolute_error: 57.212 - ETA: 0s - loss: 61.7283 - mean_absolute_error: 61.728 - ETA: 0s - loss: nan - mean_absolute_error: nan        - 0s 173us/sample - loss: nan - mean_absolute_error: nan\n",
      "Train on 765 samples\n",
      "Epoch 1/7\n",
      "765/765 [==============================] - ETA: 12s - loss: 87.1053 - mean_absolute_error: 87.10 - ETA: 0s - loss: 71.8055 - mean_absolute_error: 71.8055 - ETA: 0s - loss: nan - mean_absolute_error: nan        - 1s 894us/sample - loss: nan - mean_absolute_error: nan\n",
      "Epoch 2/7\n",
      "765/765 [==============================] - ETA: 0s - loss: 63.8893 - mean_absolute_error: 63.889 - ETA: 0s - loss: 63.7657 - mean_absolute_error: 63.765 - ETA: 0s - loss: nan - mean_absolute_error: nan        - ETA: 0s - loss: nan - mean_absolute_error: na - 0s 244us/sample - loss: nan - mean_absolute_error: nan\n",
      "Epoch 3/7\n",
      "765/765 [==============================] - ETA: 0s - loss: 73.3355 - mean_absolute_error: 73.335 - ETA: 0s - loss: 66.8122 - mean_absolute_error: 66.812 - ETA: 0s - loss: nan - mean_absolute_error: nan        - 0s 167us/sample - loss: nan - mean_absolute_error: nan\n",
      "Epoch 4/7\n",
      "765/765 [==============================] - ETA: 0s - loss: 78.1378 - mean_absolute_error: 78.137 - ETA: 0s - loss: nan - mean_absolute_error: nan        - ETA: 0s - loss: nan - mean_absolute_error: na - 0s 215us/sample - loss: nan - mean_absolute_error: nan\n",
      "Epoch 5/7\n",
      "765/765 [==============================] - ETA: 0s - loss: 56.2453 - mean_absolute_error: 56.245 - ETA: 0s - loss: 66.3523 - mean_absolute_error: 66.352 - ETA: 0s - loss: 63.7149 - mean_absolute_error: 63.714 - ETA: 0s - loss: nan - mean_absolute_error: nan        - 0s 256us/sample - loss: nan - mean_absolute_error: nan\n",
      "Epoch 6/7\n",
      "765/765 [==============================] - ETA: 0s - loss: 76.2942 - mean_absolute_error: 76.294 - ETA: 0s - loss: 62.8002 - mean_absolute_error: 62.800 - ETA: 0s - loss: 64.0618 - mean_absolute_error: 64.061 - ETA: 0s - loss: nan - mean_absolute_error: nan        - 0s 241us/sample - loss: nan - mean_absolute_error: nan\n",
      "Epoch 7/7\n",
      "765/765 [==============================] - ETA: 0s - loss: 67.9069 - mean_absolute_error: 67.906 - ETA: 0s - loss: 67.9721 - mean_absolute_error: 67.972 - ETA: 0s - loss: 66.1189 - mean_absolute_error: 66.118 - 0s 185us/sample - loss: nan - mean_absolute_error: nan\n",
      "Train on 765 samples\n",
      "Epoch 1/7\n",
      "765/765 [==============================] - ETA: 14s - loss: 111.7896 - mean_absolute_error: 111.78 - ETA: 0s - loss: nan - mean_absolute_error: nan           - ETA: 0s - loss: nan - mean_absolute_error: na - 1s 973us/sample - loss: nan - mean_absolute_error: nan\n",
      "Epoch 2/7\n",
      "765/765 [==============================] - ETA: 0s - loss: 71.7041 - mean_absolute_error: 71.704 - ETA: 0s - loss: 67.6262 - mean_absolute_error: 67.626 - ETA: 0s - loss: nan - mean_absolute_error: nan        - 0s 167us/sample - loss: nan - mean_absolute_error: nan\n",
      "Epoch 3/7\n",
      "765/765 [==============================] - ETA: 0s - loss: 66.9832 - mean_absolute_error: 66.983 - ETA: 0s - loss: nan - mean_absolute_error: nan        - 0s 150us/sample - loss: nan - mean_absolute_error: nan\n",
      "Epoch 4/7\n",
      "765/765 [==============================] - ETA: 0s - loss: 61.7768 - mean_absolute_error: 61.776 - ETA: 0s - loss: 65.7321 - mean_absolute_error: 65.732 - ETA: 0s - loss: 65.8124 - mean_absolute_error: 65.812 - 0s 178us/sample - loss: nan - mean_absolute_error: nan\n",
      "Epoch 5/7\n",
      "765/765 [==============================] - ETA: 0s - loss: 57.5480 - mean_absolute_error: 57.548 - ETA: 0s - loss: 65.0196 - mean_absolute_error: 65.019 - ETA: 0s - loss: nan - mean_absolute_error: nan        - 0s 171us/sample - loss: nan - mean_absolute_error: nan\n",
      "Epoch 6/7\n",
      "765/765 [==============================] - ETA: 0s - loss: 57.6340 - mean_absolute_error: 57.634 - ETA: 0s - loss: 65.7458 - mean_absolute_error: 65.745 - ETA: 0s - loss: 65.9148 - mean_absolute_error: 65.914 - 0s 198us/sample - loss: nan - mean_absolute_error: nan\n",
      "Epoch 7/7\n",
      "765/765 [==============================] - ETA: 0s - loss: 73.3760 - mean_absolute_error: 73.376 - ETA: 0s - loss: nan - mean_absolute_error: nan        - ETA: 0s - loss: nan - mean_absolute_error: na - ETA: 0s - loss: nan - mean_absolute_error: na - 0s 257us/sample - loss: nan - mean_absolute_error: nan\n"
     ]
    },
    {
     "data": {
      "text/html": [
       "<span style=\"color:#4527A0\"><h1 style=\"font-size:18px\">Trial complete</h1></span>"
      ],
      "text/plain": [
       "<IPython.core.display.HTML object>"
      ]
     },
     "metadata": {},
     "output_type": "display_data"
    },
    {
     "data": {
      "text/html": [
       "<span style=\"color:#4527A0\"><h1 style=\"font-size:18px\">Trial summary</h1></span>"
      ],
      "text/plain": [
       "<IPython.core.display.HTML object>"
      ]
     },
     "metadata": {},
     "output_type": "display_data"
    },
    {
     "data": {
      "text/html": [
       "<span style=\"color:cyan\"> |-Trial ID: 2fe680872a65372aa4ded39233bb0b6e</span>"
      ],
      "text/plain": [
       "<IPython.core.display.HTML object>"
      ]
     },
     "metadata": {},
     "output_type": "display_data"
    },
    {
     "data": {
      "text/html": [
       "<span style=\"color:cyan\"> |-Score: nan</span>"
      ],
      "text/plain": [
       "<IPython.core.display.HTML object>"
      ]
     },
     "metadata": {},
     "output_type": "display_data"
    },
    {
     "data": {
      "text/html": [
       "<span style=\"color:cyan\"> |-Best step: None</span>"
      ],
      "text/plain": [
       "<IPython.core.display.HTML object>"
      ]
     },
     "metadata": {},
     "output_type": "display_data"
    },
    {
     "data": {
      "text/html": [
       "<span style=\"color:#7E57C2\"><h2 style=\"font-size:16px\">Hyperparameters:</h2></span>"
      ],
      "text/plain": [
       "<IPython.core.display.HTML object>"
      ]
     },
     "metadata": {},
     "output_type": "display_data"
    },
    {
     "data": {
      "text/html": [
       "<span style=\"color:cyan\"> |-learning_rate: 0.0001</span>"
      ],
      "text/plain": [
       "<IPython.core.display.HTML object>"
      ]
     },
     "metadata": {},
     "output_type": "display_data"
    },
    {
     "data": {
      "text/html": [
       "<span style=\"color:blue\"> |-num_layers: 4</span>"
      ],
      "text/plain": [
       "<IPython.core.display.HTML object>"
      ]
     },
     "metadata": {},
     "output_type": "display_data"
    },
    {
     "data": {
      "text/html": [
       "<span style=\"color:cyan\"> |-units_0: 288</span>"
      ],
      "text/plain": [
       "<IPython.core.display.HTML object>"
      ]
     },
     "metadata": {},
     "output_type": "display_data"
    },
    {
     "data": {
      "text/html": [
       "<span style=\"color:blue\"> |-units_1: 320</span>"
      ],
      "text/plain": [
       "<IPython.core.display.HTML object>"
      ]
     },
     "metadata": {},
     "output_type": "display_data"
    },
    {
     "data": {
      "text/html": [
       "<span style=\"color:cyan\"> |-units_10: 256</span>"
      ],
      "text/plain": [
       "<IPython.core.display.HTML object>"
      ]
     },
     "metadata": {},
     "output_type": "display_data"
    },
    {
     "data": {
      "text/html": [
       "<span style=\"color:blue\"> |-units_11: 64</span>"
      ],
      "text/plain": [
       "<IPython.core.display.HTML object>"
      ]
     },
     "metadata": {},
     "output_type": "display_data"
    },
    {
     "data": {
      "text/html": [
       "<span style=\"color:cyan\"> |-units_12: 256</span>"
      ],
      "text/plain": [
       "<IPython.core.display.HTML object>"
      ]
     },
     "metadata": {},
     "output_type": "display_data"
    },
    {
     "data": {
      "text/html": [
       "<span style=\"color:blue\"> |-units_2: 320</span>"
      ],
      "text/plain": [
       "<IPython.core.display.HTML object>"
      ]
     },
     "metadata": {},
     "output_type": "display_data"
    },
    {
     "data": {
      "text/html": [
       "<span style=\"color:cyan\"> |-units_3: 256</span>"
      ],
      "text/plain": [
       "<IPython.core.display.HTML object>"
      ]
     },
     "metadata": {},
     "output_type": "display_data"
    },
    {
     "data": {
      "text/html": [
       "<span style=\"color:blue\"> |-units_4: 352</span>"
      ],
      "text/plain": [
       "<IPython.core.display.HTML object>"
      ]
     },
     "metadata": {},
     "output_type": "display_data"
    },
    {
     "data": {
      "text/html": [
       "<span style=\"color:cyan\"> |-units_5: 192</span>"
      ],
      "text/plain": [
       "<IPython.core.display.HTML object>"
      ]
     },
     "metadata": {},
     "output_type": "display_data"
    },
    {
     "data": {
      "text/html": [
       "<span style=\"color:blue\"> |-units_6: 352</span>"
      ],
      "text/plain": [
       "<IPython.core.display.HTML object>"
      ]
     },
     "metadata": {},
     "output_type": "display_data"
    },
    {
     "data": {
      "text/html": [
       "<span style=\"color:cyan\"> |-units_7: 480</span>"
      ],
      "text/plain": [
       "<IPython.core.display.HTML object>"
      ]
     },
     "metadata": {},
     "output_type": "display_data"
    },
    {
     "data": {
      "text/html": [
       "<span style=\"color:blue\"> |-units_8: 288</span>"
      ],
      "text/plain": [
       "<IPython.core.display.HTML object>"
      ]
     },
     "metadata": {},
     "output_type": "display_data"
    },
    {
     "data": {
      "text/html": [
       "<span style=\"color:cyan\"> |-units_9: 320</span>"
      ],
      "text/plain": [
       "<IPython.core.display.HTML object>"
      ]
     },
     "metadata": {},
     "output_type": "display_data"
    },
    {
     "name": "stdout",
     "output_type": "stream",
     "text": [
      "Train on 765 samples\n",
      "Epoch 1/7\n",
      "765/765 [==============================] - ETA: 20s - loss: 93.9442 - mean_absolute_error: 93.94 - ETA: 1s - loss: 183.8867 - mean_absolute_error: 183.886 - ETA: 0s - loss: nan - mean_absolute_error: nan          - ETA: 0s - loss: nan - mean_absolute_error: na - 1s 1ms/sample - loss: nan - mean_absolute_error: nan\n",
      "Epoch 2/7\n",
      "765/765 [==============================] - ETA: 0s - loss: 65.1980 - mean_absolute_error: 65.198 - ETA: 0s - loss: nan - mean_absolute_error: nan        - ETA: 0s - loss: nan - mean_absolute_error: na - 0s 209us/sample - loss: nan - mean_absolute_error: nan\n",
      "Epoch 3/7\n",
      "765/765 [==============================] - ETA: 0s - loss: 62.1478 - mean_absolute_error: 62.147 - ETA: 0s - loss: 69.8938 - mean_absolute_error: 69.893 - ETA: 0s - loss: 63.8551 - mean_absolute_error: 63.855 - ETA: 0s - loss: nan - mean_absolute_error: nan        - 0s 253us/sample - loss: nan - mean_absolute_error: nan\n",
      "Epoch 4/7\n",
      "765/765 [==============================] - ETA: 0s - loss: 50.8834 - mean_absolute_error: 50.883 - ETA: 0s - loss: nan - mean_absolute_error: nan        - ETA: 0s - loss: nan - mean_absolute_error: na - ETA: 0s - loss: nan - mean_absolute_error: na - ETA: 0s - loss: nan - mean_absolute_error: na - 0s 338us/sample - loss: nan - mean_absolute_error: nan\n",
      "Epoch 5/7\n",
      "765/765 [==============================] - ETA: 0s - loss: 66.3437 - mean_absolute_error: 66.343 - ETA: 0s - loss: 56.6121 - mean_absolute_error: 56.612 - ETA: 0s - loss: nan - mean_absolute_error: nan        - ETA: 0s - loss: nan - mean_absolute_error: na - ETA: 0s - loss: nan - mean_absolute_error: na - ETA: 0s - loss: nan - mean_absolute_error: na - 0s 467us/sample - loss: nan - mean_absolute_error: nan\n",
      "Epoch 6/7\n",
      "765/765 [==============================] - ETA: 0s - loss: 42.3457 - mean_absolute_error: 42.345 - ETA: 0s - loss: 48.3206 - mean_absolute_error: 48.320 - ETA: 0s - loss: nan - mean_absolute_error: nan        - ETA: 0s - loss: nan - mean_absolute_error: na - ETA: 0s - loss: nan - mean_absolute_error: na - ETA: 0s - loss: nan - mean_absolute_error: na - 0s 413us/sample - loss: nan - mean_absolute_error: nan\n",
      "Epoch 7/7\n",
      "765/765 [==============================] - ETA: 0s - loss: 58.4858 - mean_absolute_error: 58.485 - ETA: 0s - loss: nan - mean_absolute_error: nan        - ETA: 0s - loss: nan - mean_absolute_error: na - ETA: 0s - loss: nan - mean_absolute_error: na - ETA: 0s - loss: nan - mean_absolute_error: na - ETA: 0s - loss: nan - mean_absolute_error: na - ETA: 0s - loss: nan - mean_absolute_error: na - 0s 521us/sample - loss: nan - mean_absolute_error: nan\n",
      "Train on 765 samples\n",
      "Epoch 1/7\n",
      "765/765 [==============================] - ETA: 19s - loss: 104.1128 - mean_absolute_error: 104.11 - ETA: 2s - loss: nan - mean_absolute_error: nan           - ETA: 0s - loss: nan - mean_absolute_error: na - ETA: 0s - loss: nan - mean_absolute_error: na - 1s 1ms/sample - loss: nan - mean_absolute_error: nan\n",
      "Epoch 2/7\n",
      "765/765 [==============================] - ETA: 0s - loss: 93.7659 - mean_absolute_error: 93.765 - ETA: 0s - loss: 73.7473 - mean_absolute_error: 73.747 - ETA: 0s - loss: 70.4495 - mean_absolute_error: 70.449 - ETA: 0s - loss: nan - mean_absolute_error: nan        - 0s 246us/sample - loss: nan - mean_absolute_error: nan\n",
      "Epoch 3/7\n",
      "765/765 [==============================] - ETA: 0s - loss: 78.5777 - mean_absolute_error: 78.577 - ETA: 0s - loss: 71.1261 - mean_absolute_error: 71.126 - ETA: 0s - loss: nan - mean_absolute_error: nan        - ETA: 0s - loss: nan - mean_absolute_error: na - 0s 296us/sample - loss: nan - mean_absolute_error: nan\n",
      "Epoch 4/7\n",
      "765/765 [==============================] - ETA: 0s - loss: 80.9915 - mean_absolute_error: 80.991 - ETA: 0s - loss: 65.7380 - mean_absolute_error: 65.738 - ETA: 0s - loss: 61.4751 - mean_absolute_error: 61.475 - ETA: 0s - loss: nan - mean_absolute_error: nan        - 0s 294us/sample - loss: nan - mean_absolute_error: nan\n",
      "Epoch 5/7\n",
      "765/765 [==============================] - ETA: 0s - loss: 85.7020 - mean_absolute_error: 85.702 - ETA: 0s - loss: 63.1510 - mean_absolute_error: 63.151 - ETA: 0s - loss: 59.6894 - mean_absolute_error: 59.689 - ETA: 0s - loss: 61.8760 - mean_absolute_error: 61.876 - 0s 282us/sample - loss: nan - mean_absolute_error: nan\n",
      "Epoch 6/7\n",
      "765/765 [==============================] - ETA: 0s - loss: 47.2953 - mean_absolute_error: 47.295 - ETA: 0s - loss: 56.7247 - mean_absolute_error: 56.724 - ETA: 0s - loss: 62.6534 - mean_absolute_error: 62.653 - 0s 185us/sample - loss: nan - mean_absolute_error: nan\n",
      "Epoch 7/7\n",
      "765/765 [==============================] - ETA: 0s - loss: 39.0086 - mean_absolute_error: 39.008 - ETA: 0s - loss: nan - mean_absolute_error: nan        - ETA: 0s - loss: nan - mean_absolute_error: na - 0s 192us/sample - loss: nan - mean_absolute_error: nan\n",
      "Train on 765 samples\n",
      "Epoch 1/7\n",
      "765/765 [==============================] - ETA: 18s - loss: 87.7098 - mean_absolute_error: 87.70 - ETA: 1s - loss: nan - mean_absolute_error: nan         - ETA: 0s - loss: nan - mean_absolute_error: na - 1s 1ms/sample - loss: nan - mean_absolute_error: nan\n",
      "Epoch 2/7\n",
      "765/765 [==============================] - ETA: 0s - loss: 55.9574 - mean_absolute_error: 55.957 - ETA: 0s - loss: 68.1802 - mean_absolute_error: 68.180 - ETA: 0s - loss: nan - mean_absolute_error: nan        - ETA: 0s - loss: nan - mean_absolute_error: na - 0s 267us/sample - loss: nan - mean_absolute_error: nan\n",
      "Epoch 3/7\n",
      "765/765 [==============================] - ETA: 0s - loss: 64.4441 - mean_absolute_error: 64.444 - ETA: 0s - loss: 59.0297 - mean_absolute_error: 59.029 - ETA: 0s - loss: nan - mean_absolute_error: nan        - 0s 186us/sample - loss: nan - mean_absolute_error: nan\n",
      "Epoch 4/7\n",
      "765/765 [==============================] - ETA: 0s - loss: 50.9524 - mean_absolute_error: 50.952 - ETA: 0s - loss: nan - mean_absolute_error: nan        - ETA: 0s - loss: nan - mean_absolute_error: na - 0s 192us/sample - loss: nan - mean_absolute_error: nan\n",
      "Epoch 5/7\n",
      "765/765 [==============================] - ETA: 0s - loss: 46.2496 - mean_absolute_error: 46.249 - ETA: 0s - loss: nan - mean_absolute_error: nan        - ETA: 0s - loss: nan - mean_absolute_error: na - 0s 198us/sample - loss: nan - mean_absolute_error: nan\n",
      "Epoch 6/7\n",
      "765/765 [==============================] - ETA: 0s - loss: 40.6823 - mean_absolute_error: 40.682 - ETA: 0s - loss: 54.6151 - mean_absolute_error: 54.615 - ETA: 0s - loss: nan - mean_absolute_error: nan        - ETA: 0s - loss: nan - mean_absolute_error: na - 0s 258us/sample - loss: nan - mean_absolute_error: nan\n",
      "Epoch 7/7\n",
      "765/765 [==============================] - ETA: 0s - loss: 66.1149 - mean_absolute_error: 66.114 - ETA: 0s - loss: 52.0734 - mean_absolute_error: 52.073 - ETA: 0s - loss: 53.2312 - mean_absolute_error: 53.231 - ETA: 0s - loss: nan - mean_absolute_error: nan        - ETA: 0s - loss: nan - mean_absolute_error: na - 0s 369us/sample - loss: nan - mean_absolute_error: nan\n"
     ]
    },
    {
     "data": {
      "text/html": [
       "<span style=\"color:#4527A0\"><h1 style=\"font-size:18px\">Trial complete</h1></span>"
      ],
      "text/plain": [
       "<IPython.core.display.HTML object>"
      ]
     },
     "metadata": {},
     "output_type": "display_data"
    },
    {
     "data": {
      "text/html": [
       "<span style=\"color:#4527A0\"><h1 style=\"font-size:18px\">Trial summary</h1></span>"
      ],
      "text/plain": [
       "<IPython.core.display.HTML object>"
      ]
     },
     "metadata": {},
     "output_type": "display_data"
    },
    {
     "data": {
      "text/html": [
       "<span style=\"color:cyan\"> |-Trial ID: 55fb7aa2eb73fc079eb5b1f839636745</span>"
      ],
      "text/plain": [
       "<IPython.core.display.HTML object>"
      ]
     },
     "metadata": {},
     "output_type": "display_data"
    },
    {
     "data": {
      "text/html": [
       "<span style=\"color:cyan\"> |-Score: nan</span>"
      ],
      "text/plain": [
       "<IPython.core.display.HTML object>"
      ]
     },
     "metadata": {},
     "output_type": "display_data"
    },
    {
     "data": {
      "text/html": [
       "<span style=\"color:cyan\"> |-Best step: None</span>"
      ],
      "text/plain": [
       "<IPython.core.display.HTML object>"
      ]
     },
     "metadata": {},
     "output_type": "display_data"
    },
    {
     "data": {
      "text/html": [
       "<span style=\"color:#7E57C2\"><h2 style=\"font-size:16px\">Hyperparameters:</h2></span>"
      ],
      "text/plain": [
       "<IPython.core.display.HTML object>"
      ]
     },
     "metadata": {},
     "output_type": "display_data"
    },
    {
     "data": {
      "text/html": [
       "<span style=\"color:cyan\"> |-learning_rate: 0.01</span>"
      ],
      "text/plain": [
       "<IPython.core.display.HTML object>"
      ]
     },
     "metadata": {},
     "output_type": "display_data"
    },
    {
     "data": {
      "text/html": [
       "<span style=\"color:blue\"> |-num_layers: 11</span>"
      ],
      "text/plain": [
       "<IPython.core.display.HTML object>"
      ]
     },
     "metadata": {},
     "output_type": "display_data"
    },
    {
     "data": {
      "text/html": [
       "<span style=\"color:cyan\"> |-units_0: 224</span>"
      ],
      "text/plain": [
       "<IPython.core.display.HTML object>"
      ]
     },
     "metadata": {},
     "output_type": "display_data"
    },
    {
     "data": {
      "text/html": [
       "<span style=\"color:blue\"> |-units_1: 352</span>"
      ],
      "text/plain": [
       "<IPython.core.display.HTML object>"
      ]
     },
     "metadata": {},
     "output_type": "display_data"
    },
    {
     "data": {
      "text/html": [
       "<span style=\"color:cyan\"> |-units_10: 416</span>"
      ],
      "text/plain": [
       "<IPython.core.display.HTML object>"
      ]
     },
     "metadata": {},
     "output_type": "display_data"
    },
    {
     "data": {
      "text/html": [
       "<span style=\"color:blue\"> |-units_11: 96</span>"
      ],
      "text/plain": [
       "<IPython.core.display.HTML object>"
      ]
     },
     "metadata": {},
     "output_type": "display_data"
    },
    {
     "data": {
      "text/html": [
       "<span style=\"color:cyan\"> |-units_12: 480</span>"
      ],
      "text/plain": [
       "<IPython.core.display.HTML object>"
      ]
     },
     "metadata": {},
     "output_type": "display_data"
    },
    {
     "data": {
      "text/html": [
       "<span style=\"color:blue\"> |-units_2: 352</span>"
      ],
      "text/plain": [
       "<IPython.core.display.HTML object>"
      ]
     },
     "metadata": {},
     "output_type": "display_data"
    },
    {
     "data": {
      "text/html": [
       "<span style=\"color:cyan\"> |-units_3: 128</span>"
      ],
      "text/plain": [
       "<IPython.core.display.HTML object>"
      ]
     },
     "metadata": {},
     "output_type": "display_data"
    },
    {
     "data": {
      "text/html": [
       "<span style=\"color:blue\"> |-units_4: 128</span>"
      ],
      "text/plain": [
       "<IPython.core.display.HTML object>"
      ]
     },
     "metadata": {},
     "output_type": "display_data"
    },
    {
     "data": {
      "text/html": [
       "<span style=\"color:cyan\"> |-units_5: 288</span>"
      ],
      "text/plain": [
       "<IPython.core.display.HTML object>"
      ]
     },
     "metadata": {},
     "output_type": "display_data"
    },
    {
     "data": {
      "text/html": [
       "<span style=\"color:blue\"> |-units_6: 224</span>"
      ],
      "text/plain": [
       "<IPython.core.display.HTML object>"
      ]
     },
     "metadata": {},
     "output_type": "display_data"
    },
    {
     "data": {
      "text/html": [
       "<span style=\"color:cyan\"> |-units_7: 96</span>"
      ],
      "text/plain": [
       "<IPython.core.display.HTML object>"
      ]
     },
     "metadata": {},
     "output_type": "display_data"
    },
    {
     "data": {
      "text/html": [
       "<span style=\"color:blue\"> |-units_8: 32</span>"
      ],
      "text/plain": [
       "<IPython.core.display.HTML object>"
      ]
     },
     "metadata": {},
     "output_type": "display_data"
    },
    {
     "data": {
      "text/html": [
       "<span style=\"color:cyan\"> |-units_9: 256</span>"
      ],
      "text/plain": [
       "<IPython.core.display.HTML object>"
      ]
     },
     "metadata": {},
     "output_type": "display_data"
    },
    {
     "name": "stdout",
     "output_type": "stream",
     "text": [
      "INFO:tensorflow:Oracle triggered exit\n"
     ]
    }
   ],
   "source": [
    "tuner.search(X_train.values, y_train.values,\n",
    "             epochs=5,\n",
    "            validation_data=X_test.values,y_test.values)"
   ]
  },
  {
   "cell_type": "code",
   "execution_count": null,
   "metadata": {},
   "outputs": [],
   "source": []
  }
 ],
 "metadata": {
  "kernelspec": {
   "display_name": "Python 3",
   "language": "python",
   "name": "python3"
  },
  "language_info": {
   "codemirror_mode": {
    "name": "ipython",
    "version": 3
   },
   "file_extension": ".py",
   "mimetype": "text/x-python",
   "name": "python",
   "nbconvert_exporter": "python",
   "pygments_lexer": "ipython3",
   "version": "3.7.9"
  }
 },
 "nbformat": 4,
 "nbformat_minor": 4
}
