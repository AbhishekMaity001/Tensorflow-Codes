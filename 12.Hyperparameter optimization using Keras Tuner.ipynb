{
 "cells": [
  {
   "cell_type": "markdown",
   "metadata": {},
   "source": [
    "# Keras Tuner"
   ]
  },
  {
   "cell_type": "code",
   "execution_count": 77,
   "metadata": {},
   "outputs": [],
   "source": [
    "import numpy as np\n",
    "import pandas as pd\n",
    "import tensorflow as tf\n",
    "import seaborn as sns\n",
    "import matplotlib.pyplot as plt\n",
    "%matplotlib inline\n",
    "import os\n",
    "import kerastuner as kt"
   ]
  },
  {
   "cell_type": "code",
   "execution_count": 78,
   "metadata": {},
   "outputs": [
    {
     "name": "stdout",
     "output_type": "stream",
     "text": [
      "2.1.0\n"
     ]
    }
   ],
   "source": [
    "print(tf.__version__)"
   ]
  },
  {
   "cell_type": "code",
   "execution_count": 79,
   "metadata": {},
   "outputs": [
    {
     "data": {
      "text/html": [
       "<div>\n",
       "<style scoped>\n",
       "    .dataframe tbody tr th:only-of-type {\n",
       "        vertical-align: middle;\n",
       "    }\n",
       "\n",
       "    .dataframe tbody tr th {\n",
       "        vertical-align: top;\n",
       "    }\n",
       "\n",
       "    .dataframe thead th {\n",
       "        text-align: right;\n",
       "    }\n",
       "</style>\n",
       "<table border=\"1\" class=\"dataframe\">\n",
       "  <thead>\n",
       "    <tr style=\"text-align: right;\">\n",
       "      <th></th>\n",
       "      <th>T</th>\n",
       "      <th>TM</th>\n",
       "      <th>Tm</th>\n",
       "      <th>SLP</th>\n",
       "      <th>H</th>\n",
       "      <th>VV</th>\n",
       "      <th>V</th>\n",
       "      <th>VM</th>\n",
       "      <th>PM 2.5</th>\n",
       "    </tr>\n",
       "  </thead>\n",
       "  <tbody>\n",
       "    <tr>\n",
       "      <th>0</th>\n",
       "      <td>7.4</td>\n",
       "      <td>9.8</td>\n",
       "      <td>4.8</td>\n",
       "      <td>1017.6</td>\n",
       "      <td>93.0</td>\n",
       "      <td>0.5</td>\n",
       "      <td>4.3</td>\n",
       "      <td>9.4</td>\n",
       "      <td>219.720833</td>\n",
       "    </tr>\n",
       "    <tr>\n",
       "      <th>1</th>\n",
       "      <td>7.8</td>\n",
       "      <td>12.7</td>\n",
       "      <td>4.4</td>\n",
       "      <td>1018.5</td>\n",
       "      <td>87.0</td>\n",
       "      <td>0.6</td>\n",
       "      <td>4.4</td>\n",
       "      <td>11.1</td>\n",
       "      <td>182.187500</td>\n",
       "    </tr>\n",
       "    <tr>\n",
       "      <th>2</th>\n",
       "      <td>6.7</td>\n",
       "      <td>13.4</td>\n",
       "      <td>2.4</td>\n",
       "      <td>1019.4</td>\n",
       "      <td>82.0</td>\n",
       "      <td>0.6</td>\n",
       "      <td>4.8</td>\n",
       "      <td>11.1</td>\n",
       "      <td>154.037500</td>\n",
       "    </tr>\n",
       "    <tr>\n",
       "      <th>3</th>\n",
       "      <td>8.6</td>\n",
       "      <td>15.5</td>\n",
       "      <td>3.3</td>\n",
       "      <td>1018.7</td>\n",
       "      <td>72.0</td>\n",
       "      <td>0.8</td>\n",
       "      <td>8.1</td>\n",
       "      <td>20.6</td>\n",
       "      <td>223.208333</td>\n",
       "    </tr>\n",
       "    <tr>\n",
       "      <th>4</th>\n",
       "      <td>12.4</td>\n",
       "      <td>20.9</td>\n",
       "      <td>4.4</td>\n",
       "      <td>1017.3</td>\n",
       "      <td>61.0</td>\n",
       "      <td>1.3</td>\n",
       "      <td>8.7</td>\n",
       "      <td>22.2</td>\n",
       "      <td>200.645833</td>\n",
       "    </tr>\n",
       "  </tbody>\n",
       "</table>\n",
       "</div>"
      ],
      "text/plain": [
       "      T    TM   Tm     SLP     H   VV    V    VM      PM 2.5\n",
       "0   7.4   9.8  4.8  1017.6  93.0  0.5  4.3   9.4  219.720833\n",
       "1   7.8  12.7  4.4  1018.5  87.0  0.6  4.4  11.1  182.187500\n",
       "2   6.7  13.4  2.4  1019.4  82.0  0.6  4.8  11.1  154.037500\n",
       "3   8.6  15.5  3.3  1018.7  72.0  0.8  8.1  20.6  223.208333\n",
       "4  12.4  20.9  4.4  1017.3  61.0  1.3  8.7  22.2  200.645833"
      ]
     },
     "execution_count": 79,
     "metadata": {},
     "output_type": "execute_result"
    }
   ],
   "source": [
    "df = pd.read_csv('../AirQualityIndex-Keras-Tuner/Real_Combine.csv')\n",
    "df.head()"
   ]
  },
  {
   "cell_type": "code",
   "execution_count": 80,
   "metadata": {},
   "outputs": [],
   "source": [
    "X = df.iloc[:,:-1] # Independent features \n",
    "y = df.iloc[:,-1] # Dependent features"
   ]
  },
  {
   "cell_type": "code",
   "execution_count": 81,
   "metadata": {},
   "outputs": [
    {
     "data": {
      "text/plain": [
       "(1093, 8)"
      ]
     },
     "execution_count": 81,
     "metadata": {},
     "output_type": "execute_result"
    }
   ],
   "source": [
    "X.shape"
   ]
  },
  {
   "cell_type": "code",
   "execution_count": 82,
   "metadata": {},
   "outputs": [
    {
     "data": {
      "text/html": [
       "<div>\n",
       "<style scoped>\n",
       "    .dataframe tbody tr th:only-of-type {\n",
       "        vertical-align: middle;\n",
       "    }\n",
       "\n",
       "    .dataframe tbody tr th {\n",
       "        vertical-align: top;\n",
       "    }\n",
       "\n",
       "    .dataframe thead th {\n",
       "        text-align: right;\n",
       "    }\n",
       "</style>\n",
       "<table border=\"1\" class=\"dataframe\">\n",
       "  <thead>\n",
       "    <tr style=\"text-align: right;\">\n",
       "      <th></th>\n",
       "      <th>T</th>\n",
       "      <th>TM</th>\n",
       "      <th>Tm</th>\n",
       "      <th>SLP</th>\n",
       "      <th>H</th>\n",
       "      <th>VV</th>\n",
       "      <th>V</th>\n",
       "      <th>VM</th>\n",
       "    </tr>\n",
       "  </thead>\n",
       "  <tbody>\n",
       "    <tr>\n",
       "      <th>0</th>\n",
       "      <td>7.4</td>\n",
       "      <td>9.8</td>\n",
       "      <td>4.8</td>\n",
       "      <td>1017.6</td>\n",
       "      <td>93.0</td>\n",
       "      <td>0.5</td>\n",
       "      <td>4.3</td>\n",
       "      <td>9.4</td>\n",
       "    </tr>\n",
       "    <tr>\n",
       "      <th>1</th>\n",
       "      <td>7.8</td>\n",
       "      <td>12.7</td>\n",
       "      <td>4.4</td>\n",
       "      <td>1018.5</td>\n",
       "      <td>87.0</td>\n",
       "      <td>0.6</td>\n",
       "      <td>4.4</td>\n",
       "      <td>11.1</td>\n",
       "    </tr>\n",
       "    <tr>\n",
       "      <th>2</th>\n",
       "      <td>6.7</td>\n",
       "      <td>13.4</td>\n",
       "      <td>2.4</td>\n",
       "      <td>1019.4</td>\n",
       "      <td>82.0</td>\n",
       "      <td>0.6</td>\n",
       "      <td>4.8</td>\n",
       "      <td>11.1</td>\n",
       "    </tr>\n",
       "    <tr>\n",
       "      <th>3</th>\n",
       "      <td>8.6</td>\n",
       "      <td>15.5</td>\n",
       "      <td>3.3</td>\n",
       "      <td>1018.7</td>\n",
       "      <td>72.0</td>\n",
       "      <td>0.8</td>\n",
       "      <td>8.1</td>\n",
       "      <td>20.6</td>\n",
       "    </tr>\n",
       "    <tr>\n",
       "      <th>4</th>\n",
       "      <td>12.4</td>\n",
       "      <td>20.9</td>\n",
       "      <td>4.4</td>\n",
       "      <td>1017.3</td>\n",
       "      <td>61.0</td>\n",
       "      <td>1.3</td>\n",
       "      <td>8.7</td>\n",
       "      <td>22.2</td>\n",
       "    </tr>\n",
       "  </tbody>\n",
       "</table>\n",
       "</div>"
      ],
      "text/plain": [
       "      T    TM   Tm     SLP     H   VV    V    VM\n",
       "0   7.4   9.8  4.8  1017.6  93.0  0.5  4.3   9.4\n",
       "1   7.8  12.7  4.4  1018.5  87.0  0.6  4.4  11.1\n",
       "2   6.7  13.4  2.4  1019.4  82.0  0.6  4.8  11.1\n",
       "3   8.6  15.5  3.3  1018.7  72.0  0.8  8.1  20.6\n",
       "4  12.4  20.9  4.4  1017.3  61.0  1.3  8.7  22.2"
      ]
     },
     "execution_count": 82,
     "metadata": {},
     "output_type": "execute_result"
    }
   ],
   "source": [
    "X.head()"
   ]
  },
  {
   "cell_type": "code",
   "execution_count": 83,
   "metadata": {},
   "outputs": [
    {
     "data": {
      "text/plain": [
       "0    219.720833\n",
       "1    182.187500\n",
       "2    154.037500\n",
       "3    223.208333\n",
       "4    200.645833\n",
       "Name: PM 2.5, dtype: float64"
      ]
     },
     "execution_count": 83,
     "metadata": {},
     "output_type": "execute_result"
    }
   ],
   "source": [
    "y.head()"
   ]
  },
  {
   "cell_type": "code",
   "execution_count": 84,
   "metadata": {},
   "outputs": [],
   "source": [
    "from tensorflow import keras\n",
    "from tensorflow.keras import layers\n",
    "from tensorflow.keras.layers import Dense"
   ]
  },
  {
   "cell_type": "markdown",
   "metadata": {},
   "source": [
    "def model_builder(hp):\n",
    "    \n",
    "    model = keras.Sequential()\n",
    "    \n",
    "    hp_units = hp.Int('units',min_value=32,max_value=512,step=32)\n",
    "    model.add(keras.layers.Dense(units=hp_units,activation='relu'))\n",
    "    model.add(keras.layers.Dense(10))\n",
    "    \n",
    "    hp_learning_rate = hp.Choice('learning_rate',values = [1e-2,1e-3,1e-4])\n",
    "    model.compile(optmizer=keras.optimizers.Adam(learning_rate = hp_learning_rate),\n",
    "                                                loss='mean_absolute_error',\n",
    "                                                metrics=['val_mean_absolute_error'])\n",
    "    return model\n",
    "    "
   ]
  },
  {
   "cell_type": "code",
   "execution_count": 85,
   "metadata": {},
   "outputs": [],
   "source": [
    "def build_model(hp):\n",
    "    model = keras.Sequential()\n",
    "    for i in range(hp.Int('num_layers', 2, 20)):\n",
    "        model.add(layers.Dense(units=hp.Int('units_' + str(i),\n",
    "                                            min_value=32,\n",
    "                                            max_value=512,\n",
    "                                            step=32),\n",
    "                               activation='relu'))\n",
    "    model.add(layers.Dense(1, activation='linear'))\n",
    "    model.compile(\n",
    "        optimizer=keras.optimizers.Adam(\n",
    "            hp.Choice('learning_rate', [1e-2, 1e-3, 1e-4])),\n",
    "        loss='mean_absolute_error',\n",
    "        metrics=['mean_absolute_error'])\n",
    "    return model"
   ]
  },
  {
   "cell_type": "markdown",
   "metadata": {},
   "source": [
    "### Instantiate the tuner to perform the hypertuning. The Keras Tuner has four tuners available \n",
    "- RandomSearch\n",
    "- Hyperband\n",
    "- BayesianOptimization\n",
    "- Sklearn\n"
   ]
  },
  {
   "cell_type": "markdown",
   "metadata": {},
   "source": [
    "hypermodel,\n",
    "    objective,\n",
    "    max_epochs,\n",
    "    factor=3,\n",
    "    hyperband_iterations=1,\n",
    "    seed=None,\n",
    "    hyperparameters=None,\n",
    "    tune_new_entries=True,\n",
    "    allow_new_entries=True"
   ]
  },
  {
   "cell_type": "markdown",
   "metadata": {},
   "source": [
    "tuner = kt.Hyperband(model_builder,\n",
    "                     objective='val_mean_absolute_error',\n",
    "                    max_epochs=10,\n",
    "                    factor=3,\n",
    "                    directory='my_dir')"
   ]
  },
  {
   "cell_type": "code",
   "execution_count": 86,
   "metadata": {},
   "outputs": [],
   "source": [
    "tuner = kt.RandomSearch(\n",
    "    build_model,\n",
    "    objective='mean_absolute_error',\n",
    "    max_trials=5,\n",
    "    executions_per_trial=3,\n",
    "    directory='project',\n",
    "    project_name='Air Quality Index')"
   ]
  },
  {
   "cell_type": "code",
   "execution_count": 87,
   "metadata": {},
   "outputs": [
    {
     "data": {
      "text/html": [
       "<span style=\"color:#4527A0\"><h1 style=\"font-size:18px\">Search space summary</h1></span>"
      ],
      "text/plain": [
       "<IPython.core.display.HTML object>"
      ]
     },
     "metadata": {},
     "output_type": "display_data"
    },
    {
     "data": {
      "text/html": [
       "<span style=\"color:cyan\"> |-Default search space size: 4</span>"
      ],
      "text/plain": [
       "<IPython.core.display.HTML object>"
      ]
     },
     "metadata": {},
     "output_type": "display_data"
    },
    {
     "data": {
      "text/html": [
       "<span style=\"color:#7E57C2\"><h2 style=\"font-size:16px\">num_layers (Int)</h2></span>"
      ],
      "text/plain": [
       "<IPython.core.display.HTML object>"
      ]
     },
     "metadata": {},
     "output_type": "display_data"
    },
    {
     "data": {
      "text/html": [
       "<span style=\"color:cyan\"> |-default: None</span>"
      ],
      "text/plain": [
       "<IPython.core.display.HTML object>"
      ]
     },
     "metadata": {},
     "output_type": "display_data"
    },
    {
     "data": {
      "text/html": [
       "<span style=\"color:blue\"> |-max_value: 20</span>"
      ],
      "text/plain": [
       "<IPython.core.display.HTML object>"
      ]
     },
     "metadata": {},
     "output_type": "display_data"
    },
    {
     "data": {
      "text/html": [
       "<span style=\"color:cyan\"> |-min_value: 2</span>"
      ],
      "text/plain": [
       "<IPython.core.display.HTML object>"
      ]
     },
     "metadata": {},
     "output_type": "display_data"
    },
    {
     "data": {
      "text/html": [
       "<span style=\"color:blue\"> |-sampling: None</span>"
      ],
      "text/plain": [
       "<IPython.core.display.HTML object>"
      ]
     },
     "metadata": {},
     "output_type": "display_data"
    },
    {
     "data": {
      "text/html": [
       "<span style=\"color:cyan\"> |-step: 1</span>"
      ],
      "text/plain": [
       "<IPython.core.display.HTML object>"
      ]
     },
     "metadata": {},
     "output_type": "display_data"
    },
    {
     "data": {
      "text/html": [
       "<span style=\"color:#7E57C2\"><h2 style=\"font-size:16px\">units_0 (Int)</h2></span>"
      ],
      "text/plain": [
       "<IPython.core.display.HTML object>"
      ]
     },
     "metadata": {},
     "output_type": "display_data"
    },
    {
     "data": {
      "text/html": [
       "<span style=\"color:cyan\"> |-default: None</span>"
      ],
      "text/plain": [
       "<IPython.core.display.HTML object>"
      ]
     },
     "metadata": {},
     "output_type": "display_data"
    },
    {
     "data": {
      "text/html": [
       "<span style=\"color:blue\"> |-max_value: 512</span>"
      ],
      "text/plain": [
       "<IPython.core.display.HTML object>"
      ]
     },
     "metadata": {},
     "output_type": "display_data"
    },
    {
     "data": {
      "text/html": [
       "<span style=\"color:cyan\"> |-min_value: 32</span>"
      ],
      "text/plain": [
       "<IPython.core.display.HTML object>"
      ]
     },
     "metadata": {},
     "output_type": "display_data"
    },
    {
     "data": {
      "text/html": [
       "<span style=\"color:blue\"> |-sampling: None</span>"
      ],
      "text/plain": [
       "<IPython.core.display.HTML object>"
      ]
     },
     "metadata": {},
     "output_type": "display_data"
    },
    {
     "data": {
      "text/html": [
       "<span style=\"color:cyan\"> |-step: 32</span>"
      ],
      "text/plain": [
       "<IPython.core.display.HTML object>"
      ]
     },
     "metadata": {},
     "output_type": "display_data"
    },
    {
     "data": {
      "text/html": [
       "<span style=\"color:#7E57C2\"><h2 style=\"font-size:16px\">units_1 (Int)</h2></span>"
      ],
      "text/plain": [
       "<IPython.core.display.HTML object>"
      ]
     },
     "metadata": {},
     "output_type": "display_data"
    },
    {
     "data": {
      "text/html": [
       "<span style=\"color:cyan\"> |-default: None</span>"
      ],
      "text/plain": [
       "<IPython.core.display.HTML object>"
      ]
     },
     "metadata": {},
     "output_type": "display_data"
    },
    {
     "data": {
      "text/html": [
       "<span style=\"color:blue\"> |-max_value: 512</span>"
      ],
      "text/plain": [
       "<IPython.core.display.HTML object>"
      ]
     },
     "metadata": {},
     "output_type": "display_data"
    },
    {
     "data": {
      "text/html": [
       "<span style=\"color:cyan\"> |-min_value: 32</span>"
      ],
      "text/plain": [
       "<IPython.core.display.HTML object>"
      ]
     },
     "metadata": {},
     "output_type": "display_data"
    },
    {
     "data": {
      "text/html": [
       "<span style=\"color:blue\"> |-sampling: None</span>"
      ],
      "text/plain": [
       "<IPython.core.display.HTML object>"
      ]
     },
     "metadata": {},
     "output_type": "display_data"
    },
    {
     "data": {
      "text/html": [
       "<span style=\"color:cyan\"> |-step: 32</span>"
      ],
      "text/plain": [
       "<IPython.core.display.HTML object>"
      ]
     },
     "metadata": {},
     "output_type": "display_data"
    },
    {
     "data": {
      "text/html": [
       "<span style=\"color:#7E57C2\"><h2 style=\"font-size:16px\">learning_rate (Choice)</h2></span>"
      ],
      "text/plain": [
       "<IPython.core.display.HTML object>"
      ]
     },
     "metadata": {},
     "output_type": "display_data"
    },
    {
     "data": {
      "text/html": [
       "<span style=\"color:cyan\"> |-default: 0.01</span>"
      ],
      "text/plain": [
       "<IPython.core.display.HTML object>"
      ]
     },
     "metadata": {},
     "output_type": "display_data"
    },
    {
     "data": {
      "text/html": [
       "<span style=\"color:blue\"> |-ordered: True</span>"
      ],
      "text/plain": [
       "<IPython.core.display.HTML object>"
      ]
     },
     "metadata": {},
     "output_type": "display_data"
    },
    {
     "data": {
      "text/html": [
       "<span style=\"color:cyan\"> |-values: [0.01, 0.001, 0.0001]</span>"
      ],
      "text/plain": [
       "<IPython.core.display.HTML object>"
      ]
     },
     "metadata": {},
     "output_type": "display_data"
    }
   ],
   "source": [
    "tuner.search_space_summary()"
   ]
  },
  {
   "cell_type": "code",
   "execution_count": 88,
   "metadata": {},
   "outputs": [],
   "source": [
    "from sklearn.model_selection import train_test_split\n",
    "X_train, X_test, y_train, y_test = train_test_split(X, y, test_size=0.3, random_state=0)"
   ]
  },
  {
   "cell_type": "code",
   "execution_count": 90,
   "metadata": {},
   "outputs": [
    {
     "name": "stdout",
     "output_type": "stream",
     "text": [
      "Train on 765 samples, validate on 328 samples\n",
      "Epoch 1/5\n",
      "765/765 [==============================] - ETA: 16s - loss: 107.1445 - mean_absolute_error: 107.14 - ETA: 1s - loss: 79.8635 - mean_absolute_error: 79.8635   - ETA: 0s - loss: 73.9264 - mean_absolute_error: 73.926 - ETA: 0s - loss: 70.9455 - mean_absolute_error: 70.945 - 1s 1ms/sample - loss: nan - mean_absolute_error: nan - val_loss: 65.6008 - val_mean_absolute_error: 65.6008\n",
      "Epoch 2/5\n",
      "765/765 [==============================] - ETA: 0s - loss: 68.9117 - mean_absolute_error: 68.911 - ETA: 0s - loss: 68.3652 - mean_absolute_error: 68.365 - ETA: 0s - loss: nan - mean_absolute_error: nan        - ETA: 0s - loss: nan - mean_absolute_error: na - 0s 334us/sample - loss: nan - mean_absolute_error: nan - val_loss: 66.5220 - val_mean_absolute_error: 66.5220\n",
      "Epoch 3/5\n",
      "765/765 [==============================] - ETA: 0s - loss: 73.3483 - mean_absolute_error: 73.348 - ETA: 0s - loss: 67.4621 - mean_absolute_error: 67.462 - ETA: 0s - loss: nan - mean_absolute_error: nan        - ETA: 0s - loss: nan - mean_absolute_error: na - ETA: 0s - loss: nan - mean_absolute_error: na - 0s 448us/sample - loss: nan - mean_absolute_error: nan - val_loss: 63.3001 - val_mean_absolute_error: 63.3001\n",
      "Epoch 4/5\n",
      "765/765 [==============================] - ETA: 0s - loss: 69.5533 - mean_absolute_error: 69.553 - ETA: 0s - loss: 64.5009 - mean_absolute_error: 64.500 - ETA: 0s - loss: 64.1801 - mean_absolute_error: 64.180 - ETA: 0s - loss: nan - mean_absolute_error: nan        - 0s 370us/sample - loss: nan - mean_absolute_error: nan - val_loss: 68.5368 - val_mean_absolute_error: 68.5368\n",
      "Epoch 5/5\n",
      "765/765 [==============================] - ETA: 0s - loss: 77.0091 - mean_absolute_error: 77.009 - ETA: 0s - loss: 65.0376 - mean_absolute_error: 65.037 - ETA: 0s - loss: 67.8083 - mean_absolute_error: 67.808 - ETA: 0s - loss: nan - mean_absolute_error: nan        - ETA: 0s - loss: nan - mean_absolute_error: na - 0s 462us/sample - loss: nan - mean_absolute_error: nan - val_loss: 61.9835 - val_mean_absolute_error: 61.9835\n",
      "Train on 765 samples, validate on 328 samples\n",
      "Epoch 1/5\n",
      "765/765 [==============================] - ETA: 14s - loss: 126.2473 - mean_absolute_error: 126.24 - ETA: 0s - loss: nan - mean_absolute_error: nan           - ETA: 0s - loss: nan - mean_absolute_error: na - 1s 1ms/sample - loss: nan - mean_absolute_error: nan - val_loss: 64.1416 - val_mean_absolute_error: 64.1416\n",
      "Epoch 2/5\n",
      "765/765 [==============================] - ETA: 0s - loss: 71.2908 - mean_absolute_error: 71.290 - ETA: 0s - loss: 64.9087 - mean_absolute_error: 64.908 - ETA: 0s - loss: nan - mean_absolute_error: nan        - 0s 318us/sample - loss: nan - mean_absolute_error: nan - val_loss: 64.5312 - val_mean_absolute_error: 64.5312\n",
      "Epoch 3/5\n",
      "765/765 [==============================] - ETA: 0s - loss: 68.0880 - mean_absolute_error: 68.088 - ETA: 0s - loss: 63.2691 - mean_absolute_error: 63.269 - ETA: 0s - loss: 64.1142 - mean_absolute_error: 64.114 - ETA: 0s - loss: 61.9349 - mean_absolute_error: 61.934 - ETA: 0s - loss: 64.0160 - mean_absolute_error: 64.016 - ETA: 0s - loss: 66.4863 - mean_absolute_error: 66.486 - 0s 551us/sample - loss: nan - mean_absolute_error: nan - val_loss: 65.6236 - val_mean_absolute_error: 65.6236\n",
      "Epoch 4/5\n",
      "765/765 [==============================] - ETA: 0s - loss: 59.8321 - mean_absolute_error: 59.832 - ETA: 0s - loss: 68.9345 - mean_absolute_error: 68.934 - ETA: 0s - loss: 64.5578 - mean_absolute_error: 64.557 - ETA: 0s - loss: nan - mean_absolute_error: nan        - ETA: 0s - loss: nan - mean_absolute_error: na - ETA: 0s - loss: nan - mean_absolute_error: na - 0s 519us/sample - loss: nan - mean_absolute_error: nan - val_loss: 64.2990 - val_mean_absolute_error: 64.2990\n",
      "Epoch 5/5\n",
      "765/765 [==============================] - ETA: 0s - loss: 64.1279 - mean_absolute_error: 64.127 - ETA: 0s - loss: nan - mean_absolute_error: nan        - ETA: 0s - loss: nan - mean_absolute_error: na - ETA: 0s - loss: nan - mean_absolute_error: na - ETA: 0s - loss: nan - mean_absolute_error: na - 0s 506us/sample - loss: nan - mean_absolute_error: nan - val_loss: 62.9369 - val_mean_absolute_error: 62.9369\n",
      "Train on 765 samples, validate on 328 samples\n",
      "Epoch 1/5\n",
      "765/765 [==============================] - ETA: 15s - loss: 105.2751 - mean_absolute_error: 105.27 - ETA: 1s - loss: 73.1266 - mean_absolute_error: 73.1266   - ETA: 0s - loss: 69.4104 - mean_absolute_error: 69.410 - ETA: 0s - loss: nan - mean_absolute_error: nan        - 1s 1ms/sample - loss: nan - mean_absolute_error: nan - val_loss: 64.2431 - val_mean_absolute_error: 64.2431\n",
      "Epoch 2/5\n",
      "765/765 [==============================] - ETA: 0s - loss: 67.3635 - mean_absolute_error: 67.363 - ETA: 0s - loss: 66.2937 - mean_absolute_error: 66.293 - ETA: 0s - loss: 65.1235 - mean_absolute_error: 65.123 - ETA: 0s - loss: nan - mean_absolute_error: nan        - 0s 318us/sample - loss: nan - mean_absolute_error: nan - val_loss: 63.9710 - val_mean_absolute_error: 63.9710\n",
      "Epoch 3/5\n",
      "765/765 [==============================] - ETA: 0s - loss: 68.8237 - mean_absolute_error: 68.823 - ETA: 0s - loss: nan - mean_absolute_error: nan        - ETA: 0s - loss: nan - mean_absolute_error: na - 0s 246us/sample - loss: nan - mean_absolute_error: nan - val_loss: 62.5347 - val_mean_absolute_error: 62.5347\n",
      "Epoch 4/5\n",
      "765/765 [==============================] - ETA: 0s - loss: 86.0757 - mean_absolute_error: 86.075 - ETA: 0s - loss: 64.8572 - mean_absolute_error: 64.857 - ETA: 0s - loss: nan - mean_absolute_error: nan        - 0s 275us/sample - loss: nan - mean_absolute_error: nan - val_loss: 61.7681 - val_mean_absolute_error: 61.7681\n",
      "Epoch 5/5\n",
      "765/765 [==============================] - ETA: 0s - loss: 62.5092 - mean_absolute_error: 62.509 - ETA: 0s - loss: 61.7106 - mean_absolute_error: 61.710 - ETA: 0s - loss: nan - mean_absolute_error: nan        - 0s 257us/sample - loss: nan - mean_absolute_error: nan - val_loss: 60.3485 - val_mean_absolute_error: 60.3485\n"
     ]
    },
    {
     "name": "stderr",
     "output_type": "stream",
     "text": [
      "d:\\anacondafiles\\envs\\deeplearning\\lib\\site-packages\\kerastuner\\engine\\metrics_tracking.py:92: RuntimeWarning: All-NaN axis encountered\n",
      "  return np.nanmin(values)\n"
     ]
    },
    {
     "data": {
      "text/html": [
       "<span style=\"color:#4527A0\"><h1 style=\"font-size:18px\">Trial complete</h1></span>"
      ],
      "text/plain": [
       "<IPython.core.display.HTML object>"
      ]
     },
     "metadata": {},
     "output_type": "display_data"
    },
    {
     "data": {
      "text/html": [
       "<span style=\"color:#4527A0\"><h1 style=\"font-size:18px\">Trial summary</h1></span>"
      ],
      "text/plain": [
       "<IPython.core.display.HTML object>"
      ]
     },
     "metadata": {},
     "output_type": "display_data"
    },
    {
     "data": {
      "text/html": [
       "<span style=\"color:cyan\"> |-Trial ID: 0e3320f701aecdf743b98f9ad6156c62</span>"
      ],
      "text/plain": [
       "<IPython.core.display.HTML object>"
      ]
     },
     "metadata": {},
     "output_type": "display_data"
    },
    {
     "data": {
      "text/html": [
       "<span style=\"color:cyan\"> |-Score: nan</span>"
      ],
      "text/plain": [
       "<IPython.core.display.HTML object>"
      ]
     },
     "metadata": {},
     "output_type": "display_data"
    },
    {
     "data": {
      "text/html": [
       "<span style=\"color:cyan\"> |-Best step: None</span>"
      ],
      "text/plain": [
       "<IPython.core.display.HTML object>"
      ]
     },
     "metadata": {},
     "output_type": "display_data"
    },
    {
     "data": {
      "text/html": [
       "<span style=\"color:#7E57C2\"><h2 style=\"font-size:16px\">Hyperparameters:</h2></span>"
      ],
      "text/plain": [
       "<IPython.core.display.HTML object>"
      ]
     },
     "metadata": {},
     "output_type": "display_data"
    },
    {
     "data": {
      "text/html": [
       "<span style=\"color:cyan\"> |-learning_rate: 0.001</span>"
      ],
      "text/plain": [
       "<IPython.core.display.HTML object>"
      ]
     },
     "metadata": {},
     "output_type": "display_data"
    },
    {
     "data": {
      "text/html": [
       "<span style=\"color:blue\"> |-num_layers: 7</span>"
      ],
      "text/plain": [
       "<IPython.core.display.HTML object>"
      ]
     },
     "metadata": {},
     "output_type": "display_data"
    },
    {
     "data": {
      "text/html": [
       "<span style=\"color:cyan\"> |-units_0: 128</span>"
      ],
      "text/plain": [
       "<IPython.core.display.HTML object>"
      ]
     },
     "metadata": {},
     "output_type": "display_data"
    },
    {
     "data": {
      "text/html": [
       "<span style=\"color:blue\"> |-units_1: 448</span>"
      ],
      "text/plain": [
       "<IPython.core.display.HTML object>"
      ]
     },
     "metadata": {},
     "output_type": "display_data"
    },
    {
     "data": {
      "text/html": [
       "<span style=\"color:cyan\"> |-units_2: 32</span>"
      ],
      "text/plain": [
       "<IPython.core.display.HTML object>"
      ]
     },
     "metadata": {},
     "output_type": "display_data"
    },
    {
     "data": {
      "text/html": [
       "<span style=\"color:blue\"> |-units_3: 32</span>"
      ],
      "text/plain": [
       "<IPython.core.display.HTML object>"
      ]
     },
     "metadata": {},
     "output_type": "display_data"
    },
    {
     "data": {
      "text/html": [
       "<span style=\"color:cyan\"> |-units_4: 32</span>"
      ],
      "text/plain": [
       "<IPython.core.display.HTML object>"
      ]
     },
     "metadata": {},
     "output_type": "display_data"
    },
    {
     "data": {
      "text/html": [
       "<span style=\"color:blue\"> |-units_5: 32</span>"
      ],
      "text/plain": [
       "<IPython.core.display.HTML object>"
      ]
     },
     "metadata": {},
     "output_type": "display_data"
    },
    {
     "data": {
      "text/html": [
       "<span style=\"color:cyan\"> |-units_6: 32</span>"
      ],
      "text/plain": [
       "<IPython.core.display.HTML object>"
      ]
     },
     "metadata": {},
     "output_type": "display_data"
    },
    {
     "name": "stdout",
     "output_type": "stream",
     "text": [
      "Train on 765 samples, validate on 328 samples\n",
      "Epoch 1/5\n",
      "765/765 [==============================] - ETA: 33s - loss: 118.2929 - mean_absolute_error: 118.29 - ETA: 4s - loss: 107.0925 - mean_absolute_error: 107.0925 - ETA: 2s - loss: 109.5503 - mean_absolute_error: 109.550 - ETA: 0s - loss: nan - mean_absolute_error: nan          - 2s 3ms/sample - loss: nan - mean_absolute_error: nan - val_loss: 103.3609 - val_mean_absolute_error: 103.3609\n",
      "Epoch 2/5\n",
      "765/765 [==============================] - ETA: 0s - loss: 121.7166 - mean_absolute_error: 121.716 - ETA: 0s - loss: 104.2616 - mean_absolute_error: 104.261 - ETA: 0s - loss: nan - mean_absolute_error: nan          - ETA: 0s - loss: nan - mean_absolute_error: na - 0s 426us/sample - loss: nan - mean_absolute_error: nan - val_loss: 71.5232 - val_mean_absolute_error: 71.5232\n",
      "Epoch 3/5\n",
      "765/765 [==============================] - ETA: 0s - loss: 87.8848 - mean_absolute_error: 87.884 - ETA: 0s - loss: 72.9431 - mean_absolute_error: 72.943 - ETA: 0s - loss: 69.0045 - mean_absolute_error: 69.004 - ETA: 0s - loss: 68.2828 - mean_absolute_error: 68.282 - ETA: 0s - loss: 67.8562 - mean_absolute_error: 67.856 - ETA: 0s - loss: 66.1754 - mean_absolute_error: 66.175 - ETA: 0s - loss: 66.2221 - mean_absolute_error: 66.222 - ETA: 0s - loss: nan - mean_absolute_error: nan        - 1s 823us/sample - loss: nan - mean_absolute_error: nan - val_loss: 65.3318 - val_mean_absolute_error: 65.3318\n",
      "Epoch 4/5\n",
      "765/765 [==============================] - ETA: 0s - loss: 67.6043 - mean_absolute_error: 67.604 - ETA: 0s - loss: nan - mean_absolute_error: nan        - ETA: 0s - loss: nan - mean_absolute_error: na - ETA: 0s - loss: nan - mean_absolute_error: na - ETA: 0s - loss: nan - mean_absolute_error: na - ETA: 0s - loss: nan - mean_absolute_error: na - ETA: 0s - loss: nan - mean_absolute_error: na - 1s 692us/sample - loss: nan - mean_absolute_error: nan - val_loss: 64.5618 - val_mean_absolute_error: 64.5618\n",
      "Epoch 5/5\n",
      "765/765 [==============================] - ETA: 0s - loss: 63.1815 - mean_absolute_error: 63.181 - ETA: 0s - loss: 63.4352 - mean_absolute_error: 63.435 - ETA: 0s - loss: 68.4178 - mean_absolute_error: 68.417 - ETA: 0s - loss: 66.9978 - mean_absolute_error: 66.997 - ETA: 0s - loss: 66.5018 - mean_absolute_error: 66.501 - ETA: 0s - loss: 67.1418 - mean_absolute_error: 67.141 - ETA: 0s - loss: 67.3521 - mean_absolute_error: 67.352 - ETA: 0s - loss: nan - mean_absolute_error: nan        - 1s 768us/sample - loss: nan - mean_absolute_error: nan - val_loss: 64.2358 - val_mean_absolute_error: 64.2358\n",
      "Train on 765 samples, validate on 328 samples\n",
      "Epoch 1/5\n",
      "765/765 [==============================] - ETA: 27s - loss: 115.5604 - mean_absolute_error: 115.56 - ETA: 2s - loss: nan - mean_absolute_error: nan           - ETA: 1s - loss: nan - mean_absolute_error: na - ETA: 0s - loss: nan - mean_absolute_error: na - ETA: 0s - loss: nan - mean_absolute_error: na - 2s 2ms/sample - loss: nan - mean_absolute_error: nan - val_loss: 105.9294 - val_mean_absolute_error: 105.9294\n",
      "Epoch 2/5\n",
      "765/765 [==============================] - ETA: 0s - loss: 97.2401 - mean_absolute_error: 97.240 - ETA: 0s - loss: 102.9104 - mean_absolute_error: 102.910 - ETA: 0s - loss: 104.0678 - mean_absolute_error: 104.067 - ETA: 0s - loss: nan - mean_absolute_error: nan          - ETA: 0s - loss: nan - mean_absolute_error: na - 0s 484us/sample - loss: nan - mean_absolute_error: nan - val_loss: 101.6643 - val_mean_absolute_error: 101.6643\n",
      "Epoch 3/5\n",
      "765/765 [==============================] - ETA: 0s - loss: 94.2838 - mean_absolute_error: 94.283 - ETA: 0s - loss: 105.3337 - mean_absolute_error: 105.333 - ETA: 0s - loss: 103.2932 - mean_absolute_error: 103.293 - ETA: 0s - loss: 100.1781 - mean_absolute_error: 100.178 - ETA: 0s - loss: 101.0295 - mean_absolute_error: 101.029 - ETA: 0s - loss: 97.0941 - mean_absolute_error: 97.0941  - ETA: 0s - loss: 94.7327 - mean_absolute_error: 94.732 - ETA: 0s - loss: nan - mean_absolute_error: nan        - 1s 691us/sample - loss: nan - mean_absolute_error: nan - val_loss: 63.6913 - val_mean_absolute_error: 63.6913\n",
      "Epoch 4/5\n",
      "765/765 [==============================] - ETA: 0s - loss: 68.0498 - mean_absolute_error: 68.049 - ETA: 0s - loss: 67.5220 - mean_absolute_error: 67.522 - ETA: 0s - loss: 67.0788 - mean_absolute_error: 67.078 - ETA: 0s - loss: nan - mean_absolute_error: nan        - 0s 420us/sample - loss: nan - mean_absolute_error: nan - val_loss: 64.6790 - val_mean_absolute_error: 64.6790\n",
      "Epoch 5/5\n",
      "765/765 [==============================] - ETA: 0s - loss: 72.9496 - mean_absolute_error: 72.949 - ETA: 0s - loss: 71.6454 - mean_absolute_error: 71.645 - ETA: 0s - loss: 69.1272 - mean_absolute_error: 69.127 - ETA: 0s - loss: 70.1787 - mean_absolute_error: 70.178 - ETA: 0s - loss: 70.0917 - mean_absolute_error: 70.091 - ETA: 0s - loss: 68.2453 - mean_absolute_error: 68.245 - ETA: 0s - loss: 67.5616 - mean_absolute_error: 67.561 - ETA: 0s - loss: nan - mean_absolute_error: nan        - 1s 759us/sample - loss: nan - mean_absolute_error: nan - val_loss: 63.6824 - val_mean_absolute_error: 63.6824\n",
      "Train on 765 samples, validate on 328 samples\n",
      "Epoch 1/5\n",
      "765/765 [==============================] - ETA: 35s - loss: 112.5563 - mean_absolute_error: 112.55 - ETA: 4s - loss: nan - mean_absolute_error: nan           - ETA: 1s - loss: nan - mean_absolute_error: na - ETA: 1s - loss: nan - mean_absolute_error: na - ETA: 0s - loss: nan - mean_absolute_error: na - 2s 3ms/sample - loss: nan - mean_absolute_error: nan - val_loss: 105.3384 - val_mean_absolute_error: 105.3384\n",
      "Epoch 2/5\n",
      "765/765 [==============================] - ETA: 0s - loss: 129.6395 - mean_absolute_error: 129.639 - ETA: 0s - loss: 105.0012 - mean_absolute_error: 105.001 - ETA: 0s - loss: nan - mean_absolute_error: nan          - ETA: 0s - loss: nan - mean_absolute_error: na - 0s 334us/sample - loss: nan - mean_absolute_error: nan - val_loss: 88.8755 - val_mean_absolute_error: 88.8755\n",
      "Epoch 3/5\n",
      "765/765 [==============================] - ETA: 0s - loss: 88.8880 - mean_absolute_error: 88.888 - ETA: 0s - loss: 85.2629 - mean_absolute_error: 85.262 - ETA: 0s - loss: nan - mean_absolute_error: nan        - ETA: 0s - loss: nan - mean_absolute_error: na - 0s 310us/sample - loss: nan - mean_absolute_error: nan - val_loss: 66.9884 - val_mean_absolute_error: 66.9884\n",
      "Epoch 4/5\n",
      "765/765 [==============================] - ETA: 0s - loss: 58.6755 - mean_absolute_error: 58.675 - ETA: 0s - loss: nan - mean_absolute_error: nan        - ETA: 0s - loss: nan - mean_absolute_error: na - ETA: 0s - loss: nan - mean_absolute_error: na - 0s 394us/sample - loss: nan - mean_absolute_error: nan - val_loss: 63.7913 - val_mean_absolute_error: 63.7913\n",
      "Epoch 5/5\n",
      "765/765 [==============================] - ETA: 0s - loss: 70.8463 - mean_absolute_error: 70.846 - ETA: 0s - loss: nan - mean_absolute_error: nan        - ETA: 0s - loss: nan - mean_absolute_error: na - ETA: 0s - loss: nan - mean_absolute_error: na - ETA: 0s - loss: nan - mean_absolute_error: na - 0s 514us/sample - loss: nan - mean_absolute_error: nan - val_loss: 64.8580 - val_mean_absolute_error: 64.8580\n"
     ]
    },
    {
     "data": {
      "text/html": [
       "<span style=\"color:#4527A0\"><h1 style=\"font-size:18px\">Trial complete</h1></span>"
      ],
      "text/plain": [
       "<IPython.core.display.HTML object>"
      ]
     },
     "metadata": {},
     "output_type": "display_data"
    },
    {
     "data": {
      "text/html": [
       "<span style=\"color:#4527A0\"><h1 style=\"font-size:18px\">Trial summary</h1></span>"
      ],
      "text/plain": [
       "<IPython.core.display.HTML object>"
      ]
     },
     "metadata": {},
     "output_type": "display_data"
    },
    {
     "data": {
      "text/html": [
       "<span style=\"color:cyan\"> |-Trial ID: 3fa795dba23c82359ddf2e98c5fa97a9</span>"
      ],
      "text/plain": [
       "<IPython.core.display.HTML object>"
      ]
     },
     "metadata": {},
     "output_type": "display_data"
    },
    {
     "data": {
      "text/html": [
       "<span style=\"color:cyan\"> |-Score: nan</span>"
      ],
      "text/plain": [
       "<IPython.core.display.HTML object>"
      ]
     },
     "metadata": {},
     "output_type": "display_data"
    },
    {
     "data": {
      "text/html": [
       "<span style=\"color:cyan\"> |-Best step: None</span>"
      ],
      "text/plain": [
       "<IPython.core.display.HTML object>"
      ]
     },
     "metadata": {},
     "output_type": "display_data"
    },
    {
     "data": {
      "text/html": [
       "<span style=\"color:#7E57C2\"><h2 style=\"font-size:16px\">Hyperparameters:</h2></span>"
      ],
      "text/plain": [
       "<IPython.core.display.HTML object>"
      ]
     },
     "metadata": {},
     "output_type": "display_data"
    },
    {
     "data": {
      "text/html": [
       "<span style=\"color:cyan\"> |-learning_rate: 0.0001</span>"
      ],
      "text/plain": [
       "<IPython.core.display.HTML object>"
      ]
     },
     "metadata": {},
     "output_type": "display_data"
    },
    {
     "data": {
      "text/html": [
       "<span style=\"color:blue\"> |-num_layers: 20</span>"
      ],
      "text/plain": [
       "<IPython.core.display.HTML object>"
      ]
     },
     "metadata": {},
     "output_type": "display_data"
    },
    {
     "data": {
      "text/html": [
       "<span style=\"color:cyan\"> |-units_0: 160</span>"
      ],
      "text/plain": [
       "<IPython.core.display.HTML object>"
      ]
     },
     "metadata": {},
     "output_type": "display_data"
    },
    {
     "data": {
      "text/html": [
       "<span style=\"color:blue\"> |-units_1: 64</span>"
      ],
      "text/plain": [
       "<IPython.core.display.HTML object>"
      ]
     },
     "metadata": {},
     "output_type": "display_data"
    },
    {
     "data": {
      "text/html": [
       "<span style=\"color:cyan\"> |-units_10: 32</span>"
      ],
      "text/plain": [
       "<IPython.core.display.HTML object>"
      ]
     },
     "metadata": {},
     "output_type": "display_data"
    },
    {
     "data": {
      "text/html": [
       "<span style=\"color:blue\"> |-units_11: 32</span>"
      ],
      "text/plain": [
       "<IPython.core.display.HTML object>"
      ]
     },
     "metadata": {},
     "output_type": "display_data"
    },
    {
     "data": {
      "text/html": [
       "<span style=\"color:cyan\"> |-units_12: 32</span>"
      ],
      "text/plain": [
       "<IPython.core.display.HTML object>"
      ]
     },
     "metadata": {},
     "output_type": "display_data"
    },
    {
     "data": {
      "text/html": [
       "<span style=\"color:blue\"> |-units_13: 32</span>"
      ],
      "text/plain": [
       "<IPython.core.display.HTML object>"
      ]
     },
     "metadata": {},
     "output_type": "display_data"
    },
    {
     "data": {
      "text/html": [
       "<span style=\"color:cyan\"> |-units_14: 32</span>"
      ],
      "text/plain": [
       "<IPython.core.display.HTML object>"
      ]
     },
     "metadata": {},
     "output_type": "display_data"
    },
    {
     "data": {
      "text/html": [
       "<span style=\"color:blue\"> |-units_15: 32</span>"
      ],
      "text/plain": [
       "<IPython.core.display.HTML object>"
      ]
     },
     "metadata": {},
     "output_type": "display_data"
    },
    {
     "data": {
      "text/html": [
       "<span style=\"color:cyan\"> |-units_16: 32</span>"
      ],
      "text/plain": [
       "<IPython.core.display.HTML object>"
      ]
     },
     "metadata": {},
     "output_type": "display_data"
    },
    {
     "data": {
      "text/html": [
       "<span style=\"color:blue\"> |-units_17: 32</span>"
      ],
      "text/plain": [
       "<IPython.core.display.HTML object>"
      ]
     },
     "metadata": {},
     "output_type": "display_data"
    },
    {
     "data": {
      "text/html": [
       "<span style=\"color:cyan\"> |-units_18: 32</span>"
      ],
      "text/plain": [
       "<IPython.core.display.HTML object>"
      ]
     },
     "metadata": {},
     "output_type": "display_data"
    },
    {
     "data": {
      "text/html": [
       "<span style=\"color:blue\"> |-units_19: 32</span>"
      ],
      "text/plain": [
       "<IPython.core.display.HTML object>"
      ]
     },
     "metadata": {},
     "output_type": "display_data"
    },
    {
     "data": {
      "text/html": [
       "<span style=\"color:cyan\"> |-units_2: 448</span>"
      ],
      "text/plain": [
       "<IPython.core.display.HTML object>"
      ]
     },
     "metadata": {},
     "output_type": "display_data"
    },
    {
     "data": {
      "text/html": [
       "<span style=\"color:blue\"> |-units_3: 192</span>"
      ],
      "text/plain": [
       "<IPython.core.display.HTML object>"
      ]
     },
     "metadata": {},
     "output_type": "display_data"
    },
    {
     "data": {
      "text/html": [
       "<span style=\"color:cyan\"> |-units_4: 64</span>"
      ],
      "text/plain": [
       "<IPython.core.display.HTML object>"
      ]
     },
     "metadata": {},
     "output_type": "display_data"
    },
    {
     "data": {
      "text/html": [
       "<span style=\"color:blue\"> |-units_5: 512</span>"
      ],
      "text/plain": [
       "<IPython.core.display.HTML object>"
      ]
     },
     "metadata": {},
     "output_type": "display_data"
    },
    {
     "data": {
      "text/html": [
       "<span style=\"color:cyan\"> |-units_6: 256</span>"
      ],
      "text/plain": [
       "<IPython.core.display.HTML object>"
      ]
     },
     "metadata": {},
     "output_type": "display_data"
    },
    {
     "data": {
      "text/html": [
       "<span style=\"color:blue\"> |-units_7: 32</span>"
      ],
      "text/plain": [
       "<IPython.core.display.HTML object>"
      ]
     },
     "metadata": {},
     "output_type": "display_data"
    },
    {
     "data": {
      "text/html": [
       "<span style=\"color:cyan\"> |-units_8: 32</span>"
      ],
      "text/plain": [
       "<IPython.core.display.HTML object>"
      ]
     },
     "metadata": {},
     "output_type": "display_data"
    },
    {
     "data": {
      "text/html": [
       "<span style=\"color:blue\"> |-units_9: 32</span>"
      ],
      "text/plain": [
       "<IPython.core.display.HTML object>"
      ]
     },
     "metadata": {},
     "output_type": "display_data"
    },
    {
     "name": "stdout",
     "output_type": "stream",
     "text": [
      "Train on 765 samples, validate on 328 samples\n",
      "Epoch 1/5\n",
      "765/765 [==============================] - ETA: 21s - loss: 116.1958 - mean_absolute_error: 116.19 - ETA: 1s - loss: nan - mean_absolute_error: nan           - ETA: 0s - loss: nan - mean_absolute_error: na - 1s 2ms/sample - loss: nan - mean_absolute_error: nan - val_loss: 87.3057 - val_mean_absolute_error: 87.3057\n",
      "Epoch 2/5\n",
      "765/765 [==============================] - ETA: 0s - loss: 103.0412 - mean_absolute_error: 103.041 - ETA: 0s - loss: 84.4724 - mean_absolute_error: 84.4725  - ETA: 0s - loss: 79.1691 - mean_absolute_error: 79.169 - ETA: 0s - loss: 75.7278 - mean_absolute_error: 75.727 - 0s 401us/sample - loss: nan - mean_absolute_error: nan - val_loss: 68.0989 - val_mean_absolute_error: 68.0989\n",
      "Epoch 3/5\n",
      "765/765 [==============================] - ETA: 0s - loss: 76.4270 - mean_absolute_error: 76.427 - ETA: 0s - loss: 60.9952 - mean_absolute_error: 60.995 - ETA: 0s - loss: 64.2111 - mean_absolute_error: 64.211 - 0s 353us/sample - loss: nan - mean_absolute_error: nan - val_loss: 63.9529 - val_mean_absolute_error: 63.9529\n",
      "Epoch 4/5\n",
      "765/765 [==============================] - ETA: 0s - loss: 63.4455 - mean_absolute_error: 63.445 - ETA: 0s - loss: 73.5530 - mean_absolute_error: 73.553 - ETA: 0s - loss: 71.7105 - mean_absolute_error: 71.710 - ETA: 0s - loss: nan - mean_absolute_error: nan        - ETA: 0s - loss: nan - mean_absolute_error: na - ETA: 0s - loss: nan - mean_absolute_error: na - ETA: 0s - loss: nan - mean_absolute_error: na - ETA: 0s - loss: nan - mean_absolute_error: na - 1s 752us/sample - loss: nan - mean_absolute_error: nan - val_loss: 64.1054 - val_mean_absolute_error: 64.1054\n",
      "Epoch 5/5\n",
      "765/765 [==============================] - ETA: 0s - loss: 80.1727 - mean_absolute_error: 80.172 - ETA: 0s - loss: 67.1611 - mean_absolute_error: 67.161 - ETA: 0s - loss: 66.2787 - mean_absolute_error: 66.278 - ETA: 0s - loss: 64.5518 - mean_absolute_error: 64.551 - ETA: 0s - loss: 65.2348 - mean_absolute_error: 65.234 - ETA: 0s - loss: nan - mean_absolute_error: nan        - 0s 607us/sample - loss: nan - mean_absolute_error: nan - val_loss: 64.8383 - val_mean_absolute_error: 64.8383\n",
      "Train on 765 samples, validate on 328 samples\n",
      "Epoch 1/5\n",
      "765/765 [==============================] - ETA: 20s - loss: 104.8993 - mean_absolute_error: 104.89 - ETA: 1s - loss: 82.8267 - mean_absolute_error: 82.8267   - ETA: 0s - loss: nan - mean_absolute_error: nan        - ETA: 0s - loss: nan - mean_absolute_error: na - 1s 2ms/sample - loss: nan - mean_absolute_error: nan - val_loss: 65.0588 - val_mean_absolute_error: 65.0588\n",
      "Epoch 2/5\n",
      "765/765 [==============================] - ETA: 0s - loss: 68.3039 - mean_absolute_error: 68.303 - ETA: 0s - loss: 74.6252 - mean_absolute_error: 74.625 - ETA: 0s - loss: 72.9128 - mean_absolute_error: 72.912 - 0s 278us/sample - loss: nan - mean_absolute_error: nan - val_loss: 73.6947 - val_mean_absolute_error: 73.6947\n",
      "Epoch 3/5\n",
      "765/765 [==============================] - ETA: 0s - loss: 71.0717 - mean_absolute_error: 71.071 - ETA: 0s - loss: 74.2884 - mean_absolute_error: 74.288 - ETA: 0s - loss: nan - mean_absolute_error: nan        - 0s 332us/sample - loss: nan - mean_absolute_error: nan - val_loss: 65.1372 - val_mean_absolute_error: 65.1372\n",
      "Epoch 4/5\n",
      "765/765 [==============================] - ETA: 0s - loss: 68.5176 - mean_absolute_error: 68.517 - ETA: 0s - loss: 61.5914 - mean_absolute_error: 61.591 - ETA: 0s - loss: nan - mean_absolute_error: nan        - ETA: 0s - loss: nan - mean_absolute_error: na - ETA: 0s - loss: nan - mean_absolute_error: na - 0s 496us/sample - loss: nan - mean_absolute_error: nan - val_loss: 75.3032 - val_mean_absolute_error: 75.3032\n",
      "Epoch 5/5\n",
      "765/765 [==============================] - ETA: 0s - loss: 65.9669 - mean_absolute_error: 65.966 - ETA: 0s - loss: 68.6398 - mean_absolute_error: 68.639 - ETA: 0s - loss: 71.7151 - mean_absolute_error: 71.715 - ETA: 0s - loss: 67.6160 - mean_absolute_error: 67.616 - 0s 359us/sample - loss: nan - mean_absolute_error: nan - val_loss: 62.7863 - val_mean_absolute_error: 62.7863\n",
      "Train on 765 samples, validate on 328 samples\n",
      "Epoch 1/5\n",
      "765/765 [==============================] - ETA: 21s - loss: 117.4557 - mean_absolute_error: 117.45 - ETA: 1s - loss: 86.4635 - mean_absolute_error: 86.4635   - ETA: 0s - loss: nan - mean_absolute_error: nan        - 1s 2ms/sample - loss: nan - mean_absolute_error: nan - val_loss: 68.3649 - val_mean_absolute_error: 68.3649\n",
      "Epoch 2/5\n",
      "765/765 [==============================] - ETA: 0s - loss: 68.0227 - mean_absolute_error: 68.022 - ETA: 0s - loss: 72.2658 - mean_absolute_error: 72.265 - ETA: 0s - loss: nan - mean_absolute_error: nan        - 0s 287us/sample - loss: nan - mean_absolute_error: nan - val_loss: 67.4565 - val_mean_absolute_error: 67.4565\n",
      "Epoch 3/5\n",
      "765/765 [==============================] - ETA: 0s - loss: 61.0076 - mean_absolute_error: 61.007 - ETA: 0s - loss: 61.3122 - mean_absolute_error: 61.312 - ETA: 0s - loss: 63.3279 - mean_absolute_error: 63.327 - ETA: 0s - loss: 64.4644 - mean_absolute_error: 64.464 - ETA: 0s - loss: 64.3936 - mean_absolute_error: 64.393 - ETA: 0s - loss: nan - mean_absolute_error: nan        - ETA: 0s - loss: nan - mean_absolute_error: na - 1s 657us/sample - loss: nan - mean_absolute_error: nan - val_loss: 86.6772 - val_mean_absolute_error: 86.6772\n",
      "Epoch 4/5\n",
      "765/765 [==============================] - ETA: 0s - loss: 96.3771 - mean_absolute_error: 96.377 - ETA: 0s - loss: 71.1822 - mean_absolute_error: 71.182 - ETA: 0s - loss: 75.7466 - mean_absolute_error: 75.746 - ETA: 0s - loss: 76.5675 - mean_absolute_error: 76.567 - ETA: 0s - loss: 75.8902 - mean_absolute_error: 75.890 - ETA: 0s - loss: 75.6762 - mean_absolute_error: 75.676 - ETA: 0s - loss: 74.3503 - mean_absolute_error: 74.350 - ETA: 0s - loss: nan - mean_absolute_error: nan        - 1s 701us/sample - loss: nan - mean_absolute_error: nan - val_loss: 64.8053 - val_mean_absolute_error: 64.8053\n",
      "Epoch 5/5\n",
      "765/765 [==============================] - ETA: 0s - loss: 110.1005 - mean_absolute_error: 110.100 - ETA: 0s - loss: 73.4269 - mean_absolute_error: 73.4269  - ETA: 0s - loss: 69.6785 - mean_absolute_error: 69.678 - ETA: 0s - loss: 68.6629 - mean_absolute_error: 68.662 - ETA: 0s - loss: 68.1334 - mean_absolute_error: 68.133 - ETA: 0s - loss: nan - mean_absolute_error: nan        - ETA: 0s - loss: nan - mean_absolute_error: na - 1s 679us/sample - loss: nan - mean_absolute_error: nan - val_loss: 78.9200 - val_mean_absolute_error: 78.9200\n"
     ]
    },
    {
     "data": {
      "text/html": [
       "<span style=\"color:#4527A0\"><h1 style=\"font-size:18px\">Trial complete</h1></span>"
      ],
      "text/plain": [
       "<IPython.core.display.HTML object>"
      ]
     },
     "metadata": {},
     "output_type": "display_data"
    },
    {
     "data": {
      "text/html": [
       "<span style=\"color:#4527A0\"><h1 style=\"font-size:18px\">Trial summary</h1></span>"
      ],
      "text/plain": [
       "<IPython.core.display.HTML object>"
      ]
     },
     "metadata": {},
     "output_type": "display_data"
    },
    {
     "data": {
      "text/html": [
       "<span style=\"color:cyan\"> |-Trial ID: 1a83d033c7ba55b1e9a3519003f5442c</span>"
      ],
      "text/plain": [
       "<IPython.core.display.HTML object>"
      ]
     },
     "metadata": {},
     "output_type": "display_data"
    },
    {
     "data": {
      "text/html": [
       "<span style=\"color:cyan\"> |-Score: nan</span>"
      ],
      "text/plain": [
       "<IPython.core.display.HTML object>"
      ]
     },
     "metadata": {},
     "output_type": "display_data"
    },
    {
     "data": {
      "text/html": [
       "<span style=\"color:cyan\"> |-Best step: None</span>"
      ],
      "text/plain": [
       "<IPython.core.display.HTML object>"
      ]
     },
     "metadata": {},
     "output_type": "display_data"
    },
    {
     "data": {
      "text/html": [
       "<span style=\"color:#7E57C2\"><h2 style=\"font-size:16px\">Hyperparameters:</h2></span>"
      ],
      "text/plain": [
       "<IPython.core.display.HTML object>"
      ]
     },
     "metadata": {},
     "output_type": "display_data"
    },
    {
     "data": {
      "text/html": [
       "<span style=\"color:cyan\"> |-learning_rate: 0.001</span>"
      ],
      "text/plain": [
       "<IPython.core.display.HTML object>"
      ]
     },
     "metadata": {},
     "output_type": "display_data"
    },
    {
     "data": {
      "text/html": [
       "<span style=\"color:blue\"> |-num_layers: 13</span>"
      ],
      "text/plain": [
       "<IPython.core.display.HTML object>"
      ]
     },
     "metadata": {},
     "output_type": "display_data"
    },
    {
     "data": {
      "text/html": [
       "<span style=\"color:cyan\"> |-units_0: 480</span>"
      ],
      "text/plain": [
       "<IPython.core.display.HTML object>"
      ]
     },
     "metadata": {},
     "output_type": "display_data"
    },
    {
     "data": {
      "text/html": [
       "<span style=\"color:blue\"> |-units_1: 480</span>"
      ],
      "text/plain": [
       "<IPython.core.display.HTML object>"
      ]
     },
     "metadata": {},
     "output_type": "display_data"
    },
    {
     "data": {
      "text/html": [
       "<span style=\"color:cyan\"> |-units_10: 480</span>"
      ],
      "text/plain": [
       "<IPython.core.display.HTML object>"
      ]
     },
     "metadata": {},
     "output_type": "display_data"
    },
    {
     "data": {
      "text/html": [
       "<span style=\"color:blue\"> |-units_11: 480</span>"
      ],
      "text/plain": [
       "<IPython.core.display.HTML object>"
      ]
     },
     "metadata": {},
     "output_type": "display_data"
    },
    {
     "data": {
      "text/html": [
       "<span style=\"color:cyan\"> |-units_12: 256</span>"
      ],
      "text/plain": [
       "<IPython.core.display.HTML object>"
      ]
     },
     "metadata": {},
     "output_type": "display_data"
    },
    {
     "data": {
      "text/html": [
       "<span style=\"color:blue\"> |-units_13: 416</span>"
      ],
      "text/plain": [
       "<IPython.core.display.HTML object>"
      ]
     },
     "metadata": {},
     "output_type": "display_data"
    },
    {
     "data": {
      "text/html": [
       "<span style=\"color:cyan\"> |-units_14: 448</span>"
      ],
      "text/plain": [
       "<IPython.core.display.HTML object>"
      ]
     },
     "metadata": {},
     "output_type": "display_data"
    },
    {
     "data": {
      "text/html": [
       "<span style=\"color:blue\"> |-units_15: 320</span>"
      ],
      "text/plain": [
       "<IPython.core.display.HTML object>"
      ]
     },
     "metadata": {},
     "output_type": "display_data"
    },
    {
     "data": {
      "text/html": [
       "<span style=\"color:cyan\"> |-units_16: 352</span>"
      ],
      "text/plain": [
       "<IPython.core.display.HTML object>"
      ]
     },
     "metadata": {},
     "output_type": "display_data"
    },
    {
     "data": {
      "text/html": [
       "<span style=\"color:blue\"> |-units_17: 384</span>"
      ],
      "text/plain": [
       "<IPython.core.display.HTML object>"
      ]
     },
     "metadata": {},
     "output_type": "display_data"
    },
    {
     "data": {
      "text/html": [
       "<span style=\"color:cyan\"> |-units_18: 160</span>"
      ],
      "text/plain": [
       "<IPython.core.display.HTML object>"
      ]
     },
     "metadata": {},
     "output_type": "display_data"
    },
    {
     "data": {
      "text/html": [
       "<span style=\"color:blue\"> |-units_19: 256</span>"
      ],
      "text/plain": [
       "<IPython.core.display.HTML object>"
      ]
     },
     "metadata": {},
     "output_type": "display_data"
    },
    {
     "data": {
      "text/html": [
       "<span style=\"color:cyan\"> |-units_2: 352</span>"
      ],
      "text/plain": [
       "<IPython.core.display.HTML object>"
      ]
     },
     "metadata": {},
     "output_type": "display_data"
    },
    {
     "data": {
      "text/html": [
       "<span style=\"color:blue\"> |-units_3: 288</span>"
      ],
      "text/plain": [
       "<IPython.core.display.HTML object>"
      ]
     },
     "metadata": {},
     "output_type": "display_data"
    },
    {
     "data": {
      "text/html": [
       "<span style=\"color:cyan\"> |-units_4: 288</span>"
      ],
      "text/plain": [
       "<IPython.core.display.HTML object>"
      ]
     },
     "metadata": {},
     "output_type": "display_data"
    },
    {
     "data": {
      "text/html": [
       "<span style=\"color:blue\"> |-units_5: 320</span>"
      ],
      "text/plain": [
       "<IPython.core.display.HTML object>"
      ]
     },
     "metadata": {},
     "output_type": "display_data"
    },
    {
     "data": {
      "text/html": [
       "<span style=\"color:cyan\"> |-units_6: 96</span>"
      ],
      "text/plain": [
       "<IPython.core.display.HTML object>"
      ]
     },
     "metadata": {},
     "output_type": "display_data"
    },
    {
     "data": {
      "text/html": [
       "<span style=\"color:blue\"> |-units_7: 128</span>"
      ],
      "text/plain": [
       "<IPython.core.display.HTML object>"
      ]
     },
     "metadata": {},
     "output_type": "display_data"
    },
    {
     "data": {
      "text/html": [
       "<span style=\"color:cyan\"> |-units_8: 416</span>"
      ],
      "text/plain": [
       "<IPython.core.display.HTML object>"
      ]
     },
     "metadata": {},
     "output_type": "display_data"
    },
    {
     "data": {
      "text/html": [
       "<span style=\"color:blue\"> |-units_9: 96</span>"
      ],
      "text/plain": [
       "<IPython.core.display.HTML object>"
      ]
     },
     "metadata": {},
     "output_type": "display_data"
    },
    {
     "name": "stdout",
     "output_type": "stream",
     "text": [
      "Train on 765 samples, validate on 328 samples\n",
      "Epoch 1/5\n",
      "765/765 [==============================] - ETA: 13s - loss: 70.7938 - mean_absolute_error: 70.79 - ETA: 1s - loss: nan - mean_absolute_error: nan         - ETA: 0s - loss: nan - mean_absolute_error: na - ETA: 0s - loss: nan - mean_absolute_error: na - 1s 1ms/sample - loss: nan - mean_absolute_error: nan - val_loss: 63.2703 - val_mean_absolute_error: 63.2703\n",
      "Epoch 2/5\n",
      "765/765 [==============================] - ETA: 0s - loss: 94.7162 - mean_absolute_error: 94.716 - ETA: 0s - loss: 67.7275 - mean_absolute_error: 67.727 - ETA: 0s - loss: 68.2655 - mean_absolute_error: 68.265 - 0s 253us/sample - loss: nan - mean_absolute_error: nan - val_loss: 63.3852 - val_mean_absolute_error: 63.3852\n",
      "Epoch 3/5\n",
      "765/765 [==============================] - ETA: 0s - loss: nan - mean_absolute_error: na - ETA: 0s - loss: nan - mean_absolute_error: na - 0s 211us/sample - loss: nan - mean_absolute_error: nan - val_loss: 63.4251 - val_mean_absolute_error: 63.4251\n",
      "Epoch 4/5\n",
      "765/765 [==============================] - ETA: 0s - loss: 69.2195 - mean_absolute_error: 69.219 - ETA: 0s - loss: 61.4309 - mean_absolute_error: 61.430 - ETA: 0s - loss: nan - mean_absolute_error: nan        - ETA: 0s - loss: nan - mean_absolute_error: na - 0s 335us/sample - loss: nan - mean_absolute_error: nan - val_loss: 63.3483 - val_mean_absolute_error: 63.3483\n",
      "Epoch 5/5\n",
      "765/765 [==============================] - ETA: 0s - loss: 81.7401 - mean_absolute_error: 81.740 - ETA: 0s - loss: 69.5258 - mean_absolute_error: 69.525 - ETA: 0s - loss: nan - mean_absolute_error: nan        - ETA: 0s - loss: nan - mean_absolute_error: na - ETA: 0s - loss: nan - mean_absolute_error: na - 0s 503us/sample - loss: nan - mean_absolute_error: nan - val_loss: 63.3549 - val_mean_absolute_error: 63.3549\n",
      "Train on 765 samples, validate on 328 samples\n",
      "Epoch 1/5\n",
      "765/765 [==============================] - ETA: 14s - loss: 130.1239 - mean_absolute_error: 130.12 - ETA: 1s - loss: 115.7632 - mean_absolute_error: 115.7632 - ETA: 0s - loss: nan - mean_absolute_error: nan          - ETA: 0s - loss: nan - mean_absolute_error: na - 1s 1ms/sample - loss: nan - mean_absolute_error: nan - val_loss: 65.1289 - val_mean_absolute_error: 65.1289\n",
      "Epoch 2/5\n",
      "765/765 [==============================] - ETA: 0s - loss: 68.1602 - mean_absolute_error: 68.160 - ETA: 0s - loss: 64.6981 - mean_absolute_error: 64.698 - ETA: 0s - loss: 66.4724 - mean_absolute_error: 66.472 - 0s 304us/sample - loss: nan - mean_absolute_error: nan - val_loss: 63.5475 - val_mean_absolute_error: 63.5475\n",
      "Epoch 3/5\n",
      "765/765 [==============================] - ETA: 0s - loss: 54.2950 - mean_absolute_error: 54.295 - ETA: 0s - loss: 64.3724 - mean_absolute_error: 64.372 - ETA: 0s - loss: 64.2602 - mean_absolute_error: 64.260 - ETA: 0s - loss: nan - mean_absolute_error: nan        - 0s 360us/sample - loss: nan - mean_absolute_error: nan - val_loss: 63.9764 - val_mean_absolute_error: 63.9764\n",
      "Epoch 4/5\n",
      "765/765 [==============================] - ETA: 0s - loss: 60.0729 - mean_absolute_error: 60.072 - ETA: 0s - loss: nan - mean_absolute_error: nan        - ETA: 0s - loss: nan - mean_absolute_error: na - ETA: 0s - loss: nan - mean_absolute_error: na - 0s 417us/sample - loss: nan - mean_absolute_error: nan - val_loss: 63.3473 - val_mean_absolute_error: 63.3473\n",
      "Epoch 5/5\n",
      "765/765 [==============================] - ETA: 0s - loss: 66.7730 - mean_absolute_error: 66.773 - ETA: 0s - loss: 68.0626 - mean_absolute_error: 68.062 - ETA: 0s - loss: nan - mean_absolute_error: nan        - ETA: 0s - loss: nan - mean_absolute_error: na - ETA: 0s - loss: nan - mean_absolute_error: na - 0s 482us/sample - loss: nan - mean_absolute_error: nan - val_loss: 63.4643 - val_mean_absolute_error: 63.4644\n",
      "Train on 765 samples, validate on 328 samples\n",
      "Epoch 1/5\n",
      "765/765 [==============================] - ETA: 12s - loss: 90.4558 - mean_absolute_error: 90.45 - ETA: 0s - loss: 71.4027 - mean_absolute_error: 71.4027 - ETA: 0s - loss: nan - mean_absolute_error: nan        - 1s 1ms/sample - loss: nan - mean_absolute_error: nan - val_loss: 63.4088 - val_mean_absolute_error: 63.4088\n",
      "Epoch 2/5\n",
      "765/765 [==============================] - ETA: 0s - loss: 49.2980 - mean_absolute_error: 49.298 - ETA: 0s - loss: 67.6741 - mean_absolute_error: 67.674 - ETA: 0s - loss: nan - mean_absolute_error: nan        - 0s 282us/sample - loss: nan - mean_absolute_error: nan - val_loss: 63.0773 - val_mean_absolute_error: 63.0773\n",
      "Epoch 3/5\n",
      "765/765 [==============================] - ETA: 0s - loss: 71.9951 - mean_absolute_error: 71.995 - ETA: 0s - loss: 65.9001 - mean_absolute_error: 65.900 - ETA: 0s - loss: nan - mean_absolute_error: nan        - 0s 222us/sample - loss: nan - mean_absolute_error: nan - val_loss: 64.4975 - val_mean_absolute_error: 64.4975\n",
      "Epoch 4/5\n",
      "765/765 [==============================] - ETA: 0s - loss: 68.3365 - mean_absolute_error: 68.336 - ETA: 0s - loss: 65.2544 - mean_absolute_error: 65.254 - ETA: 0s - loss: nan - mean_absolute_error: nan        - 0s 248us/sample - loss: nan - mean_absolute_error: nan - val_loss: 62.5956 - val_mean_absolute_error: 62.5956\n",
      "Epoch 5/5\n",
      "765/765 [==============================] - ETA: 0s - loss: 69.9714 - mean_absolute_error: 69.971 - ETA: 0s - loss: nan - mean_absolute_error: nan        - ETA: 0s - loss: nan - mean_absolute_error: na - 0s 227us/sample - loss: nan - mean_absolute_error: nan - val_loss: 62.5190 - val_mean_absolute_error: 62.5190\n"
     ]
    },
    {
     "data": {
      "text/html": [
       "<span style=\"color:#4527A0\"><h1 style=\"font-size:18px\">Trial complete</h1></span>"
      ],
      "text/plain": [
       "<IPython.core.display.HTML object>"
      ]
     },
     "metadata": {},
     "output_type": "display_data"
    },
    {
     "data": {
      "text/html": [
       "<span style=\"color:#4527A0\"><h1 style=\"font-size:18px\">Trial summary</h1></span>"
      ],
      "text/plain": [
       "<IPython.core.display.HTML object>"
      ]
     },
     "metadata": {},
     "output_type": "display_data"
    },
    {
     "data": {
      "text/html": [
       "<span style=\"color:cyan\"> |-Trial ID: 83435080a1b357d84357aedced54a24d</span>"
      ],
      "text/plain": [
       "<IPython.core.display.HTML object>"
      ]
     },
     "metadata": {},
     "output_type": "display_data"
    },
    {
     "data": {
      "text/html": [
       "<span style=\"color:cyan\"> |-Score: nan</span>"
      ],
      "text/plain": [
       "<IPython.core.display.HTML object>"
      ]
     },
     "metadata": {},
     "output_type": "display_data"
    },
    {
     "data": {
      "text/html": [
       "<span style=\"color:cyan\"> |-Best step: None</span>"
      ],
      "text/plain": [
       "<IPython.core.display.HTML object>"
      ]
     },
     "metadata": {},
     "output_type": "display_data"
    },
    {
     "data": {
      "text/html": [
       "<span style=\"color:#7E57C2\"><h2 style=\"font-size:16px\">Hyperparameters:</h2></span>"
      ],
      "text/plain": [
       "<IPython.core.display.HTML object>"
      ]
     },
     "metadata": {},
     "output_type": "display_data"
    },
    {
     "data": {
      "text/html": [
       "<span style=\"color:cyan\"> |-learning_rate: 0.0001</span>"
      ],
      "text/plain": [
       "<IPython.core.display.HTML object>"
      ]
     },
     "metadata": {},
     "output_type": "display_data"
    },
    {
     "data": {
      "text/html": [
       "<span style=\"color:blue\"> |-num_layers: 4</span>"
      ],
      "text/plain": [
       "<IPython.core.display.HTML object>"
      ]
     },
     "metadata": {},
     "output_type": "display_data"
    },
    {
     "data": {
      "text/html": [
       "<span style=\"color:cyan\"> |-units_0: 416</span>"
      ],
      "text/plain": [
       "<IPython.core.display.HTML object>"
      ]
     },
     "metadata": {},
     "output_type": "display_data"
    },
    {
     "data": {
      "text/html": [
       "<span style=\"color:blue\"> |-units_1: 352</span>"
      ],
      "text/plain": [
       "<IPython.core.display.HTML object>"
      ]
     },
     "metadata": {},
     "output_type": "display_data"
    },
    {
     "data": {
      "text/html": [
       "<span style=\"color:cyan\"> |-units_10: 96</span>"
      ],
      "text/plain": [
       "<IPython.core.display.HTML object>"
      ]
     },
     "metadata": {},
     "output_type": "display_data"
    },
    {
     "data": {
      "text/html": [
       "<span style=\"color:blue\"> |-units_11: 32</span>"
      ],
      "text/plain": [
       "<IPython.core.display.HTML object>"
      ]
     },
     "metadata": {},
     "output_type": "display_data"
    },
    {
     "data": {
      "text/html": [
       "<span style=\"color:cyan\"> |-units_12: 32</span>"
      ],
      "text/plain": [
       "<IPython.core.display.HTML object>"
      ]
     },
     "metadata": {},
     "output_type": "display_data"
    },
    {
     "data": {
      "text/html": [
       "<span style=\"color:blue\"> |-units_13: 192</span>"
      ],
      "text/plain": [
       "<IPython.core.display.HTML object>"
      ]
     },
     "metadata": {},
     "output_type": "display_data"
    },
    {
     "data": {
      "text/html": [
       "<span style=\"color:cyan\"> |-units_14: 96</span>"
      ],
      "text/plain": [
       "<IPython.core.display.HTML object>"
      ]
     },
     "metadata": {},
     "output_type": "display_data"
    },
    {
     "data": {
      "text/html": [
       "<span style=\"color:blue\"> |-units_15: 416</span>"
      ],
      "text/plain": [
       "<IPython.core.display.HTML object>"
      ]
     },
     "metadata": {},
     "output_type": "display_data"
    },
    {
     "data": {
      "text/html": [
       "<span style=\"color:cyan\"> |-units_16: 416</span>"
      ],
      "text/plain": [
       "<IPython.core.display.HTML object>"
      ]
     },
     "metadata": {},
     "output_type": "display_data"
    },
    {
     "data": {
      "text/html": [
       "<span style=\"color:blue\"> |-units_17: 480</span>"
      ],
      "text/plain": [
       "<IPython.core.display.HTML object>"
      ]
     },
     "metadata": {},
     "output_type": "display_data"
    },
    {
     "data": {
      "text/html": [
       "<span style=\"color:cyan\"> |-units_18: 320</span>"
      ],
      "text/plain": [
       "<IPython.core.display.HTML object>"
      ]
     },
     "metadata": {},
     "output_type": "display_data"
    },
    {
     "data": {
      "text/html": [
       "<span style=\"color:blue\"> |-units_19: 512</span>"
      ],
      "text/plain": [
       "<IPython.core.display.HTML object>"
      ]
     },
     "metadata": {},
     "output_type": "display_data"
    },
    {
     "data": {
      "text/html": [
       "<span style=\"color:cyan\"> |-units_2: 128</span>"
      ],
      "text/plain": [
       "<IPython.core.display.HTML object>"
      ]
     },
     "metadata": {},
     "output_type": "display_data"
    },
    {
     "data": {
      "text/html": [
       "<span style=\"color:blue\"> |-units_3: 256</span>"
      ],
      "text/plain": [
       "<IPython.core.display.HTML object>"
      ]
     },
     "metadata": {},
     "output_type": "display_data"
    },
    {
     "data": {
      "text/html": [
       "<span style=\"color:cyan\"> |-units_4: 96</span>"
      ],
      "text/plain": [
       "<IPython.core.display.HTML object>"
      ]
     },
     "metadata": {},
     "output_type": "display_data"
    },
    {
     "data": {
      "text/html": [
       "<span style=\"color:blue\"> |-units_5: 384</span>"
      ],
      "text/plain": [
       "<IPython.core.display.HTML object>"
      ]
     },
     "metadata": {},
     "output_type": "display_data"
    },
    {
     "data": {
      "text/html": [
       "<span style=\"color:cyan\"> |-units_6: 256</span>"
      ],
      "text/plain": [
       "<IPython.core.display.HTML object>"
      ]
     },
     "metadata": {},
     "output_type": "display_data"
    },
    {
     "data": {
      "text/html": [
       "<span style=\"color:blue\"> |-units_7: 288</span>"
      ],
      "text/plain": [
       "<IPython.core.display.HTML object>"
      ]
     },
     "metadata": {},
     "output_type": "display_data"
    },
    {
     "data": {
      "text/html": [
       "<span style=\"color:cyan\"> |-units_8: 384</span>"
      ],
      "text/plain": [
       "<IPython.core.display.HTML object>"
      ]
     },
     "metadata": {},
     "output_type": "display_data"
    },
    {
     "data": {
      "text/html": [
       "<span style=\"color:blue\"> |-units_9: 352</span>"
      ],
      "text/plain": [
       "<IPython.core.display.HTML object>"
      ]
     },
     "metadata": {},
     "output_type": "display_data"
    },
    {
     "name": "stdout",
     "output_type": "stream",
     "text": [
      "Train on 765 samples, validate on 328 samples\n",
      "Epoch 1/5\n",
      "765/765 [==============================] - ETA: 15s - loss: 134.9104 - mean_absolute_error: 134.91 - ETA: 1s - loss: nan - mean_absolute_error: nan           - ETA: 0s - loss: nan - mean_absolute_error: na - ETA: 0s - loss: nan - mean_absolute_error: na - 1s 1ms/sample - loss: nan - mean_absolute_error: nan - val_loss: 63.1071 - val_mean_absolute_error: 63.1071\n",
      "Epoch 2/5\n",
      "765/765 [==============================] - ETA: 0s - loss: 67.3385 - mean_absolute_error: 67.338 - ETA: 0s - loss: 66.7490 - mean_absolute_error: 66.749 - ETA: 0s - loss: 70.1135 - mean_absolute_error: 70.113 - 0s 305us/sample - loss: nan - mean_absolute_error: nan - val_loss: 62.0210 - val_mean_absolute_error: 62.0210\n",
      "Epoch 3/5\n",
      "765/765 [==============================] - ETA: 0s - loss: 52.7181 - mean_absolute_error: 52.718 - ETA: 0s - loss: 63.0859 - mean_absolute_error: 63.085 - ETA: 0s - loss: 63.2776 - mean_absolute_error: 63.277 - ETA: 0s - loss: nan - mean_absolute_error: nan        - 0s 344us/sample - loss: nan - mean_absolute_error: nan - val_loss: 67.7673 - val_mean_absolute_error: 67.7673\n",
      "Epoch 4/5\n",
      "765/765 [==============================] - ETA: 0s - loss: 61.3051 - mean_absolute_error: 61.305 - ETA: 0s - loss: nan - mean_absolute_error: nan        - ETA: 0s - loss: nan - mean_absolute_error: na - ETA: 0s - loss: nan - mean_absolute_error: na - 0s 381us/sample - loss: nan - mean_absolute_error: nan - val_loss: 71.1291 - val_mean_absolute_error: 71.1291\n",
      "Epoch 5/5\n",
      "765/765 [==============================] - ETA: 0s - loss: 61.4011 - mean_absolute_error: 61.401 - ETA: 0s - loss: 53.1617 - mean_absolute_error: 53.161 - ETA: 0s - loss: 52.3878 - mean_absolute_error: 52.387 - ETA: 0s - loss: nan - mean_absolute_error: nan        - ETA: 0s - loss: nan - mean_absolute_error: na - ETA: 0s - loss: nan - mean_absolute_error: na - 0s 550us/sample - loss: nan - mean_absolute_error: nan - val_loss: 53.0627 - val_mean_absolute_error: 53.0627\n",
      "Train on 765 samples, validate on 328 samples\n",
      "Epoch 1/5\n",
      "765/765 [==============================] - ETA: 12s - loss: 159.1579 - mean_absolute_error: 159.15 - ETA: 0s - loss: nan - mean_absolute_error: nan           - ETA: 0s - loss: nan - mean_absolute_error: na - 1s 1ms/sample - loss: nan - mean_absolute_error: nan - val_loss: 63.1449 - val_mean_absolute_error: 63.1449\n",
      "Epoch 2/5\n",
      "765/765 [==============================] - ETA: 0s - loss: 68.0254 - mean_absolute_error: 68.025 - ETA: 0s - loss: nan - mean_absolute_error: nan        - ETA: 0s - loss: nan - mean_absolute_error: na - 0s 223us/sample - loss: nan - mean_absolute_error: nan - val_loss: 62.3783 - val_mean_absolute_error: 62.3783\n",
      "Epoch 3/5\n",
      "765/765 [==============================] - ETA: 0s - loss: 53.8861 - mean_absolute_error: 53.886 - ETA: 0s - loss: nan - mean_absolute_error: nan        - ETA: 0s - loss: nan - mean_absolute_error: na - 0s 226us/sample - loss: nan - mean_absolute_error: nan - val_loss: 63.6409 - val_mean_absolute_error: 63.6409\n",
      "Epoch 4/5\n",
      "765/765 [==============================] - ETA: 0s - loss: 60.6471 - mean_absolute_error: 60.647 - ETA: 0s - loss: 62.7325 - mean_absolute_error: 62.732 - ETA: 0s - loss: nan - mean_absolute_error: nan        - 0s 261us/sample - loss: nan - mean_absolute_error: nan - val_loss: 51.7745 - val_mean_absolute_error: 51.7746\n",
      "Epoch 5/5\n",
      "765/765 [==============================] - ETA: 0s - loss: 49.3678 - mean_absolute_error: 49.367 - ETA: 0s - loss: nan - mean_absolute_error: nan        - ETA: 0s - loss: nan - mean_absolute_error: na - 0s 255us/sample - loss: nan - mean_absolute_error: nan - val_loss: 49.6659 - val_mean_absolute_error: 49.6659\n",
      "Train on 765 samples, validate on 328 samples\n",
      "Epoch 1/5\n",
      "765/765 [==============================] - ETA: 11s - loss: 130.4848 - mean_absolute_error: 130.48 - ETA: 0s - loss: 260.2305 - mean_absolute_error: 260.2305 - ETA: 0s - loss: nan - mean_absolute_error: nan          - 1s 1ms/sample - loss: nan - mean_absolute_error: nan - val_loss: 67.2783 - val_mean_absolute_error: 67.2783\n",
      "Epoch 2/5\n",
      "765/765 [==============================] - ETA: 0s - loss: 73.9609 - mean_absolute_error: 73.960 - ETA: 0s - loss: 69.6628 - mean_absolute_error: 69.662 - ETA: 0s - loss: 69.6837 - mean_absolute_error: 69.683 - 0s 292us/sample - loss: nan - mean_absolute_error: nan - val_loss: 61.5775 - val_mean_absolute_error: 61.5775\n",
      "Epoch 3/5\n",
      "765/765 [==============================] - ETA: 0s - loss: 61.6417 - mean_absolute_error: 61.641 - ETA: 0s - loss: nan - mean_absolute_error: nan        - ETA: 0s - loss: nan - mean_absolute_error: na - ETA: 0s - loss: nan - mean_absolute_error: na - 0s 332us/sample - loss: nan - mean_absolute_error: nan - val_loss: 57.1240 - val_mean_absolute_error: 57.1240\n",
      "Epoch 4/5\n",
      "765/765 [==============================] - ETA: 0s - loss: 57.7003 - mean_absolute_error: 57.700 - ETA: 0s - loss: 63.7579 - mean_absolute_error: 63.757 - ETA: 0s - loss: nan - mean_absolute_error: nan        - ETA: 0s - loss: nan - mean_absolute_error: na - 0s 314us/sample - loss: nan - mean_absolute_error: nan - val_loss: 51.0724 - val_mean_absolute_error: 51.0724\n",
      "Epoch 5/5\n",
      "765/765 [==============================] - ETA: 0s - loss: 37.0971 - mean_absolute_error: 37.097 - ETA: 0s - loss: nan - mean_absolute_error: nan        - ETA: 0s - loss: nan - mean_absolute_error: na - 0s 235us/sample - loss: nan - mean_absolute_error: nan - val_loss: 51.2520 - val_mean_absolute_error: 51.2520\n"
     ]
    },
    {
     "data": {
      "text/html": [
       "<span style=\"color:#4527A0\"><h1 style=\"font-size:18px\">Trial complete</h1></span>"
      ],
      "text/plain": [
       "<IPython.core.display.HTML object>"
      ]
     },
     "metadata": {},
     "output_type": "display_data"
    },
    {
     "data": {
      "text/html": [
       "<span style=\"color:#4527A0\"><h1 style=\"font-size:18px\">Trial summary</h1></span>"
      ],
      "text/plain": [
       "<IPython.core.display.HTML object>"
      ]
     },
     "metadata": {},
     "output_type": "display_data"
    },
    {
     "data": {
      "text/html": [
       "<span style=\"color:cyan\"> |-Trial ID: d26dde332f54a9eebe8d4fae39e58e66</span>"
      ],
      "text/plain": [
       "<IPython.core.display.HTML object>"
      ]
     },
     "metadata": {},
     "output_type": "display_data"
    },
    {
     "data": {
      "text/html": [
       "<span style=\"color:cyan\"> |-Score: nan</span>"
      ],
      "text/plain": [
       "<IPython.core.display.HTML object>"
      ]
     },
     "metadata": {},
     "output_type": "display_data"
    },
    {
     "data": {
      "text/html": [
       "<span style=\"color:cyan\"> |-Best step: None</span>"
      ],
      "text/plain": [
       "<IPython.core.display.HTML object>"
      ]
     },
     "metadata": {},
     "output_type": "display_data"
    },
    {
     "data": {
      "text/html": [
       "<span style=\"color:#7E57C2\"><h2 style=\"font-size:16px\">Hyperparameters:</h2></span>"
      ],
      "text/plain": [
       "<IPython.core.display.HTML object>"
      ]
     },
     "metadata": {},
     "output_type": "display_data"
    },
    {
     "data": {
      "text/html": [
       "<span style=\"color:cyan\"> |-learning_rate: 0.01</span>"
      ],
      "text/plain": [
       "<IPython.core.display.HTML object>"
      ]
     },
     "metadata": {},
     "output_type": "display_data"
    },
    {
     "data": {
      "text/html": [
       "<span style=\"color:blue\"> |-num_layers: 4</span>"
      ],
      "text/plain": [
       "<IPython.core.display.HTML object>"
      ]
     },
     "metadata": {},
     "output_type": "display_data"
    },
    {
     "data": {
      "text/html": [
       "<span style=\"color:cyan\"> |-units_0: 64</span>"
      ],
      "text/plain": [
       "<IPython.core.display.HTML object>"
      ]
     },
     "metadata": {},
     "output_type": "display_data"
    },
    {
     "data": {
      "text/html": [
       "<span style=\"color:blue\"> |-units_1: 512</span>"
      ],
      "text/plain": [
       "<IPython.core.display.HTML object>"
      ]
     },
     "metadata": {},
     "output_type": "display_data"
    },
    {
     "data": {
      "text/html": [
       "<span style=\"color:cyan\"> |-units_10: 224</span>"
      ],
      "text/plain": [
       "<IPython.core.display.HTML object>"
      ]
     },
     "metadata": {},
     "output_type": "display_data"
    },
    {
     "data": {
      "text/html": [
       "<span style=\"color:blue\"> |-units_11: 224</span>"
      ],
      "text/plain": [
       "<IPython.core.display.HTML object>"
      ]
     },
     "metadata": {},
     "output_type": "display_data"
    },
    {
     "data": {
      "text/html": [
       "<span style=\"color:cyan\"> |-units_12: 96</span>"
      ],
      "text/plain": [
       "<IPython.core.display.HTML object>"
      ]
     },
     "metadata": {},
     "output_type": "display_data"
    },
    {
     "data": {
      "text/html": [
       "<span style=\"color:blue\"> |-units_13: 384</span>"
      ],
      "text/plain": [
       "<IPython.core.display.HTML object>"
      ]
     },
     "metadata": {},
     "output_type": "display_data"
    },
    {
     "data": {
      "text/html": [
       "<span style=\"color:cyan\"> |-units_14: 384</span>"
      ],
      "text/plain": [
       "<IPython.core.display.HTML object>"
      ]
     },
     "metadata": {},
     "output_type": "display_data"
    },
    {
     "data": {
      "text/html": [
       "<span style=\"color:blue\"> |-units_15: 160</span>"
      ],
      "text/plain": [
       "<IPython.core.display.HTML object>"
      ]
     },
     "metadata": {},
     "output_type": "display_data"
    },
    {
     "data": {
      "text/html": [
       "<span style=\"color:cyan\"> |-units_16: 160</span>"
      ],
      "text/plain": [
       "<IPython.core.display.HTML object>"
      ]
     },
     "metadata": {},
     "output_type": "display_data"
    },
    {
     "data": {
      "text/html": [
       "<span style=\"color:blue\"> |-units_17: 320</span>"
      ],
      "text/plain": [
       "<IPython.core.display.HTML object>"
      ]
     },
     "metadata": {},
     "output_type": "display_data"
    },
    {
     "data": {
      "text/html": [
       "<span style=\"color:cyan\"> |-units_18: 192</span>"
      ],
      "text/plain": [
       "<IPython.core.display.HTML object>"
      ]
     },
     "metadata": {},
     "output_type": "display_data"
    },
    {
     "data": {
      "text/html": [
       "<span style=\"color:blue\"> |-units_19: 256</span>"
      ],
      "text/plain": [
       "<IPython.core.display.HTML object>"
      ]
     },
     "metadata": {},
     "output_type": "display_data"
    },
    {
     "data": {
      "text/html": [
       "<span style=\"color:cyan\"> |-units_2: 416</span>"
      ],
      "text/plain": [
       "<IPython.core.display.HTML object>"
      ]
     },
     "metadata": {},
     "output_type": "display_data"
    },
    {
     "data": {
      "text/html": [
       "<span style=\"color:blue\"> |-units_3: 512</span>"
      ],
      "text/plain": [
       "<IPython.core.display.HTML object>"
      ]
     },
     "metadata": {},
     "output_type": "display_data"
    },
    {
     "data": {
      "text/html": [
       "<span style=\"color:cyan\"> |-units_4: 512</span>"
      ],
      "text/plain": [
       "<IPython.core.display.HTML object>"
      ]
     },
     "metadata": {},
     "output_type": "display_data"
    },
    {
     "data": {
      "text/html": [
       "<span style=\"color:blue\"> |-units_5: 416</span>"
      ],
      "text/plain": [
       "<IPython.core.display.HTML object>"
      ]
     },
     "metadata": {},
     "output_type": "display_data"
    },
    {
     "data": {
      "text/html": [
       "<span style=\"color:cyan\"> |-units_6: 352</span>"
      ],
      "text/plain": [
       "<IPython.core.display.HTML object>"
      ]
     },
     "metadata": {},
     "output_type": "display_data"
    },
    {
     "data": {
      "text/html": [
       "<span style=\"color:blue\"> |-units_7: 448</span>"
      ],
      "text/plain": [
       "<IPython.core.display.HTML object>"
      ]
     },
     "metadata": {},
     "output_type": "display_data"
    },
    {
     "data": {
      "text/html": [
       "<span style=\"color:cyan\"> |-units_8: 480</span>"
      ],
      "text/plain": [
       "<IPython.core.display.HTML object>"
      ]
     },
     "metadata": {},
     "output_type": "display_data"
    },
    {
     "data": {
      "text/html": [
       "<span style=\"color:blue\"> |-units_9: 128</span>"
      ],
      "text/plain": [
       "<IPython.core.display.HTML object>"
      ]
     },
     "metadata": {},
     "output_type": "display_data"
    },
    {
     "name": "stdout",
     "output_type": "stream",
     "text": [
      "INFO:tensorflow:Oracle triggered exit\n"
     ]
    }
   ],
   "source": [
    "tuner.search(X_train.values, y_train.values,\n",
    "             epochs=5,\n",
    "             validation_data=(X_test.values, y_test.values))"
   ]
  },
  {
   "cell_type": "code",
   "execution_count": 91,
   "metadata": {},
   "outputs": [
    {
     "data": {
      "text/html": [
       "<span style=\"color:#4527A0\"><h1 style=\"font-size:18px\">Results summary</h1></span>"
      ],
      "text/plain": [
       "<IPython.core.display.HTML object>"
      ]
     },
     "metadata": {},
     "output_type": "display_data"
    },
    {
     "data": {
      "text/html": [
       "<span style=\"color:cyan\"> |-Results in project\\Air Quality Index</span>"
      ],
      "text/plain": [
       "<IPython.core.display.HTML object>"
      ]
     },
     "metadata": {},
     "output_type": "display_data"
    },
    {
     "data": {
      "text/html": [
       "<span style=\"color:cyan\"> |-Showing 10 best trials</span>"
      ],
      "text/plain": [
       "<IPython.core.display.HTML object>"
      ]
     },
     "metadata": {},
     "output_type": "display_data"
    },
    {
     "data": {
      "text/html": [
       "<span style=\"color:cyan\"> |-Objective(name='mean_absolute_error', direction='min')</span>"
      ],
      "text/plain": [
       "<IPython.core.display.HTML object>"
      ]
     },
     "metadata": {},
     "output_type": "display_data"
    },
    {
     "data": {
      "text/html": [
       "<span style=\"color:#4527A0\"><h1 style=\"font-size:18px\">Trial summary</h1></span>"
      ],
      "text/plain": [
       "<IPython.core.display.HTML object>"
      ]
     },
     "metadata": {},
     "output_type": "display_data"
    },
    {
     "data": {
      "text/html": [
       "<span style=\"color:cyan\"> |-Trial ID: 0e3320f701aecdf743b98f9ad6156c62</span>"
      ],
      "text/plain": [
       "<IPython.core.display.HTML object>"
      ]
     },
     "metadata": {},
     "output_type": "display_data"
    },
    {
     "data": {
      "text/html": [
       "<span style=\"color:cyan\"> |-Score: nan</span>"
      ],
      "text/plain": [
       "<IPython.core.display.HTML object>"
      ]
     },
     "metadata": {},
     "output_type": "display_data"
    },
    {
     "data": {
      "text/html": [
       "<span style=\"color:cyan\"> |-Best step: None</span>"
      ],
      "text/plain": [
       "<IPython.core.display.HTML object>"
      ]
     },
     "metadata": {},
     "output_type": "display_data"
    },
    {
     "data": {
      "text/html": [
       "<span style=\"color:#7E57C2\"><h2 style=\"font-size:16px\">Hyperparameters:</h2></span>"
      ],
      "text/plain": [
       "<IPython.core.display.HTML object>"
      ]
     },
     "metadata": {},
     "output_type": "display_data"
    },
    {
     "data": {
      "text/html": [
       "<span style=\"color:cyan\"> |-learning_rate: 0.001</span>"
      ],
      "text/plain": [
       "<IPython.core.display.HTML object>"
      ]
     },
     "metadata": {},
     "output_type": "display_data"
    },
    {
     "data": {
      "text/html": [
       "<span style=\"color:blue\"> |-num_layers: 7</span>"
      ],
      "text/plain": [
       "<IPython.core.display.HTML object>"
      ]
     },
     "metadata": {},
     "output_type": "display_data"
    },
    {
     "data": {
      "text/html": [
       "<span style=\"color:cyan\"> |-units_0: 128</span>"
      ],
      "text/plain": [
       "<IPython.core.display.HTML object>"
      ]
     },
     "metadata": {},
     "output_type": "display_data"
    },
    {
     "data": {
      "text/html": [
       "<span style=\"color:blue\"> |-units_1: 448</span>"
      ],
      "text/plain": [
       "<IPython.core.display.HTML object>"
      ]
     },
     "metadata": {},
     "output_type": "display_data"
    },
    {
     "data": {
      "text/html": [
       "<span style=\"color:cyan\"> |-units_2: 32</span>"
      ],
      "text/plain": [
       "<IPython.core.display.HTML object>"
      ]
     },
     "metadata": {},
     "output_type": "display_data"
    },
    {
     "data": {
      "text/html": [
       "<span style=\"color:blue\"> |-units_3: 32</span>"
      ],
      "text/plain": [
       "<IPython.core.display.HTML object>"
      ]
     },
     "metadata": {},
     "output_type": "display_data"
    },
    {
     "data": {
      "text/html": [
       "<span style=\"color:cyan\"> |-units_4: 32</span>"
      ],
      "text/plain": [
       "<IPython.core.display.HTML object>"
      ]
     },
     "metadata": {},
     "output_type": "display_data"
    },
    {
     "data": {
      "text/html": [
       "<span style=\"color:blue\"> |-units_5: 32</span>"
      ],
      "text/plain": [
       "<IPython.core.display.HTML object>"
      ]
     },
     "metadata": {},
     "output_type": "display_data"
    },
    {
     "data": {
      "text/html": [
       "<span style=\"color:cyan\"> |-units_6: 32</span>"
      ],
      "text/plain": [
       "<IPython.core.display.HTML object>"
      ]
     },
     "metadata": {},
     "output_type": "display_data"
    },
    {
     "data": {
      "text/html": [
       "<span style=\"color:#4527A0\"><h1 style=\"font-size:18px\">Trial summary</h1></span>"
      ],
      "text/plain": [
       "<IPython.core.display.HTML object>"
      ]
     },
     "metadata": {},
     "output_type": "display_data"
    },
    {
     "data": {
      "text/html": [
       "<span style=\"color:cyan\"> |-Trial ID: 3fa795dba23c82359ddf2e98c5fa97a9</span>"
      ],
      "text/plain": [
       "<IPython.core.display.HTML object>"
      ]
     },
     "metadata": {},
     "output_type": "display_data"
    },
    {
     "data": {
      "text/html": [
       "<span style=\"color:cyan\"> |-Score: nan</span>"
      ],
      "text/plain": [
       "<IPython.core.display.HTML object>"
      ]
     },
     "metadata": {},
     "output_type": "display_data"
    },
    {
     "data": {
      "text/html": [
       "<span style=\"color:cyan\"> |-Best step: None</span>"
      ],
      "text/plain": [
       "<IPython.core.display.HTML object>"
      ]
     },
     "metadata": {},
     "output_type": "display_data"
    },
    {
     "data": {
      "text/html": [
       "<span style=\"color:#7E57C2\"><h2 style=\"font-size:16px\">Hyperparameters:</h2></span>"
      ],
      "text/plain": [
       "<IPython.core.display.HTML object>"
      ]
     },
     "metadata": {},
     "output_type": "display_data"
    },
    {
     "data": {
      "text/html": [
       "<span style=\"color:cyan\"> |-learning_rate: 0.0001</span>"
      ],
      "text/plain": [
       "<IPython.core.display.HTML object>"
      ]
     },
     "metadata": {},
     "output_type": "display_data"
    },
    {
     "data": {
      "text/html": [
       "<span style=\"color:blue\"> |-num_layers: 20</span>"
      ],
      "text/plain": [
       "<IPython.core.display.HTML object>"
      ]
     },
     "metadata": {},
     "output_type": "display_data"
    },
    {
     "data": {
      "text/html": [
       "<span style=\"color:cyan\"> |-units_0: 160</span>"
      ],
      "text/plain": [
       "<IPython.core.display.HTML object>"
      ]
     },
     "metadata": {},
     "output_type": "display_data"
    },
    {
     "data": {
      "text/html": [
       "<span style=\"color:blue\"> |-units_1: 64</span>"
      ],
      "text/plain": [
       "<IPython.core.display.HTML object>"
      ]
     },
     "metadata": {},
     "output_type": "display_data"
    },
    {
     "data": {
      "text/html": [
       "<span style=\"color:cyan\"> |-units_10: 32</span>"
      ],
      "text/plain": [
       "<IPython.core.display.HTML object>"
      ]
     },
     "metadata": {},
     "output_type": "display_data"
    },
    {
     "data": {
      "text/html": [
       "<span style=\"color:blue\"> |-units_11: 32</span>"
      ],
      "text/plain": [
       "<IPython.core.display.HTML object>"
      ]
     },
     "metadata": {},
     "output_type": "display_data"
    },
    {
     "data": {
      "text/html": [
       "<span style=\"color:cyan\"> |-units_12: 32</span>"
      ],
      "text/plain": [
       "<IPython.core.display.HTML object>"
      ]
     },
     "metadata": {},
     "output_type": "display_data"
    },
    {
     "data": {
      "text/html": [
       "<span style=\"color:blue\"> |-units_13: 32</span>"
      ],
      "text/plain": [
       "<IPython.core.display.HTML object>"
      ]
     },
     "metadata": {},
     "output_type": "display_data"
    },
    {
     "data": {
      "text/html": [
       "<span style=\"color:cyan\"> |-units_14: 32</span>"
      ],
      "text/plain": [
       "<IPython.core.display.HTML object>"
      ]
     },
     "metadata": {},
     "output_type": "display_data"
    },
    {
     "data": {
      "text/html": [
       "<span style=\"color:blue\"> |-units_15: 32</span>"
      ],
      "text/plain": [
       "<IPython.core.display.HTML object>"
      ]
     },
     "metadata": {},
     "output_type": "display_data"
    },
    {
     "data": {
      "text/html": [
       "<span style=\"color:cyan\"> |-units_16: 32</span>"
      ],
      "text/plain": [
       "<IPython.core.display.HTML object>"
      ]
     },
     "metadata": {},
     "output_type": "display_data"
    },
    {
     "data": {
      "text/html": [
       "<span style=\"color:blue\"> |-units_17: 32</span>"
      ],
      "text/plain": [
       "<IPython.core.display.HTML object>"
      ]
     },
     "metadata": {},
     "output_type": "display_data"
    },
    {
     "data": {
      "text/html": [
       "<span style=\"color:cyan\"> |-units_18: 32</span>"
      ],
      "text/plain": [
       "<IPython.core.display.HTML object>"
      ]
     },
     "metadata": {},
     "output_type": "display_data"
    },
    {
     "data": {
      "text/html": [
       "<span style=\"color:blue\"> |-units_19: 32</span>"
      ],
      "text/plain": [
       "<IPython.core.display.HTML object>"
      ]
     },
     "metadata": {},
     "output_type": "display_data"
    },
    {
     "data": {
      "text/html": [
       "<span style=\"color:cyan\"> |-units_2: 448</span>"
      ],
      "text/plain": [
       "<IPython.core.display.HTML object>"
      ]
     },
     "metadata": {},
     "output_type": "display_data"
    },
    {
     "data": {
      "text/html": [
       "<span style=\"color:blue\"> |-units_3: 192</span>"
      ],
      "text/plain": [
       "<IPython.core.display.HTML object>"
      ]
     },
     "metadata": {},
     "output_type": "display_data"
    },
    {
     "data": {
      "text/html": [
       "<span style=\"color:cyan\"> |-units_4: 64</span>"
      ],
      "text/plain": [
       "<IPython.core.display.HTML object>"
      ]
     },
     "metadata": {},
     "output_type": "display_data"
    },
    {
     "data": {
      "text/html": [
       "<span style=\"color:blue\"> |-units_5: 512</span>"
      ],
      "text/plain": [
       "<IPython.core.display.HTML object>"
      ]
     },
     "metadata": {},
     "output_type": "display_data"
    },
    {
     "data": {
      "text/html": [
       "<span style=\"color:cyan\"> |-units_6: 256</span>"
      ],
      "text/plain": [
       "<IPython.core.display.HTML object>"
      ]
     },
     "metadata": {},
     "output_type": "display_data"
    },
    {
     "data": {
      "text/html": [
       "<span style=\"color:blue\"> |-units_7: 32</span>"
      ],
      "text/plain": [
       "<IPython.core.display.HTML object>"
      ]
     },
     "metadata": {},
     "output_type": "display_data"
    },
    {
     "data": {
      "text/html": [
       "<span style=\"color:cyan\"> |-units_8: 32</span>"
      ],
      "text/plain": [
       "<IPython.core.display.HTML object>"
      ]
     },
     "metadata": {},
     "output_type": "display_data"
    },
    {
     "data": {
      "text/html": [
       "<span style=\"color:blue\"> |-units_9: 32</span>"
      ],
      "text/plain": [
       "<IPython.core.display.HTML object>"
      ]
     },
     "metadata": {},
     "output_type": "display_data"
    },
    {
     "data": {
      "text/html": [
       "<span style=\"color:#4527A0\"><h1 style=\"font-size:18px\">Trial summary</h1></span>"
      ],
      "text/plain": [
       "<IPython.core.display.HTML object>"
      ]
     },
     "metadata": {},
     "output_type": "display_data"
    },
    {
     "data": {
      "text/html": [
       "<span style=\"color:cyan\"> |-Trial ID: 1a83d033c7ba55b1e9a3519003f5442c</span>"
      ],
      "text/plain": [
       "<IPython.core.display.HTML object>"
      ]
     },
     "metadata": {},
     "output_type": "display_data"
    },
    {
     "data": {
      "text/html": [
       "<span style=\"color:cyan\"> |-Score: nan</span>"
      ],
      "text/plain": [
       "<IPython.core.display.HTML object>"
      ]
     },
     "metadata": {},
     "output_type": "display_data"
    },
    {
     "data": {
      "text/html": [
       "<span style=\"color:cyan\"> |-Best step: None</span>"
      ],
      "text/plain": [
       "<IPython.core.display.HTML object>"
      ]
     },
     "metadata": {},
     "output_type": "display_data"
    },
    {
     "data": {
      "text/html": [
       "<span style=\"color:#7E57C2\"><h2 style=\"font-size:16px\">Hyperparameters:</h2></span>"
      ],
      "text/plain": [
       "<IPython.core.display.HTML object>"
      ]
     },
     "metadata": {},
     "output_type": "display_data"
    },
    {
     "data": {
      "text/html": [
       "<span style=\"color:cyan\"> |-learning_rate: 0.001</span>"
      ],
      "text/plain": [
       "<IPython.core.display.HTML object>"
      ]
     },
     "metadata": {},
     "output_type": "display_data"
    },
    {
     "data": {
      "text/html": [
       "<span style=\"color:blue\"> |-num_layers: 13</span>"
      ],
      "text/plain": [
       "<IPython.core.display.HTML object>"
      ]
     },
     "metadata": {},
     "output_type": "display_data"
    },
    {
     "data": {
      "text/html": [
       "<span style=\"color:cyan\"> |-units_0: 480</span>"
      ],
      "text/plain": [
       "<IPython.core.display.HTML object>"
      ]
     },
     "metadata": {},
     "output_type": "display_data"
    },
    {
     "data": {
      "text/html": [
       "<span style=\"color:blue\"> |-units_1: 480</span>"
      ],
      "text/plain": [
       "<IPython.core.display.HTML object>"
      ]
     },
     "metadata": {},
     "output_type": "display_data"
    },
    {
     "data": {
      "text/html": [
       "<span style=\"color:cyan\"> |-units_10: 480</span>"
      ],
      "text/plain": [
       "<IPython.core.display.HTML object>"
      ]
     },
     "metadata": {},
     "output_type": "display_data"
    },
    {
     "data": {
      "text/html": [
       "<span style=\"color:blue\"> |-units_11: 480</span>"
      ],
      "text/plain": [
       "<IPython.core.display.HTML object>"
      ]
     },
     "metadata": {},
     "output_type": "display_data"
    },
    {
     "data": {
      "text/html": [
       "<span style=\"color:cyan\"> |-units_12: 256</span>"
      ],
      "text/plain": [
       "<IPython.core.display.HTML object>"
      ]
     },
     "metadata": {},
     "output_type": "display_data"
    },
    {
     "data": {
      "text/html": [
       "<span style=\"color:blue\"> |-units_13: 416</span>"
      ],
      "text/plain": [
       "<IPython.core.display.HTML object>"
      ]
     },
     "metadata": {},
     "output_type": "display_data"
    },
    {
     "data": {
      "text/html": [
       "<span style=\"color:cyan\"> |-units_14: 448</span>"
      ],
      "text/plain": [
       "<IPython.core.display.HTML object>"
      ]
     },
     "metadata": {},
     "output_type": "display_data"
    },
    {
     "data": {
      "text/html": [
       "<span style=\"color:blue\"> |-units_15: 320</span>"
      ],
      "text/plain": [
       "<IPython.core.display.HTML object>"
      ]
     },
     "metadata": {},
     "output_type": "display_data"
    },
    {
     "data": {
      "text/html": [
       "<span style=\"color:cyan\"> |-units_16: 352</span>"
      ],
      "text/plain": [
       "<IPython.core.display.HTML object>"
      ]
     },
     "metadata": {},
     "output_type": "display_data"
    },
    {
     "data": {
      "text/html": [
       "<span style=\"color:blue\"> |-units_17: 384</span>"
      ],
      "text/plain": [
       "<IPython.core.display.HTML object>"
      ]
     },
     "metadata": {},
     "output_type": "display_data"
    },
    {
     "data": {
      "text/html": [
       "<span style=\"color:cyan\"> |-units_18: 160</span>"
      ],
      "text/plain": [
       "<IPython.core.display.HTML object>"
      ]
     },
     "metadata": {},
     "output_type": "display_data"
    },
    {
     "data": {
      "text/html": [
       "<span style=\"color:blue\"> |-units_19: 256</span>"
      ],
      "text/plain": [
       "<IPython.core.display.HTML object>"
      ]
     },
     "metadata": {},
     "output_type": "display_data"
    },
    {
     "data": {
      "text/html": [
       "<span style=\"color:cyan\"> |-units_2: 352</span>"
      ],
      "text/plain": [
       "<IPython.core.display.HTML object>"
      ]
     },
     "metadata": {},
     "output_type": "display_data"
    },
    {
     "data": {
      "text/html": [
       "<span style=\"color:blue\"> |-units_3: 288</span>"
      ],
      "text/plain": [
       "<IPython.core.display.HTML object>"
      ]
     },
     "metadata": {},
     "output_type": "display_data"
    },
    {
     "data": {
      "text/html": [
       "<span style=\"color:cyan\"> |-units_4: 288</span>"
      ],
      "text/plain": [
       "<IPython.core.display.HTML object>"
      ]
     },
     "metadata": {},
     "output_type": "display_data"
    },
    {
     "data": {
      "text/html": [
       "<span style=\"color:blue\"> |-units_5: 320</span>"
      ],
      "text/plain": [
       "<IPython.core.display.HTML object>"
      ]
     },
     "metadata": {},
     "output_type": "display_data"
    },
    {
     "data": {
      "text/html": [
       "<span style=\"color:cyan\"> |-units_6: 96</span>"
      ],
      "text/plain": [
       "<IPython.core.display.HTML object>"
      ]
     },
     "metadata": {},
     "output_type": "display_data"
    },
    {
     "data": {
      "text/html": [
       "<span style=\"color:blue\"> |-units_7: 128</span>"
      ],
      "text/plain": [
       "<IPython.core.display.HTML object>"
      ]
     },
     "metadata": {},
     "output_type": "display_data"
    },
    {
     "data": {
      "text/html": [
       "<span style=\"color:cyan\"> |-units_8: 416</span>"
      ],
      "text/plain": [
       "<IPython.core.display.HTML object>"
      ]
     },
     "metadata": {},
     "output_type": "display_data"
    },
    {
     "data": {
      "text/html": [
       "<span style=\"color:blue\"> |-units_9: 96</span>"
      ],
      "text/plain": [
       "<IPython.core.display.HTML object>"
      ]
     },
     "metadata": {},
     "output_type": "display_data"
    },
    {
     "data": {
      "text/html": [
       "<span style=\"color:#4527A0\"><h1 style=\"font-size:18px\">Trial summary</h1></span>"
      ],
      "text/plain": [
       "<IPython.core.display.HTML object>"
      ]
     },
     "metadata": {},
     "output_type": "display_data"
    },
    {
     "data": {
      "text/html": [
       "<span style=\"color:cyan\"> |-Trial ID: 83435080a1b357d84357aedced54a24d</span>"
      ],
      "text/plain": [
       "<IPython.core.display.HTML object>"
      ]
     },
     "metadata": {},
     "output_type": "display_data"
    },
    {
     "data": {
      "text/html": [
       "<span style=\"color:cyan\"> |-Score: nan</span>"
      ],
      "text/plain": [
       "<IPython.core.display.HTML object>"
      ]
     },
     "metadata": {},
     "output_type": "display_data"
    },
    {
     "data": {
      "text/html": [
       "<span style=\"color:cyan\"> |-Best step: None</span>"
      ],
      "text/plain": [
       "<IPython.core.display.HTML object>"
      ]
     },
     "metadata": {},
     "output_type": "display_data"
    },
    {
     "data": {
      "text/html": [
       "<span style=\"color:#7E57C2\"><h2 style=\"font-size:16px\">Hyperparameters:</h2></span>"
      ],
      "text/plain": [
       "<IPython.core.display.HTML object>"
      ]
     },
     "metadata": {},
     "output_type": "display_data"
    },
    {
     "data": {
      "text/html": [
       "<span style=\"color:cyan\"> |-learning_rate: 0.0001</span>"
      ],
      "text/plain": [
       "<IPython.core.display.HTML object>"
      ]
     },
     "metadata": {},
     "output_type": "display_data"
    },
    {
     "data": {
      "text/html": [
       "<span style=\"color:blue\"> |-num_layers: 4</span>"
      ],
      "text/plain": [
       "<IPython.core.display.HTML object>"
      ]
     },
     "metadata": {},
     "output_type": "display_data"
    },
    {
     "data": {
      "text/html": [
       "<span style=\"color:cyan\"> |-units_0: 416</span>"
      ],
      "text/plain": [
       "<IPython.core.display.HTML object>"
      ]
     },
     "metadata": {},
     "output_type": "display_data"
    },
    {
     "data": {
      "text/html": [
       "<span style=\"color:blue\"> |-units_1: 352</span>"
      ],
      "text/plain": [
       "<IPython.core.display.HTML object>"
      ]
     },
     "metadata": {},
     "output_type": "display_data"
    },
    {
     "data": {
      "text/html": [
       "<span style=\"color:cyan\"> |-units_10: 96</span>"
      ],
      "text/plain": [
       "<IPython.core.display.HTML object>"
      ]
     },
     "metadata": {},
     "output_type": "display_data"
    },
    {
     "data": {
      "text/html": [
       "<span style=\"color:blue\"> |-units_11: 32</span>"
      ],
      "text/plain": [
       "<IPython.core.display.HTML object>"
      ]
     },
     "metadata": {},
     "output_type": "display_data"
    },
    {
     "data": {
      "text/html": [
       "<span style=\"color:cyan\"> |-units_12: 32</span>"
      ],
      "text/plain": [
       "<IPython.core.display.HTML object>"
      ]
     },
     "metadata": {},
     "output_type": "display_data"
    },
    {
     "data": {
      "text/html": [
       "<span style=\"color:blue\"> |-units_13: 192</span>"
      ],
      "text/plain": [
       "<IPython.core.display.HTML object>"
      ]
     },
     "metadata": {},
     "output_type": "display_data"
    },
    {
     "data": {
      "text/html": [
       "<span style=\"color:cyan\"> |-units_14: 96</span>"
      ],
      "text/plain": [
       "<IPython.core.display.HTML object>"
      ]
     },
     "metadata": {},
     "output_type": "display_data"
    },
    {
     "data": {
      "text/html": [
       "<span style=\"color:blue\"> |-units_15: 416</span>"
      ],
      "text/plain": [
       "<IPython.core.display.HTML object>"
      ]
     },
     "metadata": {},
     "output_type": "display_data"
    },
    {
     "data": {
      "text/html": [
       "<span style=\"color:cyan\"> |-units_16: 416</span>"
      ],
      "text/plain": [
       "<IPython.core.display.HTML object>"
      ]
     },
     "metadata": {},
     "output_type": "display_data"
    },
    {
     "data": {
      "text/html": [
       "<span style=\"color:blue\"> |-units_17: 480</span>"
      ],
      "text/plain": [
       "<IPython.core.display.HTML object>"
      ]
     },
     "metadata": {},
     "output_type": "display_data"
    },
    {
     "data": {
      "text/html": [
       "<span style=\"color:cyan\"> |-units_18: 320</span>"
      ],
      "text/plain": [
       "<IPython.core.display.HTML object>"
      ]
     },
     "metadata": {},
     "output_type": "display_data"
    },
    {
     "data": {
      "text/html": [
       "<span style=\"color:blue\"> |-units_19: 512</span>"
      ],
      "text/plain": [
       "<IPython.core.display.HTML object>"
      ]
     },
     "metadata": {},
     "output_type": "display_data"
    },
    {
     "data": {
      "text/html": [
       "<span style=\"color:cyan\"> |-units_2: 128</span>"
      ],
      "text/plain": [
       "<IPython.core.display.HTML object>"
      ]
     },
     "metadata": {},
     "output_type": "display_data"
    },
    {
     "data": {
      "text/html": [
       "<span style=\"color:blue\"> |-units_3: 256</span>"
      ],
      "text/plain": [
       "<IPython.core.display.HTML object>"
      ]
     },
     "metadata": {},
     "output_type": "display_data"
    },
    {
     "data": {
      "text/html": [
       "<span style=\"color:cyan\"> |-units_4: 96</span>"
      ],
      "text/plain": [
       "<IPython.core.display.HTML object>"
      ]
     },
     "metadata": {},
     "output_type": "display_data"
    },
    {
     "data": {
      "text/html": [
       "<span style=\"color:blue\"> |-units_5: 384</span>"
      ],
      "text/plain": [
       "<IPython.core.display.HTML object>"
      ]
     },
     "metadata": {},
     "output_type": "display_data"
    },
    {
     "data": {
      "text/html": [
       "<span style=\"color:cyan\"> |-units_6: 256</span>"
      ],
      "text/plain": [
       "<IPython.core.display.HTML object>"
      ]
     },
     "metadata": {},
     "output_type": "display_data"
    },
    {
     "data": {
      "text/html": [
       "<span style=\"color:blue\"> |-units_7: 288</span>"
      ],
      "text/plain": [
       "<IPython.core.display.HTML object>"
      ]
     },
     "metadata": {},
     "output_type": "display_data"
    },
    {
     "data": {
      "text/html": [
       "<span style=\"color:cyan\"> |-units_8: 384</span>"
      ],
      "text/plain": [
       "<IPython.core.display.HTML object>"
      ]
     },
     "metadata": {},
     "output_type": "display_data"
    },
    {
     "data": {
      "text/html": [
       "<span style=\"color:blue\"> |-units_9: 352</span>"
      ],
      "text/plain": [
       "<IPython.core.display.HTML object>"
      ]
     },
     "metadata": {},
     "output_type": "display_data"
    },
    {
     "data": {
      "text/html": [
       "<span style=\"color:#4527A0\"><h1 style=\"font-size:18px\">Trial summary</h1></span>"
      ],
      "text/plain": [
       "<IPython.core.display.HTML object>"
      ]
     },
     "metadata": {},
     "output_type": "display_data"
    },
    {
     "data": {
      "text/html": [
       "<span style=\"color:cyan\"> |-Trial ID: d26dde332f54a9eebe8d4fae39e58e66</span>"
      ],
      "text/plain": [
       "<IPython.core.display.HTML object>"
      ]
     },
     "metadata": {},
     "output_type": "display_data"
    },
    {
     "data": {
      "text/html": [
       "<span style=\"color:cyan\"> |-Score: nan</span>"
      ],
      "text/plain": [
       "<IPython.core.display.HTML object>"
      ]
     },
     "metadata": {},
     "output_type": "display_data"
    },
    {
     "data": {
      "text/html": [
       "<span style=\"color:cyan\"> |-Best step: None</span>"
      ],
      "text/plain": [
       "<IPython.core.display.HTML object>"
      ]
     },
     "metadata": {},
     "output_type": "display_data"
    },
    {
     "data": {
      "text/html": [
       "<span style=\"color:#7E57C2\"><h2 style=\"font-size:16px\">Hyperparameters:</h2></span>"
      ],
      "text/plain": [
       "<IPython.core.display.HTML object>"
      ]
     },
     "metadata": {},
     "output_type": "display_data"
    },
    {
     "data": {
      "text/html": [
       "<span style=\"color:cyan\"> |-learning_rate: 0.01</span>"
      ],
      "text/plain": [
       "<IPython.core.display.HTML object>"
      ]
     },
     "metadata": {},
     "output_type": "display_data"
    },
    {
     "data": {
      "text/html": [
       "<span style=\"color:blue\"> |-num_layers: 4</span>"
      ],
      "text/plain": [
       "<IPython.core.display.HTML object>"
      ]
     },
     "metadata": {},
     "output_type": "display_data"
    },
    {
     "data": {
      "text/html": [
       "<span style=\"color:cyan\"> |-units_0: 64</span>"
      ],
      "text/plain": [
       "<IPython.core.display.HTML object>"
      ]
     },
     "metadata": {},
     "output_type": "display_data"
    },
    {
     "data": {
      "text/html": [
       "<span style=\"color:blue\"> |-units_1: 512</span>"
      ],
      "text/plain": [
       "<IPython.core.display.HTML object>"
      ]
     },
     "metadata": {},
     "output_type": "display_data"
    },
    {
     "data": {
      "text/html": [
       "<span style=\"color:cyan\"> |-units_10: 224</span>"
      ],
      "text/plain": [
       "<IPython.core.display.HTML object>"
      ]
     },
     "metadata": {},
     "output_type": "display_data"
    },
    {
     "data": {
      "text/html": [
       "<span style=\"color:blue\"> |-units_11: 224</span>"
      ],
      "text/plain": [
       "<IPython.core.display.HTML object>"
      ]
     },
     "metadata": {},
     "output_type": "display_data"
    },
    {
     "data": {
      "text/html": [
       "<span style=\"color:cyan\"> |-units_12: 96</span>"
      ],
      "text/plain": [
       "<IPython.core.display.HTML object>"
      ]
     },
     "metadata": {},
     "output_type": "display_data"
    },
    {
     "data": {
      "text/html": [
       "<span style=\"color:blue\"> |-units_13: 384</span>"
      ],
      "text/plain": [
       "<IPython.core.display.HTML object>"
      ]
     },
     "metadata": {},
     "output_type": "display_data"
    },
    {
     "data": {
      "text/html": [
       "<span style=\"color:cyan\"> |-units_14: 384</span>"
      ],
      "text/plain": [
       "<IPython.core.display.HTML object>"
      ]
     },
     "metadata": {},
     "output_type": "display_data"
    },
    {
     "data": {
      "text/html": [
       "<span style=\"color:blue\"> |-units_15: 160</span>"
      ],
      "text/plain": [
       "<IPython.core.display.HTML object>"
      ]
     },
     "metadata": {},
     "output_type": "display_data"
    },
    {
     "data": {
      "text/html": [
       "<span style=\"color:cyan\"> |-units_16: 160</span>"
      ],
      "text/plain": [
       "<IPython.core.display.HTML object>"
      ]
     },
     "metadata": {},
     "output_type": "display_data"
    },
    {
     "data": {
      "text/html": [
       "<span style=\"color:blue\"> |-units_17: 320</span>"
      ],
      "text/plain": [
       "<IPython.core.display.HTML object>"
      ]
     },
     "metadata": {},
     "output_type": "display_data"
    },
    {
     "data": {
      "text/html": [
       "<span style=\"color:cyan\"> |-units_18: 192</span>"
      ],
      "text/plain": [
       "<IPython.core.display.HTML object>"
      ]
     },
     "metadata": {},
     "output_type": "display_data"
    },
    {
     "data": {
      "text/html": [
       "<span style=\"color:blue\"> |-units_19: 256</span>"
      ],
      "text/plain": [
       "<IPython.core.display.HTML object>"
      ]
     },
     "metadata": {},
     "output_type": "display_data"
    },
    {
     "data": {
      "text/html": [
       "<span style=\"color:cyan\"> |-units_2: 416</span>"
      ],
      "text/plain": [
       "<IPython.core.display.HTML object>"
      ]
     },
     "metadata": {},
     "output_type": "display_data"
    },
    {
     "data": {
      "text/html": [
       "<span style=\"color:blue\"> |-units_3: 512</span>"
      ],
      "text/plain": [
       "<IPython.core.display.HTML object>"
      ]
     },
     "metadata": {},
     "output_type": "display_data"
    },
    {
     "data": {
      "text/html": [
       "<span style=\"color:cyan\"> |-units_4: 512</span>"
      ],
      "text/plain": [
       "<IPython.core.display.HTML object>"
      ]
     },
     "metadata": {},
     "output_type": "display_data"
    },
    {
     "data": {
      "text/html": [
       "<span style=\"color:blue\"> |-units_5: 416</span>"
      ],
      "text/plain": [
       "<IPython.core.display.HTML object>"
      ]
     },
     "metadata": {},
     "output_type": "display_data"
    },
    {
     "data": {
      "text/html": [
       "<span style=\"color:cyan\"> |-units_6: 352</span>"
      ],
      "text/plain": [
       "<IPython.core.display.HTML object>"
      ]
     },
     "metadata": {},
     "output_type": "display_data"
    },
    {
     "data": {
      "text/html": [
       "<span style=\"color:blue\"> |-units_7: 448</span>"
      ],
      "text/plain": [
       "<IPython.core.display.HTML object>"
      ]
     },
     "metadata": {},
     "output_type": "display_data"
    },
    {
     "data": {
      "text/html": [
       "<span style=\"color:cyan\"> |-units_8: 480</span>"
      ],
      "text/plain": [
       "<IPython.core.display.HTML object>"
      ]
     },
     "metadata": {},
     "output_type": "display_data"
    },
    {
     "data": {
      "text/html": [
       "<span style=\"color:blue\"> |-units_9: 128</span>"
      ],
      "text/plain": [
       "<IPython.core.display.HTML object>"
      ]
     },
     "metadata": {},
     "output_type": "display_data"
    }
   ],
   "source": [
    "tuner.results_summary()"
   ]
  },
  {
   "cell_type": "code",
   "execution_count": 71,
   "metadata": {
    "scrolled": true
   },
   "outputs": [
    {
     "name": "stdout",
     "output_type": "stream",
     "text": [
      "Train on 765 samples\n",
      "Epoch 1/7\n",
      "765/765 [==============================] - ETA: 21s - loss: 103.0716 - mean_absolute_error: 103.07 - ETA: 3s - loss: 99.9834 - mean_absolute_error: 99.9834   - ETA: 1s - loss: 86.9621 - mean_absolute_error: 86.962 - ETA: 0s - loss: 83.4764 - mean_absolute_error: 83.476 - ETA: 0s - loss: 79.4234 - mean_absolute_error: 79.423 - ETA: 0s - loss: nan - mean_absolute_error: nan        - 1s 2ms/sample - loss: nan - mean_absolute_error: nan\n",
      "Epoch 2/7\n",
      "765/765 [==============================] - ETA: 0s - loss: nan - mean_absolute_error: na - ETA: 0s - loss: nan - mean_absolute_error: na - ETA: 0s - loss: nan - mean_absolute_error: na - ETA: 0s - loss: nan - mean_absolute_error: na - 0s 267us/sample - loss: nan - mean_absolute_error: nan\n",
      "Epoch 3/7\n",
      "765/765 [==============================] - ETA: 0s - loss: 75.7126 - mean_absolute_error: 75.712 - ETA: 0s - loss: 62.3950 - mean_absolute_error: 62.395 - ETA: 0s - loss: nan - mean_absolute_error: nan        - ETA: 0s - loss: nan - mean_absolute_error: na - 0s 299us/sample - loss: nan - mean_absolute_error: nan\n",
      "Epoch 4/7\n",
      "765/765 [==============================] - ETA: 0s - loss: 44.3105 - mean_absolute_error: 44.310 - ETA: 0s - loss: 65.0689 - mean_absolute_error: 65.068 - ETA: 0s - loss: 67.8235 - mean_absolute_error: 67.823 - ETA: 0s - loss: 67.2737 - mean_absolute_error: 67.273 - 0s 304us/sample - loss: nan - mean_absolute_error: nan\n",
      "Epoch 5/7\n",
      "765/765 [==============================] - ETA: 0s - loss: 63.9347 - mean_absolute_error: 63.934 - ETA: 0s - loss: 61.6206 - mean_absolute_error: 61.620 - ETA: 0s - loss: 66.7333 - mean_absolute_error: 66.733 - ETA: 0s - loss: nan - mean_absolute_error: nan        - 0s 275us/sample - loss: nan - mean_absolute_error: nan\n",
      "Epoch 6/7\n",
      "765/765 [==============================] - ETA: 0s - loss: 70.4857 - mean_absolute_error: 70.485 - ETA: 0s - loss: nan - mean_absolute_error: nan        - ETA: 0s - loss: nan - mean_absolute_error: na - ETA: 0s - loss: nan - mean_absolute_error: na - 0s 237us/sample - loss: nan - mean_absolute_error: nan\n",
      "Epoch 7/7\n",
      "765/765 [==============================] - ETA: 0s - loss: 43.3895 - mean_absolute_error: 43.389 - ETA: 0s - loss: nan - mean_absolute_error: nan        - ETA: 0s - loss: nan - mean_absolute_error: na - 0s 198us/sample - loss: nan - mean_absolute_error: nan\n",
      "Train on 765 samples\n",
      "Epoch 1/7\n",
      "765/765 [==============================] - ETA: 20s - loss: 119.7279 - mean_absolute_error: 119.72 - ETA: 1s - loss: nan - mean_absolute_error: nan           - ETA: 0s - loss: nan - mean_absolute_error: na - ETA: 0s - loss: nan - mean_absolute_error: na - 1s 1ms/sample - loss: nan - mean_absolute_error: nan\n",
      "Epoch 2/7\n",
      "765/765 [==============================] - ETA: 0s - loss: 95.6802 - mean_absolute_error: 95.680 - ETA: 0s - loss: nan - mean_absolute_error: nan        - ETA: 0s - loss: nan - mean_absolute_error: na - ETA: 0s - loss: nan - mean_absolute_error: na - 0s 236us/sample - loss: nan - mean_absolute_error: nan\n",
      "Epoch 3/7\n",
      "765/765 [==============================] - ETA: 0s - loss: 75.7366 - mean_absolute_error: 75.736 - ETA: 0s - loss: nan - mean_absolute_error: nan        - ETA: 0s - loss: nan - mean_absolute_error: na - 0s 224us/sample - loss: nan - mean_absolute_error: nan\n",
      "Epoch 4/7\n",
      "765/765 [==============================] - ETA: 0s - loss: 76.8296 - mean_absolute_error: 76.829 - ETA: 0s - loss: 66.4486 - mean_absolute_error: 66.448 - ETA: 0s - loss: 63.8313 - mean_absolute_error: 63.831 - ETA: 0s - loss: nan - mean_absolute_error: nan        - 0s 233us/sample - loss: nan - mean_absolute_error: nan\n",
      "Epoch 5/7\n",
      "765/765 [==============================] - ETA: 0s - loss: 68.9249 - mean_absolute_error: 68.924 - ETA: 0s - loss: 67.1904 - mean_absolute_error: 67.190 - ETA: 0s - loss: nan - mean_absolute_error: nan        - 0s 226us/sample - loss: nan - mean_absolute_error: nan\n",
      "Epoch 6/7\n",
      "765/765 [==============================] - ETA: 0s - loss: 68.7686 - mean_absolute_error: 68.768 - ETA: 0s - loss: 62.7156 - mean_absolute_error: 62.715 - ETA: 0s - loss: 62.6712 - mean_absolute_error: 62.671 - ETA: 0s - loss: 64.9994 - mean_absolute_error: 64.999 - ETA: 0s - loss: 64.3099 - mean_absolute_error: 64.309 - 0s 308us/sample - loss: nan - mean_absolute_error: nan\n",
      "Epoch 7/7\n",
      "765/765 [==============================] - ETA: 0s - loss: 72.0297 - mean_absolute_error: 72.029 - ETA: 0s - loss: 68.2948 - mean_absolute_error: 68.294 - ETA: 0s - loss: nan - mean_absolute_error: nan        - ETA: 0s - loss: nan - mean_absolute_error: na - ETA: 0s - loss: nan - mean_absolute_error: na - 0s 335us/sample - loss: nan - mean_absolute_error: nan\n",
      "Train on 765 samples\n",
      "Epoch 1/7\n",
      "765/765 [==============================] - ETA: 21s - loss: 99.7471 - mean_absolute_error: 99.74 - ETA: 1s - loss: 110.8829 - mean_absolute_error: 110.882 - ETA: 0s - loss: nan - mean_absolute_error: nan          - 1s 1ms/sample - loss: nan - mean_absolute_error: nan\n",
      "Epoch 2/7\n",
      "765/765 [==============================] - ETA: 0s - loss: 64.6298 - mean_absolute_error: 64.629 - ETA: 0s - loss: 70.7894 - mean_absolute_error: 70.789 - ETA: 0s - loss: 68.5553 - mean_absolute_error: 68.555 - ETA: 0s - loss: nan - mean_absolute_error: nan        - 0s 227us/sample - loss: nan - mean_absolute_error: nan\n",
      "Epoch 3/7\n",
      "765/765 [==============================] - ETA: 0s - loss: 63.5074 - mean_absolute_error: 63.507 - ETA: 0s - loss: 66.8405 - mean_absolute_error: 66.840 - ETA: 0s - loss: nan - mean_absolute_error: nan        - 0s 198us/sample - loss: nan - mean_absolute_error: nan\n",
      "Epoch 4/7\n",
      "765/765 [==============================] - ETA: 0s - loss: 84.2788 - mean_absolute_error: 84.278 - ETA: 0s - loss: 65.7918 - mean_absolute_error: 65.791 - ETA: 0s - loss: 65.4862 - mean_absolute_error: 65.486 - ETA: 0s - loss: nan - mean_absolute_error: nan        - 0s 256us/sample - loss: nan - mean_absolute_error: nan\n",
      "Epoch 5/7\n",
      "765/765 [==============================] - ETA: 0s - loss: 55.5074 - mean_absolute_error: 55.507 - ETA: 0s - loss: 64.5264 - mean_absolute_error: 64.526 - ETA: 0s - loss: 66.1432 - mean_absolute_error: 66.143 - ETA: 0s - loss: nan - mean_absolute_error: nan        - 0s 272us/sample - loss: nan - mean_absolute_error: nan\n",
      "Epoch 6/7\n",
      "765/765 [==============================] - ETA: 0s - loss: 69.8026 - mean_absolute_error: 69.802 - ETA: 0s - loss: 64.7871 - mean_absolute_error: 64.787 - ETA: 0s - loss: nan - mean_absolute_error: nan        - ETA: 0s - loss: nan - mean_absolute_error: na - ETA: 0s - loss: nan - mean_absolute_error: na - ETA: 0s - loss: nan - mean_absolute_error: na - 0s 463us/sample - loss: nan - mean_absolute_error: nan\n",
      "Epoch 7/7\n",
      "765/765 [==============================] - ETA: 0s - loss: 70.1941 - mean_absolute_error: 70.194 - ETA: 0s - loss: 67.0122 - mean_absolute_error: 67.012 - ETA: 0s - loss: 65.7525 - mean_absolute_error: 65.752 - ETA: 0s - loss: 66.1751 - mean_absolute_error: 66.175 - ETA: 0s - loss: 67.8954 - mean_absolute_error: 67.895 - ETA: 0s - loss: 67.5871 - mean_absolute_error: 67.587 - ETA: 0s - loss: 65.3783 - mean_absolute_error: 65.378 - 0s 497us/sample - loss: nan - mean_absolute_error: nan\n"
     ]
    },
    {
     "name": "stderr",
     "output_type": "stream",
     "text": [
      "d:\\anacondafiles\\envs\\deeplearning\\lib\\site-packages\\kerastuner\\engine\\metrics_tracking.py:92: RuntimeWarning: All-NaN axis encountered\n",
      "  return np.nanmin(values)\n"
     ]
    },
    {
     "data": {
      "text/html": [
       "<span style=\"color:#4527A0\"><h1 style=\"font-size:18px\">Trial complete</h1></span>"
      ],
      "text/plain": [
       "<IPython.core.display.HTML object>"
      ]
     },
     "metadata": {},
     "output_type": "display_data"
    },
    {
     "data": {
      "text/html": [
       "<span style=\"color:#4527A0\"><h1 style=\"font-size:18px\">Trial summary</h1></span>"
      ],
      "text/plain": [
       "<IPython.core.display.HTML object>"
      ]
     },
     "metadata": {},
     "output_type": "display_data"
    },
    {
     "data": {
      "text/html": [
       "<span style=\"color:cyan\"> |-Trial ID: fade4408ae80ac3906b350135fccacac</span>"
      ],
      "text/plain": [
       "<IPython.core.display.HTML object>"
      ]
     },
     "metadata": {},
     "output_type": "display_data"
    },
    {
     "data": {
      "text/html": [
       "<span style=\"color:cyan\"> |-Score: nan</span>"
      ],
      "text/plain": [
       "<IPython.core.display.HTML object>"
      ]
     },
     "metadata": {},
     "output_type": "display_data"
    },
    {
     "data": {
      "text/html": [
       "<span style=\"color:cyan\"> |-Best step: None</span>"
      ],
      "text/plain": [
       "<IPython.core.display.HTML object>"
      ]
     },
     "metadata": {},
     "output_type": "display_data"
    },
    {
     "data": {
      "text/html": [
       "<span style=\"color:#7E57C2\"><h2 style=\"font-size:16px\">Hyperparameters:</h2></span>"
      ],
      "text/plain": [
       "<IPython.core.display.HTML object>"
      ]
     },
     "metadata": {},
     "output_type": "display_data"
    },
    {
     "data": {
      "text/html": [
       "<span style=\"color:cyan\"> |-learning_rate: 0.001</span>"
      ],
      "text/plain": [
       "<IPython.core.display.HTML object>"
      ]
     },
     "metadata": {},
     "output_type": "display_data"
    },
    {
     "data": {
      "text/html": [
       "<span style=\"color:blue\"> |-num_layers: 13</span>"
      ],
      "text/plain": [
       "<IPython.core.display.HTML object>"
      ]
     },
     "metadata": {},
     "output_type": "display_data"
    },
    {
     "data": {
      "text/html": [
       "<span style=\"color:cyan\"> |-units_0: 480</span>"
      ],
      "text/plain": [
       "<IPython.core.display.HTML object>"
      ]
     },
     "metadata": {},
     "output_type": "display_data"
    },
    {
     "data": {
      "text/html": [
       "<span style=\"color:blue\"> |-units_1: 224</span>"
      ],
      "text/plain": [
       "<IPython.core.display.HTML object>"
      ]
     },
     "metadata": {},
     "output_type": "display_data"
    },
    {
     "data": {
      "text/html": [
       "<span style=\"color:cyan\"> |-units_10: 32</span>"
      ],
      "text/plain": [
       "<IPython.core.display.HTML object>"
      ]
     },
     "metadata": {},
     "output_type": "display_data"
    },
    {
     "data": {
      "text/html": [
       "<span style=\"color:blue\"> |-units_11: 32</span>"
      ],
      "text/plain": [
       "<IPython.core.display.HTML object>"
      ]
     },
     "metadata": {},
     "output_type": "display_data"
    },
    {
     "data": {
      "text/html": [
       "<span style=\"color:cyan\"> |-units_12: 32</span>"
      ],
      "text/plain": [
       "<IPython.core.display.HTML object>"
      ]
     },
     "metadata": {},
     "output_type": "display_data"
    },
    {
     "data": {
      "text/html": [
       "<span style=\"color:blue\"> |-units_2: 32</span>"
      ],
      "text/plain": [
       "<IPython.core.display.HTML object>"
      ]
     },
     "metadata": {},
     "output_type": "display_data"
    },
    {
     "data": {
      "text/html": [
       "<span style=\"color:cyan\"> |-units_3: 32</span>"
      ],
      "text/plain": [
       "<IPython.core.display.HTML object>"
      ]
     },
     "metadata": {},
     "output_type": "display_data"
    },
    {
     "data": {
      "text/html": [
       "<span style=\"color:blue\"> |-units_4: 32</span>"
      ],
      "text/plain": [
       "<IPython.core.display.HTML object>"
      ]
     },
     "metadata": {},
     "output_type": "display_data"
    },
    {
     "data": {
      "text/html": [
       "<span style=\"color:cyan\"> |-units_5: 32</span>"
      ],
      "text/plain": [
       "<IPython.core.display.HTML object>"
      ]
     },
     "metadata": {},
     "output_type": "display_data"
    },
    {
     "data": {
      "text/html": [
       "<span style=\"color:blue\"> |-units_6: 32</span>"
      ],
      "text/plain": [
       "<IPython.core.display.HTML object>"
      ]
     },
     "metadata": {},
     "output_type": "display_data"
    },
    {
     "data": {
      "text/html": [
       "<span style=\"color:cyan\"> |-units_7: 32</span>"
      ],
      "text/plain": [
       "<IPython.core.display.HTML object>"
      ]
     },
     "metadata": {},
     "output_type": "display_data"
    },
    {
     "data": {
      "text/html": [
       "<span style=\"color:blue\"> |-units_8: 32</span>"
      ],
      "text/plain": [
       "<IPython.core.display.HTML object>"
      ]
     },
     "metadata": {},
     "output_type": "display_data"
    },
    {
     "data": {
      "text/html": [
       "<span style=\"color:cyan\"> |-units_9: 32</span>"
      ],
      "text/plain": [
       "<IPython.core.display.HTML object>"
      ]
     },
     "metadata": {},
     "output_type": "display_data"
    },
    {
     "name": "stdout",
     "output_type": "stream",
     "text": [
      "Train on 765 samples\n",
      "Epoch 1/7\n",
      "765/765 [==============================] - ETA: 15s - loss: 112.3372 - mean_absolute_error: 112.33 - ETA: 0s - loss: nan - mean_absolute_error: nan           - ETA: 0s - loss: nan - mean_absolute_error: na - ETA: 0s - loss: nan - mean_absolute_error: na - 1s 1ms/sample - loss: nan - mean_absolute_error: nan\n",
      "Epoch 2/7\n",
      "765/765 [==============================] - ETA: 0s - loss: 71.6040 - mean_absolute_error: 71.604 - ETA: 0s - loss: 67.3798 - mean_absolute_error: 67.379 - ETA: 0s - loss: nan - mean_absolute_error: nan        - 0s 173us/sample - loss: nan - mean_absolute_error: nan\n",
      "Epoch 3/7\n",
      "765/765 [==============================] - ETA: 0s - loss: 65.3010 - mean_absolute_error: 65.301 - ETA: 0s - loss: nan - mean_absolute_error: nan        - ETA: 0s - loss: nan - mean_absolute_error: na - 0s 176us/sample - loss: nan - mean_absolute_error: nan\n",
      "Epoch 4/7\n",
      "765/765 [==============================] - ETA: 0s - loss: 43.7711 - mean_absolute_error: 43.771 - ETA: 0s - loss: 55.6130 - mean_absolute_error: 55.613 - ETA: 0s - loss: nan - mean_absolute_error: nan        - ETA: 0s - loss: nan - mean_absolute_error: na - ETA: 0s - loss: nan - mean_absolute_error: na - 0s 343us/sample - loss: nan - mean_absolute_error: nan\n",
      "Epoch 5/7\n",
      "765/765 [==============================] - ETA: 0s - loss: 63.6157 - mean_absolute_error: 63.615 - ETA: 0s - loss: 54.8955 - mean_absolute_error: 54.895 - ETA: 0s - loss: 56.6519 - mean_absolute_error: 56.651 - ETA: 0s - loss: nan - mean_absolute_error: nan        - ETA: 0s - loss: nan - mean_absolute_error: na - 0s 335us/sample - loss: nan - mean_absolute_error: nan\n",
      "Epoch 6/7\n",
      "765/765 [==============================] - ETA: 0s - loss: 42.6683 - mean_absolute_error: 42.668 - ETA: 0s - loss: nan - mean_absolute_error: nan        - ETA: 0s - loss: nan - mean_absolute_error: na - ETA: 0s - loss: nan - mean_absolute_error: na - 0s 253us/sample - loss: nan - mean_absolute_error: nan\n",
      "Epoch 7/7\n",
      "765/765 [==============================] - ETA: 0s - loss: 54.9209 - mean_absolute_error: 54.920 - ETA: 0s - loss: nan - mean_absolute_error: nan        - ETA: 0s - loss: nan - mean_absolute_error: na - ETA: 0s - loss: nan - mean_absolute_error: na - ETA: 0s - loss: nan - mean_absolute_error: na - ETA: 0s - loss: nan - mean_absolute_error: na - 0s 433us/sample - loss: nan - mean_absolute_error: nan\n",
      "Train on 765 samples\n",
      "Epoch 1/7\n",
      "765/765 [==============================] - ETA: 13s - loss: nan - mean_absolute_error: n - ETA: 0s - loss: nan - mean_absolute_error: nan - ETA: 0s - loss: nan - mean_absolute_error: na - 1s 942us/sample - loss: nan - mean_absolute_error: nan\n",
      "Epoch 2/7\n",
      "765/765 [==============================] - ETA: 0s - loss: 77.3306 - mean_absolute_error: 77.330 - ETA: 0s - loss: 65.1931 - mean_absolute_error: 65.193 - ETA: 0s - loss: 71.9799 - mean_absolute_error: 71.979 - 0s 171us/sample - loss: nan - mean_absolute_error: nan\n",
      "Epoch 3/7\n",
      "765/765 [==============================] - ETA: 0s - loss: nan - mean_absolute_error: na - ETA: 0s - loss: nan - mean_absolute_error: na - ETA: 0s - loss: nan - mean_absolute_error: na - 0s 188us/sample - loss: nan - mean_absolute_error: nan\n",
      "Epoch 4/7\n",
      "765/765 [==============================] - ETA: 0s - loss: 61.8448 - mean_absolute_error: 61.844 - ETA: 0s - loss: 69.5877 - mean_absolute_error: 69.587 - ETA: 0s - loss: 68.2307 - mean_absolute_error: 68.230 - ETA: 0s - loss: nan - mean_absolute_error: nan        - ETA: 0s - loss: nan - mean_absolute_error: na - 0s 330us/sample - loss: nan - mean_absolute_error: nan\n",
      "Epoch 5/7\n",
      "765/765 [==============================] - ETA: 0s - loss: 49.4712 - mean_absolute_error: 49.471 - ETA: 0s - loss: 55.5354 - mean_absolute_error: 55.535 - ETA: 0s - loss: 58.1446 - mean_absolute_error: 58.144 - ETA: 0s - loss: 55.8666 - mean_absolute_error: 55.866 - ETA: 0s - loss: nan - mean_absolute_error: nan        - ETA: 0s - loss: nan - mean_absolute_error: na - 0s 437us/sample - loss: nan - mean_absolute_error: nan\n",
      "Epoch 6/7\n",
      "765/765 [==============================] - ETA: 0s - loss: 49.9753 - mean_absolute_error: 49.975 - ETA: 0s - loss: 55.5316 - mean_absolute_error: 55.531 - ETA: 0s - loss: 54.3238 - mean_absolute_error: 54.323 - 0s 209us/sample - loss: nan - mean_absolute_error: nan\n",
      "Epoch 7/7\n",
      "765/765 [==============================] - ETA: 0s - loss: 40.4739 - mean_absolute_error: 40.473 - ETA: 0s - loss: nan - mean_absolute_error: nan        - ETA: 0s - loss: nan - mean_absolute_error: na - ETA: 0s - loss: nan - mean_absolute_error: na - 0s 262us/sample - loss: nan - mean_absolute_error: nan\n",
      "Train on 765 samples\n",
      "Epoch 1/7\n",
      "765/765 [==============================] - ETA: 14s - loss: 170.2104 - mean_absolute_error: 170.21 - ETA: 0s - loss: nan - mean_absolute_error: nan           - ETA: 0s - loss: nan - mean_absolute_error: na - 1s 1ms/sample - loss: nan - mean_absolute_error: nan\n",
      "Epoch 2/7\n",
      "765/765 [==============================] - ETA: 0s - loss: 66.6798 - mean_absolute_error: 66.679 - ETA: 0s - loss: 63.3655 - mean_absolute_error: 63.365 - ETA: 0s - loss: nan - mean_absolute_error: nan        - 0s 166us/sample - loss: nan - mean_absolute_error: nan\n",
      "Epoch 3/7\n",
      "765/765 [==============================] - ETA: 0s - loss: 60.4242 - mean_absolute_error: 60.424 - ETA: 0s - loss: 62.7875 - mean_absolute_error: 62.787 - ETA: 0s - loss: nan - mean_absolute_error: nan        - 0s 164us/sample - loss: nan - mean_absolute_error: nan\n",
      "Epoch 4/7\n",
      "765/765 [==============================] - ETA: 0s - loss: 57.6187 - mean_absolute_error: 57.618 - ETA: 0s - loss: 59.2969 - mean_absolute_error: 59.296 - ETA: 0s - loss: nan - mean_absolute_error: nan        - 0s 172us/sample - loss: nan - mean_absolute_error: nan\n",
      "Epoch 5/7\n",
      "765/765 [==============================] - ETA: 0s - loss: 59.4388 - mean_absolute_error: 59.438 - ETA: 0s - loss: 50.2417 - mean_absolute_error: 50.241 - ETA: 0s - loss: nan - mean_absolute_error: nan        - 0s 189us/sample - loss: nan - mean_absolute_error: nan\n",
      "Epoch 6/7\n",
      "765/765 [==============================] - ETA: 0s - loss: 60.1316 - mean_absolute_error: 60.131 - ETA: 0s - loss: 49.1846 - mean_absolute_error: 49.184 - ETA: 0s - loss: nan - mean_absolute_error: nan        - 0s 183us/sample - loss: nan - mean_absolute_error: nan\n",
      "Epoch 7/7\n",
      "765/765 [==============================] - ETA: 0s - loss: 49.8113 - mean_absolute_error: 49.811 - ETA: 0s - loss: nan - mean_absolute_error: nan        - ETA: 0s - loss: nan - mean_absolute_error: na - 0s 174us/sample - loss: nan - mean_absolute_error: nan\n"
     ]
    },
    {
     "data": {
      "text/html": [
       "<span style=\"color:#4527A0\"><h1 style=\"font-size:18px\">Trial complete</h1></span>"
      ],
      "text/plain": [
       "<IPython.core.display.HTML object>"
      ]
     },
     "metadata": {},
     "output_type": "display_data"
    },
    {
     "data": {
      "text/html": [
       "<span style=\"color:#4527A0\"><h1 style=\"font-size:18px\">Trial summary</h1></span>"
      ],
      "text/plain": [
       "<IPython.core.display.HTML object>"
      ]
     },
     "metadata": {},
     "output_type": "display_data"
    },
    {
     "data": {
      "text/html": [
       "<span style=\"color:cyan\"> |-Trial ID: 2a52b7d1a222cb6057f48304c9f7476b</span>"
      ],
      "text/plain": [
       "<IPython.core.display.HTML object>"
      ]
     },
     "metadata": {},
     "output_type": "display_data"
    },
    {
     "data": {
      "text/html": [
       "<span style=\"color:cyan\"> |-Score: nan</span>"
      ],
      "text/plain": [
       "<IPython.core.display.HTML object>"
      ]
     },
     "metadata": {},
     "output_type": "display_data"
    },
    {
     "data": {
      "text/html": [
       "<span style=\"color:cyan\"> |-Best step: None</span>"
      ],
      "text/plain": [
       "<IPython.core.display.HTML object>"
      ]
     },
     "metadata": {},
     "output_type": "display_data"
    },
    {
     "data": {
      "text/html": [
       "<span style=\"color:#7E57C2\"><h2 style=\"font-size:16px\">Hyperparameters:</h2></span>"
      ],
      "text/plain": [
       "<IPython.core.display.HTML object>"
      ]
     },
     "metadata": {},
     "output_type": "display_data"
    },
    {
     "data": {
      "text/html": [
       "<span style=\"color:cyan\"> |-learning_rate: 0.01</span>"
      ],
      "text/plain": [
       "<IPython.core.display.HTML object>"
      ]
     },
     "metadata": {},
     "output_type": "display_data"
    },
    {
     "data": {
      "text/html": [
       "<span style=\"color:blue\"> |-num_layers: 6</span>"
      ],
      "text/plain": [
       "<IPython.core.display.HTML object>"
      ]
     },
     "metadata": {},
     "output_type": "display_data"
    },
    {
     "data": {
      "text/html": [
       "<span style=\"color:cyan\"> |-units_0: 128</span>"
      ],
      "text/plain": [
       "<IPython.core.display.HTML object>"
      ]
     },
     "metadata": {},
     "output_type": "display_data"
    },
    {
     "data": {
      "text/html": [
       "<span style=\"color:blue\"> |-units_1: 128</span>"
      ],
      "text/plain": [
       "<IPython.core.display.HTML object>"
      ]
     },
     "metadata": {},
     "output_type": "display_data"
    },
    {
     "data": {
      "text/html": [
       "<span style=\"color:cyan\"> |-units_10: 320</span>"
      ],
      "text/plain": [
       "<IPython.core.display.HTML object>"
      ]
     },
     "metadata": {},
     "output_type": "display_data"
    },
    {
     "data": {
      "text/html": [
       "<span style=\"color:blue\"> |-units_11: 192</span>"
      ],
      "text/plain": [
       "<IPython.core.display.HTML object>"
      ]
     },
     "metadata": {},
     "output_type": "display_data"
    },
    {
     "data": {
      "text/html": [
       "<span style=\"color:cyan\"> |-units_12: 384</span>"
      ],
      "text/plain": [
       "<IPython.core.display.HTML object>"
      ]
     },
     "metadata": {},
     "output_type": "display_data"
    },
    {
     "data": {
      "text/html": [
       "<span style=\"color:blue\"> |-units_2: 224</span>"
      ],
      "text/plain": [
       "<IPython.core.display.HTML object>"
      ]
     },
     "metadata": {},
     "output_type": "display_data"
    },
    {
     "data": {
      "text/html": [
       "<span style=\"color:cyan\"> |-units_3: 160</span>"
      ],
      "text/plain": [
       "<IPython.core.display.HTML object>"
      ]
     },
     "metadata": {},
     "output_type": "display_data"
    },
    {
     "data": {
      "text/html": [
       "<span style=\"color:blue\"> |-units_4: 352</span>"
      ],
      "text/plain": [
       "<IPython.core.display.HTML object>"
      ]
     },
     "metadata": {},
     "output_type": "display_data"
    },
    {
     "data": {
      "text/html": [
       "<span style=\"color:cyan\"> |-units_5: 256</span>"
      ],
      "text/plain": [
       "<IPython.core.display.HTML object>"
      ]
     },
     "metadata": {},
     "output_type": "display_data"
    },
    {
     "data": {
      "text/html": [
       "<span style=\"color:blue\"> |-units_6: 416</span>"
      ],
      "text/plain": [
       "<IPython.core.display.HTML object>"
      ]
     },
     "metadata": {},
     "output_type": "display_data"
    },
    {
     "data": {
      "text/html": [
       "<span style=\"color:cyan\"> |-units_7: 384</span>"
      ],
      "text/plain": [
       "<IPython.core.display.HTML object>"
      ]
     },
     "metadata": {},
     "output_type": "display_data"
    },
    {
     "data": {
      "text/html": [
       "<span style=\"color:blue\"> |-units_8: 256</span>"
      ],
      "text/plain": [
       "<IPython.core.display.HTML object>"
      ]
     },
     "metadata": {},
     "output_type": "display_data"
    },
    {
     "data": {
      "text/html": [
       "<span style=\"color:cyan\"> |-units_9: 128</span>"
      ],
      "text/plain": [
       "<IPython.core.display.HTML object>"
      ]
     },
     "metadata": {},
     "output_type": "display_data"
    },
    {
     "name": "stdout",
     "output_type": "stream",
     "text": [
      "Train on 765 samples\n",
      "Epoch 1/7\n",
      "765/765 [==============================] - ETA: 20s - loss: 88.6679 - mean_absolute_error: 88.66 - ETA: 1s - loss: 432.6472 - mean_absolute_error: 432.647 - ETA: 0s - loss: nan - mean_absolute_error: nan          - 1s 1ms/sample - loss: nan - mean_absolute_error: nan\n",
      "Epoch 2/7\n",
      "765/765 [==============================] - ETA: 0s - loss: 54.7780 - mean_absolute_error: 54.778 - ETA: 0s - loss: 72.1932 - mean_absolute_error: 72.193 - ETA: 0s - loss: nan - mean_absolute_error: nan        - 0s 193us/sample - loss: nan - mean_absolute_error: nan\n",
      "Epoch 3/7\n",
      "765/765 [==============================] - ETA: 0s - loss: 74.6917 - mean_absolute_error: 74.691 - ETA: 0s - loss: 60.7344 - mean_absolute_error: 60.734 - ETA: 0s - loss: nan - mean_absolute_error: nan        - 0s 190us/sample - loss: nan - mean_absolute_error: nan\n",
      "Epoch 4/7\n",
      "765/765 [==============================] - ETA: 0s - loss: 52.1751 - mean_absolute_error: 52.175 - ETA: 0s - loss: 55.4984 - mean_absolute_error: 55.498 - ETA: 0s - loss: nan - mean_absolute_error: nan        - 0s 202us/sample - loss: nan - mean_absolute_error: nan\n",
      "Epoch 5/7\n",
      "765/765 [==============================] - ETA: 0s - loss: 61.7508 - mean_absolute_error: 61.750 - ETA: 0s - loss: 56.9096 - mean_absolute_error: 56.909 - ETA: 0s - loss: 56.7169 - mean_absolute_error: 56.716 - ETA: 0s - loss: nan - mean_absolute_error: nan        - 0s 263us/sample - loss: nan - mean_absolute_error: nan\n",
      "Epoch 6/7\n",
      "765/765 [==============================] - ETA: 0s - loss: nan - mean_absolute_error: na - ETA: 0s - loss: nan - mean_absolute_error: na - ETA: 0s - loss: nan - mean_absolute_error: na - 0s 215us/sample - loss: nan - mean_absolute_error: nan\n",
      "Epoch 7/7\n",
      "765/765 [==============================] - ETA: 0s - loss: 60.4235 - mean_absolute_error: 60.423 - ETA: 0s - loss: nan - mean_absolute_error: nan        - ETA: 0s - loss: nan - mean_absolute_error: na - 0s 185us/sample - loss: nan - mean_absolute_error: nan\n",
      "Train on 765 samples\n",
      "Epoch 1/7\n",
      "765/765 [==============================] - ETA: 16s - loss: 102.7860 - mean_absolute_error: 102.78 - ETA: 1s - loss: nan - mean_absolute_error: nan           - ETA: 0s - loss: nan - mean_absolute_error: na - ETA: 0s - loss: nan - mean_absolute_error: na - 1s 1ms/sample - loss: nan - mean_absolute_error: nan\n",
      "Epoch 2/7\n",
      "765/765 [==============================] - ETA: 0s - loss: 54.1318 - mean_absolute_error: 54.131 - ETA: 0s - loss: 73.9239 - mean_absolute_error: 73.923 - ETA: 0s - loss: 72.1857 - mean_absolute_error: 72.185 - 0s 193us/sample - loss: nan - mean_absolute_error: nan\n",
      "Epoch 3/7\n",
      "765/765 [==============================] - ETA: 0s - loss: 80.8246 - mean_absolute_error: 80.824 - ETA: 0s - loss: nan - mean_absolute_error: nan        - ETA: 0s - loss: nan - mean_absolute_error: na - 0s 205us/sample - loss: nan - mean_absolute_error: nan\n",
      "Epoch 4/7\n",
      "765/765 [==============================] - ETA: 0s - loss: 68.1573 - mean_absolute_error: 68.157 - ETA: 0s - loss: nan - mean_absolute_error: nan        - ETA: 0s - loss: nan - mean_absolute_error: na - 0s 216us/sample - loss: nan - mean_absolute_error: nan\n",
      "Epoch 5/7\n",
      "765/765 [==============================] - ETA: 0s - loss: 53.9472 - mean_absolute_error: 53.947 - ETA: 0s - loss: 51.9451 - mean_absolute_error: 51.945 - ETA: 0s - loss: nan - mean_absolute_error: nan        - ETA: 0s - loss: nan - mean_absolute_error: na - 0s 242us/sample - loss: nan - mean_absolute_error: nan\n",
      "Epoch 6/7\n",
      "765/765 [==============================] - ETA: 0s - loss: nan - mean_absolute_error: na - ETA: 0s - loss: nan - mean_absolute_error: na - ETA: 0s - loss: nan - mean_absolute_error: na - ETA: 0s - loss: nan - mean_absolute_error: na - ETA: 0s - loss: nan - mean_absolute_error: na - 0s 331us/sample - loss: nan - mean_absolute_error: nan\n",
      "Epoch 7/7\n",
      "765/765 [==============================] - ETA: 0s - loss: 33.2448 - mean_absolute_error: 33.244 - ETA: 0s - loss: 38.4567 - mean_absolute_error: 38.456 - ETA: 0s - loss: nan - mean_absolute_error: nan        - ETA: 0s - loss: nan - mean_absolute_error: na - 0s 279us/sample - loss: nan - mean_absolute_error: nan\n",
      "Train on 765 samples\n",
      "Epoch 1/7\n",
      "765/765 [==============================] - ETA: 19s - loss: 130.7930 - mean_absolute_error: 130.79 - ETA: 1s - loss: nan - mean_absolute_error: nan           - ETA: 0s - loss: nan - mean_absolute_error: na - 1s 1ms/sample - loss: nan - mean_absolute_error: nan\n",
      "Epoch 2/7\n",
      "765/765 [==============================] - ETA: 0s - loss: 62.0309 - mean_absolute_error: 62.030 - ETA: 0s - loss: 65.7989 - mean_absolute_error: 65.798 - ETA: 0s - loss: 65.5740 - mean_absolute_error: 65.574 - ETA: 0s - loss: nan - mean_absolute_error: nan        - 0s 270us/sample - loss: nan - mean_absolute_error: nan\n",
      "Epoch 3/7\n",
      "765/765 [==============================] - ETA: 0s - loss: 58.0447 - mean_absolute_error: 58.044 - ETA: 0s - loss: 57.0334 - mean_absolute_error: 57.033 - ETA: 0s - loss: 56.5359 - mean_absolute_error: 56.535 - ETA: 0s - loss: 56.4002 - mean_absolute_error: 56.400 - 0s 273us/sample - loss: nan - mean_absolute_error: nan\n",
      "Epoch 4/7\n",
      "765/765 [==============================] - ETA: 0s - loss: 59.9429 - mean_absolute_error: 59.942 - ETA: 0s - loss: 55.6176 - mean_absolute_error: 55.617 - ETA: 0s - loss: nan - mean_absolute_error: nan        - ETA: 0s - loss: nan - mean_absolute_error: na - 0s 277us/sample - loss: nan - mean_absolute_error: nan\n",
      "Epoch 5/7\n",
      "765/765 [==============================] - ETA: 0s - loss: 39.6104 - mean_absolute_error: 39.610 - ETA: 0s - loss: nan - mean_absolute_error: nan        - ETA: 0s - loss: nan - mean_absolute_error: na - 0s 201us/sample - loss: nan - mean_absolute_error: nan\n",
      "Epoch 6/7\n",
      "765/765 [==============================] - ETA: 0s - loss: 46.7752 - mean_absolute_error: 46.775 - ETA: 0s - loss: nan - mean_absolute_error: nan        - ETA: 0s - loss: nan - mean_absolute_error: na - 0s 198us/sample - loss: nan - mean_absolute_error: nan\n",
      "Epoch 7/7\n",
      "765/765 [==============================] - ETA: 0s - loss: 74.5905 - mean_absolute_error: 74.590 - ETA: 0s - loss: 83.3836 - mean_absolute_error: 83.383 - ETA: 0s - loss: 71.5715 - mean_absolute_error: 71.571 - ETA: 0s - loss: nan - mean_absolute_error: nan        - 0s 258us/sample - loss: nan - mean_absolute_error: nan\n"
     ]
    },
    {
     "data": {
      "text/html": [
       "<span style=\"color:#4527A0\"><h1 style=\"font-size:18px\">Trial complete</h1></span>"
      ],
      "text/plain": [
       "<IPython.core.display.HTML object>"
      ]
     },
     "metadata": {},
     "output_type": "display_data"
    },
    {
     "data": {
      "text/html": [
       "<span style=\"color:#4527A0\"><h1 style=\"font-size:18px\">Trial summary</h1></span>"
      ],
      "text/plain": [
       "<IPython.core.display.HTML object>"
      ]
     },
     "metadata": {},
     "output_type": "display_data"
    },
    {
     "data": {
      "text/html": [
       "<span style=\"color:cyan\"> |-Trial ID: 40a5dedb7399835f8f3e54e6372c85cb</span>"
      ],
      "text/plain": [
       "<IPython.core.display.HTML object>"
      ]
     },
     "metadata": {},
     "output_type": "display_data"
    },
    {
     "data": {
      "text/html": [
       "<span style=\"color:cyan\"> |-Score: nan</span>"
      ],
      "text/plain": [
       "<IPython.core.display.HTML object>"
      ]
     },
     "metadata": {},
     "output_type": "display_data"
    },
    {
     "data": {
      "text/html": [
       "<span style=\"color:cyan\"> |-Best step: None</span>"
      ],
      "text/plain": [
       "<IPython.core.display.HTML object>"
      ]
     },
     "metadata": {},
     "output_type": "display_data"
    },
    {
     "data": {
      "text/html": [
       "<span style=\"color:#7E57C2\"><h2 style=\"font-size:16px\">Hyperparameters:</h2></span>"
      ],
      "text/plain": [
       "<IPython.core.display.HTML object>"
      ]
     },
     "metadata": {},
     "output_type": "display_data"
    },
    {
     "data": {
      "text/html": [
       "<span style=\"color:cyan\"> |-learning_rate: 0.01</span>"
      ],
      "text/plain": [
       "<IPython.core.display.HTML object>"
      ]
     },
     "metadata": {},
     "output_type": "display_data"
    },
    {
     "data": {
      "text/html": [
       "<span style=\"color:blue\"> |-num_layers: 10</span>"
      ],
      "text/plain": [
       "<IPython.core.display.HTML object>"
      ]
     },
     "metadata": {},
     "output_type": "display_data"
    },
    {
     "data": {
      "text/html": [
       "<span style=\"color:cyan\"> |-units_0: 384</span>"
      ],
      "text/plain": [
       "<IPython.core.display.HTML object>"
      ]
     },
     "metadata": {},
     "output_type": "display_data"
    },
    {
     "data": {
      "text/html": [
       "<span style=\"color:blue\"> |-units_1: 192</span>"
      ],
      "text/plain": [
       "<IPython.core.display.HTML object>"
      ]
     },
     "metadata": {},
     "output_type": "display_data"
    },
    {
     "data": {
      "text/html": [
       "<span style=\"color:cyan\"> |-units_10: 192</span>"
      ],
      "text/plain": [
       "<IPython.core.display.HTML object>"
      ]
     },
     "metadata": {},
     "output_type": "display_data"
    },
    {
     "data": {
      "text/html": [
       "<span style=\"color:blue\"> |-units_11: 64</span>"
      ],
      "text/plain": [
       "<IPython.core.display.HTML object>"
      ]
     },
     "metadata": {},
     "output_type": "display_data"
    },
    {
     "data": {
      "text/html": [
       "<span style=\"color:cyan\"> |-units_12: 96</span>"
      ],
      "text/plain": [
       "<IPython.core.display.HTML object>"
      ]
     },
     "metadata": {},
     "output_type": "display_data"
    },
    {
     "data": {
      "text/html": [
       "<span style=\"color:blue\"> |-units_2: 288</span>"
      ],
      "text/plain": [
       "<IPython.core.display.HTML object>"
      ]
     },
     "metadata": {},
     "output_type": "display_data"
    },
    {
     "data": {
      "text/html": [
       "<span style=\"color:cyan\"> |-units_3: 256</span>"
      ],
      "text/plain": [
       "<IPython.core.display.HTML object>"
      ]
     },
     "metadata": {},
     "output_type": "display_data"
    },
    {
     "data": {
      "text/html": [
       "<span style=\"color:blue\"> |-units_4: 128</span>"
      ],
      "text/plain": [
       "<IPython.core.display.HTML object>"
      ]
     },
     "metadata": {},
     "output_type": "display_data"
    },
    {
     "data": {
      "text/html": [
       "<span style=\"color:cyan\"> |-units_5: 224</span>"
      ],
      "text/plain": [
       "<IPython.core.display.HTML object>"
      ]
     },
     "metadata": {},
     "output_type": "display_data"
    },
    {
     "data": {
      "text/html": [
       "<span style=\"color:blue\"> |-units_6: 384</span>"
      ],
      "text/plain": [
       "<IPython.core.display.HTML object>"
      ]
     },
     "metadata": {},
     "output_type": "display_data"
    },
    {
     "data": {
      "text/html": [
       "<span style=\"color:cyan\"> |-units_7: 288</span>"
      ],
      "text/plain": [
       "<IPython.core.display.HTML object>"
      ]
     },
     "metadata": {},
     "output_type": "display_data"
    },
    {
     "data": {
      "text/html": [
       "<span style=\"color:blue\"> |-units_8: 256</span>"
      ],
      "text/plain": [
       "<IPython.core.display.HTML object>"
      ]
     },
     "metadata": {},
     "output_type": "display_data"
    },
    {
     "data": {
      "text/html": [
       "<span style=\"color:cyan\"> |-units_9: 32</span>"
      ],
      "text/plain": [
       "<IPython.core.display.HTML object>"
      ]
     },
     "metadata": {},
     "output_type": "display_data"
    },
    {
     "name": "stdout",
     "output_type": "stream",
     "text": [
      "Train on 765 samples\n",
      "Epoch 1/7\n",
      "765/765 [==============================] - ETA: 12s - loss: 107.0630 - mean_absolute_error: 107.06 - ETA: 0s - loss: 81.3953 - mean_absolute_error: 81.3953   - ETA: 0s - loss: nan - mean_absolute_error: nan        - 1s 885us/sample - loss: nan - mean_absolute_error: nan\n",
      "Epoch 2/7\n",
      "765/765 [==============================] - ETA: 0s - loss: 69.5325 - mean_absolute_error: 69.532 - ETA: 0s - loss: 66.4776 - mean_absolute_error: 66.477 - ETA: 0s - loss: nan - mean_absolute_error: nan        - 0s 199us/sample - loss: nan - mean_absolute_error: nan\n",
      "Epoch 3/7\n",
      "765/765 [==============================] - ETA: 0s - loss: 75.8975 - mean_absolute_error: 75.897 - ETA: 0s - loss: nan - mean_absolute_error: nan        - ETA: 0s - loss: nan - mean_absolute_error: na - ETA: 0s - loss: nan - mean_absolute_error: na - 0s 241us/sample - loss: nan - mean_absolute_error: nan\n",
      "Epoch 4/7\n",
      "765/765 [==============================] - ETA: 0s - loss: 82.2518 - mean_absolute_error: 82.251 - ETA: 0s - loss: nan - mean_absolute_error: nan        - ETA: 0s - loss: nan - mean_absolute_error: na - 0s 164us/sample - loss: nan - mean_absolute_error: nan\n",
      "Epoch 5/7\n",
      "765/765 [==============================] - ETA: 0s - loss: 68.0957 - mean_absolute_error: 68.095 - ETA: 0s - loss: 64.4765 - mean_absolute_error: 64.476 - ETA: 0s - loss: nan - mean_absolute_error: nan        - 0s 173us/sample - loss: nan - mean_absolute_error: nan\n",
      "Epoch 6/7\n",
      "765/765 [==============================] - ETA: 0s - loss: 61.7383 - mean_absolute_error: 61.738 - ETA: 0s - loss: 70.5810 - mean_absolute_error: 70.581 - ETA: 0s - loss: nan - mean_absolute_error: nan        - 0s 171us/sample - loss: nan - mean_absolute_error: nan\n",
      "Epoch 7/7\n",
      "765/765 [==============================] - ETA: 0s - loss: 57.2129 - mean_absolute_error: 57.212 - ETA: 0s - loss: 61.7283 - mean_absolute_error: 61.728 - ETA: 0s - loss: nan - mean_absolute_error: nan        - 0s 173us/sample - loss: nan - mean_absolute_error: nan\n",
      "Train on 765 samples\n",
      "Epoch 1/7\n",
      "765/765 [==============================] - ETA: 12s - loss: 87.1053 - mean_absolute_error: 87.10 - ETA: 0s - loss: 71.8055 - mean_absolute_error: 71.8055 - ETA: 0s - loss: nan - mean_absolute_error: nan        - 1s 894us/sample - loss: nan - mean_absolute_error: nan\n",
      "Epoch 2/7\n",
      "765/765 [==============================] - ETA: 0s - loss: 63.8893 - mean_absolute_error: 63.889 - ETA: 0s - loss: 63.7657 - mean_absolute_error: 63.765 - ETA: 0s - loss: nan - mean_absolute_error: nan        - ETA: 0s - loss: nan - mean_absolute_error: na - 0s 244us/sample - loss: nan - mean_absolute_error: nan\n",
      "Epoch 3/7\n",
      "765/765 [==============================] - ETA: 0s - loss: 73.3355 - mean_absolute_error: 73.335 - ETA: 0s - loss: 66.8122 - mean_absolute_error: 66.812 - ETA: 0s - loss: nan - mean_absolute_error: nan        - 0s 167us/sample - loss: nan - mean_absolute_error: nan\n",
      "Epoch 4/7\n",
      "765/765 [==============================] - ETA: 0s - loss: 78.1378 - mean_absolute_error: 78.137 - ETA: 0s - loss: nan - mean_absolute_error: nan        - ETA: 0s - loss: nan - mean_absolute_error: na - 0s 215us/sample - loss: nan - mean_absolute_error: nan\n",
      "Epoch 5/7\n",
      "765/765 [==============================] - ETA: 0s - loss: 56.2453 - mean_absolute_error: 56.245 - ETA: 0s - loss: 66.3523 - mean_absolute_error: 66.352 - ETA: 0s - loss: 63.7149 - mean_absolute_error: 63.714 - ETA: 0s - loss: nan - mean_absolute_error: nan        - 0s 256us/sample - loss: nan - mean_absolute_error: nan\n",
      "Epoch 6/7\n",
      "765/765 [==============================] - ETA: 0s - loss: 76.2942 - mean_absolute_error: 76.294 - ETA: 0s - loss: 62.8002 - mean_absolute_error: 62.800 - ETA: 0s - loss: 64.0618 - mean_absolute_error: 64.061 - ETA: 0s - loss: nan - mean_absolute_error: nan        - 0s 241us/sample - loss: nan - mean_absolute_error: nan\n",
      "Epoch 7/7\n",
      "765/765 [==============================] - ETA: 0s - loss: 67.9069 - mean_absolute_error: 67.906 - ETA: 0s - loss: 67.9721 - mean_absolute_error: 67.972 - ETA: 0s - loss: 66.1189 - mean_absolute_error: 66.118 - 0s 185us/sample - loss: nan - mean_absolute_error: nan\n",
      "Train on 765 samples\n",
      "Epoch 1/7\n",
      "765/765 [==============================] - ETA: 14s - loss: 111.7896 - mean_absolute_error: 111.78 - ETA: 0s - loss: nan - mean_absolute_error: nan           - ETA: 0s - loss: nan - mean_absolute_error: na - 1s 973us/sample - loss: nan - mean_absolute_error: nan\n",
      "Epoch 2/7\n",
      "765/765 [==============================] - ETA: 0s - loss: 71.7041 - mean_absolute_error: 71.704 - ETA: 0s - loss: 67.6262 - mean_absolute_error: 67.626 - ETA: 0s - loss: nan - mean_absolute_error: nan        - 0s 167us/sample - loss: nan - mean_absolute_error: nan\n",
      "Epoch 3/7\n",
      "765/765 [==============================] - ETA: 0s - loss: 66.9832 - mean_absolute_error: 66.983 - ETA: 0s - loss: nan - mean_absolute_error: nan        - 0s 150us/sample - loss: nan - mean_absolute_error: nan\n",
      "Epoch 4/7\n",
      "765/765 [==============================] - ETA: 0s - loss: 61.7768 - mean_absolute_error: 61.776 - ETA: 0s - loss: 65.7321 - mean_absolute_error: 65.732 - ETA: 0s - loss: 65.8124 - mean_absolute_error: 65.812 - 0s 178us/sample - loss: nan - mean_absolute_error: nan\n",
      "Epoch 5/7\n",
      "765/765 [==============================] - ETA: 0s - loss: 57.5480 - mean_absolute_error: 57.548 - ETA: 0s - loss: 65.0196 - mean_absolute_error: 65.019 - ETA: 0s - loss: nan - mean_absolute_error: nan        - 0s 171us/sample - loss: nan - mean_absolute_error: nan\n",
      "Epoch 6/7\n",
      "765/765 [==============================] - ETA: 0s - loss: 57.6340 - mean_absolute_error: 57.634 - ETA: 0s - loss: 65.7458 - mean_absolute_error: 65.745 - ETA: 0s - loss: 65.9148 - mean_absolute_error: 65.914 - 0s 198us/sample - loss: nan - mean_absolute_error: nan\n",
      "Epoch 7/7\n",
      "765/765 [==============================] - ETA: 0s - loss: 73.3760 - mean_absolute_error: 73.376 - ETA: 0s - loss: nan - mean_absolute_error: nan        - ETA: 0s - loss: nan - mean_absolute_error: na - ETA: 0s - loss: nan - mean_absolute_error: na - 0s 257us/sample - loss: nan - mean_absolute_error: nan\n"
     ]
    },
    {
     "data": {
      "text/html": [
       "<span style=\"color:#4527A0\"><h1 style=\"font-size:18px\">Trial complete</h1></span>"
      ],
      "text/plain": [
       "<IPython.core.display.HTML object>"
      ]
     },
     "metadata": {},
     "output_type": "display_data"
    },
    {
     "data": {
      "text/html": [
       "<span style=\"color:#4527A0\"><h1 style=\"font-size:18px\">Trial summary</h1></span>"
      ],
      "text/plain": [
       "<IPython.core.display.HTML object>"
      ]
     },
     "metadata": {},
     "output_type": "display_data"
    },
    {
     "data": {
      "text/html": [
       "<span style=\"color:cyan\"> |-Trial ID: 2fe680872a65372aa4ded39233bb0b6e</span>"
      ],
      "text/plain": [
       "<IPython.core.display.HTML object>"
      ]
     },
     "metadata": {},
     "output_type": "display_data"
    },
    {
     "data": {
      "text/html": [
       "<span style=\"color:cyan\"> |-Score: nan</span>"
      ],
      "text/plain": [
       "<IPython.core.display.HTML object>"
      ]
     },
     "metadata": {},
     "output_type": "display_data"
    },
    {
     "data": {
      "text/html": [
       "<span style=\"color:cyan\"> |-Best step: None</span>"
      ],
      "text/plain": [
       "<IPython.core.display.HTML object>"
      ]
     },
     "metadata": {},
     "output_type": "display_data"
    },
    {
     "data": {
      "text/html": [
       "<span style=\"color:#7E57C2\"><h2 style=\"font-size:16px\">Hyperparameters:</h2></span>"
      ],
      "text/plain": [
       "<IPython.core.display.HTML object>"
      ]
     },
     "metadata": {},
     "output_type": "display_data"
    },
    {
     "data": {
      "text/html": [
       "<span style=\"color:cyan\"> |-learning_rate: 0.0001</span>"
      ],
      "text/plain": [
       "<IPython.core.display.HTML object>"
      ]
     },
     "metadata": {},
     "output_type": "display_data"
    },
    {
     "data": {
      "text/html": [
       "<span style=\"color:blue\"> |-num_layers: 4</span>"
      ],
      "text/plain": [
       "<IPython.core.display.HTML object>"
      ]
     },
     "metadata": {},
     "output_type": "display_data"
    },
    {
     "data": {
      "text/html": [
       "<span style=\"color:cyan\"> |-units_0: 288</span>"
      ],
      "text/plain": [
       "<IPython.core.display.HTML object>"
      ]
     },
     "metadata": {},
     "output_type": "display_data"
    },
    {
     "data": {
      "text/html": [
       "<span style=\"color:blue\"> |-units_1: 320</span>"
      ],
      "text/plain": [
       "<IPython.core.display.HTML object>"
      ]
     },
     "metadata": {},
     "output_type": "display_data"
    },
    {
     "data": {
      "text/html": [
       "<span style=\"color:cyan\"> |-units_10: 256</span>"
      ],
      "text/plain": [
       "<IPython.core.display.HTML object>"
      ]
     },
     "metadata": {},
     "output_type": "display_data"
    },
    {
     "data": {
      "text/html": [
       "<span style=\"color:blue\"> |-units_11: 64</span>"
      ],
      "text/plain": [
       "<IPython.core.display.HTML object>"
      ]
     },
     "metadata": {},
     "output_type": "display_data"
    },
    {
     "data": {
      "text/html": [
       "<span style=\"color:cyan\"> |-units_12: 256</span>"
      ],
      "text/plain": [
       "<IPython.core.display.HTML object>"
      ]
     },
     "metadata": {},
     "output_type": "display_data"
    },
    {
     "data": {
      "text/html": [
       "<span style=\"color:blue\"> |-units_2: 320</span>"
      ],
      "text/plain": [
       "<IPython.core.display.HTML object>"
      ]
     },
     "metadata": {},
     "output_type": "display_data"
    },
    {
     "data": {
      "text/html": [
       "<span style=\"color:cyan\"> |-units_3: 256</span>"
      ],
      "text/plain": [
       "<IPython.core.display.HTML object>"
      ]
     },
     "metadata": {},
     "output_type": "display_data"
    },
    {
     "data": {
      "text/html": [
       "<span style=\"color:blue\"> |-units_4: 352</span>"
      ],
      "text/plain": [
       "<IPython.core.display.HTML object>"
      ]
     },
     "metadata": {},
     "output_type": "display_data"
    },
    {
     "data": {
      "text/html": [
       "<span style=\"color:cyan\"> |-units_5: 192</span>"
      ],
      "text/plain": [
       "<IPython.core.display.HTML object>"
      ]
     },
     "metadata": {},
     "output_type": "display_data"
    },
    {
     "data": {
      "text/html": [
       "<span style=\"color:blue\"> |-units_6: 352</span>"
      ],
      "text/plain": [
       "<IPython.core.display.HTML object>"
      ]
     },
     "metadata": {},
     "output_type": "display_data"
    },
    {
     "data": {
      "text/html": [
       "<span style=\"color:cyan\"> |-units_7: 480</span>"
      ],
      "text/plain": [
       "<IPython.core.display.HTML object>"
      ]
     },
     "metadata": {},
     "output_type": "display_data"
    },
    {
     "data": {
      "text/html": [
       "<span style=\"color:blue\"> |-units_8: 288</span>"
      ],
      "text/plain": [
       "<IPython.core.display.HTML object>"
      ]
     },
     "metadata": {},
     "output_type": "display_data"
    },
    {
     "data": {
      "text/html": [
       "<span style=\"color:cyan\"> |-units_9: 320</span>"
      ],
      "text/plain": [
       "<IPython.core.display.HTML object>"
      ]
     },
     "metadata": {},
     "output_type": "display_data"
    },
    {
     "name": "stdout",
     "output_type": "stream",
     "text": [
      "Train on 765 samples\n",
      "Epoch 1/7\n",
      "765/765 [==============================] - ETA: 20s - loss: 93.9442 - mean_absolute_error: 93.94 - ETA: 1s - loss: 183.8867 - mean_absolute_error: 183.886 - ETA: 0s - loss: nan - mean_absolute_error: nan          - ETA: 0s - loss: nan - mean_absolute_error: na - 1s 1ms/sample - loss: nan - mean_absolute_error: nan\n",
      "Epoch 2/7\n",
      "765/765 [==============================] - ETA: 0s - loss: 65.1980 - mean_absolute_error: 65.198 - ETA: 0s - loss: nan - mean_absolute_error: nan        - ETA: 0s - loss: nan - mean_absolute_error: na - 0s 209us/sample - loss: nan - mean_absolute_error: nan\n",
      "Epoch 3/7\n",
      "765/765 [==============================] - ETA: 0s - loss: 62.1478 - mean_absolute_error: 62.147 - ETA: 0s - loss: 69.8938 - mean_absolute_error: 69.893 - ETA: 0s - loss: 63.8551 - mean_absolute_error: 63.855 - ETA: 0s - loss: nan - mean_absolute_error: nan        - 0s 253us/sample - loss: nan - mean_absolute_error: nan\n",
      "Epoch 4/7\n",
      "765/765 [==============================] - ETA: 0s - loss: 50.8834 - mean_absolute_error: 50.883 - ETA: 0s - loss: nan - mean_absolute_error: nan        - ETA: 0s - loss: nan - mean_absolute_error: na - ETA: 0s - loss: nan - mean_absolute_error: na - ETA: 0s - loss: nan - mean_absolute_error: na - 0s 338us/sample - loss: nan - mean_absolute_error: nan\n",
      "Epoch 5/7\n",
      "765/765 [==============================] - ETA: 0s - loss: 66.3437 - mean_absolute_error: 66.343 - ETA: 0s - loss: 56.6121 - mean_absolute_error: 56.612 - ETA: 0s - loss: nan - mean_absolute_error: nan        - ETA: 0s - loss: nan - mean_absolute_error: na - ETA: 0s - loss: nan - mean_absolute_error: na - ETA: 0s - loss: nan - mean_absolute_error: na - 0s 467us/sample - loss: nan - mean_absolute_error: nan\n",
      "Epoch 6/7\n",
      "765/765 [==============================] - ETA: 0s - loss: 42.3457 - mean_absolute_error: 42.345 - ETA: 0s - loss: 48.3206 - mean_absolute_error: 48.320 - ETA: 0s - loss: nan - mean_absolute_error: nan        - ETA: 0s - loss: nan - mean_absolute_error: na - ETA: 0s - loss: nan - mean_absolute_error: na - ETA: 0s - loss: nan - mean_absolute_error: na - 0s 413us/sample - loss: nan - mean_absolute_error: nan\n",
      "Epoch 7/7\n",
      "765/765 [==============================] - ETA: 0s - loss: 58.4858 - mean_absolute_error: 58.485 - ETA: 0s - loss: nan - mean_absolute_error: nan        - ETA: 0s - loss: nan - mean_absolute_error: na - ETA: 0s - loss: nan - mean_absolute_error: na - ETA: 0s - loss: nan - mean_absolute_error: na - ETA: 0s - loss: nan - mean_absolute_error: na - ETA: 0s - loss: nan - mean_absolute_error: na - 0s 521us/sample - loss: nan - mean_absolute_error: nan\n",
      "Train on 765 samples\n",
      "Epoch 1/7\n",
      "765/765 [==============================] - ETA: 19s - loss: 104.1128 - mean_absolute_error: 104.11 - ETA: 2s - loss: nan - mean_absolute_error: nan           - ETA: 0s - loss: nan - mean_absolute_error: na - ETA: 0s - loss: nan - mean_absolute_error: na - 1s 1ms/sample - loss: nan - mean_absolute_error: nan\n",
      "Epoch 2/7\n",
      "765/765 [==============================] - ETA: 0s - loss: 93.7659 - mean_absolute_error: 93.765 - ETA: 0s - loss: 73.7473 - mean_absolute_error: 73.747 - ETA: 0s - loss: 70.4495 - mean_absolute_error: 70.449 - ETA: 0s - loss: nan - mean_absolute_error: nan        - 0s 246us/sample - loss: nan - mean_absolute_error: nan\n",
      "Epoch 3/7\n",
      "765/765 [==============================] - ETA: 0s - loss: 78.5777 - mean_absolute_error: 78.577 - ETA: 0s - loss: 71.1261 - mean_absolute_error: 71.126 - ETA: 0s - loss: nan - mean_absolute_error: nan        - ETA: 0s - loss: nan - mean_absolute_error: na - 0s 296us/sample - loss: nan - mean_absolute_error: nan\n",
      "Epoch 4/7\n",
      "765/765 [==============================] - ETA: 0s - loss: 80.9915 - mean_absolute_error: 80.991 - ETA: 0s - loss: 65.7380 - mean_absolute_error: 65.738 - ETA: 0s - loss: 61.4751 - mean_absolute_error: 61.475 - ETA: 0s - loss: nan - mean_absolute_error: nan        - 0s 294us/sample - loss: nan - mean_absolute_error: nan\n",
      "Epoch 5/7\n",
      "765/765 [==============================] - ETA: 0s - loss: 85.7020 - mean_absolute_error: 85.702 - ETA: 0s - loss: 63.1510 - mean_absolute_error: 63.151 - ETA: 0s - loss: 59.6894 - mean_absolute_error: 59.689 - ETA: 0s - loss: 61.8760 - mean_absolute_error: 61.876 - 0s 282us/sample - loss: nan - mean_absolute_error: nan\n",
      "Epoch 6/7\n",
      "765/765 [==============================] - ETA: 0s - loss: 47.2953 - mean_absolute_error: 47.295 - ETA: 0s - loss: 56.7247 - mean_absolute_error: 56.724 - ETA: 0s - loss: 62.6534 - mean_absolute_error: 62.653 - 0s 185us/sample - loss: nan - mean_absolute_error: nan\n",
      "Epoch 7/7\n",
      "765/765 [==============================] - ETA: 0s - loss: 39.0086 - mean_absolute_error: 39.008 - ETA: 0s - loss: nan - mean_absolute_error: nan        - ETA: 0s - loss: nan - mean_absolute_error: na - 0s 192us/sample - loss: nan - mean_absolute_error: nan\n",
      "Train on 765 samples\n",
      "Epoch 1/7\n",
      "765/765 [==============================] - ETA: 18s - loss: 87.7098 - mean_absolute_error: 87.70 - ETA: 1s - loss: nan - mean_absolute_error: nan         - ETA: 0s - loss: nan - mean_absolute_error: na - 1s 1ms/sample - loss: nan - mean_absolute_error: nan\n",
      "Epoch 2/7\n",
      "765/765 [==============================] - ETA: 0s - loss: 55.9574 - mean_absolute_error: 55.957 - ETA: 0s - loss: 68.1802 - mean_absolute_error: 68.180 - ETA: 0s - loss: nan - mean_absolute_error: nan        - ETA: 0s - loss: nan - mean_absolute_error: na - 0s 267us/sample - loss: nan - mean_absolute_error: nan\n",
      "Epoch 3/7\n",
      "765/765 [==============================] - ETA: 0s - loss: 64.4441 - mean_absolute_error: 64.444 - ETA: 0s - loss: 59.0297 - mean_absolute_error: 59.029 - ETA: 0s - loss: nan - mean_absolute_error: nan        - 0s 186us/sample - loss: nan - mean_absolute_error: nan\n",
      "Epoch 4/7\n",
      "765/765 [==============================] - ETA: 0s - loss: 50.9524 - mean_absolute_error: 50.952 - ETA: 0s - loss: nan - mean_absolute_error: nan        - ETA: 0s - loss: nan - mean_absolute_error: na - 0s 192us/sample - loss: nan - mean_absolute_error: nan\n",
      "Epoch 5/7\n",
      "765/765 [==============================] - ETA: 0s - loss: 46.2496 - mean_absolute_error: 46.249 - ETA: 0s - loss: nan - mean_absolute_error: nan        - ETA: 0s - loss: nan - mean_absolute_error: na - 0s 198us/sample - loss: nan - mean_absolute_error: nan\n",
      "Epoch 6/7\n",
      "765/765 [==============================] - ETA: 0s - loss: 40.6823 - mean_absolute_error: 40.682 - ETA: 0s - loss: 54.6151 - mean_absolute_error: 54.615 - ETA: 0s - loss: nan - mean_absolute_error: nan        - ETA: 0s - loss: nan - mean_absolute_error: na - 0s 258us/sample - loss: nan - mean_absolute_error: nan\n",
      "Epoch 7/7\n",
      "765/765 [==============================] - ETA: 0s - loss: 66.1149 - mean_absolute_error: 66.114 - ETA: 0s - loss: 52.0734 - mean_absolute_error: 52.073 - ETA: 0s - loss: 53.2312 - mean_absolute_error: 53.231 - ETA: 0s - loss: nan - mean_absolute_error: nan        - ETA: 0s - loss: nan - mean_absolute_error: na - 0s 369us/sample - loss: nan - mean_absolute_error: nan\n"
     ]
    },
    {
     "data": {
      "text/html": [
       "<span style=\"color:#4527A0\"><h1 style=\"font-size:18px\">Trial complete</h1></span>"
      ],
      "text/plain": [
       "<IPython.core.display.HTML object>"
      ]
     },
     "metadata": {},
     "output_type": "display_data"
    },
    {
     "data": {
      "text/html": [
       "<span style=\"color:#4527A0\"><h1 style=\"font-size:18px\">Trial summary</h1></span>"
      ],
      "text/plain": [
       "<IPython.core.display.HTML object>"
      ]
     },
     "metadata": {},
     "output_type": "display_data"
    },
    {
     "data": {
      "text/html": [
       "<span style=\"color:cyan\"> |-Trial ID: 55fb7aa2eb73fc079eb5b1f839636745</span>"
      ],
      "text/plain": [
       "<IPython.core.display.HTML object>"
      ]
     },
     "metadata": {},
     "output_type": "display_data"
    },
    {
     "data": {
      "text/html": [
       "<span style=\"color:cyan\"> |-Score: nan</span>"
      ],
      "text/plain": [
       "<IPython.core.display.HTML object>"
      ]
     },
     "metadata": {},
     "output_type": "display_data"
    },
    {
     "data": {
      "text/html": [
       "<span style=\"color:cyan\"> |-Best step: None</span>"
      ],
      "text/plain": [
       "<IPython.core.display.HTML object>"
      ]
     },
     "metadata": {},
     "output_type": "display_data"
    },
    {
     "data": {
      "text/html": [
       "<span style=\"color:#7E57C2\"><h2 style=\"font-size:16px\">Hyperparameters:</h2></span>"
      ],
      "text/plain": [
       "<IPython.core.display.HTML object>"
      ]
     },
     "metadata": {},
     "output_type": "display_data"
    },
    {
     "data": {
      "text/html": [
       "<span style=\"color:cyan\"> |-learning_rate: 0.01</span>"
      ],
      "text/plain": [
       "<IPython.core.display.HTML object>"
      ]
     },
     "metadata": {},
     "output_type": "display_data"
    },
    {
     "data": {
      "text/html": [
       "<span style=\"color:blue\"> |-num_layers: 11</span>"
      ],
      "text/plain": [
       "<IPython.core.display.HTML object>"
      ]
     },
     "metadata": {},
     "output_type": "display_data"
    },
    {
     "data": {
      "text/html": [
       "<span style=\"color:cyan\"> |-units_0: 224</span>"
      ],
      "text/plain": [
       "<IPython.core.display.HTML object>"
      ]
     },
     "metadata": {},
     "output_type": "display_data"
    },
    {
     "data": {
      "text/html": [
       "<span style=\"color:blue\"> |-units_1: 352</span>"
      ],
      "text/plain": [
       "<IPython.core.display.HTML object>"
      ]
     },
     "metadata": {},
     "output_type": "display_data"
    },
    {
     "data": {
      "text/html": [
       "<span style=\"color:cyan\"> |-units_10: 416</span>"
      ],
      "text/plain": [
       "<IPython.core.display.HTML object>"
      ]
     },
     "metadata": {},
     "output_type": "display_data"
    },
    {
     "data": {
      "text/html": [
       "<span style=\"color:blue\"> |-units_11: 96</span>"
      ],
      "text/plain": [
       "<IPython.core.display.HTML object>"
      ]
     },
     "metadata": {},
     "output_type": "display_data"
    },
    {
     "data": {
      "text/html": [
       "<span style=\"color:cyan\"> |-units_12: 480</span>"
      ],
      "text/plain": [
       "<IPython.core.display.HTML object>"
      ]
     },
     "metadata": {},
     "output_type": "display_data"
    },
    {
     "data": {
      "text/html": [
       "<span style=\"color:blue\"> |-units_2: 352</span>"
      ],
      "text/plain": [
       "<IPython.core.display.HTML object>"
      ]
     },
     "metadata": {},
     "output_type": "display_data"
    },
    {
     "data": {
      "text/html": [
       "<span style=\"color:cyan\"> |-units_3: 128</span>"
      ],
      "text/plain": [
       "<IPython.core.display.HTML object>"
      ]
     },
     "metadata": {},
     "output_type": "display_data"
    },
    {
     "data": {
      "text/html": [
       "<span style=\"color:blue\"> |-units_4: 128</span>"
      ],
      "text/plain": [
       "<IPython.core.display.HTML object>"
      ]
     },
     "metadata": {},
     "output_type": "display_data"
    },
    {
     "data": {
      "text/html": [
       "<span style=\"color:cyan\"> |-units_5: 288</span>"
      ],
      "text/plain": [
       "<IPython.core.display.HTML object>"
      ]
     },
     "metadata": {},
     "output_type": "display_data"
    },
    {
     "data": {
      "text/html": [
       "<span style=\"color:blue\"> |-units_6: 224</span>"
      ],
      "text/plain": [
       "<IPython.core.display.HTML object>"
      ]
     },
     "metadata": {},
     "output_type": "display_data"
    },
    {
     "data": {
      "text/html": [
       "<span style=\"color:cyan\"> |-units_7: 96</span>"
      ],
      "text/plain": [
       "<IPython.core.display.HTML object>"
      ]
     },
     "metadata": {},
     "output_type": "display_data"
    },
    {
     "data": {
      "text/html": [
       "<span style=\"color:blue\"> |-units_8: 32</span>"
      ],
      "text/plain": [
       "<IPython.core.display.HTML object>"
      ]
     },
     "metadata": {},
     "output_type": "display_data"
    },
    {
     "data": {
      "text/html": [
       "<span style=\"color:cyan\"> |-units_9: 256</span>"
      ],
      "text/plain": [
       "<IPython.core.display.HTML object>"
      ]
     },
     "metadata": {},
     "output_type": "display_data"
    },
    {
     "name": "stdout",
     "output_type": "stream",
     "text": [
      "INFO:tensorflow:Oracle triggered exit\n"
     ]
    }
   ],
   "source": [
    "tuner.search(X_train.values, y_train.values,\n",
    "             epochs=5,\n",
    "            validation_data=X_test.values,y_test.values)"
   ]
  },
  {
   "cell_type": "code",
   "execution_count": null,
   "metadata": {},
   "outputs": [],
   "source": []
  },
  {
   "cell_type": "code",
   "execution_count": null,
   "metadata": {},
   "outputs": [],
   "source": []
  },
  {
   "cell_type": "code",
   "execution_count": null,
   "metadata": {},
   "outputs": [],
   "source": []
  }
 ],
 "metadata": {
  "kernelspec": {
   "display_name": "Python 3",
   "language": "python",
   "name": "python3"
  },
  "language_info": {
   "codemirror_mode": {
    "name": "ipython",
    "version": 3
   },
   "file_extension": ".py",
   "mimetype": "text/x-python",
   "name": "python",
   "nbconvert_exporter": "python",
   "pygments_lexer": "ipython3",
   "version": "3.7.9"
  }
 },
 "nbformat": 4,
 "nbformat_minor": 4
}
