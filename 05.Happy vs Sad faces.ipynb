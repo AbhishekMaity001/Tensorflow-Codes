{
 "cells": [
  {
   "cell_type": "markdown",
   "metadata": {},
   "source": [
    "# Happy vs Sad faces"
   ]
  },
  {
   "cell_type": "markdown",
   "metadata": {},
   "source": [
    "This dataset contains 80 images only (40-happy 40-sad) created graphically. So we will be creating a CNN that trains to 100% accuracy on these images and it will cancel the training when the accuracy is reached 99%.\n",
    "\n",
    "It works well with 3 Convolutional layers"
   ]
  },
  {
   "cell_type": "code",
   "execution_count": 1,
   "metadata": {},
   "outputs": [],
   "source": [
    "import os\n",
    "import numpy as np\n",
    "import pandas as pd\n",
    "import tensorflow as tf\n",
    "import matplotlib.pyplot as plt\n",
    "%matplotlib inline"
   ]
  },
  {
   "cell_type": "code",
   "execution_count": 7,
   "metadata": {},
   "outputs": [
    {
     "name": "stdout",
     "output_type": "stream",
     "text": [
      "Found 80 images belonging to 2 classes.\n",
      "Train for 8 steps\n",
      "Epoch 1/20\n",
      "8/8 [==============================] - 1s 88ms/step - loss: 1.3738 - accuracy: 0.4625\n",
      "Epoch 2/20\n",
      "8/8 [==============================] - 0s 19ms/step - loss: 0.5959 - accuracy: 0.7375\n",
      "Epoch 3/20\n",
      "8/8 [==============================] - 0s 18ms/step - loss: 0.3057 - accuracy: 0.9000\n",
      "Epoch 4/20\n",
      "8/8 [==============================] - 0s 18ms/step - loss: 0.1589 - accuracy: 0.9500\n",
      "Epoch 5/20\n",
      "8/8 [==============================] - 0s 18ms/step - loss: 0.1511 - accuracy: 0.9500\n",
      "Epoch 6/20\n",
      "8/8 [==============================] - 0s 18ms/step - loss: 0.2656 - accuracy: 0.8750\n",
      "Epoch 7/20\n",
      "8/8 [==============================] - 0s 18ms/step - loss: 0.1225 - accuracy: 0.9750\n",
      "Epoch 8/20\n",
      "8/8 [==============================] - 0s 18ms/step - loss: 0.0716 - accuracy: 0.9750\n",
      "Epoch 9/20\n",
      "8/8 [==============================] - 0s 18ms/step - loss: 0.1359 - accuracy: 0.9125\n",
      "Epoch 10/20\n",
      "8/8 [==============================] - 0s 18ms/step - loss: 0.0673 - accuracy: 0.9875\n",
      "Epoch 11/20\n",
      "8/8 [==============================] - 0s 18ms/step - loss: 0.0253 - accuracy: 0.9875\n",
      "Epoch 12/20\n",
      "5/8 [=================>............] - ETA: 0s - loss: 0.0109 - accuracy: 1.0000\n",
      " \n",
      " Stopping the Training!! Accuracy reached 99% \n",
      " \n",
      " \n",
      "8/8 [==============================] - 0s 18ms/step - loss: 0.0078 - accuracy: 1.0000\n"
     ]
    }
   ],
   "source": [
    "class my_callback(tf.keras.callbacks.Callback) :\n",
    "    def on_epoch_end(self,model,logs={}):\n",
    "        if(logs.get('accuracy') >= 0.99):\n",
    "            print('\\n \\n Stopping the Training!! Accuracy reached 99% \\n \\n ')\n",
    "            self.model.stop_training = True\n",
    "            \n",
    "callback1 = my_callback() # creating the object of my above class\n",
    "\n",
    "# Creating/Defining the model\n",
    "model = tf.keras.models.Sequential([\n",
    "    \n",
    "    tf.keras.layers.Conv2D(32,(3,3),activation='relu'),\n",
    "    tf.keras.layers.MaxPool2D(2,2),\n",
    "    \n",
    "    tf.keras.layers.Conv2D(32,(3,3),activation='relu'),\n",
    "    tf.keras.layers.MaxPool2D(2,2),\n",
    "    \n",
    "    tf.keras.layers.Conv2D(32,(3,3),activation='relu'),\n",
    "    tf.keras.layers.MaxPool2D(2,2),\n",
    "    \n",
    "    tf.keras.layers.Flatten(),\n",
    "    tf.keras.layers.Dense(512,activation='relu'),\n",
    "    tf.keras.layers.Dense(1,activation='sigmoid')\n",
    "    \n",
    "])\n",
    "\n",
    "from tensorflow.keras.optimizers import RMSprop\n",
    "model.compile(loss='binary_crossentropy',\n",
    "             optimizer=RMSprop(lr=0.001),\n",
    "             metrics=['accuracy'])\n",
    "\n",
    "\n",
    "from tensorflow.keras.preprocessing.image import ImageDataGenerator\n",
    "\n",
    "train_datagen = ImageDataGenerator(rescale=1./255)\n",
    "train_generator = train_datagen.flow_from_directory('../happy-sad',\n",
    "                                 target_size=(150, 150),\n",
    "                                 batch_size=10,\n",
    "                                 class_mode='binary')\n",
    "\n",
    "history = model.fit_generator(train_generator,\n",
    "                   steps_per_epoch=8,\n",
    "                   epochs=20,\n",
    "                   verbose=1,\n",
    "                   callbacks=[callback1])\n",
    "                                 \n",
    "\n",
    "\n",
    "\n"
   ]
  },
  {
   "cell_type": "code",
   "execution_count": null,
   "metadata": {},
   "outputs": [],
   "source": []
  },
  {
   "cell_type": "code",
   "execution_count": null,
   "metadata": {},
   "outputs": [],
   "source": []
  },
  {
   "cell_type": "code",
   "execution_count": null,
   "metadata": {},
   "outputs": [],
   "source": []
  },
  {
   "cell_type": "code",
   "execution_count": null,
   "metadata": {},
   "outputs": [],
   "source": []
  },
  {
   "cell_type": "code",
   "execution_count": null,
   "metadata": {},
   "outputs": [],
   "source": []
  }
 ],
 "metadata": {
  "kernelspec": {
   "display_name": "Python 3",
   "language": "python",
   "name": "python3"
  },
  "language_info": {
   "codemirror_mode": {
    "name": "ipython",
    "version": 3
   },
   "file_extension": ".py",
   "mimetype": "text/x-python",
   "name": "python",
   "nbconvert_exporter": "python",
   "pygments_lexer": "ipython3",
   "version": "3.7.9"
  }
 },
 "nbformat": 4,
 "nbformat_minor": 4
}
