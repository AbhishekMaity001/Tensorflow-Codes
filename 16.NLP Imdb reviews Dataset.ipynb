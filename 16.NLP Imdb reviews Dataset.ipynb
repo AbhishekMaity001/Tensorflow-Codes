{
 "cells": [
  {
   "cell_type": "markdown",
   "metadata": {},
   "source": [
    "# Imdb Review Dataset"
   ]
  },
  {
   "cell_type": "code",
   "execution_count": 7,
   "metadata": {},
   "outputs": [],
   "source": [
    "import numpy as np\n",
    "import tensorflow as tf\n",
    "import tensorflow_datasets as tfds"
   ]
  },
  {
   "cell_type": "code",
   "execution_count": 8,
   "metadata": {},
   "outputs": [],
   "source": [
    "# Loading the data\n",
    "imdb,info = tfds.load(\"imdb_reviews\",as_supervised=True,with_info=True)"
   ]
  },
  {
   "cell_type": "code",
   "execution_count": 9,
   "metadata": {},
   "outputs": [
    {
     "data": {
      "text/plain": [
       "dict"
      ]
     },
     "execution_count": 9,
     "metadata": {},
     "output_type": "execute_result"
    }
   ],
   "source": [
    "type(imdb)"
   ]
  },
  {
   "cell_type": "code",
   "execution_count": 10,
   "metadata": {},
   "outputs": [
    {
     "data": {
      "text/plain": [
       "{'test': <PrefetchDataset shapes: ((), ()), types: (tf.string, tf.int64)>,\n",
       " 'train': <PrefetchDataset shapes: ((), ()), types: (tf.string, tf.int64)>,\n",
       " 'unsupervised': <PrefetchDataset shapes: ((), ()), types: (tf.string, tf.int64)>}"
      ]
     },
     "execution_count": 10,
     "metadata": {},
     "output_type": "execute_result"
    }
   ],
   "source": [
    "imdb"
   ]
  },
  {
   "cell_type": "code",
   "execution_count": 12,
   "metadata": {},
   "outputs": [
    {
     "name": "stdout",
     "output_type": "stream",
     "text": [
      "<class 'tensorflow.python.data.ops.dataset_ops.PrefetchDataset'>\n"
     ]
    }
   ],
   "source": [
    "train = imdb['train']\n",
    "print(type(train))"
   ]
  },
  {
   "cell_type": "code",
   "execution_count": 13,
   "metadata": {},
   "outputs": [],
   "source": [
    "train_data , test_data = imdb['train'] , imdb['test']\n",
    "\n",
    "training_sentences = []\n",
    "training_labels = []\n",
    "\n",
    "testing_sentences = []\n",
    "testing_labels = []\n",
    "\n",
    "for s,l in train_data:\n",
    "    training_sentences.append(s.numpy().decode('utf8'))\n",
    "    training_labels.append(l.numpy())\n",
    "    \n",
    "for s,l in test_data:\n",
    "    testing_sentences.append(s.numpy().decode('utf8'))\n",
    "    testing_labels.append(l.numpy())\n",
    "\n",
    "    \n",
    "training_labels_final = np.array(training_labels)\n",
    "testing_labels_final = np.array(testing_labels)\n"
   ]
  },
  {
   "cell_type": "code",
   "execution_count": 14,
   "metadata": {},
   "outputs": [],
   "source": [
    "vocab_size = 10000\n",
    "embedding_dim = 16\n",
    "max_len = 120\n",
    "trunc_type = 'post'\n",
    "oov_tok = \"<OOV>\"\n",
    "\n",
    "from tensorflow.keras.preprocessing.text import Tokenizer\n",
    "from tensorflow.keras.preprocessing.sequence import pad_sequences\n",
    "\n",
    "tokenizer = Tokenizer(num_words=vocab_size,oov_token=oov_tok)\n",
    "tokenizer.fit_on_texts(training_sentences)\n",
    "sequences = tokenizer.texts_to_sequences(training_sentences)\n",
    "\n",
    "padded = pad_sequences(sequences,maxlen=max_len,truncating=trunc_type)\n",
    "\n",
    "testing_sequences = tokenizer.texts_to_sequences(testing_sentences)\n",
    "testing_padded = pad_sequences(testing_sequences,maxlen=max_len)\n",
    "\n"
   ]
  },
  {
   "cell_type": "code",
   "execution_count": 15,
   "metadata": {},
   "outputs": [
    {
     "data": {
      "text/plain": [
       "((25000, 120), (25000, 120))"
      ]
     },
     "execution_count": 15,
     "metadata": {},
     "output_type": "execute_result"
    }
   ],
   "source": [
    "padded.shape,testing_padded.shape"
   ]
  },
  {
   "cell_type": "code",
   "execution_count": 16,
   "metadata": {},
   "outputs": [],
   "source": [
    "word_index = tokenizer.word_index"
   ]
  },
  {
   "cell_type": "code",
   "execution_count": 18,
   "metadata": {},
   "outputs": [
    {
     "name": "stdout",
     "output_type": "stream",
     "text": [
      "? ? ? ? ? ? ? ? ? ? ? ? ? ? ? ? ? ? ? ? ? ? ? ? ? ? ? ? ? ? ? this is the kind of film for a snowy sunday afternoon when the rest of the world can go ahead with its own business as you <OOV> into a big arm chair and <OOV> for a couple of hours wonderful performances from cher and nicolas cage as always gently row the plot along there are no <OOV> to cross no dangerous waters just a warm and witty <OOV> through new york life at its best a family film in every sense and one that deserves the praise it received\n",
      "This is the kind of film for a snowy Sunday afternoon when the rest of the world can go ahead with its own business as you descend into a big arm-chair and mellow for a couple of hours. Wonderful performances from Cher and Nicolas Cage (as always) gently row the plot along. There are no rapids to cross, no dangerous waters, just a warm and witty paddle through New York life at its best. A family film in every sense and one that deserves the praise it received.\n"
     ]
    }
   ],
   "source": [
    "reverse_word_index = dict([(value, key) for (key, value) in word_index.items()])\n",
    "\n",
    "def decode_review(text):\n",
    "    return ' '.join([reverse_word_index.get(i, '?') for i in text])\n",
    "\n",
    "print(decode_review(padded[3]))\n",
    "print(training_sentences[3])"
   ]
  },
  {
   "cell_type": "code",
   "execution_count": 19,
   "metadata": {},
   "outputs": [
    {
     "name": "stdout",
     "output_type": "stream",
     "text": [
      "Model: \"sequential\"\n",
      "_________________________________________________________________\n",
      "Layer (type)                 Output Shape              Param #   \n",
      "=================================================================\n",
      "embedding (Embedding)        (None, 120, 16)           160000    \n",
      "_________________________________________________________________\n",
      "flatten (Flatten)            (None, 1920)              0         \n",
      "_________________________________________________________________\n",
      "dense (Dense)                (None, 6)                 11526     \n",
      "_________________________________________________________________\n",
      "dense_1 (Dense)              (None, 1)                 7         \n",
      "=================================================================\n",
      "Total params: 171,533\n",
      "Trainable params: 171,533\n",
      "Non-trainable params: 0\n",
      "_________________________________________________________________\n"
     ]
    }
   ],
   "source": [
    "model = tf.keras.Sequential([\n",
    "    tf.keras.layers.Embedding(vocab_size, embedding_dim, input_length=max_len),\n",
    "    tf.keras.layers.Flatten(),\n",
    "    tf.keras.layers.Dense(6, activation='relu'),\n",
    "    tf.keras.layers.Dense(1, activation='sigmoid')\n",
    "])\n",
    "model.compile(loss='binary_crossentropy',optimizer='adam',metrics=['accuracy'])\n",
    "model.summary()"
   ]
  },
  {
   "cell_type": "code",
   "execution_count": null,
   "metadata": {},
   "outputs": [
    {
     "name": "stdout",
     "output_type": "stream",
     "text": [
      "Train on 25000 samples, validate on 25000 samples\n",
      "Epoch 1/20\n",
      "25000/25000 [==============================] - 7s 299us/sample - loss: 0.5114 - accuracy: 0.7240 - val_loss: 0.3527 - val_accuracy: 0.8458\n",
      "Epoch 2/20\n",
      "25000/25000 [==============================] - 4s 171us/sample - loss: 0.2440 - accuracy: 0.9051 - val_loss: 0.3739 - val_accuracy: 0.8362\n",
      "Epoch 3/20\n",
      "25000/25000 [==============================] - 4s 162us/sample - loss: 0.0914 - accuracy: 0.9757 - val_loss: 0.4560 - val_accuracy: 0.8266\n",
      "Epoch 4/20\n",
      "25000/25000 [==============================] - 4s 162us/sample - loss: 0.0229 - accuracy: 0.9972 - val_loss: 0.5420 - val_accuracy: 0.8225\n",
      "Epoch 5/20\n",
      "25000/25000 [==============================] - 4s 172us/sample - loss: 0.0053 - accuracy: 0.9998 - val_loss: 0.5960 - val_accuracy: 0.8249\n",
      "Epoch 6/20\n",
      "25000/25000 [==============================] - 4s 169us/sample - loss: 0.0020 - accuracy: 1.0000 - val_loss: 0.6447 - val_accuracy: 0.8258\n",
      "Epoch 7/20\n",
      "25000/25000 [==============================] - 4s 176us/sample - loss: 8.5411e-04 - accuracy: 1.0000 - val_loss: 0.6870 - val_accuracy: 0.8269\n",
      "Epoch 8/20\n",
      "25000/25000 [==============================] - 4s 178us/sample - loss: 4.7135e-04 - accuracy: 1.0000 - val_loss: 0.7278 - val_accuracy: 0.8274\n",
      "Epoch 9/20\n",
      "25000/25000 [==============================] - 4s 169us/sample - loss: 2.6421e-04 - accuracy: 1.0000 - val_loss: 0.7675 - val_accuracy: 0.8273\n",
      "Epoch 10/20\n",
      "25000/25000 [==============================] - 4s 162us/sample - loss: 1.5909e-04 - accuracy: 1.0000 - val_loss: 0.8013 - val_accuracy: 0.8280\n",
      "Epoch 11/20\n",
      "25000/25000 [==============================] - 4s 175us/sample - loss: 9.7381e-05 - accuracy: 1.0000 - val_loss: 0.8416 - val_accuracy: 0.8270\n",
      "Epoch 12/20\n",
      "25000/25000 [==============================] - 4s 163us/sample - loss: 6.0325e-05 - accuracy: 1.0000 - val_loss: 0.8732 - val_accuracy: 0.8276\n",
      "Epoch 13/20\n",
      "25000/25000 [==============================] - 4s 164us/sample - loss: 3.7978e-05 - accuracy: 1.0000 - val_loss: 0.9075 - val_accuracy: 0.8275\n",
      "Epoch 14/20\n",
      "25000/25000 [==============================] - 4s 161us/sample - loss: 2.3747e-05 - accuracy: 1.0000 - val_loss: 0.9434 - val_accuracy: 0.8274\n",
      "Epoch 15/20\n",
      "25000/25000 [==============================] - 4s 163us/sample - loss: 1.4965e-05 - accuracy: 1.0000 - val_loss: 0.9757 - val_accuracy: 0.8279\n",
      "Epoch 16/20\n",
      "25000/25000 [==============================] - 4s 168us/sample - loss: 9.4304e-06 - accuracy: 1.0000 - val_loss: 1.0127 - val_accuracy: 0.8271\n",
      "Epoch 17/20\n",
      "25000/25000 [==============================] - 4s 165us/sample - loss: 6.0179e-06 - accuracy: 1.0000 - val_loss: 1.0446 - val_accuracy: 0.8277\n",
      "Epoch 18/20\n",
      "25000/25000 [==============================] - 4s 168us/sample - loss: 3.8921e-06 - accuracy: 1.0000 - val_loss: 1.0778 - val_accuracy: 0.8280\n",
      "Epoch 19/20\n",
      "25000/25000 [==============================] - 4s 161us/sample - loss: 2.5054e-06 - accuracy: 1.0000 - val_loss: 1.1140 - val_accuracy: 0.8272\n",
      "Epoch 20/20\n",
      " 7072/25000 [=======>......................] - ETA: 1s - loss: 1.7791e-06 - accuracy: 1.0000"
     ]
    }
   ],
   "source": [
    "hist = model.fit(padded,training_labels_final,epochs=20,validation_data = (testing_padded,testing_labels_final))"
   ]
  },
  {
   "cell_type": "code",
   "execution_count": null,
   "metadata": {},
   "outputs": [],
   "source": [
    "import matplotlib.pyplot as plt\n",
    "%matplotlib inline\n",
    "\n",
    "plt.figure(figsize=(10,8))\n",
    "plt.plot(hist.history['accuracy'],'r')\n",
    "plt.plot(hist.history['val_accuracy'],'b')\n"
   ]
  },
  {
   "cell_type": "code",
   "execution_count": null,
   "metadata": {},
   "outputs": [],
   "source": [
    "plt.figure(figsize=(10,8))\n",
    "plt.plot(hist.history['loss'],'r')\n",
    "plt.plot(hist.history['val_loss'],'b')"
   ]
  },
  {
   "cell_type": "markdown",
   "metadata": {},
   "source": [
    "## We can clearly observe that we are Overfitting the Data!!"
   ]
  },
  {
   "cell_type": "code",
   "execution_count": 16,
   "metadata": {},
   "outputs": [
    {
     "data": {
      "text/plain": [
       "(10000, 16)"
      ]
     },
     "execution_count": 16,
     "metadata": {},
     "output_type": "execute_result"
    }
   ],
   "source": [
    "e = model.layers[0]\n",
    "weights = e.get_weights()[0]\n",
    "weights.shape # shape : (vocab_size , embedding_dim)"
   ]
  },
  {
   "cell_type": "code",
   "execution_count": null,
   "metadata": {},
   "outputs": [],
   "source": []
  }
 ],
 "metadata": {
  "kernelspec": {
   "display_name": "Python 3",
   "language": "python",
   "name": "python3"
  },
  "language_info": {
   "codemirror_mode": {
    "name": "ipython",
    "version": 3
   },
   "file_extension": ".py",
   "mimetype": "text/x-python",
   "name": "python",
   "nbconvert_exporter": "python",
   "pygments_lexer": "ipython3",
   "version": "3.7.9"
  }
 },
 "nbformat": 4,
 "nbformat_minor": 4
}
