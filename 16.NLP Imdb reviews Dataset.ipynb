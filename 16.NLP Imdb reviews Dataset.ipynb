{
 "cells": [
  {
   "cell_type": "markdown",
   "metadata": {},
   "source": [
    "# Imdb Review Dataset"
   ]
  },
  {
   "cell_type": "code",
   "execution_count": 1,
   "metadata": {},
   "outputs": [],
   "source": [
    "import numpy as np\n",
    "import tensorflow as tf\n",
    "import tensorflow_datasets as tfds"
   ]
  },
  {
   "cell_type": "code",
   "execution_count": 2,
   "metadata": {},
   "outputs": [],
   "source": [
    "# Loading the data\n",
    "imdb,info = tfds.load(\"imdb_reviews\",as_supervised=True,with_info=True)"
   ]
  },
  {
   "cell_type": "code",
   "execution_count": 3,
   "metadata": {},
   "outputs": [],
   "source": [
    "train_data , test_data = imdb['train'] , imdb['test']\n",
    "\n",
    "training_sentences = []\n",
    "training_labels = []\n",
    "\n",
    "testing_sentences = []\n",
    "testing_labels = []\n",
    "\n",
    "for s,l in train_data:\n",
    "    training_sentences.append(s.numpy().decode('utf8'))\n",
    "    training_labels.append(l.numpy())\n",
    "    \n",
    "for s,l in test_data:\n",
    "    testing_sentences.append(s.numpy().decode('utf8'))\n",
    "    testing_labels.append(l.numpy())\n",
    "\n",
    "    \n",
    "training_labels_final = np.array(training_labels)\n",
    "testing_labels_final = np.array(testing_labels)\n"
   ]
  },
  {
   "cell_type": "code",
   "execution_count": 4,
   "metadata": {},
   "outputs": [],
   "source": [
    "vocab_size = 10000\n",
    "embedding_dim = 16\n",
    "max_len = 120\n",
    "trunc_type = 'post'\n",
    "oov_tok = \"<OOV>\"\n",
    "\n",
    "from tensorflow.keras.preprocessing.text import Tokenizer\n",
    "from tensorflow.keras.preprocessing.sequence import pad_sequences\n",
    "\n",
    "tokenizer = Tokenizer(num_words=vocab_size,oov_token=oov_tok)\n",
    "tokenizer.fit_on_texts(training_sentences)\n",
    "sequences = tokenizer.texts_to_sequences(training_sentences)\n",
    "\n",
    "padded = pad_sequences(sequences,maxlen=max_len,truncating=trunc_type)\n",
    "\n",
    "testing_sequences = tokenizer.texts_to_sequences(testing_sentences)\n",
    "testing_padded = pad_sequences(testing_sequences,maxlen=max_len)\n",
    "\n"
   ]
  },
  {
   "cell_type": "code",
   "execution_count": 7,
   "metadata": {},
   "outputs": [
    {
     "data": {
      "text/plain": [
       "((25000, 120), (25000, 120))"
      ]
     },
     "execution_count": 7,
     "metadata": {},
     "output_type": "execute_result"
    }
   ],
   "source": [
    "padded.shape,testing_padded.shape"
   ]
  },
  {
   "cell_type": "code",
   "execution_count": 9,
   "metadata": {},
   "outputs": [],
   "source": [
    "word_index = tokenizer.word_index"
   ]
  },
  {
   "cell_type": "code",
   "execution_count": 10,
   "metadata": {},
   "outputs": [
    {
     "name": "stdout",
     "output_type": "stream",
     "text": [
      "? ? ? ? ? ? ? ? ? ? ? ? ? ? ? ? ? ? ? ? ? ? ? ? ? ? ? ? ? ? ? this is the kind of film for a snowy sunday afternoon when the rest of the world can go ahead with its own business as you <OOV> into a big arm chair and <OOV> for a couple of hours wonderful performances from cher and nicolas cage as always gently row the plot along there are no <OOV> to cross no dangerous waters just a warm and witty <OOV> through new york life at its best a family film in every sense and one that deserves the praise it received\n",
      "This is the kind of film for a snowy Sunday afternoon when the rest of the world can go ahead with its own business as you descend into a big arm-chair and mellow for a couple of hours. Wonderful performances from Cher and Nicolas Cage (as always) gently row the plot along. There are no rapids to cross, no dangerous waters, just a warm and witty paddle through New York life at its best. A family film in every sense and one that deserves the praise it received.\n"
     ]
    }
   ],
   "source": [
    "reverse_word_index = dict([(value, key) for (key, value) in word_index.items()])\n",
    "\n",
    "def decode_review(text):\n",
    "    return ' '.join([reverse_word_index.get(i, '?') for i in text])\n",
    "\n",
    "print(decode_review(padded[3]))\n",
    "print(training_sentences[3])"
   ]
  },
  {
   "cell_type": "code",
   "execution_count": 5,
   "metadata": {},
   "outputs": [
    {
     "name": "stdout",
     "output_type": "stream",
     "text": [
      "Model: \"sequential\"\n",
      "_________________________________________________________________\n",
      "Layer (type)                 Output Shape              Param #   \n",
      "=================================================================\n",
      "embedding (Embedding)        (None, 120, 16)           160000    \n",
      "_________________________________________________________________\n",
      "flatten (Flatten)            (None, 1920)              0         \n",
      "_________________________________________________________________\n",
      "dense (Dense)                (None, 6)                 11526     \n",
      "_________________________________________________________________\n",
      "dense_1 (Dense)              (None, 1)                 7         \n",
      "=================================================================\n",
      "Total params: 171,533\n",
      "Trainable params: 171,533\n",
      "Non-trainable params: 0\n",
      "_________________________________________________________________\n"
     ]
    }
   ],
   "source": [
    "model = tf.keras.Sequential([\n",
    "    tf.keras.layers.Embedding(vocab_size, embedding_dim, input_length=max_len),\n",
    "    tf.keras.layers.Flatten(),\n",
    "    tf.keras.layers.Dense(6, activation='relu'),\n",
    "    tf.keras.layers.Dense(1, activation='sigmoid')\n",
    "])\n",
    "model.compile(loss='binary_crossentropy',optimizer='adam',metrics=['accuracy'])\n",
    "model.summary()"
   ]
  },
  {
   "cell_type": "code",
   "execution_count": 6,
   "metadata": {},
   "outputs": [
    {
     "name": "stdout",
     "output_type": "stream",
     "text": [
      "Train on 25000 samples, validate on 25000 samples\n",
      "Epoch 1/20\n",
      "25000/25000 [==============================] - 5s 186us/sample - loss: 0.4988 - accuracy: 0.7412 - val_loss: 0.3417 - val_accuracy: 0.8508\n",
      "Epoch 2/20\n",
      "25000/25000 [==============================] - 4s 162us/sample - loss: 0.2442 - accuracy: 0.9045 - val_loss: 0.3723 - val_accuracy: 0.8376\n",
      "Epoch 3/20\n",
      "25000/25000 [==============================] - 4s 154us/sample - loss: 0.0951 - accuracy: 0.9757 - val_loss: 0.4470 - val_accuracy: 0.8288\n",
      "Epoch 4/20\n",
      "25000/25000 [==============================] - 4s 157us/sample - loss: 0.0262 - accuracy: 0.9964 - val_loss: 0.5232 - val_accuracy: 0.8265\n",
      "Epoch 5/20\n",
      "25000/25000 [==============================] - 4s 154us/sample - loss: 0.0098 - accuracy: 0.9988 - val_loss: 0.5806 - val_accuracy: 0.8256\n",
      "Epoch 6/20\n",
      "25000/25000 [==============================] - 4s 160us/sample - loss: 0.0044 - accuracy: 0.9996 - val_loss: 0.6390 - val_accuracy: 0.8240\n",
      "Epoch 7/20\n",
      "25000/25000 [==============================] - 4s 160us/sample - loss: 0.0016 - accuracy: 0.9999 - val_loss: 0.6888 - val_accuracy: 0.8234\n",
      "Epoch 8/20\n",
      "25000/25000 [==============================] - 4s 159us/sample - loss: 5.9230e-04 - accuracy: 1.0000 - val_loss: 0.7300 - val_accuracy: 0.8251\n",
      "Epoch 9/20\n",
      "25000/25000 [==============================] - 4s 162us/sample - loss: 3.0477e-04 - accuracy: 1.0000 - val_loss: 0.7679 - val_accuracy: 0.8256\n",
      "Epoch 10/20\n",
      "25000/25000 [==============================] - 4s 150us/sample - loss: 2.6091e-04 - accuracy: 1.0000 - val_loss: 0.8122 - val_accuracy: 0.8266\n",
      "Epoch 11/20\n",
      "25000/25000 [==============================] - 4s 152us/sample - loss: 1.1544e-04 - accuracy: 1.0000 - val_loss: 0.8473 - val_accuracy: 0.8268\n",
      "Epoch 12/20\n",
      "25000/25000 [==============================] - 4s 152us/sample - loss: 6.6530e-05 - accuracy: 1.0000 - val_loss: 0.8806 - val_accuracy: 0.8271\n",
      "Epoch 13/20\n",
      "25000/25000 [==============================] - 4s 153us/sample - loss: 4.1625e-05 - accuracy: 1.0000 - val_loss: 0.9132 - val_accuracy: 0.8274\n",
      "Epoch 14/20\n",
      "25000/25000 [==============================] - 4s 158us/sample - loss: 2.6575e-05 - accuracy: 1.0000 - val_loss: 0.9465 - val_accuracy: 0.8272\n",
      "Epoch 15/20\n",
      "25000/25000 [==============================] - 4s 166us/sample - loss: 1.7105e-05 - accuracy: 1.0000 - val_loss: 0.9798 - val_accuracy: 0.8270\n",
      "Epoch 16/20\n",
      "25000/25000 [==============================] - 4s 175us/sample - loss: 1.0978e-05 - accuracy: 1.0000 - val_loss: 1.0131 - val_accuracy: 0.8271\n",
      "Epoch 17/20\n",
      "25000/25000 [==============================] - 4s 164us/sample - loss: 7.0629e-06 - accuracy: 1.0000 - val_loss: 1.0462 - val_accuracy: 0.8270\n",
      "Epoch 18/20\n",
      "25000/25000 [==============================] - 4s 175us/sample - loss: 4.5506e-06 - accuracy: 1.0000 - val_loss: 1.0803 - val_accuracy: 0.8268\n",
      "Epoch 19/20\n",
      "25000/25000 [==============================] - 4s 165us/sample - loss: 2.9210e-06 - accuracy: 1.0000 - val_loss: 1.1134 - val_accuracy: 0.8266\n",
      "Epoch 20/20\n",
      "25000/25000 [==============================] - 4s 155us/sample - loss: 1.9099e-06 - accuracy: 1.0000 - val_loss: 1.1464 - val_accuracy: 0.8262\n"
     ]
    }
   ],
   "source": [
    "hist = model.fit(padded,training_labels_final,epochs=20,validation_data = (testing_padded,testing_labels_final))"
   ]
  },
  {
   "cell_type": "code",
   "execution_count": 11,
   "metadata": {},
   "outputs": [
    {
     "data": {
      "text/plain": [
       "[<matplotlib.lines.Line2D at 0x1d39a936948>]"
      ]
     },
     "execution_count": 11,
     "metadata": {},
     "output_type": "execute_result"
    },
    {
     "data": {
      "image/png": "[encoded data removed]",
      "text/plain": [
       "<Figure size 720x576 with 1 Axes>"
      ]
     },
     "metadata": {
      "needs_background": "light"
     },
     "output_type": "display_data"
    }
   ],
   "source": [
    "import matplotlib.pyplot as plt\n",
    "%matplotlib inline\n",
    "\n",
    "plt.figure(figsize=(10,8))\n",
    "plt.plot(hist.history['accuracy'],'r')\n",
    "plt.plot(hist.history['val_accuracy'],'b')\n"
   ]
  },
  {
   "cell_type": "code",
   "execution_count": 12,
   "metadata": {},
   "outputs": [
    {
     "data": {
      "text/plain": [
       "[<matplotlib.lines.Line2D at 0x1d396960508>]"
      ]
     },
     "execution_count": 12,
     "metadata": {},
     "output_type": "execute_result"
    },
    {
     "data": {
      "image/png": "[encoded data removed]",
      "text/plain": [
       "<Figure size 720x576 with 1 Axes>"
      ]
     },
     "metadata": {
      "needs_background": "light"
     },
     "output_type": "display_data"
    }
   ],
   "source": [
    "plt.figure(figsize=(10,8))\n",
    "plt.plot(hist.history['loss'],'r')\n",
    "plt.plot(hist.history['val_loss'],'b')"
   ]
  },
  {
   "cell_type": "markdown",
   "metadata": {},
   "source": [
    "## We can clearly observe that we are Overfitting the Data!!"
   ]
  },
  {
   "cell_type": "code",
   "execution_count": 16,
   "metadata": {},
   "outputs": [
    {
     "data": {
      "text/plain": [
       "(10000, 16)"
      ]
     },
     "execution_count": 16,
     "metadata": {},
     "output_type": "execute_result"
    }
   ],
   "source": [
    "e = model.layers[0]\n",
    "weights = e.get_weights()[0]\n",
    "weights.shape # shape : (vocab_size , embedding_dim)"
   ]
  },
  {
   "cell_type": "code",
   "execution_count": null,
   "metadata": {},
   "outputs": [],
   "source": []
  }
 ],
 "metadata": {
  "kernelspec": {
   "display_name": "Python 3",
   "language": "python",
   "name": "python3"
  },
  "language_info": {
   "codemirror_mode": {
    "name": "ipython",
    "version": 3
   },
   "file_extension": ".py",
   "mimetype": "text/x-python",
   "name": "python",
   "nbconvert_exporter": "python",
   "pygments_lexer": "ipython3",
   "version": "3.7.9"
  }
 },
 "nbformat": 4,
 "nbformat_minor": 4
}
