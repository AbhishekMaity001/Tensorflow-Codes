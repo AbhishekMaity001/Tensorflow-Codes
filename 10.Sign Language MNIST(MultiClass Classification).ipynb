{
 "cells": [
  {
   "cell_type": "markdown",
   "metadata": {},
   "source": [
    "# Sign Language MNIST Dataset"
   ]
  },
  {
   "cell_type": "markdown",
   "metadata": {},
   "source": [
    "You can find the dataset on kaggle : https://www.kaggle.com/datamunge/sign-language-mnist"
   ]
  },
  {
   "cell_type": "code",
   "execution_count": 41,
   "metadata": {},
   "outputs": [],
   "source": [
    "import csv\n",
    "import numpy as np\n",
    "import pandas as pd\n",
    "import matplotlib.pyplot as plt\n",
    "import tensorflow as tf\n",
    "%matplotlib inline\n",
    "\n",
    "import os"
   ]
  },
  {
   "cell_type": "code",
   "execution_count": 42,
   "metadata": {},
   "outputs": [
    {
     "name": "stdout",
     "output_type": "stream",
     "text": [
      "(27455, 785)\n"
     ]
    }
   ],
   "source": [
    "# Since the data is already in the csv format so lets first read the data in the dataframe through pandas library!\n",
    "df = pd.read_csv('../Sign Language MNIST/sign_mnist_train.csv')\n",
    "df.head()\n",
    "print(df.shape)"
   ]
  },
  {
   "cell_type": "code",
   "execution_count": 43,
   "metadata": {},
   "outputs": [],
   "source": [
    "# reading through csv.reader method\n",
    "reader = csv.reader('../Sign Language MNIST/sign_mnist_train.csv',delimiter=',')\n",
    "    "
   ]
  },
  {
   "cell_type": "code",
   "execution_count": 44,
   "metadata": {},
   "outputs": [],
   "source": [
    "# Reading the data\n",
    "\n",
    "# You will need to write code that will read the file passed\n",
    "# into this function. The first line contains the column headers\n",
    "# so you should ignore it\n",
    "# Each successive line contians 785 comma separated values between 0 and 255\n",
    "# The first value is the label\n",
    "# The rest are the pixel values for that picture\n",
    "# The function will return 2 np.array types. One with all the labels\n",
    "# One with all the images\n",
    "# Tips: \n",
    "# If you read a full line (as 'row') then row[0] has the label\n",
    "# and row[1:785] has the 784 pixel values\n",
    "# Take a look at np.array_split to turn the 784 pixels into 28x28\n",
    "# You are reading in strings, but need the values to be floats\n",
    "# Check out np.array().astype for a conversion\n",
    "def get_data(filename):\n",
    "    \n",
    "    with open(filename) as training_file:\n",
    "        reader = csv.reader(training_file,delimiter=',')\n",
    "        labels = []\n",
    "        images = []\n",
    "        next(reader) #Calling next(object) with the result of the previous step as object will retrieve the first row of the iterator then discard it.\n",
    "        for row in reader:\n",
    "            \n",
    "            \n",
    "            label = row[0]\n",
    "            data = row[1:]\n",
    "            \n",
    "            img = np.array(data).reshape((28,28))\n",
    "            images.append(img)\n",
    "            labels.append(label)\n",
    "            \n",
    "        images = np.array(images).astype(float)\n",
    "        labels = np.array(labels).astype(float)\n",
    "        \n",
    "    return images,labels\n",
    "\n",
    "\n",
    "train_path = '../Sign Language MNIST/sign_mnist_train.csv'\n",
    "test_path = '../Sign Language MNIST/sign_mnist_test.csv'\n",
    "\n",
    "training_images,training_labels = get_data(train_path) \n",
    "testing_images,testing_labels = get_data(test_path)\n"
   ]
  },
  {
   "cell_type": "code",
   "execution_count": 45,
   "metadata": {},
   "outputs": [
    {
     "name": "stdout",
     "output_type": "stream",
     "text": [
      "(27455, 28, 28)\n",
      "(27455,)\n",
      "(7172, 28, 28)\n",
      "(7172,)\n"
     ]
    }
   ],
   "source": [
    "print(training_images.shape)\n",
    "print(training_labels.shape)\n",
    "print(testing_images.shape)\n",
    "print(testing_labels.shape)"
   ]
  },
  {
   "cell_type": "code",
   "execution_count": 46,
   "metadata": {},
   "outputs": [
    {
     "name": "stdout",
     "output_type": "stream",
     "text": [
      "(27455, 28, 28, 1)\n",
      "(7172, 28, 28, 1)\n"
     ]
    }
   ],
   "source": [
    "# Here we will be adding an another dimension of the data  coz our convolution expects 4D tensors\n",
    "# suppose we have data (27455,28,28) so we will convert it into (27455,28,28,1)\n",
    "\n",
    "training_images = np.expand_dims(training_images,axis=-1)\n",
    "testing_images = np.expand_dims(testing_images,axis=-1)\n",
    "\n",
    "\n",
    "# Image Generator\n",
    "\n",
    "from tensorflow.keras.preprocessing.image import ImageDataGenerator\n",
    "\n",
    "train_datagen = ImageDataGenerator(rescale=1./255.0,\n",
    "                                  rotation_range = 40,\n",
    "                                  width_shift_range = 0.2,\n",
    "                                  height_shift_range = 0.2,\n",
    "                                  shear_range = 0.2,\n",
    "                                  zoom_range =0.2,\n",
    "                                  horizontal_flip = True,\n",
    "                                  vertical_flip = True,\n",
    "                                  fill_mode='nearest')\n",
    "\n",
    "test_datagen = ImageDataGenerator(rescale=1./255.0)\n",
    "\n",
    "print(training_images.shape)\n",
    "print(testing_images.shape)\n",
    "\n"
   ]
  },
  {
   "cell_type": "code",
   "execution_count": 51,
   "metadata": {},
   "outputs": [
    {
     "name": "stdout",
     "output_type": "stream",
     "text": [
      "Model: \"sequential_4\"\n",
      "_________________________________________________________________\n",
      "Layer (type)                 Output Shape              Param #   \n",
      "=================================================================\n",
      "conv2d_8 (Conv2D)            (None, 26, 26, 64)        640       \n",
      "_________________________________________________________________\n",
      "max_pooling2d_8 (MaxPooling2 (None, 13, 13, 64)        0         \n",
      "_________________________________________________________________\n",
      "conv2d_9 (Conv2D)            (None, 11, 11, 64)        36928     \n",
      "_________________________________________________________________\n",
      "max_pooling2d_9 (MaxPooling2 (None, 5, 5, 64)          0         \n",
      "_________________________________________________________________\n",
      "flatten_4 (Flatten)          (None, 1600)              0         \n",
      "_________________________________________________________________\n",
      "dense_8 (Dense)              (None, 512)               819712    \n",
      "_________________________________________________________________\n",
      "dense_9 (Dense)              (None, 26)                13338     \n",
      "=================================================================\n",
      "Total params: 870,618\n",
      "Trainable params: 870,618\n",
      "Non-trainable params: 0\n",
      "_________________________________________________________________\n",
      "WARNING:tensorflow:sample_weight modes were coerced from\n",
      "  ...\n",
      "    to  \n",
      "  ['...']\n",
      "WARNING:tensorflow:sample_weight modes were coerced from\n",
      "  ...\n",
      "    to  \n",
      "  ['...']\n",
      "Train for 857.96875 steps, validate for 224.125 steps\n",
      "Epoch 1/20\n",
      "858/857 [==============================] - 8s 9ms/step - loss: 2.8338 - acc: 0.1378 - val_loss: 2.3573 - val_acc: 0.2720\n",
      "Epoch 2/20\n",
      "858/857 [==============================] - 7s 9ms/step - loss: 2.2625 - acc: 0.2848 - val_loss: 1.5922 - val_acc: 0.4788\n",
      "Epoch 3/20\n",
      "858/857 [==============================] - 7s 9ms/step - loss: 1.8476 - acc: 0.4091 - val_loss: 1.1517 - val_acc: 0.6258\n",
      "Epoch 4/20\n",
      "858/857 [==============================] - 7s 9ms/step - loss: 1.5358 - acc: 0.5023 - val_loss: 0.9146 - val_acc: 0.6834\n",
      "Epoch 5/20\n",
      "858/857 [==============================] - 7s 9ms/step - loss: 1.3143 - acc: 0.5719 - val_loss: 0.7812 - val_acc: 0.7271\n",
      "Epoch 6/20\n",
      "858/857 [==============================] - 7s 9ms/step - loss: 1.1610 - acc: 0.6193 - val_loss: 0.6558 - val_acc: 0.7683\n",
      "Epoch 7/20\n",
      "858/857 [==============================] - 7s 9ms/step - loss: 1.0317 - acc: 0.6596 - val_loss: 0.5550 - val_acc: 0.8113\n",
      "Epoch 8/20\n",
      "858/857 [==============================] - 7s 9ms/step - loss: 0.9493 - acc: 0.6853 - val_loss: 0.4759 - val_acc: 0.8214\n",
      "Epoch 9/20\n",
      "858/857 [==============================] - 7s 9ms/step - loss: 0.8617 - acc: 0.7148 - val_loss: 0.3287 - val_acc: 0.8734\n",
      "Epoch 10/20\n",
      "858/857 [==============================] - 7s 9ms/step - loss: 0.8164 - acc: 0.7302 - val_loss: 0.3320 - val_acc: 0.8784\n",
      "Epoch 11/20\n",
      "858/857 [==============================] - 7s 9ms/step - loss: 0.7586 - acc: 0.7493 - val_loss: 0.4243 - val_acc: 0.8397\n",
      "Epoch 12/20\n",
      "858/857 [==============================] - 7s 8ms/step - loss: 0.7296 - acc: 0.7592 - val_loss: 0.2614 - val_acc: 0.9045\n",
      "Epoch 13/20\n",
      "858/857 [==============================] - 7s 9ms/step - loss: 0.7149 - acc: 0.7670 - val_loss: 0.2949 - val_acc: 0.8925\n",
      "Epoch 14/20\n",
      "858/857 [==============================] - 7s 9ms/step - loss: 0.6765 - acc: 0.7802 - val_loss: 0.3087 - val_acc: 0.8864\n",
      "Epoch 15/20\n",
      "858/857 [==============================] - 7s 9ms/step - loss: 0.6686 - acc: 0.7870 - val_loss: 0.3760 - val_acc: 0.8636\n",
      "Epoch 16/20\n",
      "858/857 [==============================] - 7s 9ms/step - loss: 0.6478 - acc: 0.7890 - val_loss: 0.3271 - val_acc: 0.8717\n",
      "Epoch 17/20\n",
      "858/857 [==============================] - 7s 9ms/step - loss: 0.6242 - acc: 0.7992 - val_loss: 0.3954 - val_acc: 0.8675\n",
      "Epoch 18/20\n",
      "858/857 [==============================] - 7s 9ms/step - loss: 0.6278 - acc: 0.7973 - val_loss: 0.6596 - val_acc: 0.7946\n",
      "Epoch 19/20\n",
      "858/857 [==============================] - 7s 9ms/step - loss: 0.6202 - acc: 0.8020 - val_loss: 0.2693 - val_acc: 0.8921\n",
      "Epoch 20/20\n",
      "858/857 [==============================] - 7s 9ms/step - loss: 0.6016 - acc: 0.8072 - val_loss: 0.4072 - val_acc: 0.8487\n"
     ]
    }
   ],
   "source": [
    "# Defining the Model \n",
    "\n",
    "model = tf.keras.models.Sequential([\n",
    "    tf.keras.layers.Conv2D(64,(3,3),activation='relu',input_shape=(28,28,1)),\n",
    "    tf.keras.layers.MaxPool2D(2,2),\n",
    "    \n",
    "    tf.keras.layers.Conv2D(64,(3,3),activation='relu'),\n",
    "    tf.keras.layers.MaxPool2D(2,2),\n",
    "    \n",
    "    tf.keras.layers.Flatten(),\n",
    "    tf.keras.layers.Dense(512,activation='relu'),\n",
    "    tf.keras.layers.Dense(26,activation='softmax')\n",
    "    \n",
    "])\n",
    "\n",
    "training_generator = train_datagen.flow(training_images,\n",
    "                                       training_labels,\n",
    "                                       batch_size=32)\n",
    "testing_generator = test_datagen.flow(testing_images,\n",
    "                                     testing_labels,\n",
    "                                     batch_size=32)\n",
    "model.summary()\n",
    "\n",
    "# Compile the model\n",
    "\n",
    "model.compile(optimizer='rmsprop',\n",
    "             loss='sparse_categorical_crossentropy',\n",
    "             metrics=['acc'])\n",
    "\n",
    "# Training the model\n",
    "\n",
    "hist = model.fit_generator(training_generator,\n",
    "                   epochs=20,\n",
    "                   steps_per_epoch=len(training_images)/32,\n",
    "                   validation_data=testing_generator,\n",
    "                   validation_steps = len(testing_images)/32)\n"
   ]
  },
  {
   "cell_type": "code",
   "execution_count": 53,
   "metadata": {},
   "outputs": [
    {
     "name": "stdout",
     "output_type": "stream",
     "text": [
      "7172/7172 [==============================] - 1s 101us/sample - loss: 334.4358 - acc: 0.5424\n"
     ]
    },
    {
     "data": {
      "text/plain": [
       "[334.435763987229, 0.54238707]"
      ]
     },
     "execution_count": 53,
     "metadata": {},
     "output_type": "execute_result"
    }
   ],
   "source": [
    "model.evaluate(testing_images,testing_labels)"
   ]
  },
  {
   "cell_type": "markdown",
   "metadata": {},
   "source": [
    "# Plotting the Accuracy and Loss"
   ]
  },
  {
   "cell_type": "code",
   "execution_count": 55,
   "metadata": {},
   "outputs": [
    {
     "data": {
      "text/plain": [
       "Text(0.5, 1.0, 'Accuracy')"
      ]
     },
     "execution_count": 55,
     "metadata": {},
     "output_type": "execute_result"
    },
    {
     "data": {
      "image/png": "[encoded data removed]",
      "text/plain": [
       "<Figure size 720x576 with 1 Axes>"
      ]
     },
     "metadata": {
      "needs_background": "light"
     },
     "output_type": "display_data"
    }
   ],
   "source": [
    "plt.figure(figsize=(10,8))\n",
    "plt.plot(hist.history['acc'],'r')\n",
    "plt.plot(hist.history['val_acc'],'b')\n",
    "plt.legend(['Train','Test'],loc = 'best')\n",
    "plt.title('Accuracy')"
   ]
  },
  {
   "cell_type": "code",
   "execution_count": 62,
   "metadata": {},
   "outputs": [
    {
     "data": {
      "text/plain": [
       "Text(0, 0.5, 'Loss')"
      ]
     },
     "execution_count": 62,
     "metadata": {},
     "output_type": "execute_result"
    },
    {
     "data": {
      "image/png": "[encoded data removed]",
      "text/plain": [
       "<Figure size 720x576 with 1 Axes>"
      ]
     },
     "metadata": {
      "needs_background": "light"
     },
     "output_type": "display_data"
    }
   ],
   "source": [
    "plt.figure(figsize=(10,8))\n",
    "plt.plot(hist.history['loss'],'r')\n",
    "plt.plot(hist.history['val_loss'],'b')\n",
    "plt.legend(['Train','Test'],loc = 'best')\n",
    "plt.title('Accuracy')\n",
    "plt.xlabel('No. of Epochs ---->')\n",
    "plt.ylabel('Loss')"
   ]
  },
  {
   "cell_type": "code",
   "execution_count": null,
   "metadata": {},
   "outputs": [],
   "source": []
  }
 ],
 "metadata": {
  "kernelspec": {
   "display_name": "Python 3",
   "language": "python",
   "name": "python3"
  },
  "language_info": {
   "codemirror_mode": {
    "name": "ipython",
    "version": 3
   },
   "file_extension": ".py",
   "mimetype": "text/x-python",
   "name": "python",
   "nbconvert_exporter": "python",
   "pygments_lexer": "ipython3",
   "version": "3.7.9"
  }
 },
 "nbformat": 4,
 "nbformat_minor": 4
}
