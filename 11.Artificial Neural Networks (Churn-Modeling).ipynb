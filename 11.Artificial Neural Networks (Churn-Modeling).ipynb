{
 "cells": [
  {
   "cell_type": "markdown",
   "metadata": {},
   "source": [
    "# ANN using Churn-Modeling Dataset"
   ]
  },
  {
   "cell_type": "code",
   "execution_count": 25,
   "metadata": {},
   "outputs": [],
   "source": [
    "import numpy as np\n",
    "import pandas as pd\n",
    "import matplotlib.pyplot as plt\n",
    "import seaborn as sns\n",
    "%matplotlib inline\n",
    "import tensorflow as tf\n"
   ]
  },
  {
   "cell_type": "code",
   "execution_count": 26,
   "metadata": {},
   "outputs": [
    {
     "data": {
      "text/html": [
       "<div>\n",
       "<style scoped>\n",
       "    .dataframe tbody tr th:only-of-type {\n",
       "        vertical-align: middle;\n",
       "    }\n",
       "\n",
       "    .dataframe tbody tr th {\n",
       "        vertical-align: top;\n",
       "    }\n",
       "\n",
       "    .dataframe thead th {\n",
       "        text-align: right;\n",
       "    }\n",
       "</style>\n",
       "<table border=\"1\" class=\"dataframe\">\n",
       "  <thead>\n",
       "    <tr style=\"text-align: right;\">\n",
       "      <th></th>\n",
       "      <th>RowNumber</th>\n",
       "      <th>CustomerId</th>\n",
       "      <th>Surname</th>\n",
       "      <th>CreditScore</th>\n",
       "      <th>Geography</th>\n",
       "      <th>Gender</th>\n",
       "      <th>Age</th>\n",
       "      <th>Tenure</th>\n",
       "      <th>Balance</th>\n",
       "      <th>NumOfProducts</th>\n",
       "      <th>HasCrCard</th>\n",
       "      <th>IsActiveMember</th>\n",
       "      <th>EstimatedSalary</th>\n",
       "      <th>Exited</th>\n",
       "    </tr>\n",
       "  </thead>\n",
       "  <tbody>\n",
       "    <tr>\n",
       "      <th>0</th>\n",
       "      <td>1</td>\n",
       "      <td>15634602</td>\n",
       "      <td>Hargrave</td>\n",
       "      <td>619</td>\n",
       "      <td>France</td>\n",
       "      <td>Female</td>\n",
       "      <td>42</td>\n",
       "      <td>2</td>\n",
       "      <td>0.00</td>\n",
       "      <td>1</td>\n",
       "      <td>1</td>\n",
       "      <td>1</td>\n",
       "      <td>101348.88</td>\n",
       "      <td>1</td>\n",
       "    </tr>\n",
       "    <tr>\n",
       "      <th>1</th>\n",
       "      <td>2</td>\n",
       "      <td>15647311</td>\n",
       "      <td>Hill</td>\n",
       "      <td>608</td>\n",
       "      <td>Spain</td>\n",
       "      <td>Female</td>\n",
       "      <td>41</td>\n",
       "      <td>1</td>\n",
       "      <td>83807.86</td>\n",
       "      <td>1</td>\n",
       "      <td>0</td>\n",
       "      <td>1</td>\n",
       "      <td>112542.58</td>\n",
       "      <td>0</td>\n",
       "    </tr>\n",
       "    <tr>\n",
       "      <th>2</th>\n",
       "      <td>3</td>\n",
       "      <td>15619304</td>\n",
       "      <td>Onio</td>\n",
       "      <td>502</td>\n",
       "      <td>France</td>\n",
       "      <td>Female</td>\n",
       "      <td>42</td>\n",
       "      <td>8</td>\n",
       "      <td>159660.80</td>\n",
       "      <td>3</td>\n",
       "      <td>1</td>\n",
       "      <td>0</td>\n",
       "      <td>113931.57</td>\n",
       "      <td>1</td>\n",
       "    </tr>\n",
       "    <tr>\n",
       "      <th>3</th>\n",
       "      <td>4</td>\n",
       "      <td>15701354</td>\n",
       "      <td>Boni</td>\n",
       "      <td>699</td>\n",
       "      <td>France</td>\n",
       "      <td>Female</td>\n",
       "      <td>39</td>\n",
       "      <td>1</td>\n",
       "      <td>0.00</td>\n",
       "      <td>2</td>\n",
       "      <td>0</td>\n",
       "      <td>0</td>\n",
       "      <td>93826.63</td>\n",
       "      <td>0</td>\n",
       "    </tr>\n",
       "    <tr>\n",
       "      <th>4</th>\n",
       "      <td>5</td>\n",
       "      <td>15737888</td>\n",
       "      <td>Mitchell</td>\n",
       "      <td>850</td>\n",
       "      <td>Spain</td>\n",
       "      <td>Female</td>\n",
       "      <td>43</td>\n",
       "      <td>2</td>\n",
       "      <td>125510.82</td>\n",
       "      <td>1</td>\n",
       "      <td>1</td>\n",
       "      <td>1</td>\n",
       "      <td>79084.10</td>\n",
       "      <td>0</td>\n",
       "    </tr>\n",
       "  </tbody>\n",
       "</table>\n",
       "</div>"
      ],
      "text/plain": [
       "   RowNumber  CustomerId   Surname  CreditScore Geography  Gender  Age  \\\n",
       "0          1    15634602  Hargrave          619    France  Female   42   \n",
       "1          2    15647311      Hill          608     Spain  Female   41   \n",
       "2          3    15619304      Onio          502    France  Female   42   \n",
       "3          4    15701354      Boni          699    France  Female   39   \n",
       "4          5    15737888  Mitchell          850     Spain  Female   43   \n",
       "\n",
       "   Tenure    Balance  NumOfProducts  HasCrCard  IsActiveMember  \\\n",
       "0       2       0.00              1          1               1   \n",
       "1       1   83807.86              1          0               1   \n",
       "2       8  159660.80              3          1               0   \n",
       "3       1       0.00              2          0               0   \n",
       "4       2  125510.82              1          1               1   \n",
       "\n",
       "   EstimatedSalary  Exited  \n",
       "0        101348.88       1  \n",
       "1        112542.58       0  \n",
       "2        113931.57       1  \n",
       "3         93826.63       0  \n",
       "4         79084.10       0  "
      ]
     },
     "execution_count": 26,
     "metadata": {},
     "output_type": "execute_result"
    }
   ],
   "source": [
    "df = pd.read_csv('../Churn_Modeling/Churn_Modelling.csv')\n",
    "df.head()"
   ]
  },
  {
   "cell_type": "code",
   "execution_count": 27,
   "metadata": {},
   "outputs": [
    {
     "data": {
      "text/plain": [
       "(10000, 14)"
      ]
     },
     "execution_count": 27,
     "metadata": {},
     "output_type": "execute_result"
    }
   ],
   "source": [
    "df.shape"
   ]
  },
  {
   "cell_type": "code",
   "execution_count": 28,
   "metadata": {},
   "outputs": [
    {
     "data": {
      "text/plain": [
       "RowNumber          0\n",
       "CustomerId         0\n",
       "Surname            0\n",
       "CreditScore        0\n",
       "Geography          0\n",
       "Gender             0\n",
       "Age                0\n",
       "Tenure             0\n",
       "Balance            0\n",
       "NumOfProducts      0\n",
       "HasCrCard          0\n",
       "IsActiveMember     0\n",
       "EstimatedSalary    0\n",
       "Exited             0\n",
       "dtype: int64"
      ]
     },
     "execution_count": 28,
     "metadata": {},
     "output_type": "execute_result"
    }
   ],
   "source": [
    "# Checking for missing values.\n",
    "df.isnull().sum()"
   ]
  },
  {
   "cell_type": "code",
   "execution_count": 29,
   "metadata": {},
   "outputs": [
    {
     "data": {
      "text/plain": [
       "<AxesSubplot:>"
      ]
     },
     "execution_count": 29,
     "metadata": {},
     "output_type": "execute_result"
    },
    {
     "data": {
      "image/png": "[encoded data removed]",
      "text/plain": [
       "<Figure size 720x576 with 2 Axes>"
      ]
     },
     "metadata": {
      "needs_background": "light"
     },
     "output_type": "display_data"
    }
   ],
   "source": [
    "plt.figure(figsize=(10,8))\n",
    "sns.heatmap(df.corr(),annot=True)"
   ]
  },
  {
   "cell_type": "code",
   "execution_count": 30,
   "metadata": {},
   "outputs": [
    {
     "data": {
      "image/png": "[encoded data removed]",
      "text/plain": [
       "<Figure size 720x576 with 12 Axes>"
      ]
     },
     "metadata": {
      "needs_background": "light"
     },
     "output_type": "display_data"
    }
   ],
   "source": [
    "df.hist(figsize=(10,8))\n",
    "plt.tight_layout() #It prevents overlapping of the figure"
   ]
  },
  {
   "cell_type": "code",
   "execution_count": 31,
   "metadata": {},
   "outputs": [
    {
     "name": "stderr",
     "output_type": "stream",
     "text": [
      "d:\\anacondafiles\\envs\\deeplearning\\lib\\site-packages\\seaborn\\_decorators.py:43: FutureWarning: Pass the following variable as a keyword arg: x. From version 0.12, the only valid positional argument will be `data`, and passing other arguments without an explicit keyword will result in an error or misinterpretation.\n",
      "  FutureWarning\n"
     ]
    },
    {
     "data": {
      "text/plain": [
       "<AxesSubplot:xlabel='Exited', ylabel='count'>"
      ]
     },
     "execution_count": 31,
     "metadata": {},
     "output_type": "execute_result"
    },
    {
     "data": {
      "image/png": "[encoded data removed]",
      "text/plain": [
       "<Figure size 432x288 with 1 Axes>"
      ]
     },
     "metadata": {
      "needs_background": "light"
     },
     "output_type": "display_data"
    }
   ],
   "source": [
    "sns.countplot(df['Exited'])"
   ]
  },
  {
   "cell_type": "code",
   "execution_count": 32,
   "metadata": {},
   "outputs": [
    {
     "data": {
      "text/plain": [
       "0    7963\n",
       "1    2037\n",
       "Name: Exited, dtype: int64"
      ]
     },
     "execution_count": 32,
     "metadata": {},
     "output_type": "execute_result"
    }
   ],
   "source": [
    "df['Exited'].value_counts()"
   ]
  },
  {
   "cell_type": "code",
   "execution_count": 33,
   "metadata": {},
   "outputs": [
    {
     "data": {
      "text/plain": [
       "Index(['RowNumber', 'CustomerId', 'Surname', 'CreditScore', 'Geography',\n",
       "       'Gender', 'Age', 'Tenure', 'Balance', 'NumOfProducts', 'HasCrCard',\n",
       "       'IsActiveMember', 'EstimatedSalary', 'Exited'],\n",
       "      dtype='object')"
      ]
     },
     "execution_count": 33,
     "metadata": {},
     "output_type": "execute_result"
    }
   ],
   "source": [
    "df.columns"
   ]
  },
  {
   "cell_type": "code",
   "execution_count": 34,
   "metadata": {},
   "outputs": [
    {
     "name": "stdout",
     "output_type": "stream",
     "text": [
      "<class 'pandas.core.frame.DataFrame'>\n",
      "RangeIndex: 10000 entries, 0 to 9999\n",
      "Data columns (total 14 columns):\n",
      " #   Column           Non-Null Count  Dtype  \n",
      "---  ------           --------------  -----  \n",
      " 0   RowNumber        10000 non-null  int64  \n",
      " 1   CustomerId       10000 non-null  int64  \n",
      " 2   Surname          10000 non-null  object \n",
      " 3   CreditScore      10000 non-null  int64  \n",
      " 4   Geography        10000 non-null  object \n",
      " 5   Gender           10000 non-null  object \n",
      " 6   Age              10000 non-null  int64  \n",
      " 7   Tenure           10000 non-null  int64  \n",
      " 8   Balance          10000 non-null  float64\n",
      " 9   NumOfProducts    10000 non-null  int64  \n",
      " 10  HasCrCard        10000 non-null  int64  \n",
      " 11  IsActiveMember   10000 non-null  int64  \n",
      " 12  EstimatedSalary  10000 non-null  float64\n",
      " 13  Exited           10000 non-null  int64  \n",
      "dtypes: float64(2), int64(9), object(3)\n",
      "memory usage: 1.1+ MB\n"
     ]
    }
   ],
   "source": [
    "df.info()"
   ]
  },
  {
   "cell_type": "code",
   "execution_count": 35,
   "metadata": {},
   "outputs": [
    {
     "data": {
      "text/plain": [
       "France     5014\n",
       "Germany    2509\n",
       "Spain      2477\n",
       "Name: Geography, dtype: int64"
      ]
     },
     "execution_count": 35,
     "metadata": {},
     "output_type": "execute_result"
    }
   ],
   "source": [
    "df['Geography'].value_counts()"
   ]
  },
  {
   "cell_type": "code",
   "execution_count": 36,
   "metadata": {},
   "outputs": [
    {
     "data": {
      "text/plain": [
       "Male      5457\n",
       "Female    4543\n",
       "Name: Gender, dtype: int64"
      ]
     },
     "execution_count": 36,
     "metadata": {},
     "output_type": "execute_result"
    }
   ],
   "source": [
    "df['Gender'].value_counts()"
   ]
  },
  {
   "cell_type": "markdown",
   "metadata": {},
   "source": [
    "# Data Preprocessing"
   ]
  },
  {
   "cell_type": "code",
   "execution_count": 37,
   "metadata": {},
   "outputs": [],
   "source": [
    "Geography = pd.get_dummies(df['Geography'],drop_first=True)\n",
    "Gender = pd.get_dummies(df['Gender'],drop_first=True)"
   ]
  },
  {
   "cell_type": "code",
   "execution_count": 38,
   "metadata": {},
   "outputs": [
    {
     "data": {
      "text/plain": [
       "(pandas.core.frame.DataFrame, pandas.core.frame.DataFrame)"
      ]
     },
     "execution_count": 38,
     "metadata": {},
     "output_type": "execute_result"
    }
   ],
   "source": [
    "type(Geography),type(Gender) # both are of type data frame "
   ]
  },
  {
   "cell_type": "code",
   "execution_count": 39,
   "metadata": {},
   "outputs": [
    {
     "data": {
      "text/html": [
       "<div>\n",
       "<style scoped>\n",
       "    .dataframe tbody tr th:only-of-type {\n",
       "        vertical-align: middle;\n",
       "    }\n",
       "\n",
       "    .dataframe tbody tr th {\n",
       "        vertical-align: top;\n",
       "    }\n",
       "\n",
       "    .dataframe thead th {\n",
       "        text-align: right;\n",
       "    }\n",
       "</style>\n",
       "<table border=\"1\" class=\"dataframe\">\n",
       "  <thead>\n",
       "    <tr style=\"text-align: right;\">\n",
       "      <th></th>\n",
       "      <th>CreditScore</th>\n",
       "      <th>Age</th>\n",
       "      <th>Tenure</th>\n",
       "      <th>Balance</th>\n",
       "      <th>NumOfProducts</th>\n",
       "      <th>HasCrCard</th>\n",
       "      <th>IsActiveMember</th>\n",
       "      <th>EstimatedSalary</th>\n",
       "      <th>Exited</th>\n",
       "      <th>Germany</th>\n",
       "      <th>Spain</th>\n",
       "      <th>Male</th>\n",
       "    </tr>\n",
       "  </thead>\n",
       "  <tbody>\n",
       "    <tr>\n",
       "      <th>0</th>\n",
       "      <td>619</td>\n",
       "      <td>42</td>\n",
       "      <td>2</td>\n",
       "      <td>0.00</td>\n",
       "      <td>1</td>\n",
       "      <td>1</td>\n",
       "      <td>1</td>\n",
       "      <td>101348.88</td>\n",
       "      <td>1</td>\n",
       "      <td>0</td>\n",
       "      <td>0</td>\n",
       "      <td>0</td>\n",
       "    </tr>\n",
       "    <tr>\n",
       "      <th>1</th>\n",
       "      <td>608</td>\n",
       "      <td>41</td>\n",
       "      <td>1</td>\n",
       "      <td>83807.86</td>\n",
       "      <td>1</td>\n",
       "      <td>0</td>\n",
       "      <td>1</td>\n",
       "      <td>112542.58</td>\n",
       "      <td>0</td>\n",
       "      <td>0</td>\n",
       "      <td>1</td>\n",
       "      <td>0</td>\n",
       "    </tr>\n",
       "    <tr>\n",
       "      <th>2</th>\n",
       "      <td>502</td>\n",
       "      <td>42</td>\n",
       "      <td>8</td>\n",
       "      <td>159660.80</td>\n",
       "      <td>3</td>\n",
       "      <td>1</td>\n",
       "      <td>0</td>\n",
       "      <td>113931.57</td>\n",
       "      <td>1</td>\n",
       "      <td>0</td>\n",
       "      <td>0</td>\n",
       "      <td>0</td>\n",
       "    </tr>\n",
       "    <tr>\n",
       "      <th>3</th>\n",
       "      <td>699</td>\n",
       "      <td>39</td>\n",
       "      <td>1</td>\n",
       "      <td>0.00</td>\n",
       "      <td>2</td>\n",
       "      <td>0</td>\n",
       "      <td>0</td>\n",
       "      <td>93826.63</td>\n",
       "      <td>0</td>\n",
       "      <td>0</td>\n",
       "      <td>0</td>\n",
       "      <td>0</td>\n",
       "    </tr>\n",
       "    <tr>\n",
       "      <th>4</th>\n",
       "      <td>850</td>\n",
       "      <td>43</td>\n",
       "      <td>2</td>\n",
       "      <td>125510.82</td>\n",
       "      <td>1</td>\n",
       "      <td>1</td>\n",
       "      <td>1</td>\n",
       "      <td>79084.10</td>\n",
       "      <td>0</td>\n",
       "      <td>0</td>\n",
       "      <td>1</td>\n",
       "      <td>0</td>\n",
       "    </tr>\n",
       "  </tbody>\n",
       "</table>\n",
       "</div>"
      ],
      "text/plain": [
       "   CreditScore  Age  Tenure    Balance  NumOfProducts  HasCrCard  \\\n",
       "0          619   42       2       0.00              1          1   \n",
       "1          608   41       1   83807.86              1          0   \n",
       "2          502   42       8  159660.80              3          1   \n",
       "3          699   39       1       0.00              2          0   \n",
       "4          850   43       2  125510.82              1          1   \n",
       "\n",
       "   IsActiveMember  EstimatedSalary  Exited  Germany  Spain  Male  \n",
       "0               1        101348.88       1        0      0     0  \n",
       "1               1        112542.58       0        0      1     0  \n",
       "2               0        113931.57       1        0      0     0  \n",
       "3               0         93826.63       0        0      0     0  \n",
       "4               1         79084.10       0        0      1     0  "
      ]
     },
     "execution_count": 39,
     "metadata": {},
     "output_type": "execute_result"
    }
   ],
   "source": [
    "# Now lets drop the unwanted columns and concatenate the derived columns\n",
    "\n",
    "df = df.drop(['Geography','Gender','RowNumber','CustomerId','Surname'],axis=1)\n",
    "df = pd.concat([df,Geography,Gender],axis=1)\n",
    "df.head() # checking our new dataframe\n"
   ]
  },
  {
   "cell_type": "code",
   "execution_count": 40,
   "metadata": {},
   "outputs": [],
   "source": [
    "# Dividing first into independent and dependent features.\n",
    "X = df.drop('Exited',axis=1)  # Independent variable\n",
    "y = df['Exited'] # Dependent variable\n"
   ]
  },
  {
   "cell_type": "code",
   "execution_count": 41,
   "metadata": {},
   "outputs": [
    {
     "data": {
      "text/plain": [
       "((10000, 11), (10000,))"
      ]
     },
     "execution_count": 41,
     "metadata": {},
     "output_type": "execute_result"
    }
   ],
   "source": [
    "X.shape,y.shape"
   ]
  },
  {
   "cell_type": "code",
   "execution_count": 42,
   "metadata": {},
   "outputs": [],
   "source": [
    "#X = std_scaler.fit_transform(X)"
   ]
  },
  {
   "cell_type": "code",
   "execution_count": 43,
   "metadata": {},
   "outputs": [
    {
     "data": {
      "text/plain": [
       "((7500, 11), (2500, 11))"
      ]
     },
     "execution_count": 43,
     "metadata": {},
     "output_type": "execute_result"
    }
   ],
   "source": [
    "# splitting into train and test data\n",
    "from sklearn.model_selection import train_test_split\n",
    "\n",
    "X_train, X_test, y_train, y_test = train_test_split(X, y, test_size=0.25, random_state=0)\n",
    "X_train.shape,X_test.shape"
   ]
  },
  {
   "cell_type": "code",
   "execution_count": 46,
   "metadata": {},
   "outputs": [
    {
     "data": {
      "text/html": [
       "<div>\n",
       "<style scoped>\n",
       "    .dataframe tbody tr th:only-of-type {\n",
       "        vertical-align: middle;\n",
       "    }\n",
       "\n",
       "    .dataframe tbody tr th {\n",
       "        vertical-align: top;\n",
       "    }\n",
       "\n",
       "    .dataframe thead th {\n",
       "        text-align: right;\n",
       "    }\n",
       "</style>\n",
       "<table border=\"1\" class=\"dataframe\">\n",
       "  <thead>\n",
       "    <tr style=\"text-align: right;\">\n",
       "      <th></th>\n",
       "      <th>CreditScore</th>\n",
       "      <th>Age</th>\n",
       "      <th>Tenure</th>\n",
       "      <th>Balance</th>\n",
       "      <th>NumOfProducts</th>\n",
       "      <th>HasCrCard</th>\n",
       "      <th>IsActiveMember</th>\n",
       "      <th>EstimatedSalary</th>\n",
       "      <th>Germany</th>\n",
       "      <th>Spain</th>\n",
       "      <th>Male</th>\n",
       "    </tr>\n",
       "  </thead>\n",
       "  <tbody>\n",
       "    <tr>\n",
       "      <th>9394</th>\n",
       "      <td>597</td>\n",
       "      <td>35</td>\n",
       "      <td>8</td>\n",
       "      <td>131101.04</td>\n",
       "      <td>1</td>\n",
       "      <td>1</td>\n",
       "      <td>1</td>\n",
       "      <td>192852.67</td>\n",
       "      <td>1</td>\n",
       "      <td>0</td>\n",
       "      <td>0</td>\n",
       "    </tr>\n",
       "    <tr>\n",
       "      <th>898</th>\n",
       "      <td>523</td>\n",
       "      <td>40</td>\n",
       "      <td>2</td>\n",
       "      <td>102967.41</td>\n",
       "      <td>1</td>\n",
       "      <td>1</td>\n",
       "      <td>0</td>\n",
       "      <td>128702.10</td>\n",
       "      <td>0</td>\n",
       "      <td>0</td>\n",
       "      <td>0</td>\n",
       "    </tr>\n",
       "    <tr>\n",
       "      <th>2398</th>\n",
       "      <td>706</td>\n",
       "      <td>42</td>\n",
       "      <td>8</td>\n",
       "      <td>95386.82</td>\n",
       "      <td>1</td>\n",
       "      <td>1</td>\n",
       "      <td>1</td>\n",
       "      <td>75732.25</td>\n",
       "      <td>0</td>\n",
       "      <td>1</td>\n",
       "      <td>0</td>\n",
       "    </tr>\n",
       "    <tr>\n",
       "      <th>5906</th>\n",
       "      <td>788</td>\n",
       "      <td>32</td>\n",
       "      <td>4</td>\n",
       "      <td>112079.58</td>\n",
       "      <td>1</td>\n",
       "      <td>0</td>\n",
       "      <td>0</td>\n",
       "      <td>89368.59</td>\n",
       "      <td>0</td>\n",
       "      <td>0</td>\n",
       "      <td>1</td>\n",
       "    </tr>\n",
       "    <tr>\n",
       "      <th>2343</th>\n",
       "      <td>706</td>\n",
       "      <td>38</td>\n",
       "      <td>5</td>\n",
       "      <td>163034.82</td>\n",
       "      <td>2</td>\n",
       "      <td>1</td>\n",
       "      <td>1</td>\n",
       "      <td>135662.17</td>\n",
       "      <td>1</td>\n",
       "      <td>0</td>\n",
       "      <td>1</td>\n",
       "    </tr>\n",
       "  </tbody>\n",
       "</table>\n",
       "</div>"
      ],
      "text/plain": [
       "      CreditScore  Age  Tenure    Balance  NumOfProducts  HasCrCard  \\\n",
       "9394          597   35       8  131101.04              1          1   \n",
       "898           523   40       2  102967.41              1          1   \n",
       "2398          706   42       8   95386.82              1          1   \n",
       "5906          788   32       4  112079.58              1          0   \n",
       "2343          706   38       5  163034.82              2          1   \n",
       "\n",
       "      IsActiveMember  EstimatedSalary  Germany  Spain  Male  \n",
       "9394               1        192852.67        1      0     0  \n",
       "898                0        128702.10        0      0     0  \n",
       "2398               1         75732.25        0      1     0  \n",
       "5906               0         89368.59        0      0     1  \n",
       "2343               1        135662.17        1      0     1  "
      ]
     },
     "execution_count": 46,
     "metadata": {},
     "output_type": "execute_result"
    }
   ],
   "source": [
    "X_test.head()"
   ]
  },
  {
   "cell_type": "code",
   "execution_count": 47,
   "metadata": {},
   "outputs": [
    {
     "data": {
      "text/plain": [
       "9394    0\n",
       "898     1\n",
       "2398    0\n",
       "5906    0\n",
       "2343    0\n",
       "Name: Exited, dtype: int64"
      ]
     },
     "execution_count": 47,
     "metadata": {},
     "output_type": "execute_result"
    }
   ],
   "source": [
    "y_test.head()"
   ]
  },
  {
   "cell_type": "code",
   "execution_count": 48,
   "metadata": {},
   "outputs": [
    {
     "data": {
      "text/html": [
       "<div>\n",
       "<style scoped>\n",
       "    .dataframe tbody tr th:only-of-type {\n",
       "        vertical-align: middle;\n",
       "    }\n",
       "\n",
       "    .dataframe tbody tr th {\n",
       "        vertical-align: top;\n",
       "    }\n",
       "\n",
       "    .dataframe thead th {\n",
       "        text-align: right;\n",
       "    }\n",
       "</style>\n",
       "<table border=\"1\" class=\"dataframe\">\n",
       "  <thead>\n",
       "    <tr style=\"text-align: right;\">\n",
       "      <th></th>\n",
       "      <th>CreditScore</th>\n",
       "      <th>Age</th>\n",
       "      <th>Tenure</th>\n",
       "      <th>Balance</th>\n",
       "      <th>NumOfProducts</th>\n",
       "      <th>HasCrCard</th>\n",
       "      <th>IsActiveMember</th>\n",
       "      <th>EstimatedSalary</th>\n",
       "      <th>Germany</th>\n",
       "      <th>Spain</th>\n",
       "      <th>Male</th>\n",
       "    </tr>\n",
       "  </thead>\n",
       "  <tbody>\n",
       "    <tr>\n",
       "      <th>8764</th>\n",
       "      <td>773</td>\n",
       "      <td>51</td>\n",
       "      <td>8</td>\n",
       "      <td>116197.65</td>\n",
       "      <td>2</td>\n",
       "      <td>1</td>\n",
       "      <td>1</td>\n",
       "      <td>86701.40</td>\n",
       "      <td>1</td>\n",
       "      <td>0</td>\n",
       "      <td>1</td>\n",
       "    </tr>\n",
       "    <tr>\n",
       "      <th>4359</th>\n",
       "      <td>545</td>\n",
       "      <td>44</td>\n",
       "      <td>2</td>\n",
       "      <td>127536.44</td>\n",
       "      <td>1</td>\n",
       "      <td>1</td>\n",
       "      <td>0</td>\n",
       "      <td>108398.63</td>\n",
       "      <td>1</td>\n",
       "      <td>0</td>\n",
       "      <td>0</td>\n",
       "    </tr>\n",
       "    <tr>\n",
       "      <th>2041</th>\n",
       "      <td>840</td>\n",
       "      <td>39</td>\n",
       "      <td>1</td>\n",
       "      <td>94968.97</td>\n",
       "      <td>1</td>\n",
       "      <td>1</td>\n",
       "      <td>0</td>\n",
       "      <td>84487.62</td>\n",
       "      <td>0</td>\n",
       "      <td>0</td>\n",
       "      <td>0</td>\n",
       "    </tr>\n",
       "    <tr>\n",
       "      <th>1108</th>\n",
       "      <td>679</td>\n",
       "      <td>38</td>\n",
       "      <td>7</td>\n",
       "      <td>110555.37</td>\n",
       "      <td>2</td>\n",
       "      <td>1</td>\n",
       "      <td>0</td>\n",
       "      <td>46522.68</td>\n",
       "      <td>1</td>\n",
       "      <td>0</td>\n",
       "      <td>1</td>\n",
       "    </tr>\n",
       "    <tr>\n",
       "      <th>3332</th>\n",
       "      <td>735</td>\n",
       "      <td>31</td>\n",
       "      <td>3</td>\n",
       "      <td>119558.35</td>\n",
       "      <td>1</td>\n",
       "      <td>0</td>\n",
       "      <td>0</td>\n",
       "      <td>72927.68</td>\n",
       "      <td>0</td>\n",
       "      <td>0</td>\n",
       "      <td>1</td>\n",
       "    </tr>\n",
       "  </tbody>\n",
       "</table>\n",
       "</div>"
      ],
      "text/plain": [
       "      CreditScore  Age  Tenure    Balance  NumOfProducts  HasCrCard  \\\n",
       "8764          773   51       8  116197.65              2          1   \n",
       "4359          545   44       2  127536.44              1          1   \n",
       "2041          840   39       1   94968.97              1          1   \n",
       "1108          679   38       7  110555.37              2          1   \n",
       "3332          735   31       3  119558.35              1          0   \n",
       "\n",
       "      IsActiveMember  EstimatedSalary  Germany  Spain  Male  \n",
       "8764               1         86701.40        1      0     1  \n",
       "4359               0        108398.63        1      0     0  \n",
       "2041               0         84487.62        0      0     0  \n",
       "1108               0         46522.68        1      0     1  \n",
       "3332               0         72927.68        0      0     1  "
      ]
     },
     "execution_count": 48,
     "metadata": {},
     "output_type": "execute_result"
    }
   ],
   "source": [
    "X_test.tail()"
   ]
  },
  {
   "cell_type": "code",
   "execution_count": 49,
   "metadata": {},
   "outputs": [
    {
     "data": {
      "text/plain": [
       "8764    0\n",
       "4359    0\n",
       "2041    0\n",
       "1108    0\n",
       "3332    0\n",
       "Name: Exited, dtype: int64"
      ]
     },
     "execution_count": 49,
     "metadata": {},
     "output_type": "execute_result"
    }
   ],
   "source": [
    "y_test.tail()"
   ]
  },
  {
   "cell_type": "code",
   "execution_count": 50,
   "metadata": {},
   "outputs": [],
   "source": [
    "# Feature Scaling\n",
    "from sklearn.preprocessing import StandardScaler\n",
    "\n",
    "std_scaler = StandardScaler()\n",
    "X_train = std_scaler.fit_transform(X_train)\n",
    "X_test = std_scaler.transform(X_test)\n"
   ]
  },
  {
   "cell_type": "code",
   "execution_count": 51,
   "metadata": {},
   "outputs": [
    {
     "name": "stdout",
     "output_type": "stream",
     "text": [
      "Model: \"sequential_1\"\n",
      "_________________________________________________________________\n",
      "Layer (type)                 Output Shape              Param #   \n",
      "=================================================================\n",
      "dense_3 (Dense)              (None, 6)                 72        \n",
      "_________________________________________________________________\n",
      "dense_4 (Dense)              (None, 6)                 42        \n",
      "_________________________________________________________________\n",
      "dense_5 (Dense)              (None, 1)                 7         \n",
      "=================================================================\n",
      "Total params: 121\n",
      "Trainable params: 121\n",
      "Non-trainable params: 0\n",
      "_________________________________________________________________\n"
     ]
    }
   ],
   "source": [
    "model = tf.keras.models.Sequential([\n",
    "    tf.keras.layers.Dense(units=6,activation='relu',kernel_initializer='he_uniform',input_dim=11),\n",
    "    tf.keras.layers.Dense(units=6,activation='relu',kernel_initializer='he_uniform'),\n",
    "    tf.keras.layers.Dense(units=1,activation='sigmoid',kernel_initializer='glorot_uniform')\n",
    "])\n",
    "\n",
    "model.summary()"
   ]
  },
  {
   "cell_type": "code",
   "execution_count": 52,
   "metadata": {
    "scrolled": true
   },
   "outputs": [
    {
     "name": "stdout",
     "output_type": "stream",
     "text": [
      "Train on 5024 samples, validate on 2476 samples\n",
      "Epoch 1/100\n",
      "5024/5024 [==============================] - 2s 395us/sample - loss: 0.5529 - accuracy: 0.7548 - val_loss: 0.4844 - val_accuracy: 0.7977\n",
      "Epoch 2/100\n",
      "5024/5024 [==============================] - 1s 282us/sample - loss: 0.4677 - accuracy: 0.7958 - val_loss: 0.4608 - val_accuracy: 0.7973\n",
      "Epoch 3/100\n",
      "5024/5024 [==============================] - 1s 290us/sample - loss: 0.4460 - accuracy: 0.7956 - val_loss: 0.4459 - val_accuracy: 0.7977\n",
      "Epoch 4/100\n",
      "5024/5024 [==============================] - 1s 272us/sample - loss: 0.4328 - accuracy: 0.7962 - val_loss: 0.4366 - val_accuracy: 0.7993\n",
      "Epoch 5/100\n",
      "5024/5024 [==============================] - 1s 263us/sample - loss: 0.4237 - accuracy: 0.7992 - val_loss: 0.4305 - val_accuracy: 0.8078\n",
      "Epoch 6/100\n",
      "5024/5024 [==============================] - 1s 262us/sample - loss: 0.4149 - accuracy: 0.8165 - val_loss: 0.4247 - val_accuracy: 0.8134\n",
      "Epoch 7/100\n",
      "5024/5024 [==============================] - 1s 262us/sample - loss: 0.4074 - accuracy: 0.8266 - val_loss: 0.4157 - val_accuracy: 0.8207\n",
      "Epoch 8/100\n",
      "5024/5024 [==============================] - 1s 262us/sample - loss: 0.3982 - accuracy: 0.8292 - val_loss: 0.4069 - val_accuracy: 0.8308\n",
      "Epoch 9/100\n",
      "5024/5024 [==============================] - 1s 264us/sample - loss: 0.3871 - accuracy: 0.8388 - val_loss: 0.3991 - val_accuracy: 0.8324\n",
      "Epoch 10/100\n",
      "5024/5024 [==============================] - 1s 266us/sample - loss: 0.3762 - accuracy: 0.8451 - val_loss: 0.3897 - val_accuracy: 0.8405\n",
      "Epoch 11/100\n",
      "5024/5024 [==============================] - 1s 262us/sample - loss: 0.3664 - accuracy: 0.8525 - val_loss: 0.3841 - val_accuracy: 0.8393\n",
      "Epoch 12/100\n",
      "5024/5024 [==============================] - 1s 265us/sample - loss: 0.3593 - accuracy: 0.8555 - val_loss: 0.3761 - val_accuracy: 0.8445\n",
      "Epoch 13/100\n",
      "5024/5024 [==============================] - 1s 266us/sample - loss: 0.3534 - accuracy: 0.8575 - val_loss: 0.3733 - val_accuracy: 0.8477\n",
      "Epoch 14/100\n",
      "5024/5024 [==============================] - 1s 262us/sample - loss: 0.3493 - accuracy: 0.8597 - val_loss: 0.3698 - val_accuracy: 0.8461\n",
      "Epoch 15/100\n",
      "5024/5024 [==============================] - 1s 263us/sample - loss: 0.3455 - accuracy: 0.8579 - val_loss: 0.3682 - val_accuracy: 0.8494\n",
      "Epoch 16/100\n",
      "5024/5024 [==============================] - 1s 261us/sample - loss: 0.3423 - accuracy: 0.8601 - val_loss: 0.3667 - val_accuracy: 0.8502\n",
      "Epoch 17/100\n",
      "5024/5024 [==============================] - 1s 263us/sample - loss: 0.3405 - accuracy: 0.8605 - val_loss: 0.3645 - val_accuracy: 0.8530\n",
      "Epoch 18/100\n",
      "5024/5024 [==============================] - 1s 262us/sample - loss: 0.3394 - accuracy: 0.8593 - val_loss: 0.3623 - val_accuracy: 0.8522\n",
      "Epoch 19/100\n",
      "5024/5024 [==============================] - 1s 264us/sample - loss: 0.3379 - accuracy: 0.8587 - val_loss: 0.3655 - val_accuracy: 0.8502\n",
      "Epoch 20/100\n",
      "5024/5024 [==============================] - 1s 265us/sample - loss: 0.3375 - accuracy: 0.8581 - val_loss: 0.3620 - val_accuracy: 0.8526\n",
      "Epoch 21/100\n",
      "5024/5024 [==============================] - 1s 262us/sample - loss: 0.3365 - accuracy: 0.8605 - val_loss: 0.3618 - val_accuracy: 0.8510\n",
      "Epoch 22/100\n",
      "5024/5024 [==============================] - 1s 260us/sample - loss: 0.3358 - accuracy: 0.8609 - val_loss: 0.3619 - val_accuracy: 0.8502\n",
      "Epoch 23/100\n",
      "5024/5024 [==============================] - 1s 263us/sample - loss: 0.3350 - accuracy: 0.8646 - val_loss: 0.3608 - val_accuracy: 0.8534\n",
      "Epoch 24/100\n",
      "5024/5024 [==============================] - 1s 264us/sample - loss: 0.3347 - accuracy: 0.8625 - val_loss: 0.3598 - val_accuracy: 0.8546\n",
      "Epoch 25/100\n",
      "5024/5024 [==============================] - 1s 262us/sample - loss: 0.3343 - accuracy: 0.8617 - val_loss: 0.3592 - val_accuracy: 0.8542\n",
      "Epoch 26/100\n",
      "5024/5024 [==============================] - 1s 265us/sample - loss: 0.3338 - accuracy: 0.8627 - val_loss: 0.3603 - val_accuracy: 0.8510\n",
      "Epoch 27/100\n",
      "5024/5024 [==============================] - 1s 262us/sample - loss: 0.3336 - accuracy: 0.8619 - val_loss: 0.3605 - val_accuracy: 0.8494\n",
      "Epoch 28/100\n",
      "5024/5024 [==============================] - 1s 260us/sample - loss: 0.3333 - accuracy: 0.8627 - val_loss: 0.3615 - val_accuracy: 0.8510\n",
      "Epoch 29/100\n",
      "5024/5024 [==============================] - 1s 262us/sample - loss: 0.3333 - accuracy: 0.8585 - val_loss: 0.3587 - val_accuracy: 0.8550\n",
      "Epoch 30/100\n",
      "5024/5024 [==============================] - 1s 265us/sample - loss: 0.3330 - accuracy: 0.8635 - val_loss: 0.3578 - val_accuracy: 0.8554\n",
      "Epoch 31/100\n",
      "5024/5024 [==============================] - 1s 264us/sample - loss: 0.3326 - accuracy: 0.8621 - val_loss: 0.3583 - val_accuracy: 0.8550\n",
      "Epoch 32/100\n",
      "5024/5024 [==============================] - 1s 264us/sample - loss: 0.3323 - accuracy: 0.8595 - val_loss: 0.3577 - val_accuracy: 0.8550\n",
      "Epoch 33/100\n",
      "5024/5024 [==============================] - 1s 264us/sample - loss: 0.3327 - accuracy: 0.8615 - val_loss: 0.3592 - val_accuracy: 0.8538\n",
      "Epoch 34/100\n",
      "5024/5024 [==============================] - 1s 261us/sample - loss: 0.3325 - accuracy: 0.8633 - val_loss: 0.3596 - val_accuracy: 0.8562\n",
      "Epoch 35/100\n",
      "5024/5024 [==============================] - 1s 258us/sample - loss: 0.3319 - accuracy: 0.8623 - val_loss: 0.3576 - val_accuracy: 0.8550\n",
      "Epoch 36/100\n",
      "5024/5024 [==============================] - 1s 260us/sample - loss: 0.3316 - accuracy: 0.8615 - val_loss: 0.3579 - val_accuracy: 0.8554\n",
      "Epoch 37/100\n",
      "5024/5024 [==============================] - 1s 262us/sample - loss: 0.3323 - accuracy: 0.8633 - val_loss: 0.3570 - val_accuracy: 0.8562\n",
      "Epoch 38/100\n",
      "5024/5024 [==============================] - 1s 270us/sample - loss: 0.3315 - accuracy: 0.8633 - val_loss: 0.3569 - val_accuracy: 0.8566\n",
      "Epoch 39/100\n",
      "5024/5024 [==============================] - 1s 263us/sample - loss: 0.3313 - accuracy: 0.8621 - val_loss: 0.3575 - val_accuracy: 0.8534\n",
      "Epoch 40/100\n",
      "5024/5024 [==============================] - 1s 264us/sample - loss: 0.3312 - accuracy: 0.8631 - val_loss: 0.3594 - val_accuracy: 0.8530\n",
      "Epoch 41/100\n",
      "5024/5024 [==============================] - 1s 266us/sample - loss: 0.3316 - accuracy: 0.8629 - val_loss: 0.3576 - val_accuracy: 0.8558\n",
      "Epoch 42/100\n",
      "5024/5024 [==============================] - 1s 266us/sample - loss: 0.3309 - accuracy: 0.8619 - val_loss: 0.3572 - val_accuracy: 0.8578\n",
      "Epoch 43/100\n",
      "5024/5024 [==============================] - 1s 258us/sample - loss: 0.3307 - accuracy: 0.8615 - val_loss: 0.3577 - val_accuracy: 0.8558\n",
      "Epoch 44/100\n",
      "5024/5024 [==============================] - 1s 261us/sample - loss: 0.3306 - accuracy: 0.8605 - val_loss: 0.3584 - val_accuracy: 0.8550\n",
      "Epoch 45/100\n",
      "5024/5024 [==============================] - 1s 264us/sample - loss: 0.3301 - accuracy: 0.8639 - val_loss: 0.3585 - val_accuracy: 0.8546\n",
      "Epoch 46/100\n",
      "5024/5024 [==============================] - 1s 263us/sample - loss: 0.3307 - accuracy: 0.8625 - val_loss: 0.3579 - val_accuracy: 0.8566\n",
      "Epoch 47/100\n",
      "5024/5024 [==============================] - 1s 264us/sample - loss: 0.3302 - accuracy: 0.8645 - val_loss: 0.3564 - val_accuracy: 0.8586\n",
      "Epoch 48/100\n",
      "5024/5024 [==============================] - 1s 265us/sample - loss: 0.3300 - accuracy: 0.8637 - val_loss: 0.3567 - val_accuracy: 0.8570\n",
      "Epoch 49/100\n",
      "5024/5024 [==============================] - 1s 262us/sample - loss: 0.3296 - accuracy: 0.8621 - val_loss: 0.3564 - val_accuracy: 0.8566\n",
      "Epoch 50/100\n",
      "5024/5024 [==============================] - 1s 264us/sample - loss: 0.3296 - accuracy: 0.8654 - val_loss: 0.3571 - val_accuracy: 0.8566\n",
      "Epoch 51/100\n",
      "5024/5024 [==============================] - 1s 261us/sample - loss: 0.3296 - accuracy: 0.8613 - val_loss: 0.3566 - val_accuracy: 0.8570\n",
      "Epoch 52/100\n",
      "5024/5024 [==============================] - 1s 261us/sample - loss: 0.3295 - accuracy: 0.8621 - val_loss: 0.3567 - val_accuracy: 0.8558\n",
      "Epoch 53/100\n",
      "5024/5024 [==============================] - 1s 266us/sample - loss: 0.3295 - accuracy: 0.8639 - val_loss: 0.3561 - val_accuracy: 0.8542\n",
      "Epoch 54/100\n",
      "5024/5024 [==============================] - 1s 264us/sample - loss: 0.3294 - accuracy: 0.8627 - val_loss: 0.3553 - val_accuracy: 0.8566\n",
      "Epoch 55/100\n"
     ]
    },
    {
     "name": "stdout",
     "output_type": "stream",
     "text": [
      "5024/5024 [==============================] - 1s 262us/sample - loss: 0.3285 - accuracy: 0.8641 - val_loss: 0.3562 - val_accuracy: 0.8590\n",
      "Epoch 56/100\n",
      "5024/5024 [==============================] - 1s 264us/sample - loss: 0.3289 - accuracy: 0.8637 - val_loss: 0.3556 - val_accuracy: 0.8590\n",
      "Epoch 57/100\n",
      "5024/5024 [==============================] - 1s 261us/sample - loss: 0.3289 - accuracy: 0.8623 - val_loss: 0.3571 - val_accuracy: 0.8554\n",
      "Epoch 58/100\n",
      "5024/5024 [==============================] - 1s 264us/sample - loss: 0.3286 - accuracy: 0.8617 - val_loss: 0.3585 - val_accuracy: 0.8554\n",
      "Epoch 59/100\n",
      "5024/5024 [==============================] - 1s 262us/sample - loss: 0.3281 - accuracy: 0.8666 - val_loss: 0.3570 - val_accuracy: 0.8566\n",
      "Epoch 60/100\n",
      "5024/5024 [==============================] - 1s 262us/sample - loss: 0.3284 - accuracy: 0.8648 - val_loss: 0.3578 - val_accuracy: 0.8574\n",
      "Epoch 61/100\n",
      "5024/5024 [==============================] - 1s 260us/sample - loss: 0.3290 - accuracy: 0.8617 - val_loss: 0.3547 - val_accuracy: 0.8595\n",
      "Epoch 62/100\n",
      "5024/5024 [==============================] - 1s 261us/sample - loss: 0.3285 - accuracy: 0.8631 - val_loss: 0.3553 - val_accuracy: 0.8599\n",
      "Epoch 63/100\n",
      "5024/5024 [==============================] - 1s 263us/sample - loss: 0.3280 - accuracy: 0.8660 - val_loss: 0.3564 - val_accuracy: 0.8566\n",
      "Epoch 64/100\n",
      "5024/5024 [==============================] - 1s 260us/sample - loss: 0.3284 - accuracy: 0.8645 - val_loss: 0.3551 - val_accuracy: 0.8570\n",
      "Epoch 65/100\n",
      "5024/5024 [==============================] - 1s 264us/sample - loss: 0.3282 - accuracy: 0.8627 - val_loss: 0.3547 - val_accuracy: 0.8578\n",
      "Epoch 66/100\n",
      "5024/5024 [==============================] - 1s 264us/sample - loss: 0.3273 - accuracy: 0.8625 - val_loss: 0.3555 - val_accuracy: 0.8570\n",
      "Epoch 67/100\n",
      "5024/5024 [==============================] - 1s 264us/sample - loss: 0.3279 - accuracy: 0.8625 - val_loss: 0.3564 - val_accuracy: 0.8599\n",
      "Epoch 68/100\n",
      "5024/5024 [==============================] - 1s 263us/sample - loss: 0.3274 - accuracy: 0.8625 - val_loss: 0.3557 - val_accuracy: 0.8582\n",
      "Epoch 69/100\n",
      "5024/5024 [==============================] - 1s 260us/sample - loss: 0.3274 - accuracy: 0.8631 - val_loss: 0.3564 - val_accuracy: 0.8566\n",
      "Epoch 70/100\n",
      "5024/5024 [==============================] - 1s 263us/sample - loss: 0.3276 - accuracy: 0.8650 - val_loss: 0.3548 - val_accuracy: 0.8599\n",
      "Epoch 71/100\n",
      "5024/5024 [==============================] - 1s 262us/sample - loss: 0.3278 - accuracy: 0.8603 - val_loss: 0.3546 - val_accuracy: 0.8582\n",
      "Epoch 72/100\n",
      "5024/5024 [==============================] - 1s 263us/sample - loss: 0.3275 - accuracy: 0.8648 - val_loss: 0.3547 - val_accuracy: 0.8554\n",
      "Epoch 73/100\n",
      "5024/5024 [==============================] - 1s 263us/sample - loss: 0.3270 - accuracy: 0.8633 - val_loss: 0.3543 - val_accuracy: 0.8570\n",
      "Epoch 74/100\n",
      "5024/5024 [==============================] - 1s 264us/sample - loss: 0.3277 - accuracy: 0.8652 - val_loss: 0.3543 - val_accuracy: 0.8570\n",
      "Epoch 75/100\n",
      "5024/5024 [==============================] - 1s 262us/sample - loss: 0.3268 - accuracy: 0.8645 - val_loss: 0.3567 - val_accuracy: 0.8550\n",
      "Epoch 76/100\n",
      "5024/5024 [==============================] - 1s 263us/sample - loss: 0.3274 - accuracy: 0.8637 - val_loss: 0.3560 - val_accuracy: 0.8578\n",
      "Epoch 77/100\n",
      "5024/5024 [==============================] - 1s 262us/sample - loss: 0.3263 - accuracy: 0.8645 - val_loss: 0.3586 - val_accuracy: 0.8590\n",
      "Epoch 78/100\n",
      "5024/5024 [==============================] - 1s 262us/sample - loss: 0.3268 - accuracy: 0.8646 - val_loss: 0.3549 - val_accuracy: 0.8546\n",
      "Epoch 79/100\n",
      "5024/5024 [==============================] - 1s 264us/sample - loss: 0.3272 - accuracy: 0.8627 - val_loss: 0.3547 - val_accuracy: 0.8582\n",
      "Epoch 80/100\n",
      "5024/5024 [==============================] - 1s 263us/sample - loss: 0.3269 - accuracy: 0.8637 - val_loss: 0.3554 - val_accuracy: 0.8538\n",
      "Epoch 81/100\n",
      "5024/5024 [==============================] - 1s 261us/sample - loss: 0.3273 - accuracy: 0.8635 - val_loss: 0.3541 - val_accuracy: 0.8562\n",
      "Epoch 82/100\n",
      "5024/5024 [==============================] - 1s 262us/sample - loss: 0.3264 - accuracy: 0.8648 - val_loss: 0.3544 - val_accuracy: 0.8562\n",
      "Epoch 83/100\n",
      "5024/5024 [==============================] - 1s 260us/sample - loss: 0.3264 - accuracy: 0.8643 - val_loss: 0.3544 - val_accuracy: 0.8586\n",
      "Epoch 84/100\n",
      "5024/5024 [==============================] - 1s 262us/sample - loss: 0.3272 - accuracy: 0.8646 - val_loss: 0.3546 - val_accuracy: 0.8611\n",
      "Epoch 85/100\n",
      "5024/5024 [==============================] - 1s 260us/sample - loss: 0.3268 - accuracy: 0.8639 - val_loss: 0.3556 - val_accuracy: 0.8586\n",
      "Epoch 86/100\n",
      "5024/5024 [==============================] - 1s 261us/sample - loss: 0.3264 - accuracy: 0.8645 - val_loss: 0.3555 - val_accuracy: 0.8599\n",
      "Epoch 87/100\n",
      "5024/5024 [==============================] - 1s 264us/sample - loss: 0.3265 - accuracy: 0.8648 - val_loss: 0.3548 - val_accuracy: 0.8611\n",
      "Epoch 88/100\n",
      "5024/5024 [==============================] - 1s 260us/sample - loss: 0.3263 - accuracy: 0.8629 - val_loss: 0.3569 - val_accuracy: 0.8554\n",
      "Epoch 89/100\n",
      "5024/5024 [==============================] - 1s 262us/sample - loss: 0.3266 - accuracy: 0.8635 - val_loss: 0.3535 - val_accuracy: 0.8603\n",
      "Epoch 90/100\n",
      "5024/5024 [==============================] - 1s 261us/sample - loss: 0.3263 - accuracy: 0.8639 - val_loss: 0.3537 - val_accuracy: 0.8586\n",
      "Epoch 91/100\n",
      "5024/5024 [==============================] - 1s 262us/sample - loss: 0.3271 - accuracy: 0.8625 - val_loss: 0.3538 - val_accuracy: 0.8611\n",
      "Epoch 92/100\n",
      "5024/5024 [==============================] - 1s 261us/sample - loss: 0.3266 - accuracy: 0.8625 - val_loss: 0.3564 - val_accuracy: 0.8603\n",
      "Epoch 93/100\n",
      "5024/5024 [==============================] - 1s 262us/sample - loss: 0.3263 - accuracy: 0.8641 - val_loss: 0.3538 - val_accuracy: 0.8558\n",
      "Epoch 94/100\n",
      "5024/5024 [==============================] - 1s 262us/sample - loss: 0.3255 - accuracy: 0.8650 - val_loss: 0.3549 - val_accuracy: 0.8562\n",
      "Epoch 95/100\n",
      "5024/5024 [==============================] - 1s 262us/sample - loss: 0.3261 - accuracy: 0.8646 - val_loss: 0.3540 - val_accuracy: 0.8599\n",
      "Epoch 96/100\n",
      "5024/5024 [==============================] - 1s 262us/sample - loss: 0.3261 - accuracy: 0.8645 - val_loss: 0.3551 - val_accuracy: 0.8550\n",
      "Epoch 97/100\n",
      "5024/5024 [==============================] - 1s 261us/sample - loss: 0.3260 - accuracy: 0.8625 - val_loss: 0.3547 - val_accuracy: 0.8582\n",
      "Epoch 98/100\n",
      "5024/5024 [==============================] - 1s 263us/sample - loss: 0.3250 - accuracy: 0.8656 - val_loss: 0.3580 - val_accuracy: 0.8522\n",
      "Epoch 99/100\n",
      "5024/5024 [==============================] - 1s 261us/sample - loss: 0.3261 - accuracy: 0.8650 - val_loss: 0.3531 - val_accuracy: 0.8590\n",
      "Epoch 100/100\n",
      "5024/5024 [==============================] - 1s 262us/sample - loss: 0.3254 - accuracy: 0.8664 - val_loss: 0.3535 - val_accuracy: 0.8578\n"
     ]
    }
   ],
   "source": [
    "model.compile(loss='binary_crossentropy',optimizer='adam',metrics=['accuracy'])\n",
    "hist = model.fit(X_train,y_train,batch_size =10,epochs=100,validation_split=0.33)"
   ]
  },
  {
   "cell_type": "markdown",
   "metadata": {},
   "source": [
    "# Plotting the Accuracy and Loss"
   ]
  },
  {
   "cell_type": "code",
   "execution_count": 53,
   "metadata": {},
   "outputs": [
    {
     "data": {
      "text/plain": [
       "<matplotlib.legend.Legend at 0x1958d0764c8>"
      ]
     },
     "execution_count": 53,
     "metadata": {},
     "output_type": "execute_result"
    },
    {
     "data": {
      "image/png": "[encoded data removed]",
      "text/plain": [
       "<Figure size 720x576 with 1 Axes>"
      ]
     },
     "metadata": {
      "needs_background": "light"
     },
     "output_type": "display_data"
    }
   ],
   "source": [
    "plt.figure(figsize=(10,8))\n",
    "plt.plot(hist.history['accuracy'],'r')\n",
    "plt.plot(hist.history['val_accuracy'],'b')\n",
    "plt.title('Train vs Test Losses')\n",
    "plt.xlabel('No. of Epochs -------->')\n",
    "plt.ylabel('Accuracy')\n",
    "plt.legend(['Train','Test'],loc='best')"
   ]
  },
  {
   "cell_type": "code",
   "execution_count": 54,
   "metadata": {},
   "outputs": [
    {
     "data": {
      "text/plain": [
       "<matplotlib.legend.Legend at 0x19685a2ed88>"
      ]
     },
     "execution_count": 54,
     "metadata": {},
     "output_type": "execute_result"
    },
    {
     "data": {
      "image/png": "[encoded data removed]",
      "text/plain": [
       "<Figure size 720x576 with 1 Axes>"
      ]
     },
     "metadata": {
      "needs_background": "light"
     },
     "output_type": "display_data"
    }
   ],
   "source": [
    "plt.figure(figsize=(10,8))\n",
    "plt.plot(hist.history['loss'],'r')\n",
    "plt.plot(hist.history['val_loss'],'b')\n",
    "plt.title('Train vs Test Losses')\n",
    "plt.xlabel('No. of Epochs -------->')\n",
    "plt.ylabel('Loss')\n",
    "plt.legend(['Train','Test'],loc='best')"
   ]
  },
  {
   "cell_type": "markdown",
   "metadata": {},
   "source": [
    "# Model Evaluation"
   ]
  },
  {
   "cell_type": "code",
   "execution_count": 64,
   "metadata": {},
   "outputs": [
    {
     "data": {
      "text/plain": [
       "array([[0.2732438 ],\n",
       "       [0.34919196],\n",
       "       [0.13349015],\n",
       "       ...,\n",
       "       [0.29089102],\n",
       "       [0.17442705],\n",
       "       [0.07055206]], dtype=float32)"
      ]
     },
     "execution_count": 64,
     "metadata": {},
     "output_type": "execute_result"
    }
   ],
   "source": [
    "# Prediction of the test data\n",
    "y_pred = model.predict(X_test)\n",
    "y_pred\n"
   ]
  },
  {
   "cell_type": "code",
   "execution_count": 66,
   "metadata": {},
   "outputs": [
    {
     "data": {
      "text/plain": [
       "array([[False],\n",
       "       [False],\n",
       "       [False],\n",
       "       ...,\n",
       "       [False],\n",
       "       [False],\n",
       "       [False]])"
      ]
     },
     "execution_count": 66,
     "metadata": {},
     "output_type": "execute_result"
    }
   ],
   "source": [
    "y_pred = y_pred>0.5 \n",
    "y_pred"
   ]
  },
  {
   "cell_type": "code",
   "execution_count": 68,
   "metadata": {},
   "outputs": [
    {
     "name": "stdout",
     "output_type": "stream",
     "text": [
      "[[1866  125]\n",
      " [ 227  282]]\n"
     ]
    }
   ],
   "source": [
    "from sklearn.metrics import confusion_matrix\n",
    "print(confusion_matrix(y_test,y_pred))\n"
   ]
  },
  {
   "cell_type": "code",
   "execution_count": 72,
   "metadata": {},
   "outputs": [
    {
     "data": {
      "text/plain": [
       "<AxesSubplot:>"
      ]
     },
     "execution_count": 72,
     "metadata": {},
     "output_type": "execute_result"
    },
    {
     "data": {
      "image/png": "[encoded data removed]",
      "text/plain": [
       "<Figure size 432x288 with 2 Axes>"
      ]
     },
     "metadata": {
      "needs_background": "light"
     },
     "output_type": "display_data"
    }
   ],
   "source": [
    "plt.figure(figsize=(6,4))\n",
    "sns.heatmap(confusion_matrix(y_test,y_pred),fmt='g',annot=True,cmap='Oranges')"
   ]
  },
  {
   "cell_type": "code",
   "execution_count": 75,
   "metadata": {},
   "outputs": [
    {
     "name": "stdout",
     "output_type": "stream",
     "text": [
      "The Accuracy is  : 85.92 %\n"
     ]
    }
   ],
   "source": [
    "# checking the accuracy score\n",
    "\n",
    "from sklearn.metrics import accuracy_score\n",
    "print('The Accuracy is  : {} %'.format(accuracy_score(y_test,y_pred)*100))"
   ]
  },
  {
   "cell_type": "code",
   "execution_count": 76,
   "metadata": {},
   "outputs": [],
   "source": [
    "def predict_churn(values) :\n",
    "    \n",
    "    x = np.array(values) # our input is in a form of list so converttransformnto an array\n",
    "    x = x.reshape(1,-1) # because our values is a 1 list containing all the input parameters\n",
    "    x = std_scaler.transform(x) # transforming the values\n",
    "    \n",
    "    return model.predict(x)\n",
    "    "
   ]
  },
  {
   "cell_type": "markdown",
   "metadata": {},
   "source": [
    "### Testing with our custom data"
   ]
  },
  {
   "cell_type": "code",
   "execution_count": 91,
   "metadata": {},
   "outputs": [
    {
     "name": "stdout",
     "output_type": "stream",
     "text": [
      "High chances of exiting!!\n"
     ]
    }
   ],
   "source": [
    "# You can basically try with different other values ...take it manually from the X_test data\n",
    "#values = [523, 40, 2,102967.41, 1, 1, 0,128702.10, 0, 0, 0]\n",
    "\n",
    "\n",
    "values = [805, 45, 9, 116585.97, 1, 1, 0, 189428.75, 1, 0, 0]\n",
    "\n",
    "res = predict_churn(values)\n",
    "\n",
    "if res > 0.5 :\n",
    "    print('High chances of exiting!!')\n",
    "else:\n",
    "    print('Not exiting !!')"
   ]
  },
  {
   "cell_type": "code",
   "execution_count": 93,
   "metadata": {},
   "outputs": [
    {
     "name": "stdout",
     "output_type": "stream",
     "text": [
      "Low chances exiting !!\n"
     ]
    }
   ],
   "source": [
    "values = [679, 38, 7,110555.37, 2, 1, 0,46522.68, 1, 0, 1]\n",
    "res = predict_churn(values)\n",
    "\n",
    "if res > 0.5 :\n",
    "    print('High chances of exiting!!')\n",
    "else:\n",
    "    print('Low chances exiting !!')\n"
   ]
  },
  {
   "cell_type": "code",
   "execution_count": null,
   "metadata": {},
   "outputs": [],
   "source": []
  },
  {
   "cell_type": "code",
   "execution_count": null,
   "metadata": {},
   "outputs": [],
   "source": []
  },
  {
   "cell_type": "code",
   "execution_count": null,
   "metadata": {},
   "outputs": [],
   "source": []
  }
 ],
 "metadata": {
  "kernelspec": {
   "display_name": "Python 3",
   "language": "python",
   "name": "python3"
  },
  "language_info": {
   "codemirror_mode": {
    "name": "ipython",
    "version": 3
   },
   "file_extension": ".py",
   "mimetype": "text/x-python",
   "name": "python",
   "nbconvert_exporter": "python",
   "pygments_lexer": "ipython3",
   "version": "3.7.9"
  }
 },
 "nbformat": 4,
 "nbformat_minor": 4
}
