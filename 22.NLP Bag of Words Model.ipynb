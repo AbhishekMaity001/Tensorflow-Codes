{
 "cells": [
  {
   "cell_type": "markdown",
   "metadata": {},
   "source": [
    "# Bag of Words \n"
   ]
  },
  {
   "cell_type": "code",
   "execution_count": 1,
   "metadata": {},
   "outputs": [],
   "source": [
    "import numpy as np\n",
    "import pandas as pd"
   ]
  },
  {
   "cell_type": "code",
   "execution_count": 38,
   "metadata": {},
   "outputs": [
    {
     "data": {
      "text/html": [
       "<div>\n",
       "<style scoped>\n",
       "    .dataframe tbody tr th:only-of-type {\n",
       "        vertical-align: middle;\n",
       "    }\n",
       "\n",
       "    .dataframe tbody tr th {\n",
       "        vertical-align: top;\n",
       "    }\n",
       "\n",
       "    .dataframe thead th {\n",
       "        text-align: right;\n",
       "    }\n",
       "</style>\n",
       "<table border=\"1\" class=\"dataframe\">\n",
       "  <thead>\n",
       "    <tr style=\"text-align: right;\">\n",
       "      <th></th>\n",
       "      <th>Review_text</th>\n",
       "      <th>Review_class</th>\n",
       "    </tr>\n",
       "  </thead>\n",
       "  <tbody>\n",
       "    <tr>\n",
       "      <th>0</th>\n",
       "      <td>A very, very, very slow-moving, aimless movie ...</td>\n",
       "      <td>0</td>\n",
       "    </tr>\n",
       "    <tr>\n",
       "      <th>1</th>\n",
       "      <td>Not sure who was more lost - the flat characte...</td>\n",
       "      <td>0</td>\n",
       "    </tr>\n",
       "    <tr>\n",
       "      <th>2</th>\n",
       "      <td>Attempting artiness with black &amp; white and cle...</td>\n",
       "      <td>0</td>\n",
       "    </tr>\n",
       "    <tr>\n",
       "      <th>3</th>\n",
       "      <td>Very little music or anything to speak of.</td>\n",
       "      <td>0</td>\n",
       "    </tr>\n",
       "    <tr>\n",
       "      <th>4</th>\n",
       "      <td>The best scene in the movie was when Gerardo i...</td>\n",
       "      <td>1</td>\n",
       "    </tr>\n",
       "    <tr>\n",
       "      <th>...</th>\n",
       "      <td>...</td>\n",
       "      <td>...</td>\n",
       "    </tr>\n",
       "    <tr>\n",
       "      <th>995</th>\n",
       "      <td>I think food should have flavor and texture an...</td>\n",
       "      <td>0</td>\n",
       "    </tr>\n",
       "    <tr>\n",
       "      <th>996</th>\n",
       "      <td>Appetite instantly gone.</td>\n",
       "      <td>0</td>\n",
       "    </tr>\n",
       "    <tr>\n",
       "      <th>997</th>\n",
       "      <td>Overall I was not impressed and would not go b...</td>\n",
       "      <td>0</td>\n",
       "    </tr>\n",
       "    <tr>\n",
       "      <th>998</th>\n",
       "      <td>The whole experience was underwhelming, and I ...</td>\n",
       "      <td>0</td>\n",
       "    </tr>\n",
       "    <tr>\n",
       "      <th>999</th>\n",
       "      <td>Then, as if I hadn't wasted enough of my life ...</td>\n",
       "      <td>0</td>\n",
       "    </tr>\n",
       "  </tbody>\n",
       "</table>\n",
       "<p>2748 rows × 2 columns</p>\n",
       "</div>"
      ],
      "text/plain": [
       "                                           Review_text  Review_class\n",
       "0    A very, very, very slow-moving, aimless movie ...             0\n",
       "1    Not sure who was more lost - the flat characte...             0\n",
       "2    Attempting artiness with black & white and cle...             0\n",
       "3         Very little music or anything to speak of.               0\n",
       "4    The best scene in the movie was when Gerardo i...             1\n",
       "..                                                 ...           ...\n",
       "995  I think food should have flavor and texture an...             0\n",
       "996                           Appetite instantly gone.             0\n",
       "997  Overall I was not impressed and would not go b...             0\n",
       "998  The whole experience was underwhelming, and I ...             0\n",
       "999  Then, as if I hadn't wasted enough of my life ...             0\n",
       "\n",
       "[2748 rows x 2 columns]"
      ]
     },
     "execution_count": 38,
     "metadata": {},
     "output_type": "execute_result"
    }
   ],
   "source": [
    "data_imdb = pd.read_csv(\"imdb_labelled.txt\", delimiter='\\t', header=None)\n",
    "data_imdb.columns = [\"Review_text\", \"Review_class\"]\n",
    "\n",
    "data_amazon = pd.read_csv(\"amazon_cells_labelled.txt\", delimiter='\\t', header=None)\n",
    "data_amazon.columns = [\"Review_text\", \"Review_class\"]\n",
    "\n",
    "data_yelp = pd.read_csv(\"yelp_labelled.txt\", delimiter='\\t', header=None)\n",
    "data_yelp.columns = [\"Review_text\", \"Review_class\"]\n",
    "\n",
    "data = pd.concat([data_imdb, data_amazon, data_yelp])\n",
    "data\n",
    "\n"
   ]
  },
  {
   "cell_type": "code",
   "execution_count": 39,
   "metadata": {},
   "outputs": [
    {
     "data": {
      "text/plain": [
       "((1000, 2), (748, 2), (1000, 2))"
      ]
     },
     "execution_count": 39,
     "metadata": {},
     "output_type": "execute_result"
    }
   ],
   "source": [
    "data_amazon.shape,data_imdb.shape, data_yelp.shape"
   ]
  },
  {
   "cell_type": "code",
   "execution_count": 40,
   "metadata": {},
   "outputs": [
    {
     "data": {
      "text/html": [
       "<div>\n",
       "<style scoped>\n",
       "    .dataframe tbody tr th:only-of-type {\n",
       "        vertical-align: middle;\n",
       "    }\n",
       "\n",
       "    .dataframe tbody tr th {\n",
       "        vertical-align: top;\n",
       "    }\n",
       "\n",
       "    .dataframe thead th {\n",
       "        text-align: right;\n",
       "    }\n",
       "</style>\n",
       "<table border=\"1\" class=\"dataframe\">\n",
       "  <thead>\n",
       "    <tr style=\"text-align: right;\">\n",
       "      <th></th>\n",
       "      <th>Review_text</th>\n",
       "      <th>Review_class</th>\n",
       "    </tr>\n",
       "  </thead>\n",
       "  <tbody>\n",
       "    <tr>\n",
       "      <th>0</th>\n",
       "      <td>A very, very, very slow-moving, aimless movie ...</td>\n",
       "      <td>0</td>\n",
       "    </tr>\n",
       "    <tr>\n",
       "      <th>1</th>\n",
       "      <td>Not sure who was more lost - the flat characte...</td>\n",
       "      <td>0</td>\n",
       "    </tr>\n",
       "    <tr>\n",
       "      <th>2</th>\n",
       "      <td>Attempting artiness with black &amp; white and cle...</td>\n",
       "      <td>0</td>\n",
       "    </tr>\n",
       "    <tr>\n",
       "      <th>3</th>\n",
       "      <td>Very little music or anything to speak of.</td>\n",
       "      <td>0</td>\n",
       "    </tr>\n",
       "    <tr>\n",
       "      <th>4</th>\n",
       "      <td>The best scene in the movie was when Gerardo i...</td>\n",
       "      <td>1</td>\n",
       "    </tr>\n",
       "    <tr>\n",
       "      <th>...</th>\n",
       "      <td>...</td>\n",
       "      <td>...</td>\n",
       "    </tr>\n",
       "    <tr>\n",
       "      <th>995</th>\n",
       "      <td>I think food should have flavor and texture an...</td>\n",
       "      <td>0</td>\n",
       "    </tr>\n",
       "    <tr>\n",
       "      <th>996</th>\n",
       "      <td>Appetite instantly gone.</td>\n",
       "      <td>0</td>\n",
       "    </tr>\n",
       "    <tr>\n",
       "      <th>997</th>\n",
       "      <td>Overall I was not impressed and would not go b...</td>\n",
       "      <td>0</td>\n",
       "    </tr>\n",
       "    <tr>\n",
       "      <th>998</th>\n",
       "      <td>The whole experience was underwhelming, and I ...</td>\n",
       "      <td>0</td>\n",
       "    </tr>\n",
       "    <tr>\n",
       "      <th>999</th>\n",
       "      <td>Then, as if I hadn't wasted enough of my life ...</td>\n",
       "      <td>0</td>\n",
       "    </tr>\n",
       "  </tbody>\n",
       "</table>\n",
       "<p>2748 rows × 2 columns</p>\n",
       "</div>"
      ],
      "text/plain": [
       "                                           Review_text  Review_class\n",
       "0    A very, very, very slow-moving, aimless movie ...             0\n",
       "1    Not sure who was more lost - the flat characte...             0\n",
       "2    Attempting artiness with black & white and cle...             0\n",
       "3         Very little music or anything to speak of.               0\n",
       "4    The best scene in the movie was when Gerardo i...             1\n",
       "..                                                 ...           ...\n",
       "995  I think food should have flavor and texture an...             0\n",
       "996                           Appetite instantly gone.             0\n",
       "997  Overall I was not impressed and would not go b...             0\n",
       "998  The whole experience was underwhelming, and I ...             0\n",
       "999  Then, as if I hadn't wasted enough of my life ...             0\n",
       "\n",
       "[2748 rows x 2 columns]"
      ]
     },
     "execution_count": 40,
     "metadata": {},
     "output_type": "execute_result"
    }
   ],
   "source": [
    "data = pd.concat([data_imdb,data_amazon,data_yelp])\n",
    "data"
   ]
  },
  {
   "cell_type": "code",
   "execution_count": 41,
   "metadata": {},
   "outputs": [],
   "source": [
    "import re\n",
    "import nltk\n",
    "import string\n",
    "from nltk.tokenize import word_tokenize\n",
    "from nltk.corpus import stopwords\n",
    "from nltk.stem import PorterStemmer"
   ]
  },
  {
   "cell_type": "code",
   "execution_count": 45,
   "metadata": {},
   "outputs": [
    {
     "data": {
      "text/plain": [
       "['slowmov aimless movi distress drift young man',\n",
       " 'not sure lost flat charact audienc nearli half walk',\n",
       " 'attempt arti black white clever camera angl movi disappoint becam even ridicul act poor plot line almost nonexist',\n",
       " 'littl music anyth speak',\n",
       " 'best scene movi gerardo tri find song keep run head',\n",
       " 'rest movi lack art charm mean empti work guess empti',\n",
       " 'wast two hour',\n",
       " 'saw movi today thought good effort good messag kid',\n",
       " 'bit predict',\n",
       " 'love cast jimmi buffet scienc teacher',\n",
       " 'babi owl ador',\n",
       " 'movi show lot florida best made look appeal',\n",
       " 'song best muppet hilari',\n",
       " 'cool',\n",
       " 'right case movi deliv everyth almost right face',\n",
       " 'averag act main person low budget clearli see',\n",
       " 'review long overdu sinc consid tale two sister singl greatest film ever made',\n",
       " 'put gem movi term screenplay cinematographi act postproduct edit direct aspect filmmak',\n",
       " 'practic perfect true masterpiec sea faux masterpiec',\n",
       " 'structur film easili tightli construct histori cinema think film someth vital import occur everi minut word content level film enough easili fill dozen film anyon right mind ask anyth movi quit simpli highest superl form cinema imagin ye film requir rather signific amount puzzlesolv piec fit togeth creat beauti pictur short film certainli pull punch graphic far best part game number one best th game seri deserv strong love insan game massiv level massiv unlock charact massiv game wast money game kind money wast properli actual graphic good time today graphic crap say canada fun game aye game rock buy play enjoy love pure brillianc flick doom concept idea lame take minor charact mediocr film make complet nonsequel chang tone pgrate famili movi nt least bit interest not confirm film would unfunni gener also manag give away entir movi not exagger everi moment everi plot point everi joke told trailer not funni even talent carrel ca nt save costar nt fare much better peopl like morgan freeman jonah hill ed helm wast stori predict lazi real effect work presenc anim integr scene worst obviou bluegreenscreen work ever seen whatev cost much nt translat qualiti sure film succe despit perhap obvious meagr budget glad film nt go obviou choic lesser film certainli would addit one love song ever written french cancan also boast one cutest lead ladi ever grace screen hard not fall headoverheel love girl neg insipid enough caus regret anoth hour life wast front screen long whini pointless recommend wait futur effort let one go excel cast stori line perform total believ ann hech utterli convinc sam shepard portray gung ho marin sober sat rivet tv screen give one resound think tom hank good actor enjoy read book children littl disappoint movi one charact total annoy voic give feel fingernail chalkboard total unnecessari trainrol coaster scene absolut warmth charm scene charact movi total grate nerv perform not improv improvis actor twice much worri not whether deliv line well whether line good quit honestli often not good often dialogu nt realli follow one line anoth fit surround crackl unpredict youth energi honestli found hard follow concentr meander badli gener great thing would nt say worth hour time though suspens builder good cross line g pg especi like nonclich choic parent movi could predict dialog verbatim write movi made better select want movi not gross give chill great choic alexand nevski great film amaz film artist one import whoever live glad pretenti piec nt plan dodg stratu big shot gon na help movi maker nt restrain movi busi québec']"
      ]
     },
     "execution_count": 45,
     "metadata": {},
     "output_type": "execute_result"
    }
   ],
   "source": [
    "def clean_text(df):\n",
    "    all_reviews = list()\n",
    "    lines = df['Review_text'].values.tolist()\n",
    "    for text in lines:\n",
    "        text = text.lower()\n",
    "        \n",
    "        pattern = re.compile('http[s]?://(?:[a-zA-Z]|[0-9]|[$-_@.&+]|[!*\\(\\),]|(?:%[0-9a-fA-F][0-9a-fA-F]))+')\n",
    "        text = pattern.sub('',text)\n",
    "        text = re.sub(r\"[,.\\\"!@#$%^&*(){}?/;`~:<>+=-]\",\"\",text) # remove punctuations\n",
    "        \n",
    "        tokens = word_tokenize(text) # returns the list and .split returns as string\n",
    "        \n",
    "        table = str.maketrans('','',string.punctuation)\n",
    "        stripped = [w.translate(table) for w in tokens]\n",
    "        \n",
    "        words = [word for word in stripped if word.isalpha()]\n",
    "        stop_words = set(stopwords.words('english'))\n",
    "        stop_words.discard(\"not\") # discard the not word\n",
    "        ps = PorterStemmer()\n",
    "        \n",
    "        words = [ps.stem(w) for w in words if w not in stop_words]\n",
    "        words = ' '.join(words)\n",
    "        all_reviews.append(words)\n",
    "        \n",
    "    return all_reviews\n",
    "        \n",
    "\n",
    "all_reviews = clean_text(data)\n",
    "all_reviews[0:20]\n",
    "        "
   ]
  },
  {
   "cell_type": "code",
   "execution_count": 49,
   "metadata": {},
   "outputs": [
    {
     "data": {
      "text/plain": [
       "((2748, 1192), (2748,))"
      ]
     },
     "execution_count": 49,
     "metadata": {},
     "output_type": "execute_result"
    }
   ],
   "source": [
    "from sklearn.feature_extraction.text import CountVectorizer\n",
    "cv = CountVectorizer(min_df=3) # taking words occured atleast 3 times in the corpus\n",
    "x = cv.fit_transform(all_reviews).toarray()\n",
    "y = data['Review_class']\n",
    "np.shape(x) , np.shape(y)"
   ]
  },
  {
   "cell_type": "code",
   "execution_count": 58,
   "metadata": {},
   "outputs": [],
   "source": [
    "from sklearn.model_selection import train_test_split\n",
    "X_train, X_test ,  y_train, y_test = train_test_split(x,y,test_size=0.2,random_state=0)"
   ]
  },
  {
   "cell_type": "code",
   "execution_count": 59,
   "metadata": {},
   "outputs": [
    {
     "data": {
      "text/plain": [
       "GaussianNB()"
      ]
     },
     "execution_count": 59,
     "metadata": {},
     "output_type": "execute_result"
    }
   ],
   "source": [
    "from sklearn.naive_bayes import GaussianNB\n",
    "model  = GaussianNB()\n",
    "model.fit(X_train,y_train)"
   ]
  },
  {
   "cell_type": "code",
   "execution_count": 60,
   "metadata": {},
   "outputs": [],
   "source": [
    "y_pred = model.predict(X_test)"
   ]
  },
  {
   "cell_type": "code",
   "execution_count": 75,
   "metadata": {},
   "outputs": [
    {
     "name": "stdout",
     "output_type": "stream",
     "text": [
      "0.6618181818181819\n",
      "0.7038216560509554\n",
      "0.6314285714285715\n",
      "0.6603496614473128\n"
     ]
    }
   ],
   "source": [
    "from sklearn.metrics import accuracy_score, f1_score, precision_score , roc_auc_score , roc_curve, auc\n",
    "print(accuracy_score(y_pred,y_test))\n",
    "print(f1_score(y_test,y_pred))\n",
    "print(precision_score(y_test,y_pred))\n",
    "print(roc_auc_score(y_test,y_pred))"
   ]
  },
  {
   "cell_type": "code",
   "execution_count": 77,
   "metadata": {},
   "outputs": [],
   "source": [
    "import matplotlib.pyplot as plt\n",
    "%matplotlib inline\n",
    "fpr , tpr, threshold = roc_curve(y_test,y_pred)"
   ]
  },
  {
   "cell_type": "code",
   "execution_count": 86,
   "metadata": {},
   "outputs": [
    {
     "data": {
      "text/plain": [
       "0.6603496614473128"
      ]
     },
     "execution_count": 86,
     "metadata": {},
     "output_type": "execute_result"
    }
   ],
   "source": [
    "auc_crve = auc(fpr, tpr)\n",
    "auc_crve"
   ]
  },
  {
   "cell_type": "code",
   "execution_count": 90,
   "metadata": {},
   "outputs": [
    {
     "data": {
      "image/png": "[encoded data removed]",
      "text/plain": [
       "<Figure size 432x288 with 1 Axes>"
      ]
     },
     "metadata": {
      "needs_background": "light"
     },
     "output_type": "display_data"
    }
   ],
   "source": [
    "plt.plot(fpr,tpr,linestyle='--',label='auc score')\n",
    "plt.show()"
   ]
  },
  {
   "cell_type": "code",
   "execution_count": null,
   "metadata": {},
   "outputs": [],
   "source": []
  },
  {
   "cell_type": "code",
   "execution_count": null,
   "metadata": {},
   "outputs": [],
   "source": []
  }
 ],
 "metadata": {
  "kernelspec": {
   "display_name": "Python 3",
   "language": "python",
   "name": "python3"
  },
  "language_info": {
   "codemirror_mode": {
    "name": "ipython",
    "version": 3
   },
   "file_extension": ".py",
   "mimetype": "text/x-python",
   "name": "python",
   "nbconvert_exporter": "python",
   "pygments_lexer": "ipython3",
   "version": "3.7.9"
  }
 },
 "nbformat": 4,
 "nbformat_minor": 4
}
